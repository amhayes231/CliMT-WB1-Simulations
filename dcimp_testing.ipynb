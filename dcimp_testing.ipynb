{
 "cells": [
  {
   "cell_type": "code",
   "execution_count": 1,
   "metadata": {},
   "outputs": [],
   "source": [
    "import climt\n",
    "from climt._core.initialization import HybridSigmaPressureDiagnosticComponent\n",
    "from gfs_dynamical_core import GFSDynamicalCore\n",
    "from sympl import (\n",
    "    PlotFunctionMonitor, NetCDFMonitor, set_constant,\n",
    "    TimeDifferencingWrapper, UpdateFrequencyWrapper,\n",
    "    get_constant, reset_constants, DataArray, DiagnosticComponent,\n",
    "    combine_component_properties\n",
    ")\n",
    "from datetime import timedelta\n",
    "import matplotlib.pyplot as plt\n",
    "import numpy as np\n",
    "import cartopy.crs as ccrs\n",
    "import xarray as xr\n",
    "from xarray import DataArray\n",
    "import xesmf as xe\n",
    "from scipy.interpolate import CubicSpline\n",
    "import pkg_resources"
   ]
  },
  {
   "cell_type": "code",
   "execution_count": 2,
   "metadata": {},
   "outputs": [
    {
     "data": {
      "text/plain": [
       "<Figure size 640x480 with 0 Axes>"
      ]
     },
     "metadata": {},
     "output_type": "display_data"
    }
   ],
   "source": [
    "\n",
    "# def plot_function(fig, state):\n",
    "\n",
    "#     ax = fig.add_subplot(2, 2, 1)\n",
    "#     state['specific_humidity'].mean(\n",
    "#         dim='lon').plot.contourf(\n",
    "#             ax=ax, levels=16, robust=True)\n",
    "#     ax.set_title('Specific Humidity')\n",
    "\n",
    "#     ax = fig.add_subplot(2, 2, 3)\n",
    "#     state['eastward_wind'].mean(dim='lon').plot.contourf(\n",
    "#         ax=ax, levels=16, robust=True)\n",
    "#     ax.set_title('Eastward Wind')\n",
    "\n",
    "#     ax = fig.add_subplot(2, 2, 2)\n",
    "#     state['northward_wind'].transpose().mean(\n",
    "#         dim='lon').plot.contourf(\n",
    "#         ax=ax, levels=16, robust=True)\n",
    "#     ax.set_title('Northward Wind')\n",
    "\n",
    "#     ax = fig.add_subplot(2, 2, 4)\n",
    "#     state['air_temperature'].mean(dim='lon').plot.contourf(\n",
    "#         ax=ax, levels=16)\n",
    "#     ax.set_title('Temperature')\n",
    "\n",
    "#     fig.tight_layout()\n",
    "\n",
    "# # Create plotting object\n",
    "# fields_to_store = ['air_temperature', 'northward_wind', 'eastward_wind',\n",
    "#                     'divergence_of_wind', 'atmosphere_relative_vorticity',\n",
    "#                     'specific_humidity', 'surface_specific_humidity',\n",
    "#                     'surface_temperature', 'surface_geopotential']\n",
    "                   \n",
    "# monitor = PlotFunctionMonitor(plot_function)\n",
    "# netcdf_monitor = NetCDFMonitor('wip_notbook_monitor.nc',\n",
    "#                                write_on_store=True,\n",
    "#                                store_names=fields_to_store)\n",
    "\n",
    "def plot_function(fig, state):\n",
    "\n",
    "    ax = fig.add_subplot(1, 1, 1)\n",
    "    CS = ax.contourf(state['longitude'], state['latitude'],\n",
    "                     state['surface_air_pressure'].to_units('mbar'))\n",
    "    plt.colorbar(CS)\n",
    "    ax.set_title('Surface Pressure at: '+str(state['time']))\n",
    "\n",
    "    plt.show()\n",
    "\n",
    "monitor = PlotFunctionMonitor(plot_function)"
   ]
  },
  {
   "cell_type": "code",
   "execution_count": 28,
   "metadata": {},
   "outputs": [],
   "source": [
    "\n",
    "era5_pressure_data = xr.open_dataset('/run/media/adamh/X6/test_levels/0101180000_allhPa.nc').isel(time=0)\n",
    "era5_surface_data = xr.open_dataset('/run/media/adamh/X6/test_levels/1Jan18_surface.nc').isel(time=0)\n",
    "\n",
    "### air_pressure = era5_pressure_data['pressure'].values  # 3D array: [levels, lat, lon]\n",
    "\n",
    "latitude = era5_pressure_data['latitude']\n",
    "longitude = era5_pressure_data['longitude']\n",
    "levels = era5_pressure_data['level']\n",
    "\n",
    "# 3D array: [level, lat, lon]\n",
    "divergence_of_wind = era5_pressure_data['d']\n",
    "geopotential = era5_pressure_data['z']\n",
    "specific_humidity = era5_pressure_data['q']\n",
    "air_temperature = era5_pressure_data['t']     \n",
    "eastward_wind = era5_pressure_data['u']    \n",
    "northward_wind = era5_pressure_data['v']  \n",
    "relative_vorticity = era5_pressure_data['vo']   \n",
    "\n",
    "# 2D array: [lat, lon]\n",
    "dewpoint_temperature = era5_surface_data['d2m']\n",
    "surface_temperature = era5_surface_data['t2m']\n",
    "surface_geopotential = era5_surface_data['z']\n",
    "surface_pressure = era5_surface_data['sp'] \n",
    "\n",
    "era5_data = [divergence_of_wind, geopotential, specific_humidity,\n",
    "             air_temperature, eastward_wind, northward_wind,\n",
    "             relative_vorticity, dewpoint_temperature, \n",
    "             surface_temperature, surface_geopotential,\n",
    "             surface_pressure]"
   ]
  },
  {
   "cell_type": "code",
   "execution_count": 29,
   "metadata": {},
   "outputs": [
    {
     "name": "stderr",
     "output_type": "stream",
     "text": [
      "/home/adamh/miniconda3/envs/x_env/lib/python3.10/site-packages/xesmf/backend.py:56: UserWarning: Latitude is outside of [-90, 90]\n",
      "  warnings.warn('Latitude is outside of [-90, 90]')\n",
      "/home/adamh/miniconda3/envs/x_env/lib/python3.10/site-packages/xesmf/backend.py:56: UserWarning: Latitude is outside of [-90, 90]\n",
      "  warnings.warn('Latitude is outside of [-90, 90]')\n",
      "/home/adamh/miniconda3/envs/x_env/lib/python3.10/site-packages/xesmf/backend.py:56: UserWarning: Latitude is outside of [-90, 90]\n",
      "  warnings.warn('Latitude is outside of [-90, 90]')\n",
      "/home/adamh/miniconda3/envs/x_env/lib/python3.10/site-packages/xesmf/backend.py:56: UserWarning: Latitude is outside of [-90, 90]\n",
      "  warnings.warn('Latitude is outside of [-90, 90]')\n",
      "/home/adamh/miniconda3/envs/x_env/lib/python3.10/site-packages/xesmf/backend.py:56: UserWarning: Latitude is outside of [-90, 90]\n",
      "  warnings.warn('Latitude is outside of [-90, 90]')\n",
      "/home/adamh/miniconda3/envs/x_env/lib/python3.10/site-packages/xesmf/backend.py:56: UserWarning: Latitude is outside of [-90, 90]\n",
      "  warnings.warn('Latitude is outside of [-90, 90]')\n",
      "/home/adamh/miniconda3/envs/x_env/lib/python3.10/site-packages/xesmf/backend.py:56: UserWarning: Latitude is outside of [-90, 90]\n",
      "  warnings.warn('Latitude is outside of [-90, 90]')\n",
      "/home/adamh/miniconda3/envs/x_env/lib/python3.10/site-packages/xesmf/backend.py:56: UserWarning: Latitude is outside of [-90, 90]\n",
      "  warnings.warn('Latitude is outside of [-90, 90]')\n",
      "/home/adamh/miniconda3/envs/x_env/lib/python3.10/site-packages/xesmf/backend.py:56: UserWarning: Latitude is outside of [-90, 90]\n",
      "  warnings.warn('Latitude is outside of [-90, 90]')\n",
      "/home/adamh/miniconda3/envs/x_env/lib/python3.10/site-packages/xesmf/backend.py:56: UserWarning: Latitude is outside of [-90, 90]\n",
      "  warnings.warn('Latitude is outside of [-90, 90]')\n",
      "/home/adamh/miniconda3/envs/x_env/lib/python3.10/site-packages/xesmf/backend.py:56: UserWarning: Latitude is outside of [-90, 90]\n",
      "  warnings.warn('Latitude is outside of [-90, 90]')\n"
     ]
    }
   ],
   "source": [
    "climt_grid = np.load('/run/media/adamh/X6/test_levels/climt_lat_lon.npz')\n",
    "climt_latitude_standard = climt_grid['latitude']\n",
    "climt_longitude_standard = climt_grid['longitude']\n",
    "\n",
    "# Create a new grid for the regridding\n",
    "climt_grid = xr.Dataset(\n",
    "    {\n",
    "        'lat': (['lat'], climt_latitude_standard),\n",
    "        'lon': (['lon'], climt_longitude_standard),\n",
    "    }\n",
    ")\n",
    "\n",
    "# Function to regrid data\n",
    "def xr_regrid(ds):\n",
    "\n",
    "    # Create the regridder\n",
    "    regridder = xe.Regridder(\n",
    "        ds,                         # original data\n",
    "        climt_grid,                 # new grid\n",
    "        method='conservative'           # choose your method ('bilinear', 'nearest_s2d', etc.)\n",
    "    )\n",
    "\n",
    "    # Perform the regridding\n",
    "    regridding = regridder(ds)\n",
    "\n",
    "    if regridding.ndim == 3:\n",
    "        return regridding.isel(level=slice(None, None, -1))\n",
    "    else:\n",
    "        return regridding\n",
    "\n",
    "divergence_of_wind_regrid = xr_regrid(divergence_of_wind)\n",
    "geopotential_regrid = xr_regrid(geopotential)\n",
    "specific_humidity_regrid = xr_regrid(specific_humidity)\n",
    "air_temperature_regrid = xr_regrid(air_temperature)\n",
    "eastward_wind_regrid = xr_regrid(eastward_wind)\n",
    "northward_wind_regrid = xr_regrid(northward_wind)\n",
    "relative_vorticity_regrid = xr_regrid(relative_vorticity)\n",
    "dewpoint_temperature_regrid = xr_regrid(dewpoint_temperature)\n",
    "surface_temperature_regrid = xr_regrid(surface_temperature)\n",
    "surface_geopotential_regrid = xr_regrid(surface_geopotential)\n",
    "surface_pressure_regrid = xr_regrid(surface_pressure)"
   ]
  },
  {
   "cell_type": "code",
   "execution_count": 33,
   "metadata": {},
   "outputs": [],
   "source": [
    "# Combine DataArrays into a Dataset\n",
    "era5_data = xr.Dataset({\n",
    "    'divergence_of_wind_regrid': divergence_of_wind_regrid,\n",
    "    'geopotential_regrid': geopotential_regrid,\n",
    "    'specific_humidity_regrid': specific_humidity_regrid,\n",
    "    'air_temperature_regrid': air_temperature_regrid,\n",
    "    'eastward_wind_regrid': eastward_wind_regrid,\n",
    "    'northward_wind_regrid': northward_wind_regrid,\n",
    "    'relative_vorticity_regrid': relative_vorticity_regrid,\n",
    "    'dewpoint_temperature_regrid': dewpoint_temperature_regrid,\n",
    "    'surface_temperature_regrid': surface_temperature_regrid,\n",
    "    'surface_geopotential_regrid': surface_geopotential_regrid,\n",
    "    'surface_pressure_regrid': surface_pressure_regrid\n",
    "})\n",
    "\n",
    "# Save the Dataset to a NetCDF file\n",
    "era5_data.to_netcdf('/run/media/adamh/X6/test_levels/era5_regrid_0101180000.nc')"
   ]
  },
  {
   "cell_type": "code",
   "execution_count": 3,
   "metadata": {},
   "outputs": [
    {
     "name": "stderr",
     "output_type": "stream",
     "text": [
      "/home/adamh/miniconda3/envs/x_env/lib/python3.10/site-packages/paramiko/transport.py:219: CryptographyDeprecationWarning: Blowfish has been deprecated and will be removed in a future release\n",
      "  \"class\": algorithms.Blowfish,\n"
     ]
    }
   ],
   "source": [
    "# Load the Dataset from the NetCDF file\n",
    "loaded_era5_data = xr.open_dataset('/run/media/adamh/X6/test_levels/era5_regrid_0101180000.nc')\n",
    "\n",
    "# Access the DataArrays by their new names\n",
    "divergence_of_wind_regrid = loaded_era5_data['divergence_of_wind_regrid']\n",
    "geopotential_regrid = loaded_era5_data['geopotential_regrid']\n",
    "specific_humidity_regrid = loaded_era5_data['specific_humidity_regrid']\n",
    "air_temperature_regrid = loaded_era5_data['air_temperature_regrid']\n",
    "eastward_wind_regrid = loaded_era5_data['eastward_wind_regrid']\n",
    "northward_wind_regrid = loaded_era5_data['northward_wind_regrid']\n",
    "relative_vorticity_regrid = loaded_era5_data['relative_vorticity_regrid']\n",
    "dewpoint_temperature_regrid = loaded_era5_data['dewpoint_temperature_regrid']\n",
    "surface_temperature_regrid = loaded_era5_data['surface_temperature_regrid']\n",
    "surface_geopotential_regrid = loaded_era5_data['surface_geopotential_regrid']\n",
    "surface_pressure_regrid = loaded_era5_data['surface_pressure_regrid']"
   ]
  },
  {
   "cell_type": "code",
   "execution_count": 4,
   "metadata": {},
   "outputs": [],
   "source": [
    "surface_pressure_regrid_mean = np.mean(surface_pressure_regrid.values)\n",
    "top_of_era5_pressure_in_Pa = (air_temperature_regrid.coords['level'].values.min())*1000\n",
    "set_constant('reference_air_pressure', value=np.mean(surface_pressure_regrid_mean), units='Pa')\n",
    "set_constant('top_of_model_pressure', value=top_of_era5_pressure_in_Pa, units='Pa')\n",
    "\n",
    "grid = climt.get_grid(nx=128, ny=64, nz=37, n_ice_interface_levels=None,\n",
    "                      p_surf_in_Pa=surface_pressure_regrid_mean, \n",
    "                      p_toa_in_Pa=top_of_era5_pressure_in_Pa,\n",
    "                      custom_surface_pressure=surface_pressure_regrid)             \n",
    "\n",
    "                      \n",
    "dycore = GFSDynamicalCore() \n",
    "my_state = climt.get_default_state([dycore], grid_state=grid)\n",
    "\n",
    "dcmip = climt.DcmipInitialConditions(add_perturbation=False)\n",
    "out = dcmip(my_state)"
   ]
  },
  {
   "cell_type": "code",
   "execution_count": 5,
   "metadata": {},
   "outputs": [
    {
     "name": "stdout",
     "output_type": "stream",
     "text": [
      "<xarray.DataArray (mid_levels: 37, lat: 64, lon: 128)> Size: 2MB\n",
      "array([[[100627.94051916, 100626.24411897, 100625.31056344, ...,\n",
      "         100627.54946983, 100621.88197422, 100623.39579367],\n",
      "        [100905.79683136, 100901.92749341, 100884.6397517 , ...,\n",
      "         100953.32482753, 100933.21709898, 100927.75090019],\n",
      "        [100448.0869816 , 100326.4778062 , 100297.40270184, ...,\n",
      "         100925.52867562, 100774.70802907, 100608.65643493],\n",
      "        ...,\n",
      "        [ 74381.98568722,  73450.19682669,  72674.29060415, ...,\n",
      "          76354.87904449,  75848.66449428,  75238.73646044],\n",
      "        [ 71595.33548647,  71380.06077714,  71211.36231332, ...,\n",
      "          72459.07602251,  72132.44310921,  71844.56983695],\n",
      "        [ 70920.60244869,  70744.19667159,  70563.17836835, ...,\n",
      "          71370.766185  ,  71222.39635606,  71070.5294428 ]],\n",
      "\n",
      "       [[100051.66729893, 100049.98200453, 100049.05456072, ...,\n",
      "         100051.27880967, 100045.64841743, 100047.15232635],\n",
      "        [100327.70457105, 100323.86056446, 100306.6860003 , ...,\n",
      "         100374.92141599, 100354.94532657, 100349.51491332],\n",
      "        [ 99872.99120732,  99752.17816987,  99723.2934113 , ...,\n",
      "         100347.30723697, 100197.47396695, 100032.50946169],\n",
      "...\n",
      "        [  1736.93511297,   1736.93511297,   1736.93511297, ...,\n",
      "           1736.93511297,   1736.93511297,   1736.93511297],\n",
      "        [  1736.93511297,   1736.93511297,   1736.93511297, ...,\n",
      "           1736.93511297,   1736.93511297,   1736.93511297],\n",
      "        [  1736.93511297,   1736.93511297,   1736.93511297, ...,\n",
      "           1736.93511297,   1736.93511297,   1736.93511297]],\n",
      "\n",
      "       [[  1191.84567377,   1191.84567377,   1191.84567377, ...,\n",
      "           1191.84567377,   1191.84567377,   1191.84567377],\n",
      "        [  1191.84567377,   1191.84567377,   1191.84567377, ...,\n",
      "           1191.84567377,   1191.84567377,   1191.84567377],\n",
      "        [  1191.84567377,   1191.84567377,   1191.84567377, ...,\n",
      "           1191.84567377,   1191.84567377,   1191.84567377],\n",
      "        ...,\n",
      "        [  1191.84567377,   1191.84567377,   1191.84567377, ...,\n",
      "           1191.84567377,   1191.84567377,   1191.84567377],\n",
      "        [  1191.84567377,   1191.84567377,   1191.84567377, ...,\n",
      "           1191.84567377,   1191.84567377,   1191.84567377],\n",
      "        [  1191.84567377,   1191.84567377,   1191.84567377, ...,\n",
      "           1191.84567377,   1191.84567377,   1191.84567377]]])\n",
      "Dimensions without coordinates: mid_levels, lat, lon\n",
      "Attributes:\n",
      "    units:    Pa\n"
     ]
    },
    {
     "name": "stderr",
     "output_type": "stream",
     "text": [
      "/tmp/ipykernel_6522/3168687931.py:43: UserWarning: Adding colorbar to a different Figure <Figure size 640x480 with 2 Axes> than <Figure size 640x480 with 0 Axes> which fig.colorbar is called on.\n",
      "  plt.colorbar(CS)\n"
     ]
    },
    {
     "data": {
      "text/plain": [
       "<Figure size 640x480 with 0 Axes>"
      ]
     },
     "metadata": {},
     "output_type": "display_data"
    },
    {
     "name": "stdout",
     "output_type": "stream",
     "text": [
      "<xarray.DataArray 'air_temperature_regrid' (level: 37, lat: 64, lon: 128)> Size: 2MB\n",
      "[303104 values with dtype=float64]\n",
      "Coordinates:\n",
      "  * level    (level) int32 148B 1000 975 950 925 900 875 850 ... 20 10 7 5 3 2 1\n",
      "    time     datetime64[ns] 8B ...\n",
      "  * lat      (lat) float64 512B 87.86 85.1 82.31 79.53 ... -82.31 -85.1 -87.86\n",
      "  * lon      (lon) float64 1kB 0.0 2.812 5.625 8.438 ... 348.8 351.6 354.4 357.2\n",
      "Attributes:\n",
      "    regrid_method:  conservative\n"
     ]
    }
   ],
   "source": [
    "timestep = timedelta(minutes=10)\n",
    "\n",
    "print(my_state['air_pressure'])\n",
    "\n",
    "for i in range(1):\n",
    "    diag, output = dycore(my_state, timestep)\n",
    "    monitor.store(my_state)\n",
    "    my_state.update(output)\n",
    "    my_state['time'] += timestep\n",
    "\n",
    "print(air_temperature_regrid)"
   ]
  },
  {
   "cell_type": "code",
   "execution_count": 41,
   "metadata": {},
   "outputs": [
    {
     "name": "stdout",
     "output_type": "stream",
     "text": [
      "atmosphere_hybrid_sigma_pressure_a_coordinate_on_interface_levels\n",
      "atmosphere_hybrid_sigma_pressure_b_coordinate_on_interface_levels\n",
      "surface_air_pressure\n",
      "time\n",
      "air_pressure\n",
      "air_pressure_on_interface_levels\n",
      "longitude\n",
      "latitude\n",
      "air_temperature\n",
      "eastward_wind\n",
      "northward_wind\n",
      "divergence_of_wind\n",
      "atmosphere_relative_vorticity\n",
      "surface_geopotential\n",
      "specific_humidity\n"
     ]
    }
   ],
   "source": [
    "for key in my_state.keys():\n",
    "    print(key)"
   ]
  }
 ],
 "metadata": {
  "kernelspec": {
   "display_name": "x_env",
   "language": "python",
   "name": "python3"
  },
  "language_info": {
   "codemirror_mode": {
    "name": "ipython",
    "version": 3
   },
   "file_extension": ".py",
   "mimetype": "text/x-python",
   "name": "python",
   "nbconvert_exporter": "python",
   "pygments_lexer": "ipython3",
   "version": "3.10.13"
  }
 },
 "nbformat": 4,
 "nbformat_minor": 2
}

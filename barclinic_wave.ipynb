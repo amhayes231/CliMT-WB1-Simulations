{
 "cells": [
  {
   "cell_type": "code",
   "execution_count": 2,
   "metadata": {},
   "outputs": [],
   "source": [
    "import climt\n",
    "from climt._core.initialization import HybridSigmaPressureDiagnosticComponent\n",
    "from gfs_dynamical_core import GFSDynamicalCore\n",
    "from sympl import (\n",
    "    PlotFunctionMonitor, NetCDFMonitor, set_constant,\n",
    "    TimeDifferencingWrapper, UpdateFrequencyWrapper,\n",
    "    get_constant, reset_constants, DataArray, DiagnosticComponent,\n",
    "    combine_component_properties\n",
    ")\n",
    "from datetime import timedelta\n",
    "import matplotlib.pyplot as plt\n",
    "import numpy as np\n",
    "import cartopy.crs as ccrs\n",
    "import xarray as xr\n",
    "from xarray import DataArray\n",
    "import xesmf as xe\n",
    "from scipy.interpolate import CubicSpline, interp1d\n",
    "import pkg_resources"
   ]
  },
  {
   "cell_type": "code",
   "execution_count": 3,
   "metadata": {},
   "outputs": [
    {
     "name": "stderr",
     "output_type": "stream",
     "text": [
      "/home/adamh/miniconda3/envs/x_env/lib/python3.10/site-packages/paramiko/transport.py:219: CryptographyDeprecationWarning: Blowfish has been deprecated and will be removed in a future release\n",
      "  \"class\": algorithms.Blowfish,\n"
     ]
    }
   ],
   "source": [
    "# Load the Dataset from the NetCDF file\n",
    "loaded_era5_data = xr.open_dataset('/run/media/adamh/X6/test_levels/era5_regrid_0101180000_in_Pa.nc')\n",
    "loaded_era5_interpolated_data = xr.open_dataset('/run/media/adamh/X6/test_levels/era5_interpolation_0101180000.nc')\n",
    "\n",
    "# Access the DataArrays by their new names\n",
    "divergence_of_wind_regrid = loaded_era5_data['divergence_of_wind_regrid']\n",
    "geopotential_regrid = loaded_era5_data['geopotential_regrid']\n",
    "specific_humidity_regrid = loaded_era5_data['specific_humidity_regrid']\n",
    "air_temperature_regrid = loaded_era5_data['air_temperature_regrid']\n",
    "eastward_wind_regrid = loaded_era5_data['eastward_wind_regrid']\n",
    "northward_wind_regrid = loaded_era5_data['northward_wind_regrid']\n",
    "relative_vorticity_regrid = loaded_era5_data['relative_vorticity_regrid']\n",
    "dewpoint_temperature_regrid = loaded_era5_data['dewpoint_temperature_regrid']\n",
    "surface_temperature_regrid = loaded_era5_data['surface_temperature_regrid']\n",
    "surface_geopotential_regrid = loaded_era5_data['surface_geopotential_regrid']\n",
    "surface_pressure_regrid = loaded_era5_data['surface_pressure_regrid']\n",
    "\n",
    "\n",
    "divergence_of_wind_interpolated = loaded_era5_interpolated_data['divergence_of_wind_interpolated']\n",
    "geopotential_interpolated = loaded_era5_interpolated_data['geopotential_interpolated']\n",
    "specific_humidity_interpolated = loaded_era5_interpolated_data['specific_humidity_interpolated']\n",
    "air_temperature_interpolated = loaded_era5_interpolated_data['air_temperature_interpolated']\n",
    "eastward_wind_interpolated = loaded_era5_interpolated_data['eastward_wind_interpolated']\n",
    "northward_wind_interpolated = loaded_era5_interpolated_data['northward_wind_interpolated']\n",
    "relative_vorticity_interpolated = loaded_era5_interpolated_data['relative_vorticity_interpolated']\n",
    "dewpoint_temperature_regrid = loaded_era5_data['dewpoint_temperature_regrid']\n",
    "surface_temperature_regrid = loaded_era5_data['surface_temperature_regrid']\n",
    "surface_geopotential_regrid = loaded_era5_data['surface_geopotential_regrid']\n",
    "surface_pressure_regrid = loaded_era5_data['surface_pressure_regrid']"
   ]
  },
  {
   "cell_type": "code",
   "execution_count": 4,
   "metadata": {},
   "outputs": [
    {
     "data": {
      "text/plain": [
       "<Figure size 640x480 with 0 Axes>"
      ]
     },
     "metadata": {},
     "output_type": "display_data"
    },
    {
     "data": {
      "text/plain": [
       "<Figure size 640x480 with 0 Axes>"
      ]
     },
     "metadata": {},
     "output_type": "display_data"
    }
   ],
   "source": [
    "def plot_function(fig, state):\n",
    "\n",
    "    ax = fig.add_subplot(2, 2, 1)\n",
    "    state['specific_humidity'].mean(\n",
    "        dim='lon').plot.contourf(\n",
    "            ax=ax, levels=16, robust=True)\n",
    "    ax.set_title('Specific Humidity')\n",
    "\n",
    "    ax = fig.add_subplot(2, 2, 3)\n",
    "    state['eastward_wind'].mean(dim='lon').plot.contourf(\n",
    "        ax=ax, levels=16, robust=True)\n",
    "    ax.set_title('Eastward Wind')\n",
    "\n",
    "    ax = fig.add_subplot(2, 2, 2)\n",
    "    state['northward_wind'].transpose().mean(\n",
    "        dim='lon').plot.contourf(\n",
    "        ax=ax, levels=16, robust=True)\n",
    "    ax.set_title('Northward Wind')\n",
    "\n",
    "    ax = fig.add_subplot(2, 2, 4)\n",
    "    state['air_temperature'].mean(dim='lon').plot.contourf(\n",
    "        ax=ax, levels=16)\n",
    "    ax.set_title('Temperature')\n",
    "\n",
    "    fig.tight_layout()\n",
    "\n",
    "\n",
    "fields_to_store = ['atmosphere_hybrid_sigma_pressure_a_coordinate_on_interface_levels',\n",
    "                   'atmosphere_hybrid_sigma_pressure_b_coordinate_on_interface_levels',\n",
    "                   'surface_air_pressure', 'time', 'air_pressure', \n",
    "                   'air_pressure_on_interface_levels', 'longitude', 'latitude',\n",
    "                   'air_temperature', 'eastward_wind', 'northward_wind', 'divergence_of_wind',\n",
    "                   'atmosphere_relative_vorticity', 'surface_geopotential', 'specific_humidity'\n",
    "                  ]\n",
    "\n",
    "# Create plotting object\n",
    "monitor = PlotFunctionMonitor(plot_function)\n",
    "netcdf_monitor = NetCDFMonitor('/run/media/adamh/X6/test_levels/net_cdf_monitor.nc',\n",
    "                               write_on_store=True,\n",
    "                               store_names=fields_to_store)\n",
    "\n",
    "monitor = PlotFunctionMonitor(plot_function)\n",
    "\n",
    "set_constant('reference_air_pressure', value=1e5, units='Pa')\n",
    "set_constant('top_of_model_pressure', value=100, units='Pa')\n",
    "dycore = GFSDynamicalCore()\n",
    "dcmip = climt.DcmipInitialConditions(add_perturbation=True)\n",
    "\n",
    "grid = climt.get_grid(nx=128, ny=64, nz=37,\n",
    "                      n_ice_interface_levels=None,\n",
    "                      p_surf_in_Pa=96809.03361996275, \n",
    "                      p_toa_in_Pa=100,\n",
    "                      custom_surface_pressure=surface_pressure_regrid,\n",
    "                      )        \n",
    "\n",
    "my_state = climt.get_default_state([dycore], grid_state=grid)\n",
    "timestep = timedelta(minutes=10)\n",
    "\n",
    "# out = dcmip(my_state)\n",
    "# my_state.update(out)"
   ]
  },
  {
   "cell_type": "code",
   "execution_count": 5,
   "metadata": {},
   "outputs": [
    {
     "name": "stdout",
     "output_type": "stream",
     "text": [
      "2000-01-01 00:10:00\n",
      "2000-01-01 00:20:00\n",
      "2000-01-01 00:30:00\n",
      "2000-01-01 00:40:00\n",
      "2000-01-01 00:50:00\n",
      "2000-01-01 01:00:00\n"
     ]
    }
   ],
   "source": [
    "my_state['air_temperature'].values = air_temperature_interpolated.values\n",
    "my_state['eastward_wind'].values = eastward_wind_interpolated.values\n",
    "my_state['northward_wind'].values = northward_wind_interpolated.values\n",
    "my_state['divergence_of_wind'].values = divergence_of_wind_interpolated.values\n",
    "my_state['atmosphere_relative_vorticity'].values = relative_vorticity_interpolated.values\n",
    "my_state['surface_geopotential'].values = surface_geopotential_regrid.values\n",
    "my_state['specific_humidity'].values = specific_humidity_interpolated.values\n",
    "my_state.update()\n",
    "\n",
    "\n",
    "for i in range(6):\n",
    "    diag, my_state = dycore(my_state, timestep)\n",
    "    my_state.update(diag)\n",
    "    my_state['time'] += timestep\n",
    "\n",
    "    netcdf_monitor.store(my_state)\n",
    "    monitor.store(my_state)\n",
    "\n",
    "    print(my_state['time'])"
   ]
  },
  {
   "cell_type": "code",
   "execution_count": 7,
   "metadata": {},
   "outputs": [
    {
     "name": "stdout",
     "output_type": "stream",
     "text": [
      "Variable                            Units           Mean                           Max                            Min                           \n",
      "============================================================================================================================================\n",
      "surface_air_pressure                hPa             14.12384933204468              154.17084239244377             -91.26702620116203            \n",
      "air_temperature                     degK            -0.0014391751584193239         10.301554509456565             -9.487683075233008            \n",
      "eastward_wind                       m s^-1          -0.008687656703169993          12.454588510661218             -12.136702574281294           \n",
      "northward_wind                      m s^-1          -0.00016876655820842807        13.40795508715916              -13.023190823956243           \n",
      "divergence_of_wind                  s^-1            1.878610042900903e-07          9.624579592697222e-05          -7.428192262158134e-05        \n",
      "atmosphere_relative_vorticity       s^-1            4.2891307845304754e-08         0.0002495849632014036          -0.0001757807655058022        \n",
      "surface_geopotential                m^2 s^-2        0.0                            0.0                            0.0                           \n",
      "specific_humidity                   kg/kg           1.566113268503024e-08          0.0037377919542118908          -0.004140542142560887         \n"
     ]
    }
   ],
   "source": [
    "data = xr.open_dataset('/run/media/adamh/X6/test_levels/net_cdf_monitor.nc')\n",
    "my_state_0, my_state_1 = data.isel(time=0), data.isel(time=1)\n",
    "#  Calculate residuals\n",
    "residual_surface_pressure = my_state_0['surface_air_pressure'].values/100 - surface_pressure_regrid.values/100\n",
    "residual_air_temperature = my_state_0['air_temperature'].values - air_temperature_interpolated.values\n",
    "residual_eastward_wind = my_state_0['eastward_wind'].values - eastward_wind_interpolated.values\n",
    "residual_northward_wind = my_state_0['northward_wind'].values - northward_wind_interpolated.values\n",
    "residual_divergence_wind = my_state_0['divergence_of_wind'].values - divergence_of_wind_interpolated.values\n",
    "residual_relative_vorticity = my_state_0['atmosphere_relative_vorticity'].values - relative_vorticity_interpolated.values\n",
    "residual_surface_geopotential = my_state_0['surface_geopotential'].values - surface_geopotential_regrid.values\n",
    "residual_specific_humidity = my_state_0['specific_humidity'].values - specific_humidity_interpolated.values\n",
    "\n",
    "def residual_info_print(residual_str, residual, p=None):\n",
    "    if p==None:\n",
    "        print(f\"{residual_str:<35} {my_state[residual_str].units:<15} {residual.mean():<30} {residual.max():<30} {residual.min():<30}\")\n",
    "    else:\n",
    "        print(f\"{residual_str:<35} {'hPa':<15} {residual.mean():<30} {residual.max():<30} {residual.min():<30}\")\n",
    "\n",
    "\n",
    "print(f\"{'Variable':<35} {'Units':<15} {'Mean':<30} {'Max':<30} {'Min':<30}\")\n",
    "print(\"=\"*140)\n",
    "\n",
    "residual_info_print('surface_air_pressure', residual_surface_pressure, p=True)\n",
    "residual_info_print('air_temperature', residual_air_temperature)\n",
    "residual_info_print('eastward_wind', residual_eastward_wind)\n",
    "residual_info_print('northward_wind', residual_northward_wind)\n",
    "residual_info_print('divergence_of_wind', residual_divergence_wind)\n",
    "residual_info_print('atmosphere_relative_vorticity', residual_relative_vorticity)\n",
    "residual_info_print('surface_geopotential', residual_surface_geopotential)\n",
    "residual_info_print('specific_humidity', residual_specific_humidity)"
   ]
  },
  {
   "cell_type": "code",
   "execution_count": 9,
   "metadata": {},
   "outputs": [
    {
     "name": "stdout",
     "output_type": "stream",
     "text": [
      "Variable                            Units           Mean                           Max                            Min                           \n",
      "============================================================================================================================================\n",
      "surface_air_pressure                hPa             -0.004080392024438252          2.938712093540744              -4.029788411650884            \n",
      "air_temperature                     degK            -3.2973805197754146e-05        1.0976455653344885             -0.8353321687148423           \n",
      "eastward_wind                       m s^-1          0.00014358211986278586         1.915107014379963              -1.7666249104452638           \n",
      "northward_wind                      m s^-1          0.0009290242560810859          3.0584143712435923             -2.9327083312996702           \n",
      "divergence_of_wind                  s^-1            -1.5052454089418422e-09        1.3317440014812667e-05         -1.2878826442497036e-05       \n",
      "atmosphere_relative_vorticity       s^-1            3.6070417561848536e-09         6.519383644270384e-06          -6.320697346744335e-06        \n",
      "surface_geopotential                m^2 s^-2        0.0                            0.0                            0.0                           \n",
      "specific_humidity                   kg/kg           -2.804423487252772e-07         0.00015827681702168875         -0.000179472259901            \n"
     ]
    }
   ],
   "source": [
    "residual_surface_pressure = my_state_1['surface_air_pressure'].values/100 - my_state_0['surface_air_pressure'].values/100\n",
    "residual_air_temperature = my_state_1['air_temperature'].values - my_state_0['air_temperature'].values\n",
    "residual_eastward_wind = my_state_1['eastward_wind'].values - my_state_0['eastward_wind'].values\n",
    "residual_northward_wind = my_state_1['northward_wind'].values - my_state_0['northward_wind'].values\n",
    "residual_divergence_wind = my_state_1['divergence_of_wind'].values - my_state_0['divergence_of_wind'].values\n",
    "residual_relative_vorticity = my_state_1['atmosphere_relative_vorticity'].values - my_state_0['atmosphere_relative_vorticity'].values\n",
    "residual_surface_geopotential = my_state_1['surface_geopotential'].values - my_state_0['surface_geopotential'].values\n",
    "residual_specific_humidity = my_state_1['specific_humidity'].values - my_state_0['specific_humidity'].values\n",
    "\n",
    "print(f\"{'Variable':<35} {'Units':<15} {'Mean':<30} {'Max':<30} {'Min':<30}\")\n",
    "print(\"=\"*140)\n",
    "\n",
    "residual_info_print('surface_air_pressure', residual_surface_pressure, p=True)\n",
    "residual_info_print('air_temperature', residual_air_temperature)\n",
    "residual_info_print('eastward_wind', residual_eastward_wind)\n",
    "residual_info_print('northward_wind', residual_northward_wind)\n",
    "residual_info_print('divergence_of_wind', residual_divergence_wind)\n",
    "residual_info_print('atmosphere_relative_vorticity', residual_relative_vorticity)\n",
    "residual_info_print('surface_geopotential', residual_surface_geopotential)\n",
    "residual_info_print('specific_humidity', residual_specific_humidity)"
   ]
  }
 ],
 "metadata": {
  "kernelspec": {
   "display_name": "x_env",
   "language": "python",
   "name": "python3"
  },
  "language_info": {
   "codemirror_mode": {
    "name": "ipython",
    "version": 3
   },
   "file_extension": ".py",
   "mimetype": "text/x-python",
   "name": "python",
   "nbconvert_exporter": "python",
   "pygments_lexer": "ipython3",
   "version": "3.10.13"
  }
 },
 "nbformat": 4,
 "nbformat_minor": 2
}

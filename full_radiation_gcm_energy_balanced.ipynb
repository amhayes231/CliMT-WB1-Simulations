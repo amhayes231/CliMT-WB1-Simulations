{
 "cells": [
  {
   "cell_type": "code",
   "execution_count": 46,
   "metadata": {},
   "outputs": [],
   "source": [
    "import climt\n",
    "from sympl import (\n",
    "    PlotFunctionMonitor, NetCDFMonitor,\n",
    "    TimeDifferencingWrapper, UpdateFrequencyWrapper,\n",
    ")\n",
    "import numpy as np\n",
    "from datetime import timedelta\n",
    "from gfs_dynamical_core import GFSDynamicalCore"
   ]
  },
  {
   "cell_type": "code",
   "execution_count": 47,
   "metadata": {},
   "outputs": [],
   "source": [
    "def plot_function(fig, state):\n",
    "\n",
    "    ax = fig.add_subplot(2, 2, 1)\n",
    "    state['eastward_wind'].mean(dim='lon').plot.contourf(\n",
    "        ax=ax, levels=16, robust=True)\n",
    "    ax.set_title('Zonal Wind')\n",
    "\n",
    "    ax = fig.add_subplot(2, 2, 2)\n",
    "    state['northward_wind'].mean(dim='lon').plot.contourf(\n",
    "        ax=ax, levels=16, robust=True)\n",
    "    ax.set_title('Meridional Wind')\n",
    "\n",
    "    ax = fig.add_subplot(2, 2, 3)\n",
    "    state['air_temperature'].mean(dim='lon').plot.contourf(\n",
    "        ax=ax, levels=16)\n",
    "    ax.set_title('Temperature')\n",
    "\n",
    "    ax = fig.add_subplot(2, 2, 4)\n",
    "    state['specific_humidity'].mean(\n",
    "        dim='lon').plot.contourf(\n",
    "            ax=ax, levels=16, robust=True)\n",
    "    ax.set_title('Specific Humidity')\n",
    "\n",
    "    fig.tight_layout()"
   ]
  },
  {
   "cell_type": "code",
   "execution_count": 63,
   "metadata": {},
   "outputs": [
    {
     "data": {
      "text/plain": [
       "<Figure size 640x480 with 0 Axes>"
      ]
     },
     "metadata": {},
     "output_type": "display_data"
    }
   ],
   "source": [
    "fields_to_store = ['air_temperature', 'air_pressure', 'eastward_wind',\n",
    "                   'northward_wind', 'air_pressure_on_interface_levels',\n",
    "                   'surface_pressure', 'specific_humidity', 'latitude', \n",
    "                   'longitude']\n",
    "\n",
    "model_time_step = timedelta(seconds=600)\n",
    "# Create components\n",
    "dycore = GFSDynamicalCore(moist=False)\n",
    "#grid = climt.get_grid(nx=128, ny=62)\n",
    "grid = climt.get_grid(nx=64, ny=32, nz=13, latitude_grid='regular',\n",
    "                        n_ice_interface_levels=None)\n",
    "\n",
    "# Create model state\n",
    "my_state = climt.get_default_state([dycore], grid_state=grid,\n",
    "                                    n_ice_interface_levels=None)\n",
    "\n",
    "# Create plotting object\n",
    "monitor = PlotFunctionMonitor(plot_function)\n",
    "netcdf_monitor = NetCDFMonitor('saving_test.nc',\n",
    "                               write_on_store=True,\n",
    "                               store_names=fields_to_store)"
   ]
  },
  {
   "cell_type": "code",
   "execution_count": 64,
   "metadata": {},
   "outputs": [
    {
     "name": "stdout",
     "output_type": "stream",
     "text": [
      "latitudes = \n",
      " [[-87.1875 -87.1875 -87.1875 ... -87.1875 -87.1875 -87.1875]\n",
      " [-81.5625 -81.5625 -81.5625 ... -81.5625 -81.5625 -81.5625]\n",
      " [-75.9375 -75.9375 -75.9375 ... -75.9375 -75.9375 -75.9375]\n",
      " ...\n",
      " [ 75.9375  75.9375  75.9375 ...  75.9375  75.9375  75.9375]\n",
      " [ 81.5625  81.5625  81.5625 ...  81.5625  81.5625  81.5625]\n",
      " [ 87.1875  87.1875  87.1875 ...  87.1875  87.1875  87.1875]]\n",
      "longitudes = \n",
      " [[  0.      5.625  11.25  ... 343.125 348.75  354.375]\n",
      " [  0.      5.625  11.25  ... 343.125 348.75  354.375]\n",
      " [  0.      5.625  11.25  ... 343.125 348.75  354.375]\n",
      " ...\n",
      " [  0.      5.625  11.25  ... 343.125 348.75  354.375]\n",
      " [  0.      5.625  11.25  ... 343.125 348.75  354.375]\n",
      " [  0.      5.625  11.25  ... 343.125 348.75  354.375]]\n"
     ]
    }
   ],
   "source": [
    "# Set initial/boundary conditions\n",
    "latitudes = my_state['latitude'].values\n",
    "longitudes = my_state['longitude'].values\n",
    "\n",
    "print(\"latitudes = \\n\", latitudes)\n",
    "print(\"longitudes = \\n\", longitudes)\n",
    "\n",
    "#surface_shape = [len(longitudes), len(latitudes)]"
   ]
  },
  {
   "cell_type": "code",
   "execution_count": 65,
   "metadata": {},
   "outputs": [],
   "source": [
    "import xarray as xr\n",
    "\n",
    "wb1_dir='/run/media/adamh/HOME'\n",
    "\n",
    "def xr_open(path): \n",
    "    return xr.open_mfdataset(wb1_dir+'/'+path+'/*.nc', combine='by_coords')\n",
    "\n",
    "constants=xr_open('constants')\n",
    "_temperature=xr_open('2m_temperature')\n",
    "temperature=xr_open('temperature')\n",
    "temperature_850=xr_open('temperature_850')\n",
    "_u_component_of_wind=xr_open('10m_u_component_of_wind')\n",
    "_v_component_of_wind=xr_open('10m_v_component_of_wind')\n",
    "u_component_of_wind=xr_open('u_component_of_wind')\n",
    "v_component_of_wind=xr_open('v_component_of_wind')\n",
    "geopotential=xr_open('geopotential')\n",
    "geopotential_500=xr_open('geopotential_500')\n",
    "relative_humidity=xr_open('relative_humidity')\n",
    "specific_humidity=xr_open('specific_humidity')\n",
    "potential_vorticity=xr_open('potential_vorticity')\n",
    "vorticity=xr_open('vorticity')\n",
    "toa_incident_solar_radiation=xr_open('toa_incident_solar_radiation')\n",
    "total_cloud_cover=xr_open('total_cloud_cover')\n",
    "total_precipitation=xr_open('total_precipitation')"
   ]
  },
  {
   "cell_type": "code",
   "execution_count": 66,
   "metadata": {},
   "outputs": [],
   "source": [
    "tv = '2014-01-01T00:00:00.000000000'  # Example time value\n",
    "\n",
    "my_state['eastward_wind'].values = u_component_of_wind.sel(time=tv).to_array()[0]\n",
    "my_state['northward_wind'].values = v_component_of_wind.sel(time=tv).to_array()[0]\n",
    "my_state['air_temperature'].values = temperature.sel(time=tv).to_array()[0]\n",
    "my_state['specific_humidity'].values = specific_humidity.sel(time=tv).to_array()[0]\n",
    "\n",
    "#my_state['eastward_wind'].values[:] = np.random.randn(\n",
    "#   *my_state['eastward_wind'].shape)\n",
    "#my_state['northward_wind'].values[:] = np.random.randn(\n",
    "#    *my_state['northward_wind'].shape)\n",
    "#my_state['air_temperature'].values[:] = 290\n",
    "#my_state['specific_humidity'].values[:] = 0.0002 "
   ]
  },
  {
   "cell_type": "code",
   "execution_count": 67,
   "metadata": {},
   "outputs": [
    {
     "ename": "AssertionError",
     "evalue": "\nNot equal to tolerance rtol=1e-07, atol=0\n\nMismatched elements: 2048 / 2048 (100%)\nMax absolute difference: 172.94808712\nMax relative difference: 1.98449885\n x: array([[ 85.760587,  85.760587,  85.760587, ...,  85.760587,  85.760587,\n         85.760587],\n       [ 80.268779,  80.268779,  80.268779, ...,  80.268779,  80.268779,...\n y: array([[-87.1875, -87.1875, -87.1875, ..., -87.1875, -87.1875, -87.1875],\n       [-81.5625, -81.5625, -81.5625, ..., -81.5625, -81.5625, -81.5625],\n       [-75.9375, -75.9375, -75.9375, ..., -75.9375, -75.9375, -75.9375],...",
     "output_type": "error",
     "traceback": [
      "\u001b[0;31m---------------------------------------------------------------------------\u001b[0m",
      "\u001b[0;31mAssertionError\u001b[0m                            Traceback (most recent call last)",
      "\u001b[1;32m/home/adamh/vs_venv_p3.8/w_code/full_radiation_gcm_energy_balanced.ipynb Cell 7\u001b[0m line \u001b[0;36m2\n\u001b[1;32m      <a href='vscode-notebook-cell:/home/adamh/vs_venv_p3.8/w_code/full_radiation_gcm_energy_balanced.ipynb#W0sZmlsZQ%3D%3D?line=0'>1</a>\u001b[0m \u001b[39mfor\u001b[39;00m i \u001b[39min\u001b[39;00m \u001b[39mrange\u001b[39m(\u001b[39m1\u001b[39m\u001b[39m*\u001b[39m\u001b[39m24\u001b[39m\u001b[39m*\u001b[39m\u001b[39m6\u001b[39m):\n\u001b[0;32m----> <a href='vscode-notebook-cell:/home/adamh/vs_venv_p3.8/w_code/full_radiation_gcm_energy_balanced.ipynb#W0sZmlsZQ%3D%3D?line=1'>2</a>\u001b[0m     diag, my_state \u001b[39m=\u001b[39m dycore(my_state, model_time_step)\n\u001b[1;32m      <a href='vscode-notebook-cell:/home/adamh/vs_venv_p3.8/w_code/full_radiation_gcm_energy_balanced.ipynb#W0sZmlsZQ%3D%3D?line=2'>3</a>\u001b[0m     my_state\u001b[39m.\u001b[39mupdate(diag)\n\u001b[1;32m      <a href='vscode-notebook-cell:/home/adamh/vs_venv_p3.8/w_code/full_radiation_gcm_energy_balanced.ipynb#W0sZmlsZQ%3D%3D?line=3'>4</a>\u001b[0m     my_state[\u001b[39m'\u001b[39m\u001b[39mtime\u001b[39m\u001b[39m'\u001b[39m] \u001b[39m+\u001b[39m\u001b[39m=\u001b[39m model_time_step\n",
      "File \u001b[0;32m~/vs_venv_p3.8/.venv/lib/python3.8/site-packages/gfs_dynamical_core/component.py:317\u001b[0m, in \u001b[0;36mGFSDynamicalCore.__call__\u001b[0;34m(self, state, timestep)\u001b[0m\n\u001b[1;32m    315\u001b[0m     \u001b[39mif\u001b[39;00m name \u001b[39min\u001b[39;00m \u001b[39mself\u001b[39m\u001b[39m.\u001b[39minput_properties\u001b[39m.\u001b[39mkeys():\n\u001b[1;32m    316\u001b[0m         tendencies[name] \u001b[39m=\u001b[39m value\u001b[39m.\u001b[39mto_units(\u001b[39mself\u001b[39m\u001b[39m.\u001b[39minput_properties[name][\u001b[39m'\u001b[39m\u001b[39munits\u001b[39m\u001b[39m'\u001b[39m] \u001b[39m+\u001b[39m \u001b[39m'\u001b[39m\u001b[39m s^-1\u001b[39m\u001b[39m'\u001b[39m)\n\u001b[0;32m--> 317\u001b[0m raw_diagnostics, raw_new_state \u001b[39m=\u001b[39m \u001b[39mself\u001b[39;49m\u001b[39m.\u001b[39;49marray_call(\n\u001b[1;32m    318\u001b[0m     raw_state, timestep, prognostic_tendencies\u001b[39m=\u001b[39;49mtendencies)\n\u001b[1;32m    319\u001b[0m \u001b[39mif\u001b[39;00m \u001b[39mself\u001b[39m\u001b[39m.\u001b[39muses_tracers:\n\u001b[1;32m    320\u001b[0m     new_state \u001b[39m=\u001b[39m \u001b[39mself\u001b[39m\u001b[39m.\u001b[39m_tracer_packer\u001b[39m.\u001b[39munpack(raw_new_state\u001b[39m.\u001b[39mpop(\u001b[39m'\u001b[39m\u001b[39mtracers\u001b[39m\u001b[39m'\u001b[39m), state)\n",
      "File \u001b[0;32m~/vs_venv_p3.8/.venv/lib/python3.8/site-packages/climt/_core/util.py:12\u001b[0m, in \u001b[0;36mensure_contiguous_state.<locals>.wrapper\u001b[0;34m(self, state, *args, **kwargs)\u001b[0m\n\u001b[1;32m     10\u001b[0m     \u001b[39mif\u001b[39;00m \u001b[39misinstance\u001b[39m(value, np\u001b[39m.\u001b[39mndarray):\n\u001b[1;32m     11\u001b[0m         state[name] \u001b[39m=\u001b[39m np\u001b[39m.\u001b[39mascontiguousarray(value)\n\u001b[0;32m---> 12\u001b[0m \u001b[39mreturn\u001b[39;00m func(\u001b[39mself\u001b[39;49m, state, \u001b[39m*\u001b[39;49margs, \u001b[39m*\u001b[39;49m\u001b[39m*\u001b[39;49mkwargs)\n",
      "File \u001b[0;32m~/vs_venv_p3.8/.venv/lib/python3.8/site-packages/gfs_dynamical_core/component.py:373\u001b[0m, in \u001b[0;36mGFSDynamicalCore.array_call\u001b[0;34m(self, state, timestep, prognostic_tendencies)\u001b[0m\n\u001b[1;32m    371\u001b[0m     \u001b[39mraise\u001b[39;00m GFSError(\u001b[39m'\u001b[39m\u001b[39mGFS requires at least 12 longitudes\u001b[39m\u001b[39m'\u001b[39m)\n\u001b[1;32m    372\u001b[0m \u001b[39mif\u001b[39;00m \u001b[39mnot\u001b[39;00m \u001b[39mself\u001b[39m\u001b[39m.\u001b[39minitialized:\n\u001b[0;32m--> 373\u001b[0m     \u001b[39mself\u001b[39;49m\u001b[39m.\u001b[39;49m_initialize_model(state, timestep)\n\u001b[1;32m    374\u001b[0m \u001b[39mif\u001b[39;00m nlev \u001b[39m!=\u001b[39m \u001b[39mself\u001b[39m\u001b[39m.\u001b[39m_num_levs:\n\u001b[1;32m    375\u001b[0m     \u001b[39mraise\u001b[39;00m GFSError(\n\u001b[1;32m    376\u001b[0m         \u001b[39m'\u001b[39m\u001b[39mNumber of vertical levels may not change between successive \u001b[39m\u001b[39m'\u001b[39m\n\u001b[1;32m    377\u001b[0m         \u001b[39m'\u001b[39m\u001b[39mcalls to GFS. Last time was \u001b[39m\u001b[39m{}\u001b[39;00m\u001b[39m, this time is \u001b[39m\u001b[39m{}\u001b[39;00m\u001b[39m'\u001b[39m\u001b[39m.\u001b[39mformat(\n\u001b[1;32m    378\u001b[0m             \u001b[39mself\u001b[39m\u001b[39m.\u001b[39m_num_levs, nlev)\n\u001b[1;32m    379\u001b[0m     )\n",
      "File \u001b[0;32m~/vs_venv_p3.8/.venv/lib/python3.8/site-packages/gfs_dynamical_core/component.py:263\u001b[0m, in \u001b[0;36mGFSDynamicalCore._initialize_model\u001b[0;34m(self, state, timestep)\u001b[0m\n\u001b[1;32m    254\u001b[0m logging\u001b[39m.\u001b[39minfo(\u001b[39m'\u001b[39m\u001b[39mInitialising dynamical core, this could take some time...\u001b[39m\u001b[39m'\u001b[39m)\n\u001b[1;32m    256\u001b[0m gaussian_weights, area_weights, latitudes, longitudes \u001b[39m=\u001b[39m \\\n\u001b[1;32m    257\u001b[0m     _gfs_dynamics\u001b[39m.\u001b[39minit_model(\n\u001b[1;32m    258\u001b[0m         \u001b[39mself\u001b[39m\u001b[39m.\u001b[39m_dry_pressure,\n\u001b[1;32m    259\u001b[0m         \u001b[39mself\u001b[39m\u001b[39m.\u001b[39m_damping_levels,\n\u001b[1;32m    260\u001b[0m         \u001b[39mself\u001b[39m\u001b[39m.\u001b[39m_tau_damping,\n\u001b[1;32m    261\u001b[0m         \u001b[39mself\u001b[39m\u001b[39m.\u001b[39m_toa_pressure)\n\u001b[0;32m--> 263\u001b[0m np\u001b[39m.\u001b[39;49mtesting\u001b[39m.\u001b[39;49massert_allclose(latitudes\u001b[39m*\u001b[39;49m\u001b[39m180.\u001b[39;49m\u001b[39m/\u001b[39;49mnp\u001b[39m.\u001b[39;49mpi, state[\u001b[39m'\u001b[39;49m\u001b[39mlatitude\u001b[39;49m\u001b[39m'\u001b[39;49m])\n\u001b[1;32m    264\u001b[0m np\u001b[39m.\u001b[39mtesting\u001b[39m.\u001b[39massert_allclose(longitudes\u001b[39m*\u001b[39m\u001b[39m180.\u001b[39m\u001b[39m/\u001b[39mnp\u001b[39m.\u001b[39mpi, state[\u001b[39m'\u001b[39m\u001b[39mlongitude\u001b[39m\u001b[39m'\u001b[39m])\n\u001b[1;32m    266\u001b[0m logging\u001b[39m.\u001b[39minfo(\u001b[39m'\u001b[39m\u001b[39mDone!\u001b[39m\u001b[39m'\u001b[39m)\n",
      "    \u001b[0;31m[... skipping hidden 1 frame]\u001b[0m\n",
      "File \u001b[0;32m~/.pyenv/versions/3.8.0/lib/python3.8/contextlib.py:75\u001b[0m, in \u001b[0;36mContextDecorator.__call__.<locals>.inner\u001b[0;34m(*args, **kwds)\u001b[0m\n\u001b[1;32m     72\u001b[0m \u001b[39m@wraps\u001b[39m(func)\n\u001b[1;32m     73\u001b[0m \u001b[39mdef\u001b[39;00m \u001b[39minner\u001b[39m(\u001b[39m*\u001b[39margs, \u001b[39m*\u001b[39m\u001b[39m*\u001b[39mkwds):\n\u001b[1;32m     74\u001b[0m     \u001b[39mwith\u001b[39;00m \u001b[39mself\u001b[39m\u001b[39m.\u001b[39m_recreate_cm():\n\u001b[0;32m---> 75\u001b[0m         \u001b[39mreturn\u001b[39;00m func(\u001b[39m*\u001b[39;49margs, \u001b[39m*\u001b[39;49m\u001b[39m*\u001b[39;49mkwds)\n",
      "File \u001b[0;32m~/vs_venv_p3.8/.venv/lib/python3.8/site-packages/numpy/testing/_private/utils.py:862\u001b[0m, in \u001b[0;36massert_array_compare\u001b[0;34m(comparison, x, y, err_msg, verbose, header, precision, equal_nan, equal_inf, strict)\u001b[0m\n\u001b[1;32m    858\u001b[0m         err_msg \u001b[39m+\u001b[39m\u001b[39m=\u001b[39m \u001b[39m'\u001b[39m\u001b[39m\\n\u001b[39;00m\u001b[39m'\u001b[39m \u001b[39m+\u001b[39m \u001b[39m'\u001b[39m\u001b[39m\\n\u001b[39;00m\u001b[39m'\u001b[39m\u001b[39m.\u001b[39mjoin(remarks)\n\u001b[1;32m    859\u001b[0m         msg \u001b[39m=\u001b[39m build_err_msg([ox, oy], err_msg,\n\u001b[1;32m    860\u001b[0m                             verbose\u001b[39m=\u001b[39mverbose, header\u001b[39m=\u001b[39mheader,\n\u001b[1;32m    861\u001b[0m                             names\u001b[39m=\u001b[39m(\u001b[39m'\u001b[39m\u001b[39mx\u001b[39m\u001b[39m'\u001b[39m, \u001b[39m'\u001b[39m\u001b[39my\u001b[39m\u001b[39m'\u001b[39m), precision\u001b[39m=\u001b[39mprecision)\n\u001b[0;32m--> 862\u001b[0m         \u001b[39mraise\u001b[39;00m \u001b[39mAssertionError\u001b[39;00m(msg)\n\u001b[1;32m    863\u001b[0m \u001b[39mexcept\u001b[39;00m \u001b[39mValueError\u001b[39;00m:\n\u001b[1;32m    864\u001b[0m     \u001b[39mimport\u001b[39;00m \u001b[39mtraceback\u001b[39;00m\n",
      "\u001b[0;31mAssertionError\u001b[0m: \nNot equal to tolerance rtol=1e-07, atol=0\n\nMismatched elements: 2048 / 2048 (100%)\nMax absolute difference: 172.94808712\nMax relative difference: 1.98449885\n x: array([[ 85.760587,  85.760587,  85.760587, ...,  85.760587,  85.760587,\n         85.760587],\n       [ 80.268779,  80.268779,  80.268779, ...,  80.268779,  80.268779,...\n y: array([[-87.1875, -87.1875, -87.1875, ..., -87.1875, -87.1875, -87.1875],\n       [-81.5625, -81.5625, -81.5625, ..., -81.5625, -81.5625, -81.5625],\n       [-75.9375, -75.9375, -75.9375, ..., -75.9375, -75.9375, -75.9375],..."
     ]
    }
   ],
   "source": [
    "for i in range(1*24*6):\n",
    "    diag, my_state = dycore(my_state, model_time_step)\n",
    "    my_state.update(diag)\n",
    "    my_state['time'] += model_time_step\n",
    "\n",
    "    if i % (3*6) == 0:\n",
    "        netcdf_monitor.store(my_state)\n",
    "        monitor.store(my_state)\n",
    "        #print('max. zonal wind: ',\n",
    "        #      np.amax(my_state['eastward_wind'].values))\n",
    "        #print('max. meridional wind: ',\n",
    "        #        np.amax(my_state['northward_wind'].values))\n",
    "        #print('max. humidity: ',\n",
    "        #      np.amax(my_state['specific_humidity'].values))\n",
    "        #print('max. temp: ',\n",
    "        #      my_state['air_temperature'].max(keep_attrs=True).values)\n",
    "\n",
    "    #print(my_state['time'])"
   ]
  }
 ],
 "metadata": {
  "kernelspec": {
   "display_name": ".venv",
   "language": "python",
   "name": "python3"
  },
  "language_info": {
   "codemirror_mode": {
    "name": "ipython",
    "version": 3
   },
   "file_extension": ".py",
   "mimetype": "text/x-python",
   "name": "python",
   "nbconvert_exporter": "python",
   "pygments_lexer": "ipython3",
   "version": "3.8.0"
  }
 },
 "nbformat": 4,
 "nbformat_minor": 2
}

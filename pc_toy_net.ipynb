{
 "cells": [
  {
   "cell_type": "code",
   "execution_count": 1,
   "metadata": {},
   "outputs": [
    {
     "ename": "ModuleNotFoundError",
     "evalue": "No module named 'optuna'",
     "output_type": "error",
     "traceback": [
      "\u001b[0;31m---------------------------------------------------------------------------\u001b[0m",
      "\u001b[0;31mModuleNotFoundError\u001b[0m                       Traceback (most recent call last)",
      "Cell \u001b[0;32mIn[1], line 7\u001b[0m\n\u001b[1;32m      5\u001b[0m \u001b[38;5;28;01mfrom\u001b[39;00m \u001b[38;5;21;01mtorch\u001b[39;00m\u001b[38;5;21;01m.\u001b[39;00m\u001b[38;5;21;01mamp\u001b[39;00m \u001b[38;5;28;01mimport\u001b[39;00m autocast, GradScaler\n\u001b[1;32m      6\u001b[0m \u001b[38;5;28;01mfrom\u001b[39;00m \u001b[38;5;21;01mtorch\u001b[39;00m\u001b[38;5;21;01m.\u001b[39;00m\u001b[38;5;21;01mutils\u001b[39;00m\u001b[38;5;21;01m.\u001b[39;00m\u001b[38;5;21;01mdata\u001b[39;00m \u001b[38;5;28;01mimport\u001b[39;00m DataLoader, TensorDataset\n\u001b[0;32m----> 7\u001b[0m \u001b[38;5;28;01mimport\u001b[39;00m \u001b[38;5;21;01moptuna\u001b[39;00m\n\u001b[1;32m      8\u001b[0m \u001b[38;5;28;01mimport\u001b[39;00m \u001b[38;5;21;01mnetron\u001b[39;00m\n\u001b[1;32m      9\u001b[0m \u001b[38;5;28;01mimport\u001b[39;00m \u001b[38;5;21;01mxarray\u001b[39;00m \u001b[38;5;28;01mas\u001b[39;00m \u001b[38;5;21;01mxr\u001b[39;00m\n",
      "\u001b[0;31mModuleNotFoundError\u001b[0m: No module named 'optuna'"
     ]
    }
   ],
   "source": [
    "import torch\n",
    "import torch.nn as nn\n",
    "import torch.optim as optim\n",
    "import torch.nn.functional as F\n",
    "from torch.amp import autocast, GradScaler\n",
    "from torch.utils.data import DataLoader, TensorDataset\n",
    "import optuna\n",
    "import netron\n",
    "import xarray as xr\n",
    "\n",
    "if torch.cuda.is_available():\n",
    "    device = torch.device(\"cuda\")\n",
    "    print(f\"CUDA Device: {torch.cuda.get_device_name(device)}\")\n",
    "else:\n",
    "    print(\"CUDA is not available\")\n",
    "\n"
   ]
  },
  {
   "cell_type": "code",
   "execution_count": 1,
   "metadata": {},
   "outputs": [],
   "source": [
    "from datetime import datetime\n",
    "# Function to log messages with timestamps\n",
    "def log(msg):\n",
    "    print(f\"[{datetime.now().strftime('%Y-%m-%d %H:%M:%S')}] {msg}\")"
   ]
  },
  {
   "cell_type": "code",
   "execution_count": 3,
   "metadata": {},
   "outputs": [
    {
     "name": "stdout",
     "output_type": "stream",
     "text": [
      "[2025-04-17 10:14:05] Starting data loading...\n",
      "[2025-04-17 10:14:05] Opening and combining NetCDF files...\n"
     ]
    },
    {
     "name": "stderr",
     "output_type": "stream",
     "text": [
      "/home/adamh/miniconda3/envs/x_env/lib/python3.10/site-packages/paramiko/transport.py:219: CryptographyDeprecationWarning: Blowfish has been deprecated and will be removed in a future release\n",
      "  \"class\": algorithms.Blowfish,\n",
      "/home/adamh/miniconda3/envs/x_env/lib/python3.10/site-packages/dask/array/core.py:4849: PerformanceWarning: Increasing number of chunks by factor of 137\n",
      "  result = blockwise(\n"
     ]
    },
    {
     "name": "stdout",
     "output_type": "stream",
     "text": [
      "[2025-04-17 10:15:38] Extracting temperature variable...\n",
      "[2025-04-17 10:15:38] Selecting model levels 58 to 137...\n",
      "[2025-04-17 10:15:38] Done.\n"
     ]
    }
   ],
   "source": [
    "import numpy as np\n",
    "import xarray as xr\n",
    "\n",
    "log(\"Starting data loading...\")\n",
    "\n",
    "# Paths to your NetCDF files\n",
    "paths = \"/run/media/adamh/Elements/training_data/era5_model_levels_*.nc\"\n",
    "\n",
    "# Open and combine all files\n",
    "log(\"Opening and combining NetCDF files...\")\n",
    "ds = xr.open_mfdataset(paths, combine='by_coords')\n",
    "\n",
    "# Extract temperature\n",
    "log(\"Extracting temperature variable...\")\n",
    "temp = ds['t']  # adjust if needed\n",
    "\n",
    "# Select model levels 58 to 137\n",
    "log(\"Selecting model levels 58 to 137...\")\n",
    "temp = temp.isel(model_level=slice(-80, None))  #58 to 137\n",
    "\n",
    "# # Extract the hour from time and filter\n",
    "# log(\"Extracting valid_time hours...\")\n",
    "# hours = temp['valid_time'].dt.hour\n",
    "\n",
    "# # Training: 00, 06, 12, 18\n",
    "# log(\"Filtering training times (00, 06, 12, 18)...\")\n",
    "# train_hours = [0, 6, 12, 18]\n",
    "# #train = temp.sel(valid_time=temp['valid_time'].where(hours.isin(train_hours), drop=True))\n",
    "\n",
    "# # Testing: 01, 07, 13, 19\n",
    "# log(\"Filtering testing times (01, 07, 13, 19)...\")\n",
    "# test_hours = [1, 7, 13, 19]\n",
    "# test = temp.sel(valid_time=temp['valid_time'].where(hours.isin(test_hours), drop=True))\n",
    "\n",
    "log(\"Done.\")"
   ]
  },
  {
   "cell_type": "code",
   "execution_count": 12,
   "metadata": {},
   "outputs": [
    {
     "name": "stdout",
     "output_type": "stream",
     "text": [
      "temp = \n",
      " <xarray.DataArray 't' (valid_time: 32144, model_level: 80, latitude: 121,\n",
      "                       longitude: 240)> Size: 299GB\n",
      "dask.array<getitem, shape=(32144, 80, 121, 240), dtype=float32, chunksize=(22, 32, 31, 60), chunktype=numpy.ndarray>\n",
      "Coordinates:\n",
      "  * valid_time   (valid_time) datetime64[ns] 257kB 2014-01-01 ... 2024-12-31T...\n",
      "  * model_level  (model_level) float64 640B 58.0 59.0 60.0 ... 135.0 136.0 137.0\n",
      "  * latitude     (latitude) float64 968B 90.0 88.5 87.0 ... -87.0 -88.5 -90.0\n",
      "  * longitude    (longitude) float64 2kB -180.0 -178.5 -177.0 ... 177.0 178.5\n",
      "    expver       (valid_time) <U4 514kB dask.array<chunksize=(88,), meta=np.ndarray>\n",
      "Attributes: (12/30)\n",
      "    GRIB_paramId:                             130\n",
      "    GRIB_dataType:                            an\n",
      "    GRIB_numberOfPoints:                      29040\n",
      "    GRIB_typeOfLevel:                         hybrid\n",
      "    GRIB_stepUnits:                           1\n",
      "    GRIB_stepType:                            instant\n",
      "    ...                                       ...\n",
      "    GRIB_name:                                Temperature\n",
      "    GRIB_shortName:                           t\n",
      "    GRIB_units:                               K\n",
      "    long_name:                                Temperature\n",
      "    units:                                    K\n",
      "    standard_name:                            air_temperature\n"
     ]
    }
   ],
   "source": [
    "print(\"temp = \\n\", temp)"
   ]
  },
  {
   "cell_type": "code",
   "execution_count": 4,
   "metadata": {},
   "outputs": [
    {
     "name": "stdout",
     "output_type": "stream",
     "text": [
      "[2025-04-17 10:15:38] Loading ClimT grid...\n",
      "[2025-04-17 10:15:39] Regridding temperature data...\n",
      "[2025-04-17 10:15:39] Creating regridder with weights file: /run/media/adamh/Elements/regrid_weights/bilinear_0def5f10f091d2681bf0f92676d969c7.nc\n",
      "[2025-04-17 10:15:39] Regridding entire dataset...\n"
     ]
    },
    {
     "name": "stderr",
     "output_type": "stream",
     "text": [
      "/home/adamh/miniconda3/envs/x_env/lib/python3.10/site-packages/xarray/core/computation.py:312: PerformanceWarning: Regridding is increasing the number of chunks by a factor of 9.0, you might want to specify sizes in `output_chunks` in the regridder call. Default behaviour is to preserve the chunk sizes from the input (31, 60).\n",
      "  result_var = func(*data_vars)\n"
     ]
    },
    {
     "name": "stdout",
     "output_type": "stream",
     "text": [
      "[2025-04-17 10:15:47] Regridding complete.\n",
      "[2025-04-17 10:15:47] Process complete.\n"
     ]
    }
   ],
   "source": [
    "import xarray as xr\n",
    "import numpy as np\n",
    "import xesmf as xe\n",
    "import os\n",
    "import hashlib\n",
    "\n",
    "# Load ClimT grid\n",
    "log(\"Loading ClimT grid...\")\n",
    "climt_load = np.load('/run/media/adamh/Elements/climt_lat_lon.npz')\n",
    "climt_lat, climt_lon = climt_load['latitude'], climt_load['longitude']\n",
    "\n",
    "# Create a new grid for the regridding\n",
    "climt_grid = xr.Dataset(\n",
    "    {\n",
    "        'lat': (['lat'], climt_lat),\n",
    "        'lon': (['lon'], climt_lon),\n",
    "    }\n",
    ")\n",
    "\n",
    "def xr_regrid_all(ds, climt_grid, method='bilinear', weight_dir='/run/media/adamh/Elements/regrid_weights/'):\n",
    "    \"\"\"\n",
    "    Regrid the entire dataset at once, without looping over individual time steps.\n",
    "    \"\"\"\n",
    "    # Create a unique hash for the grid config to name the weight file\n",
    "    grid_id = hashlib.md5((str(ds['latitude'].values.tobytes()) +\n",
    "                           str(ds['longitude'].values.tobytes()) +\n",
    "                           str(climt_grid['lat'].values.tobytes()) +\n",
    "                           str(climt_grid['lon'].values.tobytes()) +\n",
    "                           method).encode()).hexdigest()\n",
    "    \n",
    "    os.makedirs(weight_dir, exist_ok=True)\n",
    "    weight_path = os.path.join(weight_dir, f'{method}_{grid_id}.nc')\n",
    "\n",
    "    log(f\"Creating regridder with weights file: {weight_path}\")\n",
    "    regridder = xe.Regridder(ds, climt_grid, method=method, periodic=True,\n",
    "                             filename=weight_path,\n",
    "                             reuse_weights=os.path.exists(weight_path))\n",
    "\n",
    "    log(\"Regridding entire dataset...\")\n",
    "    regridded_ds = regridder(ds)\n",
    "\n",
    "    # Convert pressure levels (if present)\n",
    "    if 'pressure_level' in regridded_ds.coords:\n",
    "        regridded_ds = regridded_ds.assign_coords(\n",
    "            pressure_level=np.flip(regridded_ds.pressure_level.values) * 100\n",
    "        )\n",
    "\n",
    "    log(\"Regridding complete.\")\n",
    "    return regridded_ds\n",
    "\n",
    "\n",
    "log(\"Regridding temperature data...\")\n",
    "temp_regridded = xr_regrid_all(temp, climt_grid)\n",
    "log(\"Process complete.\")"
   ]
  },
  {
   "cell_type": "code",
   "execution_count": 10,
   "metadata": {},
   "outputs": [],
   "source": [
    "hours = temp_regridded['valid_time'].dt.hour\n",
    "input_hours = [0, 6, 12, 18]\n",
    "input_regrid = temp_regridded.sel(valid_time=temp_regridded['valid_time'].where(hours.isin(input_hours), drop=True))"
   ]
  },
  {
   "cell_type": "code",
   "execution_count": 5,
   "metadata": {},
   "outputs": [
    {
     "ename": "NameError",
     "evalue": "name 'input_regrid' is not defined",
     "output_type": "error",
     "traceback": [
      "\u001b[0;31m---------------------------------------------------------------------------\u001b[0m",
      "\u001b[0;31mNameError\u001b[0m                                 Traceback (most recent call last)",
      "Cell \u001b[0;32mIn[5], line 1\u001b[0m\n\u001b[0;32m----> 1\u001b[0m \u001b[38;5;28mprint\u001b[39m(\u001b[43minput_regrid\u001b[49m)\n",
      "\u001b[0;31mNameError\u001b[0m: name 'input_regrid' is not defined"
     ]
    }
   ],
   "source": [
    "print(input_regrid)"
   ]
  },
  {
   "cell_type": "code",
   "execution_count": 14,
   "metadata": {},
   "outputs": [],
   "source": [
    "# Ensure the DataArray has a name\n",
    "if input_regrid.name is None:\n",
    "    input_regrid.name = \"t\"\n",
    "\n",
    "# Define the encoding dictionary for compression and chunk sizes\n",
    "encoding = {\n",
    "    \"compression\": \"gzip\",  # Compression type\n",
    "    \"compression_opts\": 5,  # Compression level\n",
    "    \"chunksizes\": (21, 32, 31, 60),  # Chunk sizes\n",
    "}\n",
    "\n",
    "# Apply encoding using the name of the DataArray\n",
    "encoding_dict = {input_regrid.name: encoding}\n",
    "\n",
    "# Write both datasets to disk\n",
    "input_regrid.to_netcdf(\"/run/media/adamh/NV2/temp_w/ddc_ready_data/t_regrid_h5.nc\", engine=\"h5netcdf\", encoding=encoding_dict, compute=True)"
   ]
  },
  {
   "cell_type": "code",
   "execution_count": 1,
   "metadata": {},
   "outputs": [
    {
     "name": "stderr",
     "output_type": "stream",
     "text": [
      "/home/adamh/miniconda3/envs/x_env/lib/python3.10/site-packages/paramiko/transport.py:219: CryptographyDeprecationWarning: Blowfish has been deprecated and will be removed in a future release\n",
      "  \"class\": algorithms.Blowfish,\n"
     ]
    },
    {
     "name": "stdout",
     "output_type": "stream",
     "text": [
      "<xarray.Dataset> Size: 42GB\n",
      "Dimensions:      (valid_time: 16072, model_level: 80, lat: 64, lon: 128)\n",
      "Coordinates:\n",
      "  * valid_time   (valid_time) datetime64[ns] 129kB 2014-01-01 ... 2024-12-31T...\n",
      "  * model_level  (model_level) float64 640B 58.0 59.0 60.0 ... 135.0 136.0 137.0\n",
      "    expver       (valid_time) <U4 257kB ...\n",
      "  * lat          (lat) float64 512B 87.86 85.1 82.31 ... -82.31 -85.1 -87.86\n",
      "  * lon          (lon) float64 1kB 0.0 2.812 5.625 8.438 ... 351.6 354.4 357.2\n",
      "Data variables:\n",
      "    t            (valid_time, model_level, lat, lon) float32 42GB ...\n"
     ]
    }
   ],
   "source": [
    "import xarray as xr\n",
    "\n",
    "aaa=xr.open_dataset(\"/run/media/adamh/NV2/temp_w/ddc_ready_data/t_regrid_h5.nc\")\n",
    "print(aaa)"
   ]
  },
  {
   "cell_type": "code",
   "execution_count": 6,
   "metadata": {},
   "outputs": [
    {
     "name": "stdout",
     "output_type": "stream",
     "text": [
      "<xarray.DataArray (valid_time: 32144, model_level: 80, lat: 64, lon: 128)> Size: 84GB\n",
      "dask.array<astype, shape=(32144, 80, 64, 128), dtype=float32, chunksize=(22, 32, 31, 60), chunktype=numpy.ndarray>\n",
      "Coordinates:\n",
      "  * valid_time   (valid_time) datetime64[ns] 257kB 2014-01-01 ... 2024-12-31T...\n",
      "  * model_level  (model_level) float64 640B 58.0 59.0 60.0 ... 135.0 136.0 137.0\n",
      "    expver       (valid_time) <U4 514kB dask.array<chunksize=(88,), meta=np.ndarray>\n",
      "  * lat          (lat) float64 512B 87.86 85.1 82.31 ... -82.31 -85.1 -87.86\n",
      "  * lon          (lon) float64 1kB 0.0 2.812 5.625 8.438 ... 351.6 354.4 357.2\n",
      "Attributes:\n",
      "    regrid_method:  bilinear\n"
     ]
    }
   ],
   "source": [
    "print(temp_regridded)"
   ]
  },
  {
   "cell_type": "code",
   "execution_count": 4,
   "metadata": {},
   "outputs": [
    {
     "name": "stdout",
     "output_type": "stream",
     "text": [
      "[2025-04-17 03:54:45] Starting Zarr saving over all daily pairs...\n"
     ]
    },
    {
     "name": "stderr",
     "output_type": "stream",
     "text": [
      "Saving Zarr pairs:  58%|█████▊    | 18494/32143 [01:12<00:37, 365.28it/s]"
     ]
    },
    {
     "name": "stdout",
     "output_type": "stream",
     "text": [
      "[2025-04-17 03:55:58] Saved t_2014-02-19_1800_1900.zarr\n",
      "[2025-04-17 03:56:00] Saved t_2024-02-16_1200_1300.zarr\n",
      "[2025-04-17 03:56:03] Saved t_2024-02-17_1800_1900.zarr\n",
      "[2025-04-17 03:56:06] Saved t_2024-02-16_1800_1900.zarr\n",
      "[2025-04-17 03:56:06] Saved t_2024-02-17_0600_0700.zarr\n"
     ]
    },
    {
     "name": "stderr",
     "output_type": "stream",
     "text": [
      "Saving Zarr pairs:  92%|█████████▏| 29587/32143 [01:24<00:05, 506.48it/s]"
     ]
    },
    {
     "name": "stdout",
     "output_type": "stream",
     "text": [
      "[2025-04-17 03:56:10] Saved t_2024-02-16_0600_0700.zarr\n",
      "[2025-04-17 03:56:12] Saved t_2024-02-17_1200_1300.zarr\n",
      "[2025-04-17 03:56:15] Saved t_2024-02-17_0000_0100.zarr\n"
     ]
    },
    {
     "name": "stderr",
     "output_type": "stream",
     "text": [
      "Saving Zarr pairs:  92%|█████████▏| 29600/32143 [01:40<00:05, 506.48it/s]"
     ]
    },
    {
     "name": "stdout",
     "output_type": "stream",
     "text": [
      "[2025-04-17 03:57:09] Saved t_2024-02-18_0600_0700.zarr\n"
     ]
    },
    {
     "name": "stderr",
     "output_type": "stream",
     "text": [
      "Saving Zarr pairs:  92%|█████████▏| 29601/32143 [02:26<00:14, 176.84it/s]"
     ]
    },
    {
     "name": "stdout",
     "output_type": "stream",
     "text": [
      "[2025-04-17 03:57:12] Saved t_2024-02-18_0000_0100.zarr\n",
      "[2025-04-17 03:57:14] Saved t_2024-02-19_0000_0100.zarr\n",
      "[2025-04-17 03:57:16] Saved t_2024-02-18_1800_1900.zarr\n",
      "[2025-04-17 03:57:16] Saved t_2024-02-19_0600_0700.zarr\n",
      "[2025-04-17 03:57:21] Saved t_2024-02-19_1200_1300.zarr\n"
     ]
    },
    {
     "name": "stderr",
     "output_type": "stream",
     "text": [
      "Saving Zarr pairs:  92%|█████████▏| 29605/32143 [02:38<00:16, 150.44it/s]"
     ]
    },
    {
     "name": "stdout",
     "output_type": "stream",
     "text": [
      "[2025-04-17 03:57:23] Saved t_2024-02-18_1200_1300.zarr\n"
     ]
    },
    {
     "name": "stderr",
     "output_type": "stream",
     "text": [
      "Saving Zarr pairs:  92%|█████████▏| 29615/32143 [02:42<00:17, 140.94it/s]"
     ]
    },
    {
     "name": "stdout",
     "output_type": "stream",
     "text": [
      "[2025-04-17 03:57:27] Saved t_2024-02-19_1800_1900.zarr\n"
     ]
    },
    {
     "name": "stderr",
     "output_type": "stream",
     "text": [
      "Saving Zarr pairs:  92%|█████████▏| 29618/32143 [03:35<00:41, 61.30it/s] "
     ]
    },
    {
     "name": "stdout",
     "output_type": "stream",
     "text": [
      "[2025-04-17 03:58:20] Saved t_2024-02-20_0000_0100.zarr\n",
      "[2025-04-17 03:58:22] Saved t_2024-02-20_1800_1900.zarr\n",
      "[2025-04-17 03:58:25] Saved t_2024-02-20_1200_1300.zarr\n",
      "[2025-04-17 03:58:25] Saved t_2024-02-21_0000_0100.zarr\n",
      "[2025-04-17 03:58:27] Saved t_2024-02-20_0600_0700.zarr\n",
      "[2025-04-17 03:58:32] Saved t_2024-02-21_1200_1300.zarr\n",
      "[2025-04-17 03:58:32] Saved t_2024-02-21_0600_0700.zarr\n"
     ]
    },
    {
     "name": "stderr",
     "output_type": "stream",
     "text": [
      "Saving Zarr pairs:  92%|█████████▏| 29631/32143 [03:52<00:56, 44.50it/s]"
     ]
    },
    {
     "name": "stdout",
     "output_type": "stream",
     "text": [
      "[2025-04-17 03:58:38] Saved t_2024-02-21_1800_1900.zarr\n"
     ]
    },
    {
     "name": "stderr",
     "output_type": "stream",
     "text": [
      "Saving Zarr pairs:  92%|█████████▏| 29633/32143 [04:46<02:04, 20.23it/s]"
     ]
    },
    {
     "name": "stdout",
     "output_type": "stream",
     "text": [
      "[2025-04-17 03:59:32] Saved t_2024-02-22_0000_0100.zarr\n"
     ]
    },
    {
     "name": "stderr",
     "output_type": "stream",
     "text": [
      "Saving Zarr pairs:  92%|█████████▏| 29635/32143 [04:47<02:04, 20.13it/s]"
     ]
    },
    {
     "name": "stdout",
     "output_type": "stream",
     "text": [
      "[2025-04-17 03:59:32] Saved t_2024-02-22_0600_0700.zarr\n",
      "[2025-04-17 03:59:37] Saved t_2024-02-22_1200_1300.zarr\n",
      "[2025-04-17 03:59:38] Saved t_2024-02-22_1800_1900.zarr\n",
      "[2025-04-17 03:59:41] Saved t_2024-02-23_0000_0100.zarr\n",
      "[2025-04-17 03:59:41] Saved t_2024-02-23_0600_0700.zarr\n"
     ]
    },
    {
     "name": "stderr",
     "output_type": "stream",
     "text": [
      "Saving Zarr pairs:  92%|█████████▏| 29645/32143 [05:00<02:37, 15.90it/s]"
     ]
    },
    {
     "name": "stdout",
     "output_type": "stream",
     "text": [
      "[2025-04-17 03:59:46] Saved t_2024-02-23_1200_1300.zarr\n"
     ]
    },
    {
     "name": "stderr",
     "output_type": "stream",
     "text": [
      "Saving Zarr pairs:  92%|█████████▏| 29647/32143 [05:05<02:53, 14.39it/s]"
     ]
    },
    {
     "name": "stdout",
     "output_type": "stream",
     "text": [
      "[2025-04-17 03:59:50] Saved t_2024-02-23_1800_1900.zarr\n"
     ]
    },
    {
     "name": "stderr",
     "output_type": "stream",
     "text": [
      "Saving Zarr pairs:  92%|█████████▏| 29648/32143 [05:20<02:53, 14.39it/s]"
     ]
    },
    {
     "name": "stdout",
     "output_type": "stream",
     "text": [
      "[2025-04-17 04:00:41] Saved t_2024-02-24_0600_0700.zarr\n",
      "[2025-04-17 04:00:44] Saved t_2024-02-24_1200_1300.zarr\n",
      "[2025-04-17 04:00:46] Saved t_2024-02-24_1800_1900.zarr\n"
     ]
    },
    {
     "name": "stderr",
     "output_type": "stream",
     "text": [
      "Saving Zarr pairs:  92%|█████████▏| 29650/32143 [06:04<07:53,  5.26it/s]"
     ]
    },
    {
     "name": "stdout",
     "output_type": "stream",
     "text": [
      "[2025-04-17 04:00:49] Saved t_2024-02-24_0000_0100.zarr\n",
      "[2025-04-17 04:00:52] Saved t_2024-02-25_0000_0100.zarr\n",
      "[2025-04-17 04:00:53] Saved t_2024-02-25_0600_0700.zarr\n",
      "[2025-04-17 04:00:56] Saved t_2024-02-25_1200_1300.zarr\n",
      "[2025-04-17 04:01:00] Saved t_2024-02-25_1800_1900.zarr\n"
     ]
    },
    {
     "name": "stderr",
     "output_type": "stream",
     "text": [
      "Saving Zarr pairs:  92%|█████████▏| 29665/32143 [07:07<17:36,  2.35it/s]"
     ]
    },
    {
     "name": "stdout",
     "output_type": "stream",
     "text": [
      "[2025-04-17 04:01:52] Saved t_2024-02-26_1800_1900.zarr\n",
      "[2025-04-17 04:01:52] Saved t_2024-02-26_0000_0100.zarr\n",
      "[2025-04-17 04:01:58] Saved t_2024-02-26_1200_1300.zarr\n"
     ]
    },
    {
     "name": "stderr",
     "output_type": "stream",
     "text": [
      "Saving Zarr pairs:  92%|█████████▏| 29667/32143 [07:15<19:14,  2.15it/s]"
     ]
    },
    {
     "name": "stdout",
     "output_type": "stream",
     "text": [
      "[2025-04-17 04:02:00] Saved t_2024-02-26_0600_0700.zarr\n",
      "[2025-04-17 04:02:03] Saved t_2024-02-27_0000_0100.zarr\n",
      "[2025-04-17 04:02:05] Saved t_2024-02-27_0600_0700.zarr\n",
      "[2025-04-17 04:02:07] Saved t_2024-02-27_1200_1300.zarr\n",
      "[2025-04-17 04:02:11] Saved t_2024-02-27_1800_1900.zarr\n"
     ]
    },
    {
     "name": "stderr",
     "output_type": "stream",
     "text": [
      "Saving Zarr pairs:  92%|█████████▏| 29681/32143 [08:17<35:32,  1.15it/s]"
     ]
    },
    {
     "name": "stdout",
     "output_type": "stream",
     "text": [
      "[2025-04-17 04:03:03] Saved t_2024-02-28_0000_0100.zarr\n"
     ]
    },
    {
     "name": "stderr",
     "output_type": "stream",
     "text": [
      "Saving Zarr pairs:  92%|█████████▏| 29683/32143 [08:21<36:15,  1.13it/s]"
     ]
    },
    {
     "name": "stdout",
     "output_type": "stream",
     "text": [
      "[2025-04-17 04:03:06] Saved t_2024-02-28_0600_0700.zarr\n",
      "[2025-04-17 04:03:08] Saved t_2024-02-28_1200_1300.zarr\n",
      "[2025-04-17 04:03:11] Saved t_2024-02-29_0000_0100.zarr\n",
      "[2025-04-17 04:03:14] Saved t_2024-02-28_1800_1900.zarr\n",
      "[2025-04-17 04:03:16] Saved t_2024-02-29_0600_0700.zarr\n",
      "[2025-04-17 04:03:19] Saved t_2024-02-29_1200_1300.zarr\n",
      "[2025-04-17 04:03:22] Saved t_2024-02-29_1800_1900.zarr\n"
     ]
    },
    {
     "name": "stderr",
     "output_type": "stream",
     "text": [
      "Saving Zarr pairs:  92%|█████████▏| 29697/32143 [09:27<1:02:22,  1.53s/it]"
     ]
    },
    {
     "name": "stdout",
     "output_type": "stream",
     "text": [
      "[2025-04-17 04:04:13] Saved t_2024-03-01_0000_0100.zarr\n"
     ]
    },
    {
     "name": "stderr",
     "output_type": "stream",
     "text": [
      "Saving Zarr pairs:  92%|█████████▏| 29699/32143 [09:31<1:02:21,  1.53s/it]"
     ]
    },
    {
     "name": "stdout",
     "output_type": "stream",
     "text": [
      "[2025-04-17 04:04:16] Saved t_2024-03-01_0600_0700.zarr\n",
      "[2025-04-17 04:04:16] Saved t_2024-03-01_1200_1300.zarr\n",
      "[2025-04-17 04:04:21] Saved t_2024-03-02_0000_0100.zarr\n",
      "[2025-04-17 04:04:24] Saved t_2024-03-01_1800_1900.zarr\n",
      "[2025-04-17 04:04:26] Saved t_2024-03-02_0600_0700.zarr\n",
      "[2025-04-17 04:04:29] Saved t_2024-03-02_1200_1300.zarr\n",
      "[2025-04-17 04:04:33] Saved t_2024-03-02_1800_1900.zarr\n"
     ]
    },
    {
     "name": "stderr",
     "output_type": "stream",
     "text": [
      "Saving Zarr pairs:  92%|█████████▏| 29713/32143 [10:36<1:33:20,  2.30s/it]"
     ]
    },
    {
     "name": "stdout",
     "output_type": "stream",
     "text": [
      "[2025-04-17 04:05:21] Saved t_2024-03-03_0000_0100.zarr\n",
      "[2025-04-17 04:05:25] Saved t_2024-03-03_1200_1300.zarr\n"
     ]
    },
    {
     "name": "stderr",
     "output_type": "stream",
     "text": [
      "Saving Zarr pairs:  92%|█████████▏| 29715/32143 [10:42<1:34:30,  2.34s/it]"
     ]
    },
    {
     "name": "stdout",
     "output_type": "stream",
     "text": [
      "[2025-04-17 04:05:27] Saved t_2024-03-03_0600_0700.zarr\n",
      "[2025-04-17 04:05:30] Saved t_2024-03-03_1800_1900.zarr\n",
      "[2025-04-17 04:05:33] Saved t_2024-03-04_0000_0100.zarr\n",
      "[2025-04-17 04:05:36] Saved t_2024-03-04_0600_0700.zarr\n",
      "[2025-04-17 04:05:38] Saved t_2024-03-04_1200_1300.zarr\n",
      "[2025-04-17 04:05:43] Saved t_2024-03-04_1800_1900.zarr\n"
     ]
    },
    {
     "name": "stderr",
     "output_type": "stream",
     "text": [
      "Saving Zarr pairs:  92%|█████████▏| 29730/32143 [11:47<2:00:05,  2.99s/it]"
     ]
    },
    {
     "name": "stdout",
     "output_type": "stream",
     "text": [
      "[2025-04-17 04:06:32] Saved t_2024-03-05_0000_0100.zarr\n",
      "[2025-04-17 04:06:35] Saved t_2024-03-05_0600_0700.zarr\n",
      "[2025-04-17 04:06:38] Saved t_2024-03-05_1200_1300.zarr\n",
      "[2025-04-17 04:06:41] Saved t_2024-03-05_1800_1900.zarr\n",
      "[2025-04-17 04:06:44] Saved t_2024-03-06_0000_0100.zarr\n"
     ]
    },
    {
     "name": "stderr",
     "output_type": "stream",
     "text": [
      "Saving Zarr pairs:  93%|█████████▎| 29739/32143 [12:02<1:44:32,  2.61s/it]"
     ]
    },
    {
     "name": "stdout",
     "output_type": "stream",
     "text": [
      "[2025-04-17 04:06:47] Saved t_2024-03-06_0600_0700.zarr\n"
     ]
    },
    {
     "name": "stderr",
     "output_type": "stream",
     "text": [
      "Saving Zarr pairs:  93%|█████████▎| 29741/32143 [12:04<1:39:17,  2.48s/it]"
     ]
    },
    {
     "name": "stdout",
     "output_type": "stream",
     "text": [
      "[2025-04-17 04:06:50] Saved t_2024-03-06_1200_1300.zarr\n",
      "[2025-04-17 04:06:52] Saved t_2024-03-06_1800_1900.zarr\n"
     ]
    },
    {
     "name": "stderr",
     "output_type": "stream",
     "text": [
      "Saving Zarr pairs:  93%|█████████▎| 29745/32143 [12:55<2:59:46,  4.50s/it]"
     ]
    },
    {
     "name": "stdout",
     "output_type": "stream",
     "text": [
      "[2025-04-17 04:07:41] Saved t_2024-03-07_0000_0100.zarr\n"
     ]
    },
    {
     "name": "stderr",
     "output_type": "stream",
     "text": [
      "Saving Zarr pairs:  93%|█████████▎| 29747/32143 [12:59<2:46:34,  4.17s/it]"
     ]
    },
    {
     "name": "stdout",
     "output_type": "stream",
     "text": [
      "[2025-04-17 04:07:45] Saved t_2024-03-07_0600_0700.zarr\n",
      "[2025-04-17 04:07:48] Saved t_2024-03-07_1200_1300.zarr\n",
      "[2025-04-17 04:07:51] Saved t_2024-03-07_1800_1900.zarr\n",
      "[2025-04-17 04:07:54] Saved t_2024-03-08_0000_0100.zarr\n"
     ]
    },
    {
     "name": "stderr",
     "output_type": "stream",
     "text": [
      "Saving Zarr pairs:  93%|█████████▎| 29756/32143 [13:11<1:54:53,  2.89s/it]"
     ]
    },
    {
     "name": "stdout",
     "output_type": "stream",
     "text": [
      "[2025-04-17 04:07:57] Saved t_2024-03-08_0600_0700.zarr\n",
      "[2025-04-17 04:07:57] Saved t_2024-03-08_1200_1300.zarr\n",
      "[2025-04-17 04:08:02] Saved t_2024-03-08_1800_1900.zarr\n"
     ]
    },
    {
     "name": "stderr",
     "output_type": "stream",
     "text": [
      "Saving Zarr pairs:  93%|█████████▎| 29760/32143 [13:31<1:54:42,  2.89s/it]"
     ]
    },
    {
     "name": "stdout",
     "output_type": "stream",
     "text": [
      "[2025-04-17 04:08:52] Saved t_2024-03-09_0600_0700.zarr\n"
     ]
    },
    {
     "name": "stderr",
     "output_type": "stream",
     "text": [
      "Saving Zarr pairs:  93%|█████████▎| 29761/32143 [14:07<3:40:58,  5.57s/it]"
     ]
    },
    {
     "name": "stdout",
     "output_type": "stream",
     "text": [
      "[2025-04-17 04:08:52] Saved t_2024-03-09_0000_0100.zarr\n"
     ]
    },
    {
     "name": "stderr",
     "output_type": "stream",
     "text": [
      "Saving Zarr pairs:  93%|█████████▎| 29765/32143 [14:12<2:55:14,  4.42s/it]"
     ]
    },
    {
     "name": "stdout",
     "output_type": "stream",
     "text": [
      "[2025-04-17 04:08:58] Saved t_2024-03-09_1200_1300.zarr\n",
      "[2025-04-17 04:09:01] Saved t_2024-03-09_1800_1900.zarr\n",
      "[2025-04-17 04:09:04] Saved t_2024-03-10_0000_0100.zarr\n",
      "[2025-04-17 04:09:07] Saved t_2024-03-10_1200_1300.zarr\n",
      "[2025-04-17 04:09:10] Saved t_2024-03-10_0600_0700.zarr\n",
      "[2025-04-17 04:09:13] Saved t_2024-03-10_1800_1900.zarr\n"
     ]
    },
    {
     "name": "stderr",
     "output_type": "stream",
     "text": [
      "Saving Zarr pairs:  93%|█████████▎| 29778/32143 [15:17<3:02:57,  4.64s/it]"
     ]
    },
    {
     "name": "stdout",
     "output_type": "stream",
     "text": [
      "[2025-04-17 04:10:02] Saved t_2024-03-11_0000_0100.zarr\n",
      "[2025-04-17 04:10:05] Saved t_2024-03-11_0600_0700.zarr\n",
      "[2025-04-17 04:10:09] Saved t_2024-03-11_1200_1300.zarr\n",
      "[2025-04-17 04:10:10] Saved t_2024-03-12_0000_0100.zarr\n",
      "[2025-04-17 04:10:13] Saved t_2024-03-11_1800_1900.zarr\n"
     ]
    },
    {
     "name": "stderr",
     "output_type": "stream",
     "text": [
      "Saving Zarr pairs:  93%|█████████▎| 29788/32143 [15:32<2:03:27,  3.15s/it]"
     ]
    },
    {
     "name": "stdout",
     "output_type": "stream",
     "text": [
      "[2025-04-17 04:10:17] Saved t_2024-03-12_0600_0700.zarr\n",
      "[2025-04-17 04:10:20] Saved t_2024-03-12_1200_1300.zarr\n",
      "[2025-04-17 04:10:23] Saved t_2024-03-12_1800_1900.zarr\n"
     ]
    },
    {
     "name": "stderr",
     "output_type": "stream",
     "text": [
      "Saving Zarr pairs:  93%|█████████▎| 29793/32143 [16:26<3:37:27,  5.55s/it]"
     ]
    },
    {
     "name": "stdout",
     "output_type": "stream",
     "text": [
      "[2025-04-17 04:11:11] Saved t_2024-03-13_0000_0100.zarr\n"
     ]
    },
    {
     "name": "stderr",
     "output_type": "stream",
     "text": [
      "Saving Zarr pairs:  93%|█████████▎| 29795/32143 [16:27<3:07:08,  4.78s/it]"
     ]
    },
    {
     "name": "stdout",
     "output_type": "stream",
     "text": [
      "[2025-04-17 04:11:12] Saved t_2024-03-13_0600_0700.zarr\n",
      "[2025-04-17 04:11:18] Saved t_2024-03-13_1200_1300.zarr\n",
      "[2025-04-17 04:11:21] Saved t_2024-03-13_1800_1900.zarr\n",
      "[2025-04-17 04:11:23] Saved t_2024-03-14_0000_0100.zarr\n"
     ]
    },
    {
     "name": "stderr",
     "output_type": "stream",
     "text": [
      "Saving Zarr pairs:  93%|█████████▎| 29803/32143 [16:42<2:13:26,  3.42s/it]"
     ]
    },
    {
     "name": "stdout",
     "output_type": "stream",
     "text": [
      "[2025-04-17 04:11:27] Saved t_2024-03-14_0600_0700.zarr\n"
     ]
    },
    {
     "name": "stderr",
     "output_type": "stream",
     "text": [
      "Saving Zarr pairs:  93%|█████████▎| 29805/32143 [16:44<2:01:41,  3.12s/it]"
     ]
    },
    {
     "name": "stdout",
     "output_type": "stream",
     "text": [
      "[2025-04-17 04:11:30] Saved t_2024-03-14_1200_1300.zarr\n",
      "[2025-04-17 04:11:33] Saved t_2024-03-14_1800_1900.zarr\n"
     ]
    },
    {
     "name": "stderr",
     "output_type": "stream",
     "text": [
      "Saving Zarr pairs:  93%|█████████▎| 29809/32143 [17:36<3:50:27,  5.92s/it]"
     ]
    },
    {
     "name": "stdout",
     "output_type": "stream",
     "text": [
      "[2025-04-17 04:12:21] Saved t_2024-03-15_0000_0100.zarr\n"
     ]
    },
    {
     "name": "stderr",
     "output_type": "stream",
     "text": [
      "Saving Zarr pairs:  93%|█████████▎| 29810/32143 [17:37<3:32:47,  5.47s/it]"
     ]
    },
    {
     "name": "stdout",
     "output_type": "stream",
     "text": [
      "[2025-04-17 04:12:25] Saved t_2024-03-15_0600_0700.zarr\n",
      "[2025-04-17 04:12:29] Saved t_2024-03-15_1200_1300.zarr\n"
     ]
    },
    {
     "name": "stderr",
     "output_type": "stream",
     "text": [
      "Saving Zarr pairs:  93%|█████████▎| 29815/32143 [17:46<2:36:25,  4.03s/it]"
     ]
    },
    {
     "name": "stdout",
     "output_type": "stream",
     "text": [
      "[2025-04-17 04:12:32] Saved t_2024-03-15_1800_1900.zarr\n",
      "[2025-04-17 04:12:34] Saved t_2024-03-16_0000_0100.zarr\n"
     ]
    },
    {
     "name": "stderr",
     "output_type": "stream",
     "text": [
      "Saving Zarr pairs:  93%|█████████▎| 29819/32143 [17:53<2:09:00,  3.33s/it]"
     ]
    },
    {
     "name": "stdout",
     "output_type": "stream",
     "text": [
      "[2025-04-17 04:12:39] Saved t_2024-03-16_0600_0700.zarr\n",
      "[2025-04-17 04:12:41] Saved t_2024-03-16_1800_1900.zarr\n"
     ]
    },
    {
     "name": "stderr",
     "output_type": "stream",
     "text": [
      "Saving Zarr pairs:  93%|█████████▎| 29824/32143 [17:56<1:25:55,  2.22s/it]"
     ]
    },
    {
     "name": "stdout",
     "output_type": "stream",
     "text": [
      "[2025-04-17 04:12:42] Saved t_2024-03-16_1200_1300.zarr\n"
     ]
    },
    {
     "name": "stderr",
     "output_type": "stream",
     "text": [
      "Saving Zarr pairs:  93%|█████████▎| 29826/32143 [18:46<4:23:38,  6.83s/it]"
     ]
    },
    {
     "name": "stdout",
     "output_type": "stream",
     "text": [
      "[2025-04-17 04:13:32] Saved t_2024-03-17_0000_0100.zarr\n"
     ]
    },
    {
     "name": "stderr",
     "output_type": "stream",
     "text": [
      "Saving Zarr pairs:  93%|█████████▎| 29828/32143 [18:50<3:26:12,  5.34s/it]"
     ]
    },
    {
     "name": "stdout",
     "output_type": "stream",
     "text": [
      "[2025-04-17 04:13:36] Saved t_2024-03-17_0600_0700.zarr\n"
     ]
    },
    {
     "name": "stderr",
     "output_type": "stream",
     "text": [
      "Saving Zarr pairs:  93%|█████████▎| 29829/32143 [18:54<3:16:43,  5.10s/it]"
     ]
    },
    {
     "name": "stdout",
     "output_type": "stream",
     "text": [
      "[2025-04-17 04:13:39] Saved t_2024-03-17_1200_1300.zarr\n"
     ]
    },
    {
     "name": "stderr",
     "output_type": "stream",
     "text": [
      "Saving Zarr pairs:  93%|█████████▎| 29831/32143 [18:56<2:25:28,  3.78s/it]"
     ]
    },
    {
     "name": "stdout",
     "output_type": "stream",
     "text": [
      "[2025-04-17 04:13:42] Saved t_2024-03-17_1800_1900.zarr\n"
     ]
    },
    {
     "name": "stderr",
     "output_type": "stream",
     "text": [
      "Saving Zarr pairs:  93%|█████████▎| 29833/32143 [18:59<1:54:26,  2.97s/it]"
     ]
    },
    {
     "name": "stdout",
     "output_type": "stream",
     "text": [
      "[2025-04-17 04:13:44] Saved t_2024-03-18_0000_0100.zarr\n"
     ]
    },
    {
     "name": "stderr",
     "output_type": "stream",
     "text": [
      "Saving Zarr pairs:  93%|█████████▎| 29835/32143 [19:03<1:44:44,  2.72s/it]"
     ]
    },
    {
     "name": "stdout",
     "output_type": "stream",
     "text": [
      "[2025-04-17 04:13:49] Saved t_2024-03-18_0600_0700.zarr\n",
      "[2025-04-17 04:13:51] Saved t_2024-03-18_1800_1900.zarr\n"
     ]
    },
    {
     "name": "stderr",
     "output_type": "stream",
     "text": [
      "Saving Zarr pairs:  93%|█████████▎| 29837/32143 [19:08<1:39:00,  2.58s/it]"
     ]
    },
    {
     "name": "stdout",
     "output_type": "stream",
     "text": [
      "[2025-04-17 04:13:53] Saved t_2024-03-18_1200_1300.zarr\n"
     ]
    },
    {
     "name": "stderr",
     "output_type": "stream",
     "text": [
      "Saving Zarr pairs:  93%|█████████▎| 29841/32143 [19:55<4:28:30,  7.00s/it]"
     ]
    },
    {
     "name": "stdout",
     "output_type": "stream",
     "text": [
      "[2025-04-17 04:14:41] Saved t_2024-03-19_0000_0100.zarr\n"
     ]
    },
    {
     "name": "stderr",
     "output_type": "stream",
     "text": [
      "Saving Zarr pairs:  93%|█████████▎| 29844/32143 [20:00<3:07:26,  4.89s/it]"
     ]
    },
    {
     "name": "stdout",
     "output_type": "stream",
     "text": [
      "[2025-04-17 04:14:45] Saved t_2024-03-19_0600_0700.zarr\n"
     ]
    },
    {
     "name": "stderr",
     "output_type": "stream",
     "text": [
      "Saving Zarr pairs:  93%|█████████▎| 29845/32143 [20:04<3:00:39,  4.72s/it]"
     ]
    },
    {
     "name": "stdout",
     "output_type": "stream",
     "text": [
      "[2025-04-17 04:14:49] Saved t_2024-03-19_1200_1300.zarr\n"
     ]
    },
    {
     "name": "stderr",
     "output_type": "stream",
     "text": [
      "Saving Zarr pairs:  93%|█████████▎| 29848/32143 [20:04<1:41:33,  2.66s/it]"
     ]
    },
    {
     "name": "stdout",
     "output_type": "stream",
     "text": [
      "[2025-04-17 04:14:50] Saved t_2024-03-19_1800_1900.zarr\n"
     ]
    },
    {
     "name": "stderr",
     "output_type": "stream",
     "text": [
      "Saving Zarr pairs:  93%|█████████▎| 29849/32143 [20:09<1:58:59,  3.11s/it]"
     ]
    },
    {
     "name": "stdout",
     "output_type": "stream",
     "text": [
      "[2025-04-17 04:14:55] Saved t_2024-03-20_0000_0100.zarr\n"
     ]
    },
    {
     "name": "stderr",
     "output_type": "stream",
     "text": [
      "Saving Zarr pairs:  93%|█████████▎| 29851/32143 [20:13<1:42:51,  2.69s/it]"
     ]
    },
    {
     "name": "stdout",
     "output_type": "stream",
     "text": [
      "[2025-04-17 04:14:59] Saved t_2024-03-20_0600_0700.zarr\n"
     ]
    },
    {
     "name": "stderr",
     "output_type": "stream",
     "text": [
      "Saving Zarr pairs:  93%|█████████▎| 29854/32143 [20:16<1:06:28,  1.74s/it]"
     ]
    },
    {
     "name": "stdout",
     "output_type": "stream",
     "text": [
      "[2025-04-17 04:15:01] Saved t_2024-03-20_1200_1300.zarr\n"
     ]
    },
    {
     "name": "stderr",
     "output_type": "stream",
     "text": [
      "Saving Zarr pairs:  93%|█████████▎| 29855/32143 [20:18<1:09:03,  1.81s/it]"
     ]
    },
    {
     "name": "stdout",
     "output_type": "stream",
     "text": [
      "[2025-04-17 04:15:03] Saved t_2024-03-20_1800_1900.zarr\n"
     ]
    },
    {
     "name": "stderr",
     "output_type": "stream",
     "text": [
      "Saving Zarr pairs:  93%|█████████▎| 29857/32143 [21:05<6:33:54, 10.34s/it]"
     ]
    },
    {
     "name": "stdout",
     "output_type": "stream",
     "text": [
      "[2025-04-17 04:15:51] Saved t_2024-03-21_0000_0100.zarr\n"
     ]
    },
    {
     "name": "stderr",
     "output_type": "stream",
     "text": [
      "Saving Zarr pairs:  93%|█████████▎| 29859/32143 [21:09<4:38:26,  7.31s/it]"
     ]
    },
    {
     "name": "stdout",
     "output_type": "stream",
     "text": [
      "[2025-04-17 04:15:54] Saved t_2024-03-21_0600_0700.zarr\n",
      "[2025-04-17 04:16:00] Saved t_2024-03-22_0000_0100.zarr\n",
      "[2025-04-17 04:16:03] Saved t_2024-03-21_1800_1900.zarr\n"
     ]
    },
    {
     "name": "stderr",
     "output_type": "stream",
     "text": [
      "Saving Zarr pairs:  93%|█████████▎| 29861/32143 [21:20<4:15:13,  6.71s/it]"
     ]
    },
    {
     "name": "stdout",
     "output_type": "stream",
     "text": [
      "[2025-04-17 04:16:06] Saved t_2024-03-21_1200_1300.zarr\n",
      "[2025-04-17 04:16:10] Saved t_2024-03-22_1200_1300.zarr\n"
     ]
    },
    {
     "name": "stderr",
     "output_type": "stream",
     "text": [
      "Saving Zarr pairs:  93%|█████████▎| 29867/32143 [21:27<2:09:51,  3.42s/it]"
     ]
    },
    {
     "name": "stdout",
     "output_type": "stream",
     "text": [
      "[2025-04-17 04:16:12] Saved t_2024-03-22_0600_0700.zarr\n"
     ]
    },
    {
     "name": "stderr",
     "output_type": "stream",
     "text": [
      "Saving Zarr pairs:  93%|█████████▎| 29871/32143 [21:29<1:30:07,  2.38s/it]"
     ]
    },
    {
     "name": "stdout",
     "output_type": "stream",
     "text": [
      "[2025-04-17 04:16:15] Saved t_2024-03-22_1800_1900.zarr\n"
     ]
    },
    {
     "name": "stderr",
     "output_type": "stream",
     "text": [
      "Saving Zarr pairs:  93%|█████████▎| 29873/32143 [22:14<4:05:44,  6.50s/it]"
     ]
    },
    {
     "name": "stdout",
     "output_type": "stream",
     "text": [
      "[2025-04-17 04:17:00] Saved t_2024-03-23_0000_0100.zarr\n"
     ]
    },
    {
     "name": "stderr",
     "output_type": "stream",
     "text": [
      "Saving Zarr pairs:  93%|█████████▎| 29875/32143 [22:18<3:26:30,  5.46s/it]"
     ]
    },
    {
     "name": "stdout",
     "output_type": "stream",
     "text": [
      "[2025-04-17 04:17:03] Saved t_2024-03-23_0600_0700.zarr\n"
     ]
    },
    {
     "name": "stderr",
     "output_type": "stream",
     "text": [
      "Saving Zarr pairs:  93%|█████████▎| 29878/32143 [22:26<2:44:25,  4.36s/it]"
     ]
    },
    {
     "name": "stdout",
     "output_type": "stream",
     "text": [
      "[2025-04-17 04:17:11] Saved t_2024-03-23_1200_1300.zarr\n"
     ]
    },
    {
     "name": "stderr",
     "output_type": "stream",
     "text": [
      "Saving Zarr pairs:  93%|█████████▎| 29879/32143 [22:29<2:33:38,  4.07s/it]"
     ]
    },
    {
     "name": "stdout",
     "output_type": "stream",
     "text": [
      "[2025-04-17 04:17:14] Saved t_2024-03-23_1800_1900.zarr\n"
     ]
    },
    {
     "name": "stderr",
     "output_type": "stream",
     "text": [
      "Saving Zarr pairs:  93%|█████████▎| 29881/32143 [22:32<2:01:33,  3.22s/it]"
     ]
    },
    {
     "name": "stdout",
     "output_type": "stream",
     "text": [
      "[2025-04-17 04:17:17] Saved t_2024-03-24_0000_0100.zarr\n"
     ]
    },
    {
     "name": "stderr",
     "output_type": "stream",
     "text": [
      "Saving Zarr pairs:  93%|█████████▎| 29883/32143 [22:34<1:37:13,  2.58s/it]"
     ]
    },
    {
     "name": "stdout",
     "output_type": "stream",
     "text": [
      "[2025-04-17 04:17:20] Saved t_2024-03-24_0600_0700.zarr\n"
     ]
    },
    {
     "name": "stderr",
     "output_type": "stream",
     "text": [
      "Saving Zarr pairs:  93%|█████████▎| 29886/32143 [22:37<1:06:26,  1.77s/it]"
     ]
    },
    {
     "name": "stdout",
     "output_type": "stream",
     "text": [
      "[2025-04-17 04:17:22] Saved t_2024-03-24_1200_1300.zarr\n"
     ]
    },
    {
     "name": "stderr",
     "output_type": "stream",
     "text": [
      "Saving Zarr pairs:  93%|█████████▎| 29887/32143 [22:39<1:10:38,  1.88s/it]"
     ]
    },
    {
     "name": "stdout",
     "output_type": "stream",
     "text": [
      "[2025-04-17 04:17:24] Saved t_2024-03-24_1800_1900.zarr\n"
     ]
    },
    {
     "name": "stderr",
     "output_type": "stream",
     "text": [
      "Saving Zarr pairs:  93%|█████████▎| 29889/32143 [23:23<5:54:55,  9.45s/it]"
     ]
    },
    {
     "name": "stdout",
     "output_type": "stream",
     "text": [
      "[2025-04-17 04:18:09] Saved t_2024-03-25_0000_0100.zarr\n"
     ]
    },
    {
     "name": "stderr",
     "output_type": "stream",
     "text": [
      "Saving Zarr pairs:  93%|█████████▎| 29891/32143 [23:26<4:11:16,  6.69s/it]"
     ]
    },
    {
     "name": "stdout",
     "output_type": "stream",
     "text": [
      "[2025-04-17 04:18:12] Saved t_2024-03-25_0600_0700.zarr\n"
     ]
    },
    {
     "name": "stderr",
     "output_type": "stream",
     "text": [
      "Saving Zarr pairs:  93%|█████████▎| 29893/32143 [23:35<3:43:30,  5.96s/it]"
     ]
    },
    {
     "name": "stdout",
     "output_type": "stream",
     "text": [
      "[2025-04-17 04:18:21] Saved t_2024-03-25_1200_1300.zarr\n"
     ]
    },
    {
     "name": "stderr",
     "output_type": "stream",
     "text": [
      "Saving Zarr pairs:  93%|█████████▎| 29895/32143 [23:38<2:47:14,  4.46s/it]"
     ]
    },
    {
     "name": "stdout",
     "output_type": "stream",
     "text": [
      "[2025-04-17 04:18:23] Saved t_2024-03-25_1800_1900.zarr\n"
     ]
    },
    {
     "name": "stderr",
     "output_type": "stream",
     "text": [
      "Saving Zarr pairs:  93%|█████████▎| 29897/32143 [23:41<2:12:29,  3.54s/it]"
     ]
    },
    {
     "name": "stdout",
     "output_type": "stream",
     "text": [
      "[2025-04-17 04:18:27] Saved t_2024-03-26_0000_0100.zarr\n"
     ]
    },
    {
     "name": "stderr",
     "output_type": "stream",
     "text": [
      "Saving Zarr pairs:  93%|█████████▎| 29899/32143 [23:44<1:47:46,  2.88s/it]"
     ]
    },
    {
     "name": "stdout",
     "output_type": "stream",
     "text": [
      "[2025-04-17 04:18:29] Saved t_2024-03-26_0600_0700.zarr\n"
     ]
    },
    {
     "name": "stderr",
     "output_type": "stream",
     "text": [
      "Saving Zarr pairs:  93%|█████████▎| 29901/32143 [23:46<1:28:14,  2.36s/it]"
     ]
    },
    {
     "name": "stdout",
     "output_type": "stream",
     "text": [
      "[2025-04-17 04:18:32] Saved t_2024-03-26_1200_1300.zarr\n"
     ]
    },
    {
     "name": "stderr",
     "output_type": "stream",
     "text": [
      "Saving Zarr pairs:  93%|█████████▎| 29903/32143 [23:49<1:17:08,  2.07s/it]"
     ]
    },
    {
     "name": "stdout",
     "output_type": "stream",
     "text": [
      "[2025-04-17 04:18:35] Saved t_2024-03-26_1800_1900.zarr\n"
     ]
    },
    {
     "name": "stderr",
     "output_type": "stream",
     "text": [
      "Saving Zarr pairs:  93%|█████████▎| 29905/32143 [24:32<4:59:58,  8.04s/it]"
     ]
    },
    {
     "name": "stdout",
     "output_type": "stream",
     "text": [
      "[2025-04-17 04:19:18] Saved t_2024-03-27_0000_0100.zarr\n"
     ]
    },
    {
     "name": "stderr",
     "output_type": "stream",
     "text": [
      "Saving Zarr pairs:  93%|█████████▎| 29907/32143 [24:35<3:45:37,  6.05s/it]"
     ]
    },
    {
     "name": "stdout",
     "output_type": "stream",
     "text": [
      "[2025-04-17 04:19:21] Saved t_2024-03-27_0600_0700.zarr\n"
     ]
    },
    {
     "name": "stderr",
     "output_type": "stream",
     "text": [
      "Saving Zarr pairs:  93%|█████████▎| 29909/32143 [24:47<3:42:16,  5.97s/it]"
     ]
    },
    {
     "name": "stdout",
     "output_type": "stream",
     "text": [
      "[2025-04-17 04:19:33] Saved t_2024-03-27_1200_1300.zarr\n",
      "[2025-04-17 04:19:35] Saved t_2024-03-28_0000_0100.zarr\n",
      "[2025-04-17 04:19:38] Saved t_2024-03-28_0600_0700.zarr\n"
     ]
    },
    {
     "name": "stderr",
     "output_type": "stream",
     "text": [
      "Saving Zarr pairs:  93%|█████████▎| 29911/32143 [24:53<3:07:29,  5.04s/it]"
     ]
    },
    {
     "name": "stdout",
     "output_type": "stream",
     "text": [
      "[2025-04-17 04:19:38] Saved t_2024-03-27_1800_1900.zarr\n"
     ]
    },
    {
     "name": "stderr",
     "output_type": "stream",
     "text": [
      "Saving Zarr pairs:  93%|█████████▎| 29917/32143 [24:57<1:35:47,  2.58s/it]"
     ]
    },
    {
     "name": "stdout",
     "output_type": "stream",
     "text": [
      "[2025-04-17 04:19:42] Saved t_2024-03-28_1200_1300.zarr\n"
     ]
    },
    {
     "name": "stderr",
     "output_type": "stream",
     "text": [
      "Saving Zarr pairs:  93%|█████████▎| 29919/32143 [25:00<1:26:14,  2.33s/it]"
     ]
    },
    {
     "name": "stdout",
     "output_type": "stream",
     "text": [
      "[2025-04-17 04:19:45] Saved t_2024-03-28_1800_1900.zarr\n"
     ]
    },
    {
     "name": "stderr",
     "output_type": "stream",
     "text": [
      "Saving Zarr pairs:  93%|█████████▎| 29921/32143 [25:43<4:12:43,  6.82s/it]"
     ]
    },
    {
     "name": "stdout",
     "output_type": "stream",
     "text": [
      "[2025-04-17 04:20:28] Saved t_2024-03-29_0000_0100.zarr\n"
     ]
    },
    {
     "name": "stderr",
     "output_type": "stream",
     "text": [
      "Saving Zarr pairs:  93%|█████████▎| 29924/32143 [25:47<2:56:29,  4.77s/it]"
     ]
    },
    {
     "name": "stdout",
     "output_type": "stream",
     "text": [
      "[2025-04-17 04:20:32] Saved t_2024-03-29_0600_0700.zarr\n"
     ]
    },
    {
     "name": "stderr",
     "output_type": "stream",
     "text": [
      "Saving Zarr pairs:  93%|█████████▎| 29925/32143 [25:56<3:24:58,  5.54s/it]"
     ]
    },
    {
     "name": "stdout",
     "output_type": "stream",
     "text": [
      "[2025-04-17 04:20:42] Saved t_2024-03-29_1200_1300.zarr\n"
     ]
    },
    {
     "name": "stderr",
     "output_type": "stream",
     "text": [
      "Saving Zarr pairs:  93%|█████████▎| 29927/32143 [25:58<2:30:38,  4.08s/it]"
     ]
    },
    {
     "name": "stdout",
     "output_type": "stream",
     "text": [
      "[2025-04-17 04:20:44] Saved t_2024-03-29_1800_1900.zarr\n",
      "[2025-04-17 04:20:47] Saved t_2024-03-30_0600_0700.zarr\n"
     ]
    },
    {
     "name": "stderr",
     "output_type": "stream",
     "text": [
      "Saving Zarr pairs:  93%|█████████▎| 29930/32143 [26:04<1:48:40,  2.95s/it]"
     ]
    },
    {
     "name": "stdout",
     "output_type": "stream",
     "text": [
      "[2025-04-17 04:20:49] Saved t_2024-03-30_0000_0100.zarr\n"
     ]
    },
    {
     "name": "stderr",
     "output_type": "stream",
     "text": [
      "Saving Zarr pairs:  93%|█████████▎| 29933/32143 [26:06<1:12:56,  1.98s/it]"
     ]
    },
    {
     "name": "stdout",
     "output_type": "stream",
     "text": [
      "[2025-04-17 04:20:52] Saved t_2024-03-30_1200_1300.zarr\n"
     ]
    },
    {
     "name": "stderr",
     "output_type": "stream",
     "text": [
      "Saving Zarr pairs:  93%|█████████▎| 29935/32143 [26:09<1:06:26,  1.81s/it]"
     ]
    },
    {
     "name": "stdout",
     "output_type": "stream",
     "text": [
      "[2025-04-17 04:20:54] Saved t_2024-03-30_1800_1900.zarr\n"
     ]
    },
    {
     "name": "stderr",
     "output_type": "stream",
     "text": [
      "Saving Zarr pairs:  93%|█████████▎| 29937/32143 [26:53<4:48:19,  7.84s/it]"
     ]
    },
    {
     "name": "stdout",
     "output_type": "stream",
     "text": [
      "[2025-04-17 04:21:38] Saved t_2024-03-31_0000_0100.zarr\n"
     ]
    },
    {
     "name": "stderr",
     "output_type": "stream",
     "text": [
      "Saving Zarr pairs:  93%|█████████▎| 29939/32143 [26:57<3:42:54,  6.07s/it]"
     ]
    },
    {
     "name": "stdout",
     "output_type": "stream",
     "text": [
      "[2025-04-17 04:21:42] Saved t_2024-03-31_0600_0700.zarr\n"
     ]
    },
    {
     "name": "stderr",
     "output_type": "stream",
     "text": [
      "Saving Zarr pairs:  93%|█████████▎| 29941/32143 [27:06<3:25:59,  5.61s/it]"
     ]
    },
    {
     "name": "stdout",
     "output_type": "stream",
     "text": [
      "[2025-04-17 04:21:51] Saved t_2024-03-31_1200_1300.zarr\n"
     ]
    },
    {
     "name": "stderr",
     "output_type": "stream",
     "text": [
      "Saving Zarr pairs:  93%|█████████▎| 29943/32143 [27:08<2:39:19,  4.35s/it]"
     ]
    },
    {
     "name": "stdout",
     "output_type": "stream",
     "text": [
      "[2025-04-17 04:21:54] Saved t_2024-03-31_1800_1900.zarr\n"
     ]
    },
    {
     "name": "stderr",
     "output_type": "stream",
     "text": [
      "Saving Zarr pairs:  93%|█████████▎| 29945/32143 [27:11<2:05:51,  3.44s/it]"
     ]
    },
    {
     "name": "stdout",
     "output_type": "stream",
     "text": [
      "[2025-04-17 04:21:57] Saved t_2024-04-01_0000_0100.zarr\n"
     ]
    },
    {
     "name": "stderr",
     "output_type": "stream",
     "text": [
      "Saving Zarr pairs:  93%|█████████▎| 29947/32143 [27:13<1:41:03,  2.76s/it]"
     ]
    },
    {
     "name": "stdout",
     "output_type": "stream",
     "text": [
      "[2025-04-17 04:21:59] Saved t_2024-04-01_0600_0700.zarr\n"
     ]
    },
    {
     "name": "stderr",
     "output_type": "stream",
     "text": [
      "Saving Zarr pairs:  93%|█████████▎| 29949/32143 [27:16<1:24:27,  2.31s/it]"
     ]
    },
    {
     "name": "stdout",
     "output_type": "stream",
     "text": [
      "[2025-04-17 04:22:02] Saved t_2024-04-01_1200_1300.zarr\n"
     ]
    },
    {
     "name": "stderr",
     "output_type": "stream",
     "text": [
      "Saving Zarr pairs:  93%|█████████▎| 29952/32143 [27:20<1:06:16,  1.81s/it]"
     ]
    },
    {
     "name": "stdout",
     "output_type": "stream",
     "text": [
      "[2025-04-17 04:22:05] Saved t_2024-04-01_1800_1900.zarr\n"
     ]
    },
    {
     "name": "stderr",
     "output_type": "stream",
     "text": [
      "Saving Zarr pairs:  93%|█████████▎| 29953/32143 [28:02<6:04:59, 10.00s/it]"
     ]
    },
    {
     "name": "stdout",
     "output_type": "stream",
     "text": [
      "[2025-04-17 04:22:48] Saved t_2024-04-02_0000_0100.zarr\n"
     ]
    },
    {
     "name": "stderr",
     "output_type": "stream",
     "text": [
      "Saving Zarr pairs:  93%|█████████▎| 29956/32143 [28:06<3:23:01,  5.57s/it]"
     ]
    },
    {
     "name": "stdout",
     "output_type": "stream",
     "text": [
      "[2025-04-17 04:22:51] Saved t_2024-04-02_0600_0700.zarr\n"
     ]
    },
    {
     "name": "stderr",
     "output_type": "stream",
     "text": [
      "Saving Zarr pairs:  93%|█████████▎| 29957/32143 [28:16<3:59:16,  6.57s/it]"
     ]
    },
    {
     "name": "stdout",
     "output_type": "stream",
     "text": [
      "[2025-04-17 04:23:01] Saved t_2024-04-02_1200_1300.zarr\n",
      "[2025-04-17 04:23:05] Saved t_2024-04-03_0000_0100.zarr\n",
      "[2025-04-17 04:23:07] Saved t_2024-04-03_0600_0700.zarr\n"
     ]
    },
    {
     "name": "stderr",
     "output_type": "stream",
     "text": [
      "Saving Zarr pairs:  93%|█████████▎| 29959/32143 [28:24<3:24:12,  5.61s/it]"
     ]
    },
    {
     "name": "stdout",
     "output_type": "stream",
     "text": [
      "[2025-04-17 04:23:10] Saved t_2024-04-02_1800_1900.zarr\n"
     ]
    },
    {
     "name": "stderr",
     "output_type": "stream",
     "text": [
      "Saving Zarr pairs:  93%|█████████▎| 29965/32143 [28:27<1:25:46,  2.36s/it]"
     ]
    },
    {
     "name": "stdout",
     "output_type": "stream",
     "text": [
      "[2025-04-17 04:23:12] Saved t_2024-04-03_1200_1300.zarr\n"
     ]
    },
    {
     "name": "stderr",
     "output_type": "stream",
     "text": [
      "Saving Zarr pairs:  93%|█████████▎| 29967/32143 [28:30<1:17:26,  2.14s/it]"
     ]
    },
    {
     "name": "stdout",
     "output_type": "stream",
     "text": [
      "[2025-04-17 04:23:15] Saved t_2024-04-03_1800_1900.zarr\n"
     ]
    },
    {
     "name": "stderr",
     "output_type": "stream",
     "text": [
      "Saving Zarr pairs:  93%|█████████▎| 29969/32143 [29:12<4:09:21,  6.88s/it]"
     ]
    },
    {
     "name": "stdout",
     "output_type": "stream",
     "text": [
      "[2025-04-17 04:23:58] Saved t_2024-04-04_0000_0100.zarr\n"
     ]
    },
    {
     "name": "stderr",
     "output_type": "stream",
     "text": [
      "Saving Zarr pairs:  93%|█████████▎| 29971/32143 [29:16<3:23:52,  5.63s/it]"
     ]
    },
    {
     "name": "stdout",
     "output_type": "stream",
     "text": [
      "[2025-04-17 04:24:02] Saved t_2024-04-04_0600_0700.zarr\n",
      "[2025-04-17 04:24:11] Saved t_2024-04-04_1800_1900.zarr\n",
      "[2025-04-17 04:24:15] Saved t_2024-04-05_0600_0700.zarr\n"
     ]
    },
    {
     "name": "stderr",
     "output_type": "stream",
     "text": [
      "Saving Zarr pairs:  93%|█████████▎| 29974/32143 [29:31<3:04:33,  5.11s/it]"
     ]
    },
    {
     "name": "stdout",
     "output_type": "stream",
     "text": [
      "[2025-04-17 04:24:16] Saved t_2024-04-04_1200_1300.zarr\n"
     ]
    },
    {
     "name": "stderr",
     "output_type": "stream",
     "text": [
      "Saving Zarr pairs:  93%|█████████▎| 29978/32143 [29:34<1:44:07,  2.89s/it]"
     ]
    },
    {
     "name": "stdout",
     "output_type": "stream",
     "text": [
      "[2025-04-17 04:24:20] Saved t_2024-04-05_0000_0100.zarr\n"
     ]
    },
    {
     "name": "stderr",
     "output_type": "stream",
     "text": [
      "Saving Zarr pairs:  93%|█████████▎| 29982/32143 [29:37<1:02:21,  1.73s/it]"
     ]
    },
    {
     "name": "stdout",
     "output_type": "stream",
     "text": [
      "[2025-04-17 04:24:22] Saved t_2024-04-05_1200_1300.zarr\n"
     ]
    },
    {
     "name": "stderr",
     "output_type": "stream",
     "text": [
      "Saving Zarr pairs:  93%|█████████▎| 29983/32143 [29:40<1:12:26,  2.01s/it]"
     ]
    },
    {
     "name": "stdout",
     "output_type": "stream",
     "text": [
      "[2025-04-17 04:24:26] Saved t_2024-04-05_1800_1900.zarr\n"
     ]
    },
    {
     "name": "stderr",
     "output_type": "stream",
     "text": [
      "Saving Zarr pairs:  93%|█████████▎| 29985/32143 [30:22<5:11:52,  8.67s/it]"
     ]
    },
    {
     "name": "stdout",
     "output_type": "stream",
     "text": [
      "[2025-04-17 04:25:08] Saved t_2024-04-06_0000_0100.zarr\n"
     ]
    },
    {
     "name": "stderr",
     "output_type": "stream",
     "text": [
      "Saving Zarr pairs:  93%|█████████▎| 29987/32143 [30:27<3:55:04,  6.54s/it]"
     ]
    },
    {
     "name": "stdout",
     "output_type": "stream",
     "text": [
      "[2025-04-17 04:25:12] Saved t_2024-04-06_0600_0700.zarr\n"
     ]
    },
    {
     "name": "stderr",
     "output_type": "stream",
     "text": [
      "Saving Zarr pairs:  93%|█████████▎| 29991/32143 [30:36<2:26:27,  4.08s/it]"
     ]
    },
    {
     "name": "stdout",
     "output_type": "stream",
     "text": [
      "[2025-04-17 04:25:21] Saved t_2024-04-06_1200_1300.zarr\n",
      "[2025-04-17 04:25:22] Saved t_2024-04-06_1800_1900.zarr\n"
     ]
    },
    {
     "name": "stderr",
     "output_type": "stream",
     "text": [
      "Saving Zarr pairs:  93%|█████████▎| 29993/32143 [30:42<2:11:54,  3.68s/it]"
     ]
    },
    {
     "name": "stdout",
     "output_type": "stream",
     "text": [
      "[2025-04-17 04:25:27] Saved t_2024-04-07_0000_0100.zarr\n"
     ]
    },
    {
     "name": "stderr",
     "output_type": "stream",
     "text": [
      "Saving Zarr pairs:  93%|█████████▎| 29995/32143 [30:46<1:55:12,  3.22s/it]"
     ]
    },
    {
     "name": "stdout",
     "output_type": "stream",
     "text": [
      "[2025-04-17 04:25:32] Saved t_2024-04-07_0600_0700.zarr\n"
     ]
    },
    {
     "name": "stderr",
     "output_type": "stream",
     "text": [
      "Saving Zarr pairs:  93%|█████████▎| 29998/32143 [30:49<1:17:34,  2.17s/it]"
     ]
    },
    {
     "name": "stdout",
     "output_type": "stream",
     "text": [
      "[2025-04-17 04:25:34] Saved t_2024-04-07_1200_1300.zarr\n"
     ]
    },
    {
     "name": "stderr",
     "output_type": "stream",
     "text": [
      "Saving Zarr pairs:  93%|█████████▎| 30000/32143 [30:51<1:02:35,  1.75s/it]"
     ]
    },
    {
     "name": "stdout",
     "output_type": "stream",
     "text": [
      "[2025-04-17 04:25:37] Saved t_2024-04-07_1800_1900.zarr\n"
     ]
    },
    {
     "name": "stderr",
     "output_type": "stream",
     "text": [
      "Saving Zarr pairs:  93%|█████████▎| 30002/32143 [31:32<5:01:21,  8.45s/it]"
     ]
    },
    {
     "name": "stdout",
     "output_type": "stream",
     "text": [
      "[2025-04-17 04:26:18] Saved t_2024-04-08_0000_0100.zarr\n"
     ]
    },
    {
     "name": "stderr",
     "output_type": "stream",
     "text": [
      "Saving Zarr pairs:  93%|█████████▎| 30003/32143 [31:38<4:36:41,  7.76s/it]"
     ]
    },
    {
     "name": "stdout",
     "output_type": "stream",
     "text": [
      "[2025-04-17 04:26:24] Saved t_2024-04-08_0600_0700.zarr\n"
     ]
    },
    {
     "name": "stderr",
     "output_type": "stream",
     "text": [
      "Saving Zarr pairs:  93%|█████████▎| 30005/32143 [31:48<3:48:29,  6.41s/it]"
     ]
    },
    {
     "name": "stdout",
     "output_type": "stream",
     "text": [
      "[2025-04-17 04:26:33] Saved t_2024-04-08_1200_1300.zarr\n",
      "[2025-04-17 04:26:35] Saved t_2024-04-09_0000_0100.zarr\n"
     ]
    },
    {
     "name": "stderr",
     "output_type": "stream",
     "text": [
      "Saving Zarr pairs:  93%|█████████▎| 30007/32143 [31:51<2:43:24,  4.59s/it]"
     ]
    },
    {
     "name": "stdout",
     "output_type": "stream",
     "text": [
      "[2025-04-17 04:26:37] Saved t_2024-04-08_1800_1900.zarr\n"
     ]
    },
    {
     "name": "stderr",
     "output_type": "stream",
     "text": [
      "Saving Zarr pairs:  93%|█████████▎| 30011/32143 [31:56<1:43:25,  2.91s/it]"
     ]
    },
    {
     "name": "stdout",
     "output_type": "stream",
     "text": [
      "[2025-04-17 04:26:42] Saved t_2024-04-09_0600_0700.zarr\n"
     ]
    },
    {
     "name": "stderr",
     "output_type": "stream",
     "text": [
      "Saving Zarr pairs:  93%|█████████▎| 30013/32143 [31:59<1:26:13,  2.43s/it]"
     ]
    },
    {
     "name": "stdout",
     "output_type": "stream",
     "text": [
      "[2025-04-17 04:26:44] Saved t_2024-04-09_1200_1300.zarr\n"
     ]
    },
    {
     "name": "stderr",
     "output_type": "stream",
     "text": [
      "Saving Zarr pairs:  93%|█████████▎| 30016/32143 [32:01<1:02:25,  1.76s/it]"
     ]
    },
    {
     "name": "stdout",
     "output_type": "stream",
     "text": [
      "[2025-04-17 04:26:47] Saved t_2024-04-09_1800_1900.zarr\n"
     ]
    },
    {
     "name": "stderr",
     "output_type": "stream",
     "text": [
      "Saving Zarr pairs:  93%|█████████▎| 30018/32143 [32:42<4:16:58,  7.26s/it]"
     ]
    },
    {
     "name": "stdout",
     "output_type": "stream",
     "text": [
      "[2025-04-17 04:27:27] Saved t_2024-04-10_0000_0100.zarr\n"
     ]
    },
    {
     "name": "stderr",
     "output_type": "stream",
     "text": [
      "Saving Zarr pairs:  93%|█████████▎| 30019/32143 [32:47<3:59:24,  6.76s/it]"
     ]
    },
    {
     "name": "stdout",
     "output_type": "stream",
     "text": [
      "[2025-04-17 04:27:33] Saved t_2024-04-10_0600_0700.zarr\n",
      "[2025-04-17 04:27:42] Saved t_2024-04-11_0000_0100.zarr\n",
      "[2025-04-17 04:27:45] Saved t_2024-04-10_1800_1900.zarr\n"
     ]
    },
    {
     "name": "stderr",
     "output_type": "stream",
     "text": [
      "Saving Zarr pairs:  93%|█████████▎| 30022/32143 [33:03<3:16:50,  5.57s/it]"
     ]
    },
    {
     "name": "stdout",
     "output_type": "stream",
     "text": [
      "[2025-04-17 04:27:48] Saved t_2024-04-10_1200_1300.zarr\n"
     ]
    },
    {
     "name": "stderr",
     "output_type": "stream",
     "text": [
      "Saving Zarr pairs:  93%|█████████▎| 30027/32143 [33:07<1:34:07,  2.67s/it]"
     ]
    },
    {
     "name": "stdout",
     "output_type": "stream",
     "text": [
      "[2025-04-17 04:27:52] Saved t_2024-04-11_0600_0700.zarr\n"
     ]
    },
    {
     "name": "stderr",
     "output_type": "stream",
     "text": [
      "Saving Zarr pairs:  93%|█████████▎| 30029/32143 [33:09<1:20:18,  2.28s/it]"
     ]
    },
    {
     "name": "stdout",
     "output_type": "stream",
     "text": [
      "[2025-04-17 04:27:55] Saved t_2024-04-11_1200_1300.zarr\n"
     ]
    },
    {
     "name": "stderr",
     "output_type": "stream",
     "text": [
      "Saving Zarr pairs:  93%|█████████▎| 30031/32143 [33:13<1:16:41,  2.18s/it]"
     ]
    },
    {
     "name": "stdout",
     "output_type": "stream",
     "text": [
      "[2025-04-17 04:27:59] Saved t_2024-04-11_1800_1900.zarr\n"
     ]
    },
    {
     "name": "stderr",
     "output_type": "stream",
     "text": [
      "Saving Zarr pairs:  93%|█████████▎| 30034/32143 [33:54<3:32:58,  6.06s/it]"
     ]
    },
    {
     "name": "stdout",
     "output_type": "stream",
     "text": [
      "[2025-04-17 04:28:39] Saved t_2024-04-12_0000_0100.zarr\n"
     ]
    },
    {
     "name": "stderr",
     "output_type": "stream",
     "text": [
      "Saving Zarr pairs:  93%|█████████▎| 30036/32143 [33:59<2:45:22,  4.71s/it]"
     ]
    },
    {
     "name": "stdout",
     "output_type": "stream",
     "text": [
      "[2025-04-17 04:28:45] Saved t_2024-04-12_0600_0700.zarr\n"
     ]
    },
    {
     "name": "stderr",
     "output_type": "stream",
     "text": [
      "Saving Zarr pairs:  93%|█████████▎| 30037/32143 [34:08<3:13:23,  5.51s/it]"
     ]
    },
    {
     "name": "stdout",
     "output_type": "stream",
     "text": [
      "[2025-04-17 04:28:53] Saved t_2024-04-12_1200_1300.zarr\n"
     ]
    },
    {
     "name": "stderr",
     "output_type": "stream",
     "text": [
      "Saving Zarr pairs:  93%|█████████▎| 30039/32143 [34:09<2:05:44,  3.59s/it]"
     ]
    },
    {
     "name": "stdout",
     "output_type": "stream",
     "text": [
      "[2025-04-17 04:28:55] Saved t_2024-04-12_1800_1900.zarr\n"
     ]
    },
    {
     "name": "stderr",
     "output_type": "stream",
     "text": [
      "Saving Zarr pairs:  93%|█████████▎| 30042/32143 [34:12<1:20:30,  2.30s/it]"
     ]
    },
    {
     "name": "stdout",
     "output_type": "stream",
     "text": [
      "[2025-04-17 04:28:58] Saved t_2024-04-13_0000_0100.zarr\n",
      "[2025-04-17 04:29:03] Saved t_2024-04-13_1200_1300.zarr\n"
     ]
    },
    {
     "name": "stderr",
     "output_type": "stream",
     "text": [
      "Saving Zarr pairs:  93%|█████████▎| 30044/32143 [34:20<1:32:02,  2.63s/it]"
     ]
    },
    {
     "name": "stdout",
     "output_type": "stream",
     "text": [
      "[2025-04-17 04:29:05] Saved t_2024-04-13_0600_0700.zarr\n"
     ]
    },
    {
     "name": "stderr",
     "output_type": "stream",
     "text": [
      "Saving Zarr pairs:  93%|█████████▎| 30047/32143 [34:24<1:09:15,  1.98s/it]"
     ]
    },
    {
     "name": "stdout",
     "output_type": "stream",
     "text": [
      "[2025-04-17 04:29:09] Saved t_2024-04-13_1800_1900.zarr\n"
     ]
    },
    {
     "name": "stderr",
     "output_type": "stream",
     "text": [
      "Saving Zarr pairs:  93%|█████████▎| 30049/32143 [35:03<4:33:04,  7.82s/it]"
     ]
    },
    {
     "name": "stdout",
     "output_type": "stream",
     "text": [
      "[2025-04-17 04:29:49] Saved t_2024-04-14_0000_0100.zarr\n"
     ]
    },
    {
     "name": "stderr",
     "output_type": "stream",
     "text": [
      "Saving Zarr pairs:  93%|█████████▎| 30051/32143 [35:09<3:35:57,  6.19s/it]"
     ]
    },
    {
     "name": "stdout",
     "output_type": "stream",
     "text": [
      "[2025-04-17 04:29:54] Saved t_2024-04-14_0600_0700.zarr\n",
      "[2025-04-17 04:30:02] Saved t_2024-04-14_1800_1900.zarr\n"
     ]
    },
    {
     "name": "stderr",
     "output_type": "stream",
     "text": [
      "Saving Zarr pairs:  93%|█████████▎| 30053/32143 [35:19<3:24:23,  5.87s/it]"
     ]
    },
    {
     "name": "stdout",
     "output_type": "stream",
     "text": [
      "[2025-04-17 04:30:05] Saved t_2024-04-14_1200_1300.zarr\n"
     ]
    },
    {
     "name": "stderr",
     "output_type": "stream",
     "text": [
      "Saving Zarr pairs:  94%|█████████▎| 30057/32143 [35:22<1:59:24,  3.43s/it]"
     ]
    },
    {
     "name": "stdout",
     "output_type": "stream",
     "text": [
      "[2025-04-17 04:30:08] Saved t_2024-04-15_0000_0100.zarr\n"
     ]
    },
    {
     "name": "stderr",
     "output_type": "stream",
     "text": [
      "Saving Zarr pairs:  94%|█████████▎| 30059/32143 [35:27<1:52:44,  3.25s/it]"
     ]
    },
    {
     "name": "stdout",
     "output_type": "stream",
     "text": [
      "[2025-04-17 04:30:13] Saved t_2024-04-15_0600_0700.zarr\n"
     ]
    },
    {
     "name": "stderr",
     "output_type": "stream",
     "text": [
      "Saving Zarr pairs:  94%|█████████▎| 30061/32143 [35:31<1:37:34,  2.81s/it]"
     ]
    },
    {
     "name": "stdout",
     "output_type": "stream",
     "text": [
      "[2025-04-17 04:30:16] Saved t_2024-04-15_1200_1300.zarr\n"
     ]
    },
    {
     "name": "stderr",
     "output_type": "stream",
     "text": [
      "Saving Zarr pairs:  94%|█████████▎| 30063/32143 [35:34<1:25:30,  2.47s/it]"
     ]
    },
    {
     "name": "stdout",
     "output_type": "stream",
     "text": [
      "[2025-04-17 04:30:19] Saved t_2024-04-15_1800_1900.zarr\n"
     ]
    },
    {
     "name": "stderr",
     "output_type": "stream",
     "text": [
      "Saving Zarr pairs:  94%|█████████▎| 30065/32143 [36:13<4:11:12,  7.25s/it]"
     ]
    },
    {
     "name": "stdout",
     "output_type": "stream",
     "text": [
      "[2025-04-17 04:30:58] Saved t_2024-04-16_0000_0100.zarr\n"
     ]
    },
    {
     "name": "stderr",
     "output_type": "stream",
     "text": [
      "Saving Zarr pairs:  94%|█████████▎| 30067/32143 [36:16<3:17:54,  5.72s/it]"
     ]
    },
    {
     "name": "stdout",
     "output_type": "stream",
     "text": [
      "[2025-04-17 04:31:02] Saved t_2024-04-16_0600_0700.zarr\n"
     ]
    },
    {
     "name": "stderr",
     "output_type": "stream",
     "text": [
      "Saving Zarr pairs:  94%|█████████▎| 30070/32143 [36:27<2:39:32,  4.62s/it]"
     ]
    },
    {
     "name": "stdout",
     "output_type": "stream",
     "text": [
      "[2025-04-17 04:31:12] Saved t_2024-04-16_1200_1300.zarr\n"
     ]
    },
    {
     "name": "stderr",
     "output_type": "stream",
     "text": [
      "Saving Zarr pairs:  94%|█████████▎| 30072/32143 [36:29<1:51:31,  3.23s/it]"
     ]
    },
    {
     "name": "stdout",
     "output_type": "stream",
     "text": [
      "[2025-04-17 04:31:14] Saved t_2024-04-16_1800_1900.zarr\n"
     ]
    },
    {
     "name": "stderr",
     "output_type": "stream",
     "text": [
      "Saving Zarr pairs:  94%|█████████▎| 30073/32143 [36:32<1:49:16,  3.17s/it]"
     ]
    },
    {
     "name": "stdout",
     "output_type": "stream",
     "text": [
      "[2025-04-17 04:31:18] Saved t_2024-04-17_0000_0100.zarr\n"
     ]
    },
    {
     "name": "stderr",
     "output_type": "stream",
     "text": [
      "Saving Zarr pairs:  94%|█████████▎| 30075/32143 [36:37<1:43:22,  3.00s/it]"
     ]
    },
    {
     "name": "stdout",
     "output_type": "stream",
     "text": [
      "[2025-04-17 04:31:23] Saved t_2024-04-17_0600_0700.zarr\n"
     ]
    },
    {
     "name": "stderr",
     "output_type": "stream",
     "text": [
      "Saving Zarr pairs:  94%|█████████▎| 30077/32143 [36:40<1:21:38,  2.37s/it]"
     ]
    },
    {
     "name": "stdout",
     "output_type": "stream",
     "text": [
      "[2025-04-17 04:31:26] Saved t_2024-04-17_1200_1300.zarr\n"
     ]
    },
    {
     "name": "stderr",
     "output_type": "stream",
     "text": [
      "Saving Zarr pairs:  94%|█████████▎| 30079/32143 [36:45<1:22:30,  2.40s/it]"
     ]
    },
    {
     "name": "stdout",
     "output_type": "stream",
     "text": [
      "[2025-04-17 04:31:31] Saved t_2024-04-17_1800_1900.zarr\n"
     ]
    },
    {
     "name": "stderr",
     "output_type": "stream",
     "text": [
      "Saving Zarr pairs:  94%|█████████▎| 30081/32143 [37:24<4:38:25,  8.10s/it]"
     ]
    },
    {
     "name": "stdout",
     "output_type": "stream",
     "text": [
      "[2025-04-17 04:32:10] Saved t_2024-04-18_0000_0100.zarr\n"
     ]
    },
    {
     "name": "stderr",
     "output_type": "stream",
     "text": [
      "Saving Zarr pairs:  94%|█████████▎| 30084/32143 [37:29<2:53:04,  5.04s/it]"
     ]
    },
    {
     "name": "stdout",
     "output_type": "stream",
     "text": [
      "[2025-04-17 04:32:14] Saved t_2024-04-18_0600_0700.zarr\n"
     ]
    },
    {
     "name": "stderr",
     "output_type": "stream",
     "text": [
      "Saving Zarr pairs:  94%|█████████▎| 30085/32143 [37:35<3:04:33,  5.38s/it]"
     ]
    },
    {
     "name": "stdout",
     "output_type": "stream",
     "text": [
      "[2025-04-17 04:32:21] Saved t_2024-04-18_1200_1300.zarr\n"
     ]
    },
    {
     "name": "stderr",
     "output_type": "stream",
     "text": [
      "Saving Zarr pairs:  94%|█████████▎| 30088/32143 [37:36<1:33:29,  2.73s/it]"
     ]
    },
    {
     "name": "stdout",
     "output_type": "stream",
     "text": [
      "[2025-04-17 04:32:21] Saved t_2024-04-18_1800_1900.zarr\n"
     ]
    },
    {
     "name": "stderr",
     "output_type": "stream",
     "text": [
      "Saving Zarr pairs:  94%|█████████▎| 30089/32143 [37:40<1:49:12,  3.19s/it]"
     ]
    },
    {
     "name": "stdout",
     "output_type": "stream",
     "text": [
      "[2025-04-17 04:32:26] Saved t_2024-04-19_0000_0100.zarr\n"
     ]
    },
    {
     "name": "stderr",
     "output_type": "stream",
     "text": [
      "Saving Zarr pairs:  94%|█████████▎| 30091/32143 [37:48<1:58:30,  3.46s/it]"
     ]
    },
    {
     "name": "stdout",
     "output_type": "stream",
     "text": [
      "[2025-04-17 04:32:34] Saved t_2024-04-19_0600_0700.zarr\n"
     ]
    },
    {
     "name": "stderr",
     "output_type": "stream",
     "text": [
      "Saving Zarr pairs:  94%|█████████▎| 30094/32143 [37:51<1:14:50,  2.19s/it]"
     ]
    },
    {
     "name": "stdout",
     "output_type": "stream",
     "text": [
      "[2025-04-17 04:32:37] Saved t_2024-04-19_1200_1300.zarr\n"
     ]
    },
    {
     "name": "stderr",
     "output_type": "stream",
     "text": [
      "Saving Zarr pairs:  94%|█████████▎| 30096/32143 [37:56<1:12:15,  2.12s/it]"
     ]
    },
    {
     "name": "stdout",
     "output_type": "stream",
     "text": [
      "[2025-04-17 04:32:41] Saved t_2024-04-19_1800_1900.zarr\n"
     ]
    },
    {
     "name": "stderr",
     "output_type": "stream",
     "text": [
      "Saving Zarr pairs:  94%|█████████▎| 30097/32143 [38:35<6:34:52, 11.58s/it]"
     ]
    },
    {
     "name": "stdout",
     "output_type": "stream",
     "text": [
      "[2025-04-17 04:33:20] Saved t_2024-04-20_0000_0100.zarr\n"
     ]
    },
    {
     "name": "stderr",
     "output_type": "stream",
     "text": [
      "Saving Zarr pairs:  94%|█████████▎| 30099/32143 [38:39<4:19:11,  7.61s/it]"
     ]
    },
    {
     "name": "stdout",
     "output_type": "stream",
     "text": [
      "[2025-04-17 04:33:25] Saved t_2024-04-20_0600_0700.zarr\n",
      "[2025-04-17 04:33:31] Saved t_2024-04-20_1800_1900.zarr\n"
     ]
    },
    {
     "name": "stderr",
     "output_type": "stream",
     "text": [
      "Saving Zarr pairs:  94%|█████████▎| 30101/32143 [38:48<3:41:21,  6.50s/it]"
     ]
    },
    {
     "name": "stdout",
     "output_type": "stream",
     "text": [
      "[2025-04-17 04:33:34] Saved t_2024-04-20_1200_1300.zarr\n"
     ]
    },
    {
     "name": "stderr",
     "output_type": "stream",
     "text": [
      "Saving Zarr pairs:  94%|█████████▎| 30105/32143 [38:52<2:01:40,  3.58s/it]"
     ]
    },
    {
     "name": "stdout",
     "output_type": "stream",
     "text": [
      "[2025-04-17 04:33:38] Saved t_2024-04-21_0000_0100.zarr\n"
     ]
    },
    {
     "name": "stderr",
     "output_type": "stream",
     "text": [
      "Saving Zarr pairs:  94%|█████████▎| 30108/32143 [38:56<1:30:18,  2.66s/it]"
     ]
    },
    {
     "name": "stdout",
     "output_type": "stream",
     "text": [
      "[2025-04-17 04:33:42] Saved t_2024-04-21_0600_0700.zarr\n"
     ]
    },
    {
     "name": "stderr",
     "output_type": "stream",
     "text": [
      "Saving Zarr pairs:  94%|█████████▎| 30110/32143 [38:59<1:12:57,  2.15s/it]"
     ]
    },
    {
     "name": "stdout",
     "output_type": "stream",
     "text": [
      "[2025-04-17 04:33:45] Saved t_2024-04-21_1200_1300.zarr\n"
     ]
    },
    {
     "name": "stderr",
     "output_type": "stream",
     "text": [
      "Saving Zarr pairs:  94%|█████████▎| 30111/32143 [39:03<1:24:19,  2.49s/it]"
     ]
    },
    {
     "name": "stdout",
     "output_type": "stream",
     "text": [
      "[2025-04-17 04:33:48] Saved t_2024-04-21_1800_1900.zarr\n"
     ]
    },
    {
     "name": "stderr",
     "output_type": "stream",
     "text": [
      "Saving Zarr pairs:  94%|█████████▎| 30114/32143 [39:45<4:20:27,  7.70s/it]"
     ]
    },
    {
     "name": "stdout",
     "output_type": "stream",
     "text": [
      "[2025-04-17 04:34:30] Saved t_2024-04-22_0000_0100.zarr\n"
     ]
    },
    {
     "name": "stderr",
     "output_type": "stream",
     "text": [
      "Saving Zarr pairs:  94%|█████████▎| 30115/32143 [39:49<3:51:10,  6.84s/it]"
     ]
    },
    {
     "name": "stdout",
     "output_type": "stream",
     "text": [
      "[2025-04-17 04:34:34] Saved t_2024-04-22_0600_0700.zarr\n"
     ]
    },
    {
     "name": "stderr",
     "output_type": "stream",
     "text": [
      "Saving Zarr pairs:  94%|█████████▎| 30117/32143 [39:56<3:04:52,  5.48s/it]"
     ]
    },
    {
     "name": "stdout",
     "output_type": "stream",
     "text": [
      "[2025-04-17 04:34:41] Saved t_2024-04-22_1200_1300.zarr\n"
     ]
    },
    {
     "name": "stderr",
     "output_type": "stream",
     "text": [
      "Saving Zarr pairs:  94%|█████████▎| 30120/32143 [39:58<1:45:04,  3.12s/it]"
     ]
    },
    {
     "name": "stdout",
     "output_type": "stream",
     "text": [
      "[2025-04-17 04:34:44] Saved t_2024-04-22_1800_1900.zarr\n"
     ]
    },
    {
     "name": "stderr",
     "output_type": "stream",
     "text": [
      "Saving Zarr pairs:  94%|█████████▎| 30121/32143 [40:01<1:42:26,  3.04s/it]"
     ]
    },
    {
     "name": "stdout",
     "output_type": "stream",
     "text": [
      "[2025-04-17 04:34:47] Saved t_2024-04-23_0000_0100.zarr\n"
     ]
    },
    {
     "name": "stderr",
     "output_type": "stream",
     "text": [
      "Saving Zarr pairs:  94%|█████████▎| 30123/32143 [40:05<1:28:13,  2.62s/it]"
     ]
    },
    {
     "name": "stdout",
     "output_type": "stream",
     "text": [
      "[2025-04-17 04:34:51] Saved t_2024-04-23_0600_0700.zarr\n"
     ]
    },
    {
     "name": "stderr",
     "output_type": "stream",
     "text": [
      "Saving Zarr pairs:  94%|█████████▎| 30126/32143 [40:09<1:03:21,  1.88s/it]"
     ]
    },
    {
     "name": "stdout",
     "output_type": "stream",
     "text": [
      "[2025-04-17 04:34:54] Saved t_2024-04-23_1200_1300.zarr\n"
     ]
    },
    {
     "name": "stderr",
     "output_type": "stream",
     "text": [
      "Saving Zarr pairs:  94%|█████████▎| 30127/32143 [40:12<1:13:32,  2.19s/it]"
     ]
    },
    {
     "name": "stdout",
     "output_type": "stream",
     "text": [
      "[2025-04-17 04:34:58] Saved t_2024-04-23_1800_1900.zarr\n"
     ]
    },
    {
     "name": "stderr",
     "output_type": "stream",
     "text": [
      "Saving Zarr pairs:  94%|█████████▎| 30130/32143 [40:57<4:28:03,  7.99s/it]"
     ]
    },
    {
     "name": "stdout",
     "output_type": "stream",
     "text": [
      "[2025-04-17 04:35:43] Saved t_2024-04-24_0000_0100.zarr\n"
     ]
    },
    {
     "name": "stderr",
     "output_type": "stream",
     "text": [
      "Saving Zarr pairs:  94%|█████████▎| 30131/32143 [41:00<3:47:33,  6.79s/it]"
     ]
    },
    {
     "name": "stdout",
     "output_type": "stream",
     "text": [
      "[2025-04-17 04:35:46] Saved t_2024-04-24_0600_0700.zarr\n"
     ]
    },
    {
     "name": "stderr",
     "output_type": "stream",
     "text": [
      "Saving Zarr pairs:  94%|█████████▎| 30133/32143 [41:05<2:44:07,  4.90s/it]"
     ]
    },
    {
     "name": "stdout",
     "output_type": "stream",
     "text": [
      "[2025-04-17 04:35:50] Saved t_2024-04-24_1200_1300.zarr\n"
     ]
    },
    {
     "name": "stderr",
     "output_type": "stream",
     "text": [
      "Saving Zarr pairs:  94%|█████████▍| 30135/32143 [41:10<2:15:55,  4.06s/it]"
     ]
    },
    {
     "name": "stdout",
     "output_type": "stream",
     "text": [
      "[2025-04-17 04:35:55] Saved t_2024-04-24_1800_1900.zarr\n"
     ]
    },
    {
     "name": "stderr",
     "output_type": "stream",
     "text": [
      "Saving Zarr pairs:  94%|█████████▍| 30138/32143 [41:12<1:23:13,  2.49s/it]"
     ]
    },
    {
     "name": "stdout",
     "output_type": "stream",
     "text": [
      "[2025-04-17 04:35:58] Saved t_2024-04-25_0000_0100.zarr\n"
     ]
    },
    {
     "name": "stderr",
     "output_type": "stream",
     "text": [
      "Saving Zarr pairs:  94%|█████████▍| 30140/32143 [41:16<1:09:30,  2.08s/it]"
     ]
    },
    {
     "name": "stdout",
     "output_type": "stream",
     "text": [
      "[2025-04-17 04:36:01] Saved t_2024-04-25_0600_0700.zarr\n"
     ]
    },
    {
     "name": "stderr",
     "output_type": "stream",
     "text": [
      "Saving Zarr pairs:  94%|█████████▍| 30141/32143 [41:20<1:29:04,  2.67s/it]"
     ]
    },
    {
     "name": "stdout",
     "output_type": "stream",
     "text": [
      "[2025-04-17 04:36:06] Saved t_2024-04-25_1200_1300.zarr\n"
     ]
    },
    {
     "name": "stderr",
     "output_type": "stream",
     "text": [
      "Saving Zarr pairs:  94%|█████████▍| 30144/32143 [41:23<52:27,  1.57s/it]  "
     ]
    },
    {
     "name": "stdout",
     "output_type": "stream",
     "text": [
      "[2025-04-17 04:36:08] Saved t_2024-04-25_1800_1900.zarr\n"
     ]
    },
    {
     "name": "stderr",
     "output_type": "stream",
     "text": [
      "Saving Zarr pairs:  94%|█████████▍| 30146/32143 [42:06<4:56:47,  8.92s/it]"
     ]
    },
    {
     "name": "stdout",
     "output_type": "stream",
     "text": [
      "[2025-04-17 04:36:52] Saved t_2024-04-26_0000_0100.zarr\n"
     ]
    },
    {
     "name": "stderr",
     "output_type": "stream",
     "text": [
      "Saving Zarr pairs:  94%|█████████▍| 30147/32143 [42:09<4:01:52,  7.27s/it]"
     ]
    },
    {
     "name": "stdout",
     "output_type": "stream",
     "text": [
      "[2025-04-17 04:36:55] Saved t_2024-04-26_0600_0700.zarr\n"
     ]
    },
    {
     "name": "stderr",
     "output_type": "stream",
     "text": [
      "Saving Zarr pairs:  94%|█████████▍| 30149/32143 [42:13<2:45:34,  4.98s/it]"
     ]
    },
    {
     "name": "stdout",
     "output_type": "stream",
     "text": [
      "[2025-04-17 04:36:59] Saved t_2024-04-26_1200_1300.zarr\n"
     ]
    },
    {
     "name": "stderr",
     "output_type": "stream",
     "text": [
      "Saving Zarr pairs:  94%|█████████▍| 30152/32143 [42:18<1:45:23,  3.18s/it]"
     ]
    },
    {
     "name": "stdout",
     "output_type": "stream",
     "text": [
      "[2025-04-17 04:37:04] Saved t_2024-04-26_1800_1900.zarr\n"
     ]
    },
    {
     "name": "stderr",
     "output_type": "stream",
     "text": [
      "Saving Zarr pairs:  94%|█████████▍| 30153/32143 [42:21<1:41:17,  3.05s/it]"
     ]
    },
    {
     "name": "stdout",
     "output_type": "stream",
     "text": [
      "[2025-04-17 04:37:07] Saved t_2024-04-27_0000_0100.zarr\n"
     ]
    },
    {
     "name": "stderr",
     "output_type": "stream",
     "text": [
      "Saving Zarr pairs:  94%|█████████▍| 30155/32143 [42:24<1:23:34,  2.52s/it]"
     ]
    },
    {
     "name": "stdout",
     "output_type": "stream",
     "text": [
      "[2025-04-17 04:37:10] Saved t_2024-04-27_0600_0700.zarr\n"
     ]
    },
    {
     "name": "stderr",
     "output_type": "stream",
     "text": [
      "Saving Zarr pairs:  94%|█████████▍| 30158/32143 [42:30<1:08:48,  2.08s/it]"
     ]
    },
    {
     "name": "stdout",
     "output_type": "stream",
     "text": [
      "[2025-04-17 04:37:16] Saved t_2024-04-27_1200_1300.zarr\n"
     ]
    },
    {
     "name": "stderr",
     "output_type": "stream",
     "text": [
      "Saving Zarr pairs:  94%|█████████▍| 30159/32143 [42:31<1:02:13,  1.88s/it]"
     ]
    },
    {
     "name": "stdout",
     "output_type": "stream",
     "text": [
      "[2025-04-17 04:37:17] Saved t_2024-04-27_1800_1900.zarr\n"
     ]
    },
    {
     "name": "stderr",
     "output_type": "stream",
     "text": [
      "Saving Zarr pairs:  94%|█████████▍| 30162/32143 [43:16<4:23:55,  7.99s/it]"
     ]
    },
    {
     "name": "stdout",
     "output_type": "stream",
     "text": [
      "[2025-04-17 04:38:01] Saved t_2024-04-28_0000_0100.zarr\n"
     ]
    },
    {
     "name": "stderr",
     "output_type": "stream",
     "text": [
      "Saving Zarr pairs:  94%|█████████▍| 30164/32143 [43:19<2:43:52,  4.97s/it]"
     ]
    },
    {
     "name": "stdout",
     "output_type": "stream",
     "text": [
      "[2025-04-17 04:38:04] Saved t_2024-04-28_0600_0700.zarr\n"
     ]
    },
    {
     "name": "stderr",
     "output_type": "stream",
     "text": [
      "Saving Zarr pairs:  94%|█████████▍| 30166/32143 [43:23<1:52:17,  3.41s/it]"
     ]
    },
    {
     "name": "stdout",
     "output_type": "stream",
     "text": [
      "[2025-04-17 04:38:08] Saved t_2024-04-28_1200_1300.zarr\n"
     ]
    },
    {
     "name": "stderr",
     "output_type": "stream",
     "text": [
      "Saving Zarr pairs:  94%|█████████▍| 30167/32143 [43:28<2:05:54,  3.82s/it]"
     ]
    },
    {
     "name": "stdout",
     "output_type": "stream",
     "text": [
      "[2025-04-17 04:38:13] Saved t_2024-04-28_1800_1900.zarr\n"
     ]
    },
    {
     "name": "stderr",
     "output_type": "stream",
     "text": [
      "Saving Zarr pairs:  94%|█████████▍| 30170/32143 [43:31<1:14:23,  2.26s/it]"
     ]
    },
    {
     "name": "stdout",
     "output_type": "stream",
     "text": [
      "[2025-04-17 04:38:17] Saved t_2024-04-29_0000_0100.zarr\n"
     ]
    },
    {
     "name": "stderr",
     "output_type": "stream",
     "text": [
      "Saving Zarr pairs:  94%|█████████▍| 30171/32143 [43:35<1:27:40,  2.67s/it]"
     ]
    },
    {
     "name": "stdout",
     "output_type": "stream",
     "text": [
      "[2025-04-17 04:38:21] Saved t_2024-04-29_0600_0700.zarr\n"
     ]
    },
    {
     "name": "stderr",
     "output_type": "stream",
     "text": [
      "Saving Zarr pairs:  94%|█████████▍| 30174/32143 [43:40<1:07:20,  2.05s/it]"
     ]
    },
    {
     "name": "stdout",
     "output_type": "stream",
     "text": [
      "[2025-04-17 04:38:26] Saved t_2024-04-29_1200_1300.zarr\n"
     ]
    },
    {
     "name": "stderr",
     "output_type": "stream",
     "text": [
      "Saving Zarr pairs:  94%|█████████▍| 30175/32143 [43:43<1:07:51,  2.07s/it]"
     ]
    },
    {
     "name": "stdout",
     "output_type": "stream",
     "text": [
      "[2025-04-17 04:38:28] Saved t_2024-04-29_1800_1900.zarr\n"
     ]
    },
    {
     "name": "stderr",
     "output_type": "stream",
     "text": [
      "Saving Zarr pairs:  94%|█████████▍| 30177/32143 [44:26<5:38:15, 10.32s/it]"
     ]
    },
    {
     "name": "stdout",
     "output_type": "stream",
     "text": [
      "[2025-04-17 04:39:12] Saved t_2024-04-30_0000_0100.zarr\n"
     ]
    },
    {
     "name": "stderr",
     "output_type": "stream",
     "text": [
      "Saving Zarr pairs:  94%|█████████▍| 30179/32143 [44:30<3:50:56,  7.06s/it]"
     ]
    },
    {
     "name": "stdout",
     "output_type": "stream",
     "text": [
      "[2025-04-17 04:39:15] Saved t_2024-04-30_0600_0700.zarr\n"
     ]
    },
    {
     "name": "stderr",
     "output_type": "stream",
     "text": [
      "Saving Zarr pairs:  94%|█████████▍| 30181/32143 [44:34<2:55:26,  5.37s/it]"
     ]
    },
    {
     "name": "stdout",
     "output_type": "stream",
     "text": [
      "[2025-04-17 04:39:20] Saved t_2024-04-30_1200_1300.zarr\n"
     ]
    },
    {
     "name": "stderr",
     "output_type": "stream",
     "text": [
      "Saving Zarr pairs:  94%|█████████▍| 30183/32143 [44:38<2:21:34,  4.33s/it]"
     ]
    },
    {
     "name": "stdout",
     "output_type": "stream",
     "text": [
      "[2025-04-17 04:39:24] Saved t_2024-04-30_1800_1900.zarr\n"
     ]
    },
    {
     "name": "stderr",
     "output_type": "stream",
     "text": [
      "Saving Zarr pairs:  94%|█████████▍| 30185/32143 [44:43<2:00:51,  3.70s/it]"
     ]
    },
    {
     "name": "stdout",
     "output_type": "stream",
     "text": [
      "[2025-04-17 04:39:29] Saved t_2024-05-01_0600_0700.zarr\n",
      "[2025-04-17 04:39:29] Saved t_2024-05-01_0000_0100.zarr\n"
     ]
    },
    {
     "name": "stderr",
     "output_type": "stream",
     "text": [
      "Saving Zarr pairs:  94%|█████████▍| 30189/32143 [44:50<1:31:08,  2.80s/it]"
     ]
    },
    {
     "name": "stdout",
     "output_type": "stream",
     "text": [
      "[2025-04-17 04:39:36] Saved t_2024-05-01_1200_1300.zarr\n"
     ]
    },
    {
     "name": "stderr",
     "output_type": "stream",
     "text": [
      "Saving Zarr pairs:  94%|█████████▍| 30191/32143 [44:53<1:18:09,  2.40s/it]"
     ]
    },
    {
     "name": "stdout",
     "output_type": "stream",
     "text": [
      "[2025-04-17 04:39:39] Saved t_2024-05-01_1800_1900.zarr\n"
     ]
    },
    {
     "name": "stderr",
     "output_type": "stream",
     "text": [
      "Saving Zarr pairs:  94%|█████████▍| 30193/32143 [45:35<4:00:36,  7.40s/it]"
     ]
    },
    {
     "name": "stdout",
     "output_type": "stream",
     "text": [
      "[2025-04-17 04:40:21] Saved t_2024-05-02_0000_0100.zarr\n"
     ]
    },
    {
     "name": "stderr",
     "output_type": "stream",
     "text": [
      "Saving Zarr pairs:  94%|█████████▍| 30195/32143 [45:38<3:07:50,  5.79s/it]"
     ]
    },
    {
     "name": "stdout",
     "output_type": "stream",
     "text": [
      "[2025-04-17 04:40:24] Saved t_2024-05-02_0600_0700.zarr\n"
     ]
    },
    {
     "name": "stderr",
     "output_type": "stream",
     "text": [
      "Saving Zarr pairs:  94%|█████████▍| 30197/32143 [45:42<2:33:26,  4.73s/it]"
     ]
    },
    {
     "name": "stdout",
     "output_type": "stream",
     "text": [
      "[2025-04-17 04:40:28] Saved t_2024-05-02_1200_1300.zarr\n"
     ]
    },
    {
     "name": "stderr",
     "output_type": "stream",
     "text": [
      "Saving Zarr pairs:  94%|█████████▍| 30199/32143 [45:46<2:08:06,  3.95s/it]"
     ]
    },
    {
     "name": "stdout",
     "output_type": "stream",
     "text": [
      "[2025-04-17 04:40:32] Saved t_2024-05-02_1800_1900.zarr\n",
      "[2025-04-17 04:40:38] Saved t_2024-05-03_0600_0700.zarr\n"
     ]
    },
    {
     "name": "stderr",
     "output_type": "stream",
     "text": [
      "Saving Zarr pairs:  94%|█████████▍| 30201/32143 [45:54<2:08:15,  3.96s/it]"
     ]
    },
    {
     "name": "stdout",
     "output_type": "stream",
     "text": [
      "[2025-04-17 04:40:40] Saved t_2024-05-03_0000_0100.zarr\n"
     ]
    },
    {
     "name": "stderr",
     "output_type": "stream",
     "text": [
      "Saving Zarr pairs:  94%|█████████▍| 30205/32143 [46:00<1:30:11,  2.79s/it]"
     ]
    },
    {
     "name": "stdout",
     "output_type": "stream",
     "text": [
      "[2025-04-17 04:40:46] Saved t_2024-05-03_1200_1300.zarr\n"
     ]
    },
    {
     "name": "stderr",
     "output_type": "stream",
     "text": [
      "Saving Zarr pairs:  94%|█████████▍| 30207/32143 [46:02<1:17:03,  2.39s/it]"
     ]
    },
    {
     "name": "stdout",
     "output_type": "stream",
     "text": [
      "[2025-04-17 04:40:48] Saved t_2024-05-03_1800_1900.zarr\n"
     ]
    },
    {
     "name": "stderr",
     "output_type": "stream",
     "text": [
      "Saving Zarr pairs:  94%|█████████▍| 30210/32143 [46:44<3:17:06,  6.12s/it]"
     ]
    },
    {
     "name": "stdout",
     "output_type": "stream",
     "text": [
      "[2025-04-17 04:41:30] Saved t_2024-05-04_0000_0100.zarr\n"
     ]
    },
    {
     "name": "stderr",
     "output_type": "stream",
     "text": [
      "Saving Zarr pairs:  94%|█████████▍| 30212/32143 [46:47<2:21:01,  4.38s/it]"
     ]
    },
    {
     "name": "stdout",
     "output_type": "stream",
     "text": [
      "[2025-04-17 04:41:33] Saved t_2024-05-04_0600_0700.zarr\n"
     ]
    },
    {
     "name": "stderr",
     "output_type": "stream",
     "text": [
      "Saving Zarr pairs:  94%|█████████▍| 30213/32143 [46:52<2:23:10,  4.45s/it]"
     ]
    },
    {
     "name": "stdout",
     "output_type": "stream",
     "text": [
      "[2025-04-17 04:41:38] Saved t_2024-05-04_1200_1300.zarr\n"
     ]
    },
    {
     "name": "stderr",
     "output_type": "stream",
     "text": [
      "Saving Zarr pairs:  94%|█████████▍| 30215/32143 [46:56<1:51:39,  3.48s/it]"
     ]
    },
    {
     "name": "stdout",
     "output_type": "stream",
     "text": [
      "[2025-04-17 04:41:42] Saved t_2024-05-04_1800_1900.zarr\n"
     ]
    },
    {
     "name": "stderr",
     "output_type": "stream",
     "text": [
      "Saving Zarr pairs:  94%|█████████▍| 30217/32143 [47:06<2:07:03,  3.96s/it]"
     ]
    },
    {
     "name": "stdout",
     "output_type": "stream",
     "text": [
      "[2025-04-17 04:41:51] Saved t_2024-05-05_0000_0100.zarr\n"
     ]
    },
    {
     "name": "stderr",
     "output_type": "stream",
     "text": [
      "Saving Zarr pairs:  94%|█████████▍| 30219/32143 [47:08<1:36:52,  3.02s/it]"
     ]
    },
    {
     "name": "stdout",
     "output_type": "stream",
     "text": [
      "[2025-04-17 04:41:54] Saved t_2024-05-05_0600_0700.zarr\n"
     ]
    },
    {
     "name": "stderr",
     "output_type": "stream",
     "text": [
      "Saving Zarr pairs:  94%|█████████▍| 30221/32143 [47:11<1:21:43,  2.55s/it]"
     ]
    },
    {
     "name": "stdout",
     "output_type": "stream",
     "text": [
      "[2025-04-17 04:41:57] Saved t_2024-05-05_1200_1300.zarr\n"
     ]
    },
    {
     "name": "stderr",
     "output_type": "stream",
     "text": [
      "Saving Zarr pairs:  94%|█████████▍| 30224/32143 [47:15<1:01:42,  1.93s/it]"
     ]
    },
    {
     "name": "stdout",
     "output_type": "stream",
     "text": [
      "[2025-04-17 04:42:00] Saved t_2024-05-05_1800_1900.zarr\n"
     ]
    },
    {
     "name": "stderr",
     "output_type": "stream",
     "text": [
      "Saving Zarr pairs:  94%|█████████▍| 30225/32143 [47:54<5:12:39,  9.78s/it]"
     ]
    },
    {
     "name": "stdout",
     "output_type": "stream",
     "text": [
      "[2025-04-17 04:42:40] Saved t_2024-05-06_0000_0100.zarr\n"
     ]
    },
    {
     "name": "stderr",
     "output_type": "stream",
     "text": [
      "Saving Zarr pairs:  94%|█████████▍| 30227/32143 [47:57<3:33:03,  6.67s/it]"
     ]
    },
    {
     "name": "stdout",
     "output_type": "stream",
     "text": [
      "[2025-04-17 04:42:43] Saved t_2024-05-06_0600_0700.zarr\n"
     ]
    },
    {
     "name": "stderr",
     "output_type": "stream",
     "text": [
      "Saving Zarr pairs:  94%|█████████▍| 30229/32143 [48:02<2:41:23,  5.06s/it]"
     ]
    },
    {
     "name": "stdout",
     "output_type": "stream",
     "text": [
      "[2025-04-17 04:42:47] Saved t_2024-05-06_1200_1300.zarr\n"
     ]
    },
    {
     "name": "stderr",
     "output_type": "stream",
     "text": [
      "Saving Zarr pairs:  94%|█████████▍| 30232/32143 [48:05<1:44:06,  3.27s/it]"
     ]
    },
    {
     "name": "stdout",
     "output_type": "stream",
     "text": [
      "[2025-04-17 04:42:51] Saved t_2024-05-06_1800_1900.zarr\n"
     ]
    },
    {
     "name": "stderr",
     "output_type": "stream",
     "text": [
      "Saving Zarr pairs:  94%|█████████▍| 30234/32143 [48:14<1:49:47,  3.45s/it]"
     ]
    },
    {
     "name": "stdout",
     "output_type": "stream",
     "text": [
      "[2025-04-17 04:43:00] Saved t_2024-05-07_0000_0100.zarr\n"
     ]
    },
    {
     "name": "stderr",
     "output_type": "stream",
     "text": [
      "Saving Zarr pairs:  94%|█████████▍| 30235/32143 [48:17<1:41:52,  3.20s/it]"
     ]
    },
    {
     "name": "stdout",
     "output_type": "stream",
     "text": [
      "[2025-04-17 04:43:02] Saved t_2024-05-07_0600_0700.zarr\n"
     ]
    },
    {
     "name": "stderr",
     "output_type": "stream",
     "text": [
      "Saving Zarr pairs:  94%|█████████▍| 30237/32143 [48:20<1:21:32,  2.57s/it]"
     ]
    },
    {
     "name": "stdout",
     "output_type": "stream",
     "text": [
      "[2025-04-17 04:43:06] Saved t_2024-05-07_1200_1300.zarr\n"
     ]
    },
    {
     "name": "stderr",
     "output_type": "stream",
     "text": [
      "Saving Zarr pairs:  94%|█████████▍| 30240/32143 [48:25<1:01:56,  1.95s/it]"
     ]
    },
    {
     "name": "stdout",
     "output_type": "stream",
     "text": [
      "[2025-04-17 04:43:10] Saved t_2024-05-07_1800_1900.zarr\n"
     ]
    },
    {
     "name": "stderr",
     "output_type": "stream",
     "text": [
      "Saving Zarr pairs:  94%|█████████▍| 30241/32143 [49:04<5:31:55, 10.47s/it]"
     ]
    },
    {
     "name": "stdout",
     "output_type": "stream",
     "text": [
      "[2025-04-17 04:43:49] Saved t_2024-05-08_0000_0100.zarr\n"
     ]
    },
    {
     "name": "stderr",
     "output_type": "stream",
     "text": [
      "Saving Zarr pairs:  94%|█████████▍| 30243/32143 [49:07<3:38:47,  6.91s/it]"
     ]
    },
    {
     "name": "stdout",
     "output_type": "stream",
     "text": [
      "[2025-04-17 04:43:52] Saved t_2024-05-08_0600_0700.zarr\n"
     ]
    },
    {
     "name": "stderr",
     "output_type": "stream",
     "text": [
      "Saving Zarr pairs:  94%|█████████▍| 30245/32143 [49:11<2:46:36,  5.27s/it]"
     ]
    },
    {
     "name": "stdout",
     "output_type": "stream",
     "text": [
      "[2025-04-17 04:43:57] Saved t_2024-05-08_1200_1300.zarr\n"
     ]
    },
    {
     "name": "stderr",
     "output_type": "stream",
     "text": [
      "Saving Zarr pairs:  94%|█████████▍| 30247/32143 [49:15<2:08:39,  4.07s/it]"
     ]
    },
    {
     "name": "stdout",
     "output_type": "stream",
     "text": [
      "[2025-04-17 04:44:01] Saved t_2024-05-08_1800_1900.zarr\n"
     ]
    },
    {
     "name": "stderr",
     "output_type": "stream",
     "text": [
      "Saving Zarr pairs:  94%|█████████▍| 30249/32143 [49:24<2:11:48,  4.18s/it]"
     ]
    },
    {
     "name": "stdout",
     "output_type": "stream",
     "text": [
      "[2025-04-17 04:44:09] Saved t_2024-05-09_0000_0100.zarr\n"
     ]
    },
    {
     "name": "stderr",
     "output_type": "stream",
     "text": [
      "Saving Zarr pairs:  94%|█████████▍| 30251/32143 [49:26<1:42:53,  3.26s/it]"
     ]
    },
    {
     "name": "stdout",
     "output_type": "stream",
     "text": [
      "[2025-04-17 04:44:12] Saved t_2024-05-09_0600_0700.zarr\n"
     ]
    },
    {
     "name": "stderr",
     "output_type": "stream",
     "text": [
      "Saving Zarr pairs:  94%|█████████▍| 30254/32143 [49:30<1:11:32,  2.27s/it]"
     ]
    },
    {
     "name": "stdout",
     "output_type": "stream",
     "text": [
      "[2025-04-17 04:44:15] Saved t_2024-05-09_1200_1300.zarr\n"
     ]
    },
    {
     "name": "stderr",
     "output_type": "stream",
     "text": [
      "Saving Zarr pairs:  94%|█████████▍| 30255/32143 [49:34<1:22:28,  2.62s/it]"
     ]
    },
    {
     "name": "stdout",
     "output_type": "stream",
     "text": [
      "[2025-04-17 04:44:19] Saved t_2024-05-09_1800_1900.zarr\n"
     ]
    },
    {
     "name": "stderr",
     "output_type": "stream",
     "text": [
      "Saving Zarr pairs:  94%|█████████▍| 30258/32143 [50:15<3:51:08,  7.36s/it]"
     ]
    },
    {
     "name": "stdout",
     "output_type": "stream",
     "text": [
      "[2025-04-17 04:45:00] Saved t_2024-05-10_0000_0100.zarr\n"
     ]
    },
    {
     "name": "stderr",
     "output_type": "stream",
     "text": [
      "Saving Zarr pairs:  94%|█████████▍| 30260/32143 [50:18<2:29:50,  4.77s/it]"
     ]
    },
    {
     "name": "stdout",
     "output_type": "stream",
     "text": [
      "[2025-04-17 04:45:03] Saved t_2024-05-10_0600_0700.zarr\n"
     ]
    },
    {
     "name": "stderr",
     "output_type": "stream",
     "text": [
      "Saving Zarr pairs:  94%|█████████▍| 30261/32143 [50:21<2:20:32,  4.48s/it]"
     ]
    },
    {
     "name": "stdout",
     "output_type": "stream",
     "text": [
      "[2025-04-17 04:45:07] Saved t_2024-05-10_1200_1300.zarr\n"
     ]
    },
    {
     "name": "stderr",
     "output_type": "stream",
     "text": [
      "Saving Zarr pairs:  94%|█████████▍| 30263/32143 [50:26<1:52:09,  3.58s/it]"
     ]
    },
    {
     "name": "stdout",
     "output_type": "stream",
     "text": [
      "[2025-04-17 04:45:12] Saved t_2024-05-10_1800_1900.zarr\n"
     ]
    },
    {
     "name": "stderr",
     "output_type": "stream",
     "text": [
      "Saving Zarr pairs:  94%|█████████▍| 30265/32143 [50:34<1:56:08,  3.71s/it]"
     ]
    },
    {
     "name": "stdout",
     "output_type": "stream",
     "text": [
      "[2025-04-17 04:45:20] Saved t_2024-05-11_0000_0100.zarr\n"
     ]
    },
    {
     "name": "stderr",
     "output_type": "stream",
     "text": [
      "Saving Zarr pairs:  94%|█████████▍| 30268/32143 [50:38<1:18:12,  2.50s/it]"
     ]
    },
    {
     "name": "stdout",
     "output_type": "stream",
     "text": [
      "[2025-04-17 04:45:23] Saved t_2024-05-11_0600_0700.zarr\n"
     ]
    },
    {
     "name": "stderr",
     "output_type": "stream",
     "text": [
      "Saving Zarr pairs:  94%|█████████▍| 30269/32143 [50:41<1:21:48,  2.62s/it]"
     ]
    },
    {
     "name": "stdout",
     "output_type": "stream",
     "text": [
      "[2025-04-17 04:45:27] Saved t_2024-05-11_1200_1300.zarr\n"
     ]
    },
    {
     "name": "stderr",
     "output_type": "stream",
     "text": [
      "Saving Zarr pairs:  94%|█████████▍| 30272/32143 [50:45<56:48,  1.82s/it]  "
     ]
    },
    {
     "name": "stdout",
     "output_type": "stream",
     "text": [
      "[2025-04-17 04:45:30] Saved t_2024-05-11_1800_1900.zarr\n"
     ]
    },
    {
     "name": "stderr",
     "output_type": "stream",
     "text": [
      "Saving Zarr pairs:  94%|█████████▍| 30273/32143 [51:26<5:44:38, 11.06s/it]"
     ]
    },
    {
     "name": "stdout",
     "output_type": "stream",
     "text": [
      "[2025-04-17 04:46:11] Saved t_2024-05-12_0000_0100.zarr\n"
     ]
    },
    {
     "name": "stderr",
     "output_type": "stream",
     "text": [
      "Saving Zarr pairs:  94%|█████████▍| 30275/32143 [51:26<3:28:04,  6.68s/it]"
     ]
    },
    {
     "name": "stdout",
     "output_type": "stream",
     "text": [
      "[2025-04-17 04:46:12] Saved t_2024-05-12_0600_0700.zarr\n"
     ]
    },
    {
     "name": "stderr",
     "output_type": "stream",
     "text": [
      "Saving Zarr pairs:  94%|█████████▍| 30277/32143 [51:31<2:42:18,  5.22s/it]"
     ]
    },
    {
     "name": "stdout",
     "output_type": "stream",
     "text": [
      "[2025-04-17 04:46:17] Saved t_2024-05-12_1200_1300.zarr\n"
     ]
    },
    {
     "name": "stderr",
     "output_type": "stream",
     "text": [
      "Saving Zarr pairs:  94%|█████████▍| 30279/32143 [51:37<2:16:05,  4.38s/it]"
     ]
    },
    {
     "name": "stdout",
     "output_type": "stream",
     "text": [
      "[2025-04-17 04:46:23] Saved t_2024-05-12_1800_1900.zarr\n"
     ]
    },
    {
     "name": "stderr",
     "output_type": "stream",
     "text": [
      "Saving Zarr pairs:  94%|█████████▍| 30281/32143 [51:43<2:08:14,  4.13s/it]"
     ]
    },
    {
     "name": "stdout",
     "output_type": "stream",
     "text": [
      "[2025-04-17 04:46:29] Saved t_2024-05-13_0000_0100.zarr\n"
     ]
    },
    {
     "name": "stderr",
     "output_type": "stream",
     "text": [
      "Saving Zarr pairs:  94%|█████████▍| 30283/32143 [51:47<1:42:15,  3.30s/it]"
     ]
    },
    {
     "name": "stdout",
     "output_type": "stream",
     "text": [
      "[2025-04-17 04:46:33] Saved t_2024-05-13_0600_0700.zarr\n"
     ]
    },
    {
     "name": "stderr",
     "output_type": "stream",
     "text": [
      "Saving Zarr pairs:  94%|█████████▍| 30285/32143 [51:50<1:22:21,  2.66s/it]"
     ]
    },
    {
     "name": "stdout",
     "output_type": "stream",
     "text": [
      "[2025-04-17 04:46:36] Saved t_2024-05-13_1200_1300.zarr\n"
     ]
    },
    {
     "name": "stderr",
     "output_type": "stream",
     "text": [
      "Saving Zarr pairs:  94%|█████████▍| 30287/32143 [51:54<1:12:59,  2.36s/it]"
     ]
    },
    {
     "name": "stdout",
     "output_type": "stream",
     "text": [
      "[2025-04-17 04:46:39] Saved t_2024-05-13_1800_1900.zarr\n",
      "[2025-04-17 04:47:20] Saved t_2024-05-14_0600_0700.zarr\n"
     ]
    },
    {
     "name": "stderr",
     "output_type": "stream",
     "text": [
      "Saving Zarr pairs:  94%|█████████▍| 30289/32143 [52:35<4:16:43,  8.31s/it]"
     ]
    },
    {
     "name": "stdout",
     "output_type": "stream",
     "text": [
      "[2025-04-17 04:47:21] Saved t_2024-05-14_0000_0100.zarr\n"
     ]
    },
    {
     "name": "stderr",
     "output_type": "stream",
     "text": [
      "Saving Zarr pairs:  94%|█████████▍| 30294/32143 [52:41<1:56:27,  3.78s/it]"
     ]
    },
    {
     "name": "stdout",
     "output_type": "stream",
     "text": [
      "[2025-04-17 04:47:26] Saved t_2024-05-14_1200_1300.zarr\n"
     ]
    },
    {
     "name": "stderr",
     "output_type": "stream",
     "text": [
      "Saving Zarr pairs:  94%|█████████▍| 30295/32143 [52:48<2:15:18,  4.39s/it]"
     ]
    },
    {
     "name": "stdout",
     "output_type": "stream",
     "text": [
      "[2025-04-17 04:47:33] Saved t_2024-05-14_1800_1900.zarr\n"
     ]
    },
    {
     "name": "stderr",
     "output_type": "stream",
     "text": [
      "Saving Zarr pairs:  94%|█████████▍| 30297/32143 [52:52<1:52:05,  3.64s/it]"
     ]
    },
    {
     "name": "stdout",
     "output_type": "stream",
     "text": [
      "[2025-04-17 04:47:38] Saved t_2024-05-15_0000_0100.zarr\n"
     ]
    },
    {
     "name": "stderr",
     "output_type": "stream",
     "text": [
      "Saving Zarr pairs:  94%|█████████▍| 30300/32143 [52:58<1:22:44,  2.69s/it]"
     ]
    },
    {
     "name": "stdout",
     "output_type": "stream",
     "text": [
      "[2025-04-17 04:47:43] Saved t_2024-05-15_0600_0700.zarr\n"
     ]
    },
    {
     "name": "stderr",
     "output_type": "stream",
     "text": [
      "Saving Zarr pairs:  94%|█████████▍| 30301/32143 [53:01<1:23:40,  2.73s/it]"
     ]
    },
    {
     "name": "stdout",
     "output_type": "stream",
     "text": [
      "[2025-04-17 04:47:46] Saved t_2024-05-15_1200_1300.zarr\n"
     ]
    },
    {
     "name": "stderr",
     "output_type": "stream",
     "text": [
      "Saving Zarr pairs:  94%|█████████▍| 30303/32143 [53:03<1:07:36,  2.20s/it]"
     ]
    },
    {
     "name": "stdout",
     "output_type": "stream",
     "text": [
      "[2025-04-17 04:47:49] Saved t_2024-05-15_1800_1900.zarr\n",
      "[2025-04-17 04:48:30] Saved t_2024-05-16_0600_0700.zarr\n"
     ]
    },
    {
     "name": "stderr",
     "output_type": "stream",
     "text": [
      "Saving Zarr pairs:  94%|█████████▍| 30305/32143 [53:47<4:39:01,  9.11s/it]"
     ]
    },
    {
     "name": "stdout",
     "output_type": "stream",
     "text": [
      "[2025-04-17 04:48:32] Saved t_2024-05-16_0000_0100.zarr\n"
     ]
    },
    {
     "name": "stderr",
     "output_type": "stream",
     "text": [
      "Saving Zarr pairs:  94%|█████████▍| 30309/32143 [53:50<2:30:13,  4.91s/it]"
     ]
    },
    {
     "name": "stdout",
     "output_type": "stream",
     "text": [
      "[2025-04-17 04:48:36] Saved t_2024-05-16_1200_1300.zarr\n"
     ]
    },
    {
     "name": "stderr",
     "output_type": "stream",
     "text": [
      "Saving Zarr pairs:  94%|█████████▍| 30311/32143 [53:59<2:25:46,  4.77s/it]"
     ]
    },
    {
     "name": "stdout",
     "output_type": "stream",
     "text": [
      "[2025-04-17 04:48:44] Saved t_2024-05-16_1800_1900.zarr\n"
     ]
    },
    {
     "name": "stderr",
     "output_type": "stream",
     "text": [
      "Saving Zarr pairs:  94%|█████████▍| 30314/32143 [54:04<1:46:01,  3.48s/it]"
     ]
    },
    {
     "name": "stdout",
     "output_type": "stream",
     "text": [
      "[2025-04-17 04:48:49] Saved t_2024-05-17_0000_0100.zarr\n"
     ]
    },
    {
     "name": "stderr",
     "output_type": "stream",
     "text": [
      "Saving Zarr pairs:  94%|█████████▍| 30315/32143 [54:09<1:55:09,  3.78s/it]"
     ]
    },
    {
     "name": "stdout",
     "output_type": "stream",
     "text": [
      "[2025-04-17 04:48:54] Saved t_2024-05-17_0600_0700.zarr\n"
     ]
    },
    {
     "name": "stderr",
     "output_type": "stream",
     "text": [
      "Saving Zarr pairs:  94%|█████████▍| 30317/32143 [54:12<1:29:18,  2.93s/it]"
     ]
    },
    {
     "name": "stdout",
     "output_type": "stream",
     "text": [
      "[2025-04-17 04:48:57] Saved t_2024-05-17_1200_1300.zarr\n"
     ]
    },
    {
     "name": "stderr",
     "output_type": "stream",
     "text": [
      "Saving Zarr pairs:  94%|█████████▍| 30319/32143 [54:14<1:12:44,  2.39s/it]"
     ]
    },
    {
     "name": "stdout",
     "output_type": "stream",
     "text": [
      "[2025-04-17 04:49:00] Saved t_2024-05-17_1800_1900.zarr\n"
     ]
    },
    {
     "name": "stderr",
     "output_type": "stream",
     "text": [
      "Saving Zarr pairs:  94%|█████████▍| 30321/32143 [54:54<4:03:12,  8.01s/it]"
     ]
    },
    {
     "name": "stdout",
     "output_type": "stream",
     "text": [
      "[2025-04-17 04:49:39] Saved t_2024-05-18_0000_0100.zarr\n"
     ]
    },
    {
     "name": "stderr",
     "output_type": "stream",
     "text": [
      "Saving Zarr pairs:  94%|█████████▍| 30323/32143 [54:57<3:00:06,  5.94s/it]"
     ]
    },
    {
     "name": "stdout",
     "output_type": "stream",
     "text": [
      "[2025-04-17 04:49:42] Saved t_2024-05-18_0600_0700.zarr\n"
     ]
    },
    {
     "name": "stderr",
     "output_type": "stream",
     "text": [
      "Saving Zarr pairs:  94%|█████████▍| 30325/32143 [54:59<2:17:28,  4.54s/it]"
     ]
    },
    {
     "name": "stdout",
     "output_type": "stream",
     "text": [
      "[2025-04-17 04:49:45] Saved t_2024-05-18_1200_1300.zarr\n"
     ]
    },
    {
     "name": "stderr",
     "output_type": "stream",
     "text": [
      "Saving Zarr pairs:  94%|█████████▍| 30328/32143 [55:08<1:51:45,  3.69s/it]"
     ]
    },
    {
     "name": "stdout",
     "output_type": "stream",
     "text": [
      "[2025-04-17 04:49:54] Saved t_2024-05-18_1800_1900.zarr\n"
     ]
    },
    {
     "name": "stderr",
     "output_type": "stream",
     "text": [
      "Saving Zarr pairs:  94%|█████████▍| 30329/32143 [55:13<1:55:31,  3.82s/it]"
     ]
    },
    {
     "name": "stdout",
     "output_type": "stream",
     "text": [
      "[2025-04-17 04:49:58] Saved t_2024-05-19_0000_0100.zarr\n"
     ]
    },
    {
     "name": "stderr",
     "output_type": "stream",
     "text": [
      "Saving Zarr pairs:  94%|█████████▍| 30332/32143 [55:18<1:21:14,  2.69s/it]"
     ]
    },
    {
     "name": "stdout",
     "output_type": "stream",
     "text": [
      "[2025-04-17 04:50:03] Saved t_2024-05-19_0600_0700.zarr\n"
     ]
    },
    {
     "name": "stderr",
     "output_type": "stream",
     "text": [
      "Saving Zarr pairs:  94%|█████████▍| 30333/32143 [55:22<1:28:26,  2.93s/it]"
     ]
    },
    {
     "name": "stdout",
     "output_type": "stream",
     "text": [
      "[2025-04-17 04:50:07] Saved t_2024-05-19_1200_1300.zarr\n"
     ]
    },
    {
     "name": "stderr",
     "output_type": "stream",
     "text": [
      "Saving Zarr pairs:  94%|█████████▍| 30335/32143 [55:24<1:07:18,  2.23s/it]"
     ]
    },
    {
     "name": "stdout",
     "output_type": "stream",
     "text": [
      "[2025-04-17 04:50:10] Saved t_2024-05-19_1800_1900.zarr\n"
     ]
    },
    {
     "name": "stderr",
     "output_type": "stream",
     "text": [
      "Saving Zarr pairs:  94%|█████████▍| 30337/32143 [56:03<4:17:00,  8.54s/it]"
     ]
    },
    {
     "name": "stdout",
     "output_type": "stream",
     "text": [
      "[2025-04-17 04:50:49] Saved t_2024-05-20_0000_0100.zarr\n"
     ]
    },
    {
     "name": "stderr",
     "output_type": "stream",
     "text": [
      "Saving Zarr pairs:  94%|█████████▍| 30339/32143 [56:06<3:04:10,  6.13s/it]"
     ]
    },
    {
     "name": "stdout",
     "output_type": "stream",
     "text": [
      "[2025-04-17 04:50:52] Saved t_2024-05-20_0600_0700.zarr\n"
     ]
    },
    {
     "name": "stderr",
     "output_type": "stream",
     "text": [
      "Saving Zarr pairs:  94%|█████████▍| 30341/32143 [56:10<2:21:01,  4.70s/it]"
     ]
    },
    {
     "name": "stdout",
     "output_type": "stream",
     "text": [
      "[2025-04-17 04:50:55] Saved t_2024-05-20_1200_1300.zarr\n"
     ]
    },
    {
     "name": "stderr",
     "output_type": "stream",
     "text": [
      "Saving Zarr pairs:  94%|█████████▍| 30343/32143 [56:18<2:15:40,  4.52s/it]"
     ]
    },
    {
     "name": "stdout",
     "output_type": "stream",
     "text": [
      "[2025-04-17 04:51:04] Saved t_2024-05-20_1800_1900.zarr\n"
     ]
    },
    {
     "name": "stderr",
     "output_type": "stream",
     "text": [
      "Saving Zarr pairs:  94%|█████████▍| 30346/32143 [56:22<1:32:38,  3.09s/it]"
     ]
    },
    {
     "name": "stdout",
     "output_type": "stream",
     "text": [
      "[2025-04-17 04:51:08] Saved t_2024-05-21_0000_0100.zarr\n"
     ]
    },
    {
     "name": "stderr",
     "output_type": "stream",
     "text": [
      "Saving Zarr pairs:  94%|█████████▍| 30347/32143 [56:29<1:53:28,  3.79s/it]"
     ]
    },
    {
     "name": "stdout",
     "output_type": "stream",
     "text": [
      "[2025-04-17 04:51:14] Saved t_2024-05-21_0600_0700.zarr\n",
      "[2025-04-17 04:51:18] Saved t_2024-05-21_1800_1900.zarr\n"
     ]
    },
    {
     "name": "stderr",
     "output_type": "stream",
     "text": [
      "Saving Zarr pairs:  94%|█████████▍| 30350/32143 [56:36<1:28:00,  2.95s/it]"
     ]
    },
    {
     "name": "stdout",
     "output_type": "stream",
     "text": [
      "[2025-04-17 04:51:21] Saved t_2024-05-21_1200_1300.zarr\n"
     ]
    },
    {
     "name": "stderr",
     "output_type": "stream",
     "text": [
      "Saving Zarr pairs:  94%|█████████▍| 30353/32143 [57:13<3:42:57,  7.47s/it]"
     ]
    },
    {
     "name": "stdout",
     "output_type": "stream",
     "text": [
      "[2025-04-17 04:51:59] Saved t_2024-05-22_0000_0100.zarr\n"
     ]
    },
    {
     "name": "stderr",
     "output_type": "stream",
     "text": [
      "Saving Zarr pairs:  94%|█████████▍| 30355/32143 [57:18<2:55:47,  5.90s/it]"
     ]
    },
    {
     "name": "stdout",
     "output_type": "stream",
     "text": [
      "[2025-04-17 04:52:04] Saved t_2024-05-22_0600_0700.zarr\n"
     ]
    },
    {
     "name": "stderr",
     "output_type": "stream",
     "text": [
      "Saving Zarr pairs:  94%|█████████▍| 30357/32143 [57:21<2:14:50,  4.53s/it]"
     ]
    },
    {
     "name": "stdout",
     "output_type": "stream",
     "text": [
      "[2025-04-17 04:52:07] Saved t_2024-05-22_1200_1300.zarr\n"
     ]
    },
    {
     "name": "stderr",
     "output_type": "stream",
     "text": [
      "Saving Zarr pairs:  94%|█████████▍| 30359/32143 [57:26<1:57:42,  3.96s/it]"
     ]
    },
    {
     "name": "stdout",
     "output_type": "stream",
     "text": [
      "[2025-04-17 04:52:12] Saved t_2024-05-22_1800_1900.zarr\n"
     ]
    },
    {
     "name": "stderr",
     "output_type": "stream",
     "text": [
      "Saving Zarr pairs:  94%|█████████▍| 30361/32143 [57:31<1:44:21,  3.51s/it]"
     ]
    },
    {
     "name": "stdout",
     "output_type": "stream",
     "text": [
      "[2025-04-17 04:52:17] Saved t_2024-05-23_0000_0100.zarr\n"
     ]
    },
    {
     "name": "stderr",
     "output_type": "stream",
     "text": [
      "Saving Zarr pairs:  94%|█████████▍| 30363/32143 [57:41<1:55:30,  3.89s/it]"
     ]
    },
    {
     "name": "stdout",
     "output_type": "stream",
     "text": [
      "[2025-04-17 04:52:27] Saved t_2024-05-23_0600_0700.zarr\n"
     ]
    },
    {
     "name": "stderr",
     "output_type": "stream",
     "text": [
      "Saving Zarr pairs:  94%|█████████▍| 30365/32143 [57:44<1:33:06,  3.14s/it]"
     ]
    },
    {
     "name": "stdout",
     "output_type": "stream",
     "text": [
      "[2025-04-17 04:52:29] Saved t_2024-05-23_1200_1300.zarr\n"
     ]
    },
    {
     "name": "stderr",
     "output_type": "stream",
     "text": [
      "Saving Zarr pairs:  94%|█████████▍| 30367/32143 [57:46<1:15:29,  2.55s/it]"
     ]
    },
    {
     "name": "stdout",
     "output_type": "stream",
     "text": [
      "[2025-04-17 04:52:32] Saved t_2024-05-23_1800_1900.zarr\n"
     ]
    },
    {
     "name": "stderr",
     "output_type": "stream",
     "text": [
      "Saving Zarr pairs:  94%|█████████▍| 30369/32143 [58:23<3:38:19,  7.38s/it]"
     ]
    },
    {
     "name": "stdout",
     "output_type": "stream",
     "text": [
      "[2025-04-17 04:53:09] Saved t_2024-05-24_0000_0100.zarr\n"
     ]
    },
    {
     "name": "stderr",
     "output_type": "stream",
     "text": [
      "Saving Zarr pairs:  94%|█████████▍| 30372/32143 [58:27<2:19:45,  4.73s/it]"
     ]
    },
    {
     "name": "stdout",
     "output_type": "stream",
     "text": [
      "[2025-04-17 04:53:13] Saved t_2024-05-24_0600_0700.zarr\n"
     ]
    },
    {
     "name": "stderr",
     "output_type": "stream",
     "text": [
      "Saving Zarr pairs:  94%|█████████▍| 30373/32143 [58:30<2:07:12,  4.31s/it]"
     ]
    },
    {
     "name": "stdout",
     "output_type": "stream",
     "text": [
      "[2025-04-17 04:53:15] Saved t_2024-05-24_1200_1300.zarr\n"
     ]
    },
    {
     "name": "stderr",
     "output_type": "stream",
     "text": [
      "Saving Zarr pairs:  94%|█████████▍| 30375/32143 [58:34<1:44:21,  3.54s/it]"
     ]
    },
    {
     "name": "stdout",
     "output_type": "stream",
     "text": [
      "[2025-04-17 04:53:20] Saved t_2024-05-24_1800_1900.zarr\n"
     ]
    },
    {
     "name": "stderr",
     "output_type": "stream",
     "text": [
      "Saving Zarr pairs:  95%|█████████▍| 30378/32143 [58:42<1:26:37,  2.94s/it]"
     ]
    },
    {
     "name": "stdout",
     "output_type": "stream",
     "text": [
      "[2025-04-17 04:53:27] Saved t_2024-05-25_0000_0100.zarr\n"
     ]
    },
    {
     "name": "stderr",
     "output_type": "stream",
     "text": [
      "Saving Zarr pairs:  95%|█████████▍| 30379/32143 [58:49<1:55:12,  3.92s/it]"
     ]
    },
    {
     "name": "stdout",
     "output_type": "stream",
     "text": [
      "[2025-04-17 04:53:35] Saved t_2024-05-25_0600_0700.zarr\n",
      "[2025-04-17 04:53:38] Saved t_2024-05-25_1800_1900.zarr\n"
     ]
    },
    {
     "name": "stderr",
     "output_type": "stream",
     "text": [
      "Saving Zarr pairs:  95%|█████████▍| 30381/32143 [58:55<1:43:56,  3.54s/it]"
     ]
    },
    {
     "name": "stdout",
     "output_type": "stream",
     "text": [
      "[2025-04-17 04:53:41] Saved t_2024-05-25_1200_1300.zarr\n"
     ]
    },
    {
     "name": "stderr",
     "output_type": "stream",
     "text": [
      "Saving Zarr pairs:  95%|█████████▍| 30385/32143 [59:34<3:16:49,  6.72s/it]"
     ]
    },
    {
     "name": "stdout",
     "output_type": "stream",
     "text": [
      "[2025-04-17 04:54:19] Saved t_2024-05-26_0000_0100.zarr\n"
     ]
    },
    {
     "name": "stderr",
     "output_type": "stream",
     "text": [
      "Saving Zarr pairs:  95%|█████████▍| 30388/32143 [59:37<2:11:13,  4.49s/it]"
     ]
    },
    {
     "name": "stdout",
     "output_type": "stream",
     "text": [
      "[2025-04-17 04:54:23] Saved t_2024-05-26_0600_0700.zarr\n"
     ]
    },
    {
     "name": "stderr",
     "output_type": "stream",
     "text": [
      "Saving Zarr pairs:  95%|█████████▍| 30389/32143 [59:40<1:59:48,  4.10s/it]"
     ]
    },
    {
     "name": "stdout",
     "output_type": "stream",
     "text": [
      "[2025-04-17 04:54:25] Saved t_2024-05-26_1200_1300.zarr\n"
     ]
    },
    {
     "name": "stderr",
     "output_type": "stream",
     "text": [
      "Saving Zarr pairs:  95%|█████████▍| 30391/32143 [59:43<1:37:48,  3.35s/it]"
     ]
    },
    {
     "name": "stdout",
     "output_type": "stream",
     "text": [
      "[2025-04-17 04:54:29] Saved t_2024-05-26_1800_1900.zarr\n"
     ]
    },
    {
     "name": "stderr",
     "output_type": "stream",
     "text": [
      "Saving Zarr pairs:  95%|█████████▍| 30393/32143 [59:52<1:54:04,  3.91s/it]"
     ]
    },
    {
     "name": "stdout",
     "output_type": "stream",
     "text": [
      "[2025-04-17 04:54:38] Saved t_2024-05-27_0000_0100.zarr\n"
     ]
    },
    {
     "name": "stderr",
     "output_type": "stream",
     "text": [
      "Saving Zarr pairs:  95%|█████████▍| 30395/32143 [1:00:00<1:57:25,  4.03s/it]"
     ]
    },
    {
     "name": "stdout",
     "output_type": "stream",
     "text": [
      "[2025-04-17 04:54:46] Saved t_2024-05-27_0600_0700.zarr\n"
     ]
    },
    {
     "name": "stderr",
     "output_type": "stream",
     "text": [
      "Saving Zarr pairs:  95%|█████████▍| 30397/32143 [1:00:04<1:31:17,  3.14s/it]"
     ]
    },
    {
     "name": "stdout",
     "output_type": "stream",
     "text": [
      "[2025-04-17 04:54:49] Saved t_2024-05-27_1200_1300.zarr\n"
     ]
    },
    {
     "name": "stderr",
     "output_type": "stream",
     "text": [
      "Saving Zarr pairs:  95%|█████████▍| 30399/32143 [1:00:07<1:16:11,  2.62s/it]"
     ]
    },
    {
     "name": "stdout",
     "output_type": "stream",
     "text": [
      "[2025-04-17 04:54:52] Saved t_2024-05-27_1800_1900.zarr\n"
     ]
    },
    {
     "name": "stderr",
     "output_type": "stream",
     "text": [
      "Saving Zarr pairs:  95%|█████████▍| 30401/32143 [1:00:45<3:51:35,  7.98s/it]"
     ]
    },
    {
     "name": "stdout",
     "output_type": "stream",
     "text": [
      "[2025-04-17 04:55:30] Saved t_2024-05-28_0000_0100.zarr\n"
     ]
    },
    {
     "name": "stderr",
     "output_type": "stream",
     "text": [
      "Saving Zarr pairs:  95%|█████████▍| 30404/32143 [1:00:48<2:20:07,  4.83s/it]"
     ]
    },
    {
     "name": "stdout",
     "output_type": "stream",
     "text": [
      "[2025-04-17 04:55:33] Saved t_2024-05-28_0600_0700.zarr\n"
     ]
    },
    {
     "name": "stderr",
     "output_type": "stream",
     "text": [
      "Saving Zarr pairs:  95%|█████████▍| 30406/32143 [1:00:51<1:38:00,  3.39s/it]"
     ]
    },
    {
     "name": "stdout",
     "output_type": "stream",
     "text": [
      "[2025-04-17 04:55:36] Saved t_2024-05-28_1200_1300.zarr\n"
     ]
    },
    {
     "name": "stderr",
     "output_type": "stream",
     "text": [
      "Saving Zarr pairs:  95%|█████████▍| 30408/32143 [1:00:55<1:16:54,  2.66s/it]"
     ]
    },
    {
     "name": "stdout",
     "output_type": "stream",
     "text": [
      "[2025-04-17 04:55:40] Saved t_2024-05-28_1800_1900.zarr\n"
     ]
    },
    {
     "name": "stderr",
     "output_type": "stream",
     "text": [
      "Saving Zarr pairs:  95%|█████████▍| 30409/32143 [1:01:02<1:55:32,  4.00s/it]"
     ]
    },
    {
     "name": "stdout",
     "output_type": "stream",
     "text": [
      "[2025-04-17 04:55:48] Saved t_2024-05-29_0000_0100.zarr\n"
     ]
    },
    {
     "name": "stderr",
     "output_type": "stream",
     "text": [
      "Saving Zarr pairs:  95%|█████████▍| 30411/32143 [1:01:10<1:52:02,  3.88s/it]"
     ]
    },
    {
     "name": "stdout",
     "output_type": "stream",
     "text": [
      "[2025-04-17 04:55:55] Saved t_2024-05-29_0600_0700.zarr\n"
     ]
    },
    {
     "name": "stderr",
     "output_type": "stream",
     "text": [
      "Saving Zarr pairs:  95%|█████████▍| 30413/32143 [1:01:13<1:26:22,  3.00s/it]"
     ]
    },
    {
     "name": "stdout",
     "output_type": "stream",
     "text": [
      "[2025-04-17 04:55:59] Saved t_2024-05-29_1200_1300.zarr\n"
     ]
    },
    {
     "name": "stderr",
     "output_type": "stream",
     "text": [
      "Saving Zarr pairs:  95%|█████████▍| 30415/32143 [1:01:16<1:13:52,  2.57s/it]"
     ]
    },
    {
     "name": "stdout",
     "output_type": "stream",
     "text": [
      "[2025-04-17 04:56:02] Saved t_2024-05-29_1800_1900.zarr\n"
     ]
    },
    {
     "name": "stderr",
     "output_type": "stream",
     "text": [
      "Saving Zarr pairs:  95%|█████████▍| 30417/32143 [1:01:55<3:56:24,  8.22s/it]"
     ]
    },
    {
     "name": "stdout",
     "output_type": "stream",
     "text": [
      "[2025-04-17 04:56:41] Saved t_2024-05-30_0000_0100.zarr\n"
     ]
    },
    {
     "name": "stderr",
     "output_type": "stream",
     "text": [
      "Saving Zarr pairs:  95%|█████████▍| 30419/32143 [1:01:58<2:52:01,  5.99s/it]"
     ]
    },
    {
     "name": "stdout",
     "output_type": "stream",
     "text": [
      "[2025-04-17 04:56:44] Saved t_2024-05-30_0600_0700.zarr\n"
     ]
    },
    {
     "name": "stderr",
     "output_type": "stream",
     "text": [
      "Saving Zarr pairs:  95%|█████████▍| 30421/32143 [1:02:01<2:09:50,  4.52s/it]"
     ]
    },
    {
     "name": "stdout",
     "output_type": "stream",
     "text": [
      "[2025-04-17 04:56:46] Saved t_2024-05-30_1200_1300.zarr\n"
     ]
    },
    {
     "name": "stderr",
     "output_type": "stream",
     "text": [
      "Saving Zarr pairs:  95%|█████████▍| 30423/32143 [1:02:04<1:45:20,  3.67s/it]"
     ]
    },
    {
     "name": "stdout",
     "output_type": "stream",
     "text": [
      "[2025-04-17 04:56:50] Saved t_2024-05-30_1800_1900.zarr\n"
     ]
    },
    {
     "name": "stderr",
     "output_type": "stream",
     "text": [
      "Saving Zarr pairs:  95%|█████████▍| 30425/32143 [1:02:12<1:44:51,  3.66s/it]"
     ]
    },
    {
     "name": "stdout",
     "output_type": "stream",
     "text": [
      "[2025-04-17 04:56:57] Saved t_2024-05-31_0000_0100.zarr\n"
     ]
    },
    {
     "name": "stderr",
     "output_type": "stream",
     "text": [
      "Saving Zarr pairs:  95%|█████████▍| 30427/32143 [1:02:19<1:47:15,  3.75s/it]"
     ]
    },
    {
     "name": "stdout",
     "output_type": "stream",
     "text": [
      "[2025-04-17 04:57:05] Saved t_2024-05-31_0600_0700.zarr\n"
     ]
    },
    {
     "name": "stderr",
     "output_type": "stream",
     "text": [
      "Saving Zarr pairs:  95%|█████████▍| 30430/32143 [1:02:23<1:13:29,  2.57s/it]"
     ]
    },
    {
     "name": "stdout",
     "output_type": "stream",
     "text": [
      "[2025-04-17 04:57:08] Saved t_2024-05-31_1200_1300.zarr\n"
     ]
    },
    {
     "name": "stderr",
     "output_type": "stream",
     "text": [
      "Saving Zarr pairs:  95%|█████████▍| 30432/32143 [1:02:28<1:06:50,  2.34s/it]"
     ]
    },
    {
     "name": "stdout",
     "output_type": "stream",
     "text": [
      "[2025-04-17 04:57:13] Saved t_2024-05-31_1800_1900.zarr\n"
     ]
    },
    {
     "name": "stderr",
     "output_type": "stream",
     "text": [
      "Saving Zarr pairs:  95%|█████████▍| 30433/32143 [1:03:05<5:09:33, 10.86s/it]"
     ]
    },
    {
     "name": "stdout",
     "output_type": "stream",
     "text": [
      "[2025-04-17 04:57:51] Saved t_2024-06-01_0000_0100.zarr\n"
     ]
    },
    {
     "name": "stderr",
     "output_type": "stream",
     "text": [
      "Saving Zarr pairs:  95%|█████████▍| 30436/32143 [1:03:09<2:38:17,  5.56s/it]"
     ]
    },
    {
     "name": "stdout",
     "output_type": "stream",
     "text": [
      "[2025-04-17 04:57:54] Saved t_2024-06-01_0600_0700.zarr\n"
     ]
    },
    {
     "name": "stderr",
     "output_type": "stream",
     "text": [
      "Saving Zarr pairs:  95%|█████████▍| 30438/32143 [1:03:12<1:44:18,  3.67s/it]"
     ]
    },
    {
     "name": "stdout",
     "output_type": "stream",
     "text": [
      "[2025-04-17 04:57:57] Saved t_2024-06-01_1200_1300.zarr\n"
     ]
    },
    {
     "name": "stderr",
     "output_type": "stream",
     "text": [
      "Saving Zarr pairs:  95%|█████████▍| 30440/32143 [1:03:16<1:20:17,  2.83s/it]"
     ]
    },
    {
     "name": "stdout",
     "output_type": "stream",
     "text": [
      "[2025-04-17 04:58:02] Saved t_2024-06-01_1800_1900.zarr\n"
     ]
    },
    {
     "name": "stderr",
     "output_type": "stream",
     "text": [
      "Saving Zarr pairs:  95%|█████████▍| 30441/32143 [1:03:22<1:47:35,  3.79s/it]"
     ]
    },
    {
     "name": "stdout",
     "output_type": "stream",
     "text": [
      "[2025-04-17 04:58:08] Saved t_2024-06-02_0000_0100.zarr\n"
     ]
    },
    {
     "name": "stderr",
     "output_type": "stream",
     "text": [
      "Saving Zarr pairs:  95%|█████████▍| 30444/32143 [1:03:31<1:26:10,  3.04s/it]"
     ]
    },
    {
     "name": "stdout",
     "output_type": "stream",
     "text": [
      "[2025-04-17 04:58:16] Saved t_2024-06-02_0600_0700.zarr\n"
     ]
    },
    {
     "name": "stderr",
     "output_type": "stream",
     "text": [
      "Saving Zarr pairs:  95%|█████████▍| 30446/32143 [1:03:34<1:03:28,  2.24s/it]"
     ]
    },
    {
     "name": "stdout",
     "output_type": "stream",
     "text": [
      "[2025-04-17 04:58:19] Saved t_2024-06-02_1200_1300.zarr\n"
     ]
    },
    {
     "name": "stderr",
     "output_type": "stream",
     "text": [
      "Saving Zarr pairs:  95%|█████████▍| 30447/32143 [1:03:38<1:17:37,  2.75s/it]"
     ]
    },
    {
     "name": "stdout",
     "output_type": "stream",
     "text": [
      "[2025-04-17 04:58:24] Saved t_2024-06-02_1800_1900.zarr\n"
     ]
    },
    {
     "name": "stderr",
     "output_type": "stream",
     "text": [
      "Saving Zarr pairs:  95%|█████████▍| 30449/32143 [1:04:15<4:32:16,  9.64s/it]"
     ]
    },
    {
     "name": "stdout",
     "output_type": "stream",
     "text": [
      "[2025-04-17 04:59:00] Saved t_2024-06-03_0000_0100.zarr\n"
     ]
    },
    {
     "name": "stderr",
     "output_type": "stream",
     "text": [
      "Saving Zarr pairs:  95%|█████████▍| 30451/32143 [1:04:18<3:05:05,  6.56s/it]"
     ]
    },
    {
     "name": "stdout",
     "output_type": "stream",
     "text": [
      "[2025-04-17 04:59:04] Saved t_2024-06-03_0600_0700.zarr\n"
     ]
    },
    {
     "name": "stderr",
     "output_type": "stream",
     "text": [
      "Saving Zarr pairs:  95%|█████████▍| 30453/32143 [1:04:22<2:18:40,  4.92s/it]"
     ]
    },
    {
     "name": "stdout",
     "output_type": "stream",
     "text": [
      "[2025-04-17 04:59:08] Saved t_2024-06-03_1200_1300.zarr\n"
     ]
    },
    {
     "name": "stderr",
     "output_type": "stream",
     "text": [
      "Saving Zarr pairs:  95%|█████████▍| 30455/32143 [1:04:26<1:48:52,  3.87s/it]"
     ]
    },
    {
     "name": "stdout",
     "output_type": "stream",
     "text": [
      "[2025-04-17 04:59:11] Saved t_2024-06-03_1800_1900.zarr\n"
     ]
    },
    {
     "name": "stderr",
     "output_type": "stream",
     "text": [
      "Saving Zarr pairs:  95%|█████████▍| 30457/32143 [1:04:32<1:41:28,  3.61s/it]"
     ]
    },
    {
     "name": "stdout",
     "output_type": "stream",
     "text": [
      "[2025-04-17 04:59:17] Saved t_2024-06-04_0000_0100.zarr\n",
      "[2025-04-17 04:59:27] Saved t_2024-06-04_1200_1300.zarr\n"
     ]
    },
    {
     "name": "stderr",
     "output_type": "stream",
     "text": [
      "Saving Zarr pairs:  95%|█████████▍| 30459/32143 [1:04:43<1:59:21,  4.25s/it]"
     ]
    },
    {
     "name": "stdout",
     "output_type": "stream",
     "text": [
      "[2025-04-17 04:59:29] Saved t_2024-06-04_0600_0700.zarr\n"
     ]
    },
    {
     "name": "stderr",
     "output_type": "stream",
     "text": [
      "Saving Zarr pairs:  95%|█████████▍| 30463/32143 [1:04:47<1:16:14,  2.72s/it]"
     ]
    },
    {
     "name": "stdout",
     "output_type": "stream",
     "text": [
      "[2025-04-17 04:59:33] Saved t_2024-06-04_1800_1900.zarr\n"
     ]
    },
    {
     "name": "stderr",
     "output_type": "stream",
     "text": [
      "Saving Zarr pairs:  95%|█████████▍| 30465/32143 [1:05:25<3:11:37,  6.85s/it]"
     ]
    },
    {
     "name": "stdout",
     "output_type": "stream",
     "text": [
      "[2025-04-17 05:00:11] Saved t_2024-06-05_0000_0100.zarr\n"
     ]
    },
    {
     "name": "stderr",
     "output_type": "stream",
     "text": [
      "Saving Zarr pairs:  95%|█████████▍| 30467/32143 [1:05:28<2:30:41,  5.39s/it]"
     ]
    },
    {
     "name": "stdout",
     "output_type": "stream",
     "text": [
      "[2025-04-17 05:00:14] Saved t_2024-06-05_0600_0700.zarr\n"
     ]
    },
    {
     "name": "stderr",
     "output_type": "stream",
     "text": [
      "Saving Zarr pairs:  95%|█████████▍| 30469/32143 [1:05:32<2:03:16,  4.42s/it]"
     ]
    },
    {
     "name": "stdout",
     "output_type": "stream",
     "text": [
      "[2025-04-17 05:00:17] Saved t_2024-06-05_1200_1300.zarr\n"
     ]
    },
    {
     "name": "stderr",
     "output_type": "stream",
     "text": [
      "Saving Zarr pairs:  95%|█████████▍| 30471/32143 [1:05:36<1:47:00,  3.84s/it]"
     ]
    },
    {
     "name": "stdout",
     "output_type": "stream",
     "text": [
      "[2025-04-17 05:00:22] Saved t_2024-06-05_1800_1900.zarr\n"
     ]
    },
    {
     "name": "stderr",
     "output_type": "stream",
     "text": [
      "Saving Zarr pairs:  95%|█████████▍| 30473/32143 [1:05:44<1:47:18,  3.86s/it]"
     ]
    },
    {
     "name": "stdout",
     "output_type": "stream",
     "text": [
      "[2025-04-17 05:00:30] Saved t_2024-06-06_0000_0100.zarr\n"
     ]
    },
    {
     "name": "stderr",
     "output_type": "stream",
     "text": [
      "Saving Zarr pairs:  95%|█████████▍| 30475/32143 [1:05:51<1:42:28,  3.69s/it]"
     ]
    },
    {
     "name": "stdout",
     "output_type": "stream",
     "text": [
      "[2025-04-17 05:00:36] Saved t_2024-06-06_0600_0700.zarr\n"
     ]
    },
    {
     "name": "stderr",
     "output_type": "stream",
     "text": [
      "Saving Zarr pairs:  95%|█████████▍| 30477/32143 [1:05:52<1:17:59,  2.81s/it]"
     ]
    },
    {
     "name": "stdout",
     "output_type": "stream",
     "text": [
      "[2025-04-17 05:00:38] Saved t_2024-06-06_1200_1300.zarr\n"
     ]
    },
    {
     "name": "stderr",
     "output_type": "stream",
     "text": [
      "Saving Zarr pairs:  95%|█████████▍| 30479/32143 [1:05:56<1:13:40,  2.66s/it]"
     ]
    },
    {
     "name": "stdout",
     "output_type": "stream",
     "text": [
      "[2025-04-17 05:00:42] Saved t_2024-06-06_1800_1900.zarr\n"
     ]
    },
    {
     "name": "stderr",
     "output_type": "stream",
     "text": [
      "Saving Zarr pairs:  95%|█████████▍| 30481/32143 [1:06:35<4:03:56,  8.81s/it]"
     ]
    },
    {
     "name": "stdout",
     "output_type": "stream",
     "text": [
      "[2025-04-17 05:01:21] Saved t_2024-06-07_0000_0100.zarr\n"
     ]
    },
    {
     "name": "stderr",
     "output_type": "stream",
     "text": [
      "Saving Zarr pairs:  95%|█████████▍| 30483/32143 [1:06:38<2:53:30,  6.27s/it]"
     ]
    },
    {
     "name": "stdout",
     "output_type": "stream",
     "text": [
      "[2025-04-17 05:01:24] Saved t_2024-06-07_0600_0700.zarr\n"
     ]
    },
    {
     "name": "stderr",
     "output_type": "stream",
     "text": [
      "Saving Zarr pairs:  95%|█████████▍| 30485/32143 [1:06:42<2:13:13,  4.82s/it]"
     ]
    },
    {
     "name": "stdout",
     "output_type": "stream",
     "text": [
      "[2025-04-17 05:01:27] Saved t_2024-06-07_1200_1300.zarr\n"
     ]
    },
    {
     "name": "stderr",
     "output_type": "stream",
     "text": [
      "Saving Zarr pairs:  95%|█████████▍| 30488/32143 [1:06:48<1:34:22,  3.42s/it]"
     ]
    },
    {
     "name": "stdout",
     "output_type": "stream",
     "text": [
      "[2025-04-17 05:01:33] Saved t_2024-06-07_1800_1900.zarr\n"
     ]
    },
    {
     "name": "stderr",
     "output_type": "stream",
     "text": [
      "Saving Zarr pairs:  95%|█████████▍| 30489/32143 [1:06:55<1:58:07,  4.28s/it]"
     ]
    },
    {
     "name": "stdout",
     "output_type": "stream",
     "text": [
      "[2025-04-17 05:01:41] Saved t_2024-06-08_0000_0100.zarr\n"
     ]
    },
    {
     "name": "stderr",
     "output_type": "stream",
     "text": [
      "Saving Zarr pairs:  95%|█████████▍| 30491/32143 [1:07:02<1:49:04,  3.96s/it]"
     ]
    },
    {
     "name": "stdout",
     "output_type": "stream",
     "text": [
      "[2025-04-17 05:01:48] Saved t_2024-06-08_0600_0700.zarr\n"
     ]
    },
    {
     "name": "stderr",
     "output_type": "stream",
     "text": [
      "Saving Zarr pairs:  95%|█████████▍| 30493/32143 [1:07:03<1:14:17,  2.70s/it]"
     ]
    },
    {
     "name": "stdout",
     "output_type": "stream",
     "text": [
      "[2025-04-17 05:01:48] Saved t_2024-06-08_1200_1300.zarr\n"
     ]
    },
    {
     "name": "stderr",
     "output_type": "stream",
     "text": [
      "Saving Zarr pairs:  95%|█████████▍| 30495/32143 [1:07:07<1:10:28,  2.57s/it]"
     ]
    },
    {
     "name": "stdout",
     "output_type": "stream",
     "text": [
      "[2025-04-17 05:01:53] Saved t_2024-06-08_1800_1900.zarr\n"
     ]
    },
    {
     "name": "stderr",
     "output_type": "stream",
     "text": [
      "Saving Zarr pairs:  95%|█████████▍| 30497/32143 [1:07:46<3:38:17,  7.96s/it]"
     ]
    },
    {
     "name": "stdout",
     "output_type": "stream",
     "text": [
      "[2025-04-17 05:02:31] Saved t_2024-06-09_0000_0100.zarr\n"
     ]
    },
    {
     "name": "stderr",
     "output_type": "stream",
     "text": [
      "Saving Zarr pairs:  95%|█████████▍| 30499/32143 [1:07:48<2:40:27,  5.86s/it]"
     ]
    },
    {
     "name": "stdout",
     "output_type": "stream",
     "text": [
      "[2025-04-17 05:02:34] Saved t_2024-06-09_0600_0700.zarr\n"
     ]
    },
    {
     "name": "stderr",
     "output_type": "stream",
     "text": [
      "Saving Zarr pairs:  95%|█████████▍| 30501/32143 [1:07:51<2:03:05,  4.50s/it]"
     ]
    },
    {
     "name": "stdout",
     "output_type": "stream",
     "text": [
      "[2025-04-17 05:02:37] Saved t_2024-06-09_1200_1300.zarr\n"
     ]
    },
    {
     "name": "stderr",
     "output_type": "stream",
     "text": [
      "Saving Zarr pairs:  95%|█████████▍| 30504/32143 [1:07:58<1:31:56,  3.37s/it]"
     ]
    },
    {
     "name": "stdout",
     "output_type": "stream",
     "text": [
      "[2025-04-17 05:02:43] Saved t_2024-06-09_1800_1900.zarr\n"
     ]
    },
    {
     "name": "stderr",
     "output_type": "stream",
     "text": [
      "Saving Zarr pairs:  95%|█████████▍| 30506/32143 [1:08:04<1:23:59,  3.08s/it]"
     ]
    },
    {
     "name": "stdout",
     "output_type": "stream",
     "text": [
      "[2025-04-17 05:02:50] Saved t_2024-06-10_0000_0100.zarr\n"
     ]
    },
    {
     "name": "stderr",
     "output_type": "stream",
     "text": [
      "Saving Zarr pairs:  95%|█████████▍| 30507/32143 [1:08:10<1:44:43,  3.84s/it]"
     ]
    },
    {
     "name": "stdout",
     "output_type": "stream",
     "text": [
      "[2025-04-17 05:02:56] Saved t_2024-06-10_0600_0700.zarr\n",
      "[2025-04-17 05:02:56] Saved t_2024-06-10_1200_1300.zarr\n"
     ]
    },
    {
     "name": "stderr",
     "output_type": "stream",
     "text": [
      "Saving Zarr pairs:  95%|█████████▍| 30512/32143 [1:08:16<54:53,  2.02s/it]  "
     ]
    },
    {
     "name": "stdout",
     "output_type": "stream",
     "text": [
      "[2025-04-17 05:03:01] Saved t_2024-06-10_1800_1900.zarr\n"
     ]
    },
    {
     "name": "stderr",
     "output_type": "stream",
     "text": [
      "Saving Zarr pairs:  95%|█████████▍| 30513/32143 [1:08:56<4:16:22,  9.44s/it]"
     ]
    },
    {
     "name": "stdout",
     "output_type": "stream",
     "text": [
      "[2025-04-17 05:03:41] Saved t_2024-06-11_0000_0100.zarr\n"
     ]
    },
    {
     "name": "stderr",
     "output_type": "stream",
     "text": [
      "Saving Zarr pairs:  95%|█████████▍| 30516/32143 [1:08:58<2:21:21,  5.21s/it]"
     ]
    },
    {
     "name": "stdout",
     "output_type": "stream",
     "text": [
      "[2025-04-17 05:03:44] Saved t_2024-06-11_0600_0700.zarr\n"
     ]
    },
    {
     "name": "stderr",
     "output_type": "stream",
     "text": [
      "Saving Zarr pairs:  95%|█████████▍| 30517/32143 [1:09:02<2:12:19,  4.88s/it]"
     ]
    },
    {
     "name": "stdout",
     "output_type": "stream",
     "text": [
      "[2025-04-17 05:03:48] Saved t_2024-06-11_1200_1300.zarr\n"
     ]
    },
    {
     "name": "stderr",
     "output_type": "stream",
     "text": [
      "Saving Zarr pairs:  95%|█████████▍| 30519/32143 [1:09:09<1:56:22,  4.30s/it]"
     ]
    },
    {
     "name": "stdout",
     "output_type": "stream",
     "text": [
      "[2025-04-17 05:03:55] Saved t_2024-06-11_1800_1900.zarr\n"
     ]
    },
    {
     "name": "stderr",
     "output_type": "stream",
     "text": [
      "Saving Zarr pairs:  95%|█████████▍| 30522/32143 [1:09:14<1:18:22,  2.90s/it]"
     ]
    },
    {
     "name": "stdout",
     "output_type": "stream",
     "text": [
      "[2025-04-17 05:03:59] Saved t_2024-06-12_0000_0100.zarr\n"
     ]
    },
    {
     "name": "stderr",
     "output_type": "stream",
     "text": [
      "Saving Zarr pairs:  95%|█████████▍| 30523/32143 [1:09:19<1:31:22,  3.38s/it]"
     ]
    },
    {
     "name": "stdout",
     "output_type": "stream",
     "text": [
      "[2025-04-17 05:04:04] Saved t_2024-06-12_0600_0700.zarr\n"
     ]
    },
    {
     "name": "stderr",
     "output_type": "stream",
     "text": [
      "Saving Zarr pairs:  95%|█████████▍| 30526/32143 [1:09:23<58:29,  2.17s/it]  "
     ]
    },
    {
     "name": "stdout",
     "output_type": "stream",
     "text": [
      "[2025-04-17 05:04:08] Saved t_2024-06-12_1200_1300.zarr\n"
     ]
    },
    {
     "name": "stderr",
     "output_type": "stream",
     "text": [
      "Saving Zarr pairs:  95%|█████████▍| 30528/32143 [1:09:24<40:23,  1.50s/it]"
     ]
    },
    {
     "name": "stdout",
     "output_type": "stream",
     "text": [
      "[2025-04-17 05:04:09] Saved t_2024-06-12_1800_1900.zarr\n"
     ]
    },
    {
     "name": "stderr",
     "output_type": "stream",
     "text": [
      "Saving Zarr pairs:  95%|█████████▍| 30529/32143 [1:10:05<5:22:30, 11.99s/it]"
     ]
    },
    {
     "name": "stdout",
     "output_type": "stream",
     "text": [
      "[2025-04-17 05:04:50] Saved t_2024-06-13_0000_0100.zarr\n"
     ]
    },
    {
     "name": "stderr",
     "output_type": "stream",
     "text": [
      "Saving Zarr pairs:  95%|█████████▍| 30532/32143 [1:10:09<2:39:46,  5.95s/it]"
     ]
    },
    {
     "name": "stdout",
     "output_type": "stream",
     "text": [
      "[2025-04-17 05:04:55] Saved t_2024-06-13_0600_0700.zarr\n"
     ]
    },
    {
     "name": "stderr",
     "output_type": "stream",
     "text": [
      "Saving Zarr pairs:  95%|█████████▍| 30534/32143 [1:10:12<1:40:44,  3.76s/it]"
     ]
    },
    {
     "name": "stdout",
     "output_type": "stream",
     "text": [
      "[2025-04-17 05:04:57] Saved t_2024-06-13_1200_1300.zarr\n"
     ]
    },
    {
     "name": "stderr",
     "output_type": "stream",
     "text": [
      "Saving Zarr pairs:  95%|█████████▌| 30536/32143 [1:10:18<1:25:28,  3.19s/it]"
     ]
    },
    {
     "name": "stdout",
     "output_type": "stream",
     "text": [
      "[2025-04-17 05:05:04] Saved t_2024-06-13_1800_1900.zarr\n"
     ]
    },
    {
     "name": "stderr",
     "output_type": "stream",
     "text": [
      "Saving Zarr pairs:  95%|█████████▌| 30538/32143 [1:10:24<1:13:05,  2.73s/it]"
     ]
    },
    {
     "name": "stdout",
     "output_type": "stream",
     "text": [
      "[2025-04-17 05:05:09] Saved t_2024-06-14_0000_0100.zarr\n"
     ]
    },
    {
     "name": "stderr",
     "output_type": "stream",
     "text": [
      "Saving Zarr pairs:  95%|█████████▌| 30539/32143 [1:10:31<1:48:16,  4.05s/it]"
     ]
    },
    {
     "name": "stdout",
     "output_type": "stream",
     "text": [
      "[2025-04-17 05:05:16] Saved t_2024-06-14_0600_0700.zarr\n",
      "[2025-04-17 05:05:19] Saved t_2024-06-14_1800_1900.zarr\n"
     ]
    },
    {
     "name": "stderr",
     "output_type": "stream",
     "text": [
      "Saving Zarr pairs:  95%|█████████▌| 30541/32143 [1:10:35<1:27:00,  3.26s/it]"
     ]
    },
    {
     "name": "stdout",
     "output_type": "stream",
     "text": [
      "[2025-04-17 05:05:21] Saved t_2024-06-14_1200_1300.zarr\n"
     ]
    },
    {
     "name": "stderr",
     "output_type": "stream",
     "text": [
      "Saving Zarr pairs:  95%|█████████▌| 30545/32143 [1:11:14<3:03:36,  6.89s/it]"
     ]
    },
    {
     "name": "stdout",
     "output_type": "stream",
     "text": [
      "[2025-04-17 05:06:00] Saved t_2024-06-15_0000_0100.zarr\n"
     ]
    },
    {
     "name": "stderr",
     "output_type": "stream",
     "text": [
      "Saving Zarr pairs:  95%|█████████▌| 30547/32143 [1:11:18<2:26:01,  5.49s/it]"
     ]
    },
    {
     "name": "stdout",
     "output_type": "stream",
     "text": [
      "[2025-04-17 05:06:04] Saved t_2024-06-15_0600_0700.zarr\n"
     ]
    },
    {
     "name": "stderr",
     "output_type": "stream",
     "text": [
      "Saving Zarr pairs:  95%|█████████▌| 30549/32143 [1:11:20<1:52:29,  4.23s/it]"
     ]
    },
    {
     "name": "stdout",
     "output_type": "stream",
     "text": [
      "[2025-04-17 05:06:06] Saved t_2024-06-15_1200_1300.zarr\n"
     ]
    },
    {
     "name": "stderr",
     "output_type": "stream",
     "text": [
      "Saving Zarr pairs:  95%|█████████▌| 30551/32143 [1:11:26<1:42:33,  3.87s/it]"
     ]
    },
    {
     "name": "stdout",
     "output_type": "stream",
     "text": [
      "[2025-04-17 05:06:12] Saved t_2024-06-15_1800_1900.zarr\n"
     ]
    },
    {
     "name": "stderr",
     "output_type": "stream",
     "text": [
      "Saving Zarr pairs:  95%|█████████▌| 30554/32143 [1:11:34<1:24:46,  3.20s/it]"
     ]
    },
    {
     "name": "stdout",
     "output_type": "stream",
     "text": [
      "[2025-04-17 05:06:20] Saved t_2024-06-16_0000_0100.zarr\n"
     ]
    },
    {
     "name": "stderr",
     "output_type": "stream",
     "text": [
      "Saving Zarr pairs:  95%|█████████▌| 30555/32143 [1:11:40<1:38:06,  3.71s/it]"
     ]
    },
    {
     "name": "stdout",
     "output_type": "stream",
     "text": [
      "[2025-04-17 05:06:26] Saved t_2024-06-16_0600_0700.zarr\n"
     ]
    },
    {
     "name": "stderr",
     "output_type": "stream",
     "text": [
      "Saving Zarr pairs:  95%|█████████▌| 30557/32143 [1:11:42<1:14:24,  2.82s/it]"
     ]
    },
    {
     "name": "stdout",
     "output_type": "stream",
     "text": [
      "[2025-04-17 05:06:28] Saved t_2024-06-16_1200_1300.zarr\n"
     ]
    },
    {
     "name": "stderr",
     "output_type": "stream",
     "text": [
      "Saving Zarr pairs:  95%|█████████▌| 30559/32143 [1:11:45<59:33,  2.26s/it]  "
     ]
    },
    {
     "name": "stdout",
     "output_type": "stream",
     "text": [
      "[2025-04-17 05:06:30] Saved t_2024-06-16_1800_1900.zarr\n"
     ]
    },
    {
     "name": "stderr",
     "output_type": "stream",
     "text": [
      "Saving Zarr pairs:  95%|█████████▌| 30562/32143 [1:12:24<2:50:47,  6.48s/it]"
     ]
    },
    {
     "name": "stdout",
     "output_type": "stream",
     "text": [
      "[2025-04-17 05:07:10] Saved t_2024-06-17_0000_0100.zarr\n",
      "[2025-04-17 05:07:13] Saved t_2024-06-17_1200_1300.zarr\n"
     ]
    },
    {
     "name": "stderr",
     "output_type": "stream",
     "text": [
      "Saving Zarr pairs:  95%|█████████▌| 30563/32143 [1:12:28<2:36:24,  5.94s/it]"
     ]
    },
    {
     "name": "stdout",
     "output_type": "stream",
     "text": [
      "[2025-04-17 05:07:14] Saved t_2024-06-17_0600_0700.zarr\n"
     ]
    },
    {
     "name": "stderr",
     "output_type": "stream",
     "text": [
      "Saving Zarr pairs:  95%|█████████▌| 30567/32143 [1:12:36<1:31:37,  3.49s/it]"
     ]
    },
    {
     "name": "stdout",
     "output_type": "stream",
     "text": [
      "[2025-04-17 05:07:21] Saved t_2024-06-17_1800_1900.zarr\n"
     ]
    },
    {
     "name": "stderr",
     "output_type": "stream",
     "text": [
      "Saving Zarr pairs:  95%|█████████▌| 30569/32143 [1:12:45<1:40:23,  3.83s/it]"
     ]
    },
    {
     "name": "stdout",
     "output_type": "stream",
     "text": [
      "[2025-04-17 05:07:30] Saved t_2024-06-18_0000_0100.zarr\n",
      "[2025-04-17 05:07:35] Saved t_2024-06-18_1800_1900.zarr\n",
      "[2025-04-17 05:07:38] Saved t_2024-06-18_1200_1300.zarr\n"
     ]
    },
    {
     "name": "stderr",
     "output_type": "stream",
     "text": [
      "Saving Zarr pairs:  95%|█████████▌| 30571/32143 [1:12:57<1:57:56,  4.50s/it]"
     ]
    },
    {
     "name": "stdout",
     "output_type": "stream",
     "text": [
      "[2025-04-17 05:07:42] Saved t_2024-06-18_0600_0700.zarr\n"
     ]
    },
    {
     "name": "stderr",
     "output_type": "stream",
     "text": [
      "Saving Zarr pairs:  95%|█████████▌| 30577/32143 [1:13:34<2:24:32,  5.54s/it]"
     ]
    },
    {
     "name": "stdout",
     "output_type": "stream",
     "text": [
      "[2025-04-17 05:08:20] Saved t_2024-06-19_0000_0100.zarr\n",
      "[2025-04-17 05:08:24] Saved t_2024-06-19_1200_1300.zarr\n"
     ]
    },
    {
     "name": "stderr",
     "output_type": "stream",
     "text": [
      "Saving Zarr pairs:  95%|█████████▌| 30579/32143 [1:13:41<2:11:37,  5.05s/it]"
     ]
    },
    {
     "name": "stdout",
     "output_type": "stream",
     "text": [
      "[2025-04-17 05:08:27] Saved t_2024-06-19_0600_0700.zarr\n"
     ]
    },
    {
     "name": "stderr",
     "output_type": "stream",
     "text": [
      "Saving Zarr pairs:  95%|█████████▌| 30583/32143 [1:13:46<1:33:14,  3.59s/it]"
     ]
    },
    {
     "name": "stdout",
     "output_type": "stream",
     "text": [
      "[2025-04-17 05:08:31] Saved t_2024-06-19_1800_1900.zarr\n"
     ]
    },
    {
     "name": "stderr",
     "output_type": "stream",
     "text": [
      "Saving Zarr pairs:  95%|█████████▌| 30586/32143 [1:13:54<1:23:32,  3.22s/it]"
     ]
    },
    {
     "name": "stdout",
     "output_type": "stream",
     "text": [
      "[2025-04-17 05:08:39] Saved t_2024-06-20_0000_0100.zarr\n"
     ]
    },
    {
     "name": "stderr",
     "output_type": "stream",
     "text": [
      "Saving Zarr pairs:  95%|█████████▌| 30587/32143 [1:14:01<1:39:07,  3.82s/it]"
     ]
    },
    {
     "name": "stdout",
     "output_type": "stream",
     "text": [
      "[2025-04-17 05:08:47] Saved t_2024-06-20_0600_0700.zarr\n",
      "[2025-04-17 05:08:49] Saved t_2024-06-20_1800_1900.zarr\n"
     ]
    },
    {
     "name": "stderr",
     "output_type": "stream",
     "text": [
      "Saving Zarr pairs:  95%|█████████▌| 30589/32143 [1:14:06<1:29:22,  3.45s/it]"
     ]
    },
    {
     "name": "stdout",
     "output_type": "stream",
     "text": [
      "[2025-04-17 05:08:52] Saved t_2024-06-20_1200_1300.zarr\n"
     ]
    },
    {
     "name": "stderr",
     "output_type": "stream",
     "text": [
      "Saving Zarr pairs:  95%|█████████▌| 30593/32143 [1:14:45<2:44:22,  6.36s/it]"
     ]
    },
    {
     "name": "stdout",
     "output_type": "stream",
     "text": [
      "[2025-04-17 05:09:30] Saved t_2024-06-21_0000_0100.zarr\n"
     ]
    },
    {
     "name": "stderr",
     "output_type": "stream",
     "text": [
      "Saving Zarr pairs:  95%|█████████▌| 30595/32143 [1:14:49<2:15:21,  5.25s/it]"
     ]
    },
    {
     "name": "stdout",
     "output_type": "stream",
     "text": [
      "[2025-04-17 05:09:34] Saved t_2024-06-21_0600_0700.zarr\n"
     ]
    },
    {
     "name": "stderr",
     "output_type": "stream",
     "text": [
      "Saving Zarr pairs:  95%|█████████▌| 30597/32143 [1:14:51<1:48:58,  4.23s/it]"
     ]
    },
    {
     "name": "stdout",
     "output_type": "stream",
     "text": [
      "[2025-04-17 05:09:37] Saved t_2024-06-21_1200_1300.zarr\n"
     ]
    },
    {
     "name": "stderr",
     "output_type": "stream",
     "text": [
      "Saving Zarr pairs:  95%|█████████▌| 30600/32143 [1:14:56<1:18:07,  3.04s/it]"
     ]
    },
    {
     "name": "stdout",
     "output_type": "stream",
     "text": [
      "[2025-04-17 05:09:41] Saved t_2024-06-21_1800_1900.zarr\n"
     ]
    },
    {
     "name": "stderr",
     "output_type": "stream",
     "text": [
      "Saving Zarr pairs:  95%|█████████▌| 30601/32143 [1:15:03<1:39:00,  3.85s/it]"
     ]
    },
    {
     "name": "stdout",
     "output_type": "stream",
     "text": [
      "[2025-04-17 05:09:48] Saved t_2024-06-22_0000_0100.zarr\n"
     ]
    },
    {
     "name": "stderr",
     "output_type": "stream",
     "text": [
      "Saving Zarr pairs:  95%|█████████▌| 30603/32143 [1:15:12<1:43:13,  4.02s/it]"
     ]
    },
    {
     "name": "stdout",
     "output_type": "stream",
     "text": [
      "[2025-04-17 05:09:57] Saved t_2024-06-22_0600_0700.zarr\n"
     ]
    },
    {
     "name": "stderr",
     "output_type": "stream",
     "text": [
      "Saving Zarr pairs:  95%|█████████▌| 30605/32143 [1:15:13<1:15:20,  2.94s/it]"
     ]
    },
    {
     "name": "stdout",
     "output_type": "stream",
     "text": [
      "[2025-04-17 05:09:59] Saved t_2024-06-22_1200_1300.zarr\n"
     ]
    },
    {
     "name": "stderr",
     "output_type": "stream",
     "text": [
      "Saving Zarr pairs:  95%|█████████▌| 30607/32143 [1:15:17<1:06:28,  2.60s/it]"
     ]
    },
    {
     "name": "stdout",
     "output_type": "stream",
     "text": [
      "[2025-04-17 05:10:02] Saved t_2024-06-22_1800_1900.zarr\n",
      "[2025-04-17 05:10:39] Saved t_2024-06-23_0000_0100.zarr\n"
     ]
    },
    {
     "name": "stderr",
     "output_type": "stream",
     "text": [
      "Saving Zarr pairs:  95%|█████████▌| 30611/32143 [1:15:59<2:33:57,  6.03s/it]"
     ]
    },
    {
     "name": "stdout",
     "output_type": "stream",
     "text": [
      "[2025-04-17 05:10:45] Saved t_2024-06-23_0600_0700.zarr\n"
     ]
    },
    {
     "name": "stderr",
     "output_type": "stream",
     "text": [
      "Saving Zarr pairs:  95%|█████████▌| 30613/32143 [1:16:03<1:53:24,  4.45s/it]"
     ]
    },
    {
     "name": "stdout",
     "output_type": "stream",
     "text": [
      "[2025-04-17 05:10:48] Saved t_2024-06-23_1200_1300.zarr\n"
     ]
    },
    {
     "name": "stderr",
     "output_type": "stream",
     "text": [
      "Saving Zarr pairs:  95%|█████████▌| 30615/32143 [1:16:05<1:25:32,  3.36s/it]"
     ]
    },
    {
     "name": "stdout",
     "output_type": "stream",
     "text": [
      "[2025-04-17 05:10:51] Saved t_2024-06-23_1800_1900.zarr\n"
     ]
    },
    {
     "name": "stderr",
     "output_type": "stream",
     "text": [
      "Saving Zarr pairs:  95%|█████████▌| 30617/32143 [1:16:11<1:23:05,  3.27s/it]"
     ]
    },
    {
     "name": "stdout",
     "output_type": "stream",
     "text": [
      "[2025-04-17 05:10:57] Saved t_2024-06-24_0000_0100.zarr\n"
     ]
    },
    {
     "name": "stderr",
     "output_type": "stream",
     "text": [
      "Saving Zarr pairs:  95%|█████████▌| 30619/32143 [1:16:22<1:41:30,  4.00s/it]"
     ]
    },
    {
     "name": "stdout",
     "output_type": "stream",
     "text": [
      "[2025-04-17 05:11:08] Saved t_2024-06-24_0600_0700.zarr\n"
     ]
    },
    {
     "name": "stderr",
     "output_type": "stream",
     "text": [
      "Saving Zarr pairs:  95%|█████████▌| 30621/32143 [1:16:25<1:18:50,  3.11s/it]"
     ]
    },
    {
     "name": "stdout",
     "output_type": "stream",
     "text": [
      "[2025-04-17 05:11:10] Saved t_2024-06-24_1200_1300.zarr\n"
     ]
    },
    {
     "name": "stderr",
     "output_type": "stream",
     "text": [
      "Saving Zarr pairs:  95%|█████████▌| 30623/32143 [1:16:28<1:06:42,  2.63s/it]"
     ]
    },
    {
     "name": "stdout",
     "output_type": "stream",
     "text": [
      "[2025-04-17 05:11:13] Saved t_2024-06-24_1800_1900.zarr\n"
     ]
    },
    {
     "name": "stderr",
     "output_type": "stream",
     "text": [
      "Saving Zarr pairs:  95%|█████████▌| 30626/32143 [1:17:04<2:34:12,  6.10s/it]"
     ]
    },
    {
     "name": "stdout",
     "output_type": "stream",
     "text": [
      "[2025-04-17 05:11:50] Saved t_2024-06-25_0000_0100.zarr\n"
     ]
    },
    {
     "name": "stderr",
     "output_type": "stream",
     "text": [
      "Saving Zarr pairs:  95%|█████████▌| 30627/32143 [1:17:10<2:31:10,  5.98s/it]"
     ]
    },
    {
     "name": "stdout",
     "output_type": "stream",
     "text": [
      "[2025-04-17 05:11:56] Saved t_2024-06-25_0600_0700.zarr\n"
     ]
    },
    {
     "name": "stderr",
     "output_type": "stream",
     "text": [
      "Saving Zarr pairs:  95%|█████████▌| 30629/32143 [1:17:14<1:54:54,  4.55s/it]"
     ]
    },
    {
     "name": "stdout",
     "output_type": "stream",
     "text": [
      "[2025-04-17 05:12:00] Saved t_2024-06-25_1200_1300.zarr\n"
     ]
    },
    {
     "name": "stderr",
     "output_type": "stream",
     "text": [
      "Saving Zarr pairs:  95%|█████████▌| 30631/32143 [1:17:16<1:25:19,  3.39s/it]"
     ]
    },
    {
     "name": "stdout",
     "output_type": "stream",
     "text": [
      "[2025-04-17 05:12:02] Saved t_2024-06-25_1800_1900.zarr\n"
     ]
    },
    {
     "name": "stderr",
     "output_type": "stream",
     "text": [
      "Saving Zarr pairs:  95%|█████████▌| 30633/32143 [1:17:22<1:18:02,  3.10s/it]"
     ]
    },
    {
     "name": "stdout",
     "output_type": "stream",
     "text": [
      "[2025-04-17 05:12:07] Saved t_2024-06-26_0000_0100.zarr\n",
      "[2025-04-17 05:12:15] Saved t_2024-06-26_1200_1300.zarr\n",
      "[2025-04-17 05:12:18] Saved t_2024-06-26_1800_1900.zarr\n"
     ]
    },
    {
     "name": "stderr",
     "output_type": "stream",
     "text": [
      "Saving Zarr pairs:  95%|█████████▌| 30636/32143 [1:17:35<1:28:31,  3.52s/it]"
     ]
    },
    {
     "name": "stdout",
     "output_type": "stream",
     "text": [
      "[2025-04-17 05:12:21] Saved t_2024-06-26_0600_0700.zarr\n"
     ]
    },
    {
     "name": "stderr",
     "output_type": "stream",
     "text": [
      "Saving Zarr pairs:  95%|█████████▌| 30641/32143 [1:18:14<2:27:21,  5.89s/it]"
     ]
    },
    {
     "name": "stdout",
     "output_type": "stream",
     "text": [
      "[2025-04-17 05:12:59] Saved t_2024-06-27_0000_0100.zarr\n"
     ]
    },
    {
     "name": "stderr",
     "output_type": "stream",
     "text": [
      "Saving Zarr pairs:  95%|█████████▌| 30643/32143 [1:18:19<2:08:36,  5.14s/it]"
     ]
    },
    {
     "name": "stdout",
     "output_type": "stream",
     "text": [
      "[2025-04-17 05:13:05] Saved t_2024-06-27_0600_0700.zarr\n"
     ]
    },
    {
     "name": "stderr",
     "output_type": "stream",
     "text": [
      "Saving Zarr pairs:  95%|█████████▌| 30645/32143 [1:18:24<1:48:35,  4.35s/it]"
     ]
    },
    {
     "name": "stdout",
     "output_type": "stream",
     "text": [
      "[2025-04-17 05:13:09] Saved t_2024-06-27_1200_1300.zarr\n"
     ]
    },
    {
     "name": "stderr",
     "output_type": "stream",
     "text": [
      "Saving Zarr pairs:  95%|█████████▌| 30648/32143 [1:18:26<1:13:30,  2.95s/it]"
     ]
    },
    {
     "name": "stdout",
     "output_type": "stream",
     "text": [
      "[2025-04-17 05:13:12] Saved t_2024-06-27_1800_1900.zarr\n"
     ]
    },
    {
     "name": "stderr",
     "output_type": "stream",
     "text": [
      "Saving Zarr pairs:  95%|█████████▌| 30649/32143 [1:18:31<1:22:31,  3.31s/it]"
     ]
    },
    {
     "name": "stdout",
     "output_type": "stream",
     "text": [
      "[2025-04-17 05:13:17] Saved t_2024-06-28_0000_0100.zarr\n"
     ]
    },
    {
     "name": "stderr",
     "output_type": "stream",
     "text": [
      "Saving Zarr pairs:  95%|█████████▌| 30651/32143 [1:18:40<1:31:46,  3.69s/it]"
     ]
    },
    {
     "name": "stdout",
     "output_type": "stream",
     "text": [
      "[2025-04-17 05:13:25] Saved t_2024-06-28_0600_0700.zarr\n"
     ]
    },
    {
     "name": "stderr",
     "output_type": "stream",
     "text": [
      "Saving Zarr pairs:  95%|█████████▌| 30653/32143 [1:18:42<1:12:02,  2.90s/it]"
     ]
    },
    {
     "name": "stdout",
     "output_type": "stream",
     "text": [
      "[2025-04-17 05:13:28] Saved t_2024-06-28_1200_1300.zarr\n",
      "[2025-04-17 05:13:30] Saved t_2024-06-28_1800_1900.zarr\n"
     ]
    },
    {
     "name": "stderr",
     "output_type": "stream",
     "text": [
      "Saving Zarr pairs:  95%|█████████▌| 30657/32143 [1:19:25<4:10:16, 10.11s/it]"
     ]
    },
    {
     "name": "stdout",
     "output_type": "stream",
     "text": [
      "[2025-04-17 05:14:11] Saved t_2024-06-29_0000_0100.zarr\n"
     ]
    },
    {
     "name": "stderr",
     "output_type": "stream",
     "text": [
      "Saving Zarr pairs:  95%|█████████▌| 30659/32143 [1:19:31<3:02:34,  7.38s/it]"
     ]
    },
    {
     "name": "stdout",
     "output_type": "stream",
     "text": [
      "[2025-04-17 05:14:17] Saved t_2024-06-29_0600_0700.zarr\n"
     ]
    },
    {
     "name": "stderr",
     "output_type": "stream",
     "text": [
      "Saving Zarr pairs:  95%|█████████▌| 30661/32143 [1:19:34<2:09:14,  5.23s/it]"
     ]
    },
    {
     "name": "stdout",
     "output_type": "stream",
     "text": [
      "[2025-04-17 05:14:19] Saved t_2024-06-29_1200_1300.zarr\n"
     ]
    },
    {
     "name": "stderr",
     "output_type": "stream",
     "text": [
      "Saving Zarr pairs:  95%|█████████▌| 30663/32143 [1:19:37<1:39:39,  4.04s/it]"
     ]
    },
    {
     "name": "stdout",
     "output_type": "stream",
     "text": [
      "[2025-04-17 05:14:23] Saved t_2024-06-29_1800_1900.zarr\n"
     ]
    },
    {
     "name": "stderr",
     "output_type": "stream",
     "text": [
      "Saving Zarr pairs:  95%|█████████▌| 30665/32143 [1:19:42<1:28:10,  3.58s/it]"
     ]
    },
    {
     "name": "stdout",
     "output_type": "stream",
     "text": [
      "[2025-04-17 05:14:28] Saved t_2024-06-30_0000_0100.zarr\n"
     ]
    },
    {
     "name": "stderr",
     "output_type": "stream",
     "text": [
      "Saving Zarr pairs:  95%|█████████▌| 30668/32143 [1:19:50<1:15:25,  3.07s/it]"
     ]
    },
    {
     "name": "stdout",
     "output_type": "stream",
     "text": [
      "[2025-04-17 05:14:36] Saved t_2024-06-30_0600_0700.zarr\n"
     ]
    },
    {
     "name": "stderr",
     "output_type": "stream",
     "text": [
      "Saving Zarr pairs:  95%|█████████▌| 30669/32143 [1:19:53<1:10:36,  2.87s/it]"
     ]
    },
    {
     "name": "stdout",
     "output_type": "stream",
     "text": [
      "[2025-04-17 05:14:38] Saved t_2024-06-30_1200_1300.zarr\n"
     ]
    },
    {
     "name": "stderr",
     "output_type": "stream",
     "text": [
      "Saving Zarr pairs:  95%|█████████▌| 30671/32143 [1:19:55<54:35,  2.23s/it]  "
     ]
    },
    {
     "name": "stdout",
     "output_type": "stream",
     "text": [
      "[2025-04-17 05:14:40] Saved t_2024-06-30_1800_1900.zarr\n"
     ]
    },
    {
     "name": "stderr",
     "output_type": "stream",
     "text": [
      "Saving Zarr pairs:  95%|█████████▌| 30673/32143 [1:20:35<3:24:47,  8.36s/it]"
     ]
    },
    {
     "name": "stdout",
     "output_type": "stream",
     "text": [
      "[2025-04-17 05:15:20] Saved t_2024-07-01_0000_0100.zarr\n"
     ]
    },
    {
     "name": "stderr",
     "output_type": "stream",
     "text": [
      "Saving Zarr pairs:  95%|█████████▌| 30676/32143 [1:20:39<2:05:35,  5.14s/it]"
     ]
    },
    {
     "name": "stdout",
     "output_type": "stream",
     "text": [
      "[2025-04-17 05:15:25] Saved t_2024-07-01_0600_0700.zarr\n"
     ]
    },
    {
     "name": "stderr",
     "output_type": "stream",
     "text": [
      "Saving Zarr pairs:  95%|█████████▌| 30677/32143 [1:20:42<1:55:49,  4.74s/it]"
     ]
    },
    {
     "name": "stdout",
     "output_type": "stream",
     "text": [
      "[2025-04-17 05:15:28] Saved t_2024-07-01_1200_1300.zarr\n"
     ]
    },
    {
     "name": "stderr",
     "output_type": "stream",
     "text": [
      "Saving Zarr pairs:  95%|█████████▌| 30679/32143 [1:20:46<1:28:24,  3.62s/it]"
     ]
    },
    {
     "name": "stdout",
     "output_type": "stream",
     "text": [
      "[2025-04-17 05:15:32] Saved t_2024-07-01_1800_1900.zarr\n"
     ]
    },
    {
     "name": "stderr",
     "output_type": "stream",
     "text": [
      "Saving Zarr pairs:  95%|█████████▌| 30681/32143 [1:20:54<1:31:00,  3.73s/it]"
     ]
    },
    {
     "name": "stdout",
     "output_type": "stream",
     "text": [
      "[2025-04-17 05:15:40] Saved t_2024-07-02_0000_0100.zarr\n"
     ]
    },
    {
     "name": "stderr",
     "output_type": "stream",
     "text": [
      "Saving Zarr pairs:  95%|█████████▌| 30683/32143 [1:20:59<1:20:25,  3.31s/it]"
     ]
    },
    {
     "name": "stdout",
     "output_type": "stream",
     "text": [
      "[2025-04-17 05:15:44] Saved t_2024-07-02_0600_0700.zarr\n"
     ]
    },
    {
     "name": "stderr",
     "output_type": "stream",
     "text": [
      "Saving Zarr pairs:  95%|█████████▌| 30685/32143 [1:21:02<1:07:41,  2.79s/it]"
     ]
    },
    {
     "name": "stdout",
     "output_type": "stream",
     "text": [
      "[2025-04-17 05:15:48] Saved t_2024-07-02_1200_1300.zarr\n"
     ]
    },
    {
     "name": "stderr",
     "output_type": "stream",
     "text": [
      "Saving Zarr pairs:  95%|█████████▌| 30687/32143 [1:21:06<1:01:03,  2.52s/it]"
     ]
    },
    {
     "name": "stdout",
     "output_type": "stream",
     "text": [
      "[2025-04-17 05:15:52] Saved t_2024-07-02_1800_1900.zarr\n"
     ]
    },
    {
     "name": "stderr",
     "output_type": "stream",
     "text": [
      "Saving Zarr pairs:  95%|█████████▌| 30690/32143 [1:21:45<2:34:02,  6.36s/it]"
     ]
    },
    {
     "name": "stdout",
     "output_type": "stream",
     "text": [
      "[2025-04-17 05:16:30] Saved t_2024-07-03_0000_0100.zarr\n"
     ]
    },
    {
     "name": "stderr",
     "output_type": "stream",
     "text": [
      "Saving Zarr pairs:  95%|█████████▌| 30691/32143 [1:21:50<2:28:54,  6.15s/it]"
     ]
    },
    {
     "name": "stdout",
     "output_type": "stream",
     "text": [
      "[2025-04-17 05:16:36] Saved t_2024-07-03_0600_0700.zarr\n"
     ]
    },
    {
     "name": "stderr",
     "output_type": "stream",
     "text": [
      "Saving Zarr pairs:  95%|█████████▌| 30693/32143 [1:21:54<1:50:00,  4.55s/it]"
     ]
    },
    {
     "name": "stdout",
     "output_type": "stream",
     "text": [
      "[2025-04-17 05:16:39] Saved t_2024-07-03_1200_1300.zarr\n"
     ]
    },
    {
     "name": "stderr",
     "output_type": "stream",
     "text": [
      "Saving Zarr pairs:  95%|█████████▌| 30696/32143 [1:21:58<1:12:37,  3.01s/it]"
     ]
    },
    {
     "name": "stdout",
     "output_type": "stream",
     "text": [
      "[2025-04-17 05:16:44] Saved t_2024-07-03_1800_1900.zarr\n"
     ]
    },
    {
     "name": "stderr",
     "output_type": "stream",
     "text": [
      "Saving Zarr pairs:  96%|█████████▌| 30697/32143 [1:22:03<1:23:07,  3.45s/it]"
     ]
    },
    {
     "name": "stdout",
     "output_type": "stream",
     "text": [
      "[2025-04-17 05:16:49] Saved t_2024-07-04_0000_0100.zarr\n"
     ]
    },
    {
     "name": "stderr",
     "output_type": "stream",
     "text": [
      "Saving Zarr pairs:  96%|█████████▌| 30699/32143 [1:22:07<1:09:30,  2.89s/it]"
     ]
    },
    {
     "name": "stdout",
     "output_type": "stream",
     "text": [
      "[2025-04-17 05:16:53] Saved t_2024-07-04_0600_0700.zarr\n"
     ]
    },
    {
     "name": "stderr",
     "output_type": "stream",
     "text": [
      "Saving Zarr pairs:  96%|█████████▌| 30701/32143 [1:22:10<58:08,  2.42s/it]  "
     ]
    },
    {
     "name": "stdout",
     "output_type": "stream",
     "text": [
      "[2025-04-17 05:16:56] Saved t_2024-07-04_1200_1300.zarr\n"
     ]
    },
    {
     "name": "stderr",
     "output_type": "stream",
     "text": [
      "Saving Zarr pairs:  96%|█████████▌| 30704/32143 [1:22:14<42:56,  1.79s/it]"
     ]
    },
    {
     "name": "stdout",
     "output_type": "stream",
     "text": [
      "[2025-04-17 05:17:00] Saved t_2024-07-04_1800_1900.zarr\n"
     ]
    },
    {
     "name": "stderr",
     "output_type": "stream",
     "text": [
      "Saving Zarr pairs:  96%|█████████▌| 30706/32143 [1:22:54<3:03:08,  7.65s/it]"
     ]
    },
    {
     "name": "stdout",
     "output_type": "stream",
     "text": [
      "[2025-04-17 05:17:39] Saved t_2024-07-05_0000_0100.zarr\n"
     ]
    },
    {
     "name": "stderr",
     "output_type": "stream",
     "text": [
      "Saving Zarr pairs:  96%|█████████▌| 30707/32143 [1:23:01<2:58:45,  7.47s/it]"
     ]
    },
    {
     "name": "stdout",
     "output_type": "stream",
     "text": [
      "[2025-04-17 05:17:46] Saved t_2024-07-05_0600_0700.zarr\n"
     ]
    },
    {
     "name": "stderr",
     "output_type": "stream",
     "text": [
      "Saving Zarr pairs:  96%|█████████▌| 30709/32143 [1:23:05<2:05:08,  5.24s/it]"
     ]
    },
    {
     "name": "stdout",
     "output_type": "stream",
     "text": [
      "[2025-04-17 05:17:51] Saved t_2024-07-05_1200_1300.zarr\n"
     ]
    },
    {
     "name": "stderr",
     "output_type": "stream",
     "text": [
      "Saving Zarr pairs:  96%|█████████▌| 30711/32143 [1:23:09<1:36:32,  4.04s/it]"
     ]
    },
    {
     "name": "stdout",
     "output_type": "stream",
     "text": [
      "[2025-04-17 05:17:55] Saved t_2024-07-05_1800_1900.zarr\n"
     ]
    },
    {
     "name": "stderr",
     "output_type": "stream",
     "text": [
      "Saving Zarr pairs:  96%|█████████▌| 30713/32143 [1:23:15<1:27:24,  3.67s/it]"
     ]
    },
    {
     "name": "stdout",
     "output_type": "stream",
     "text": [
      "[2025-04-17 05:18:01] Saved t_2024-07-06_0000_0100.zarr\n"
     ]
    },
    {
     "name": "stderr",
     "output_type": "stream",
     "text": [
      "Saving Zarr pairs:  96%|█████████▌| 30716/32143 [1:23:18<57:08,  2.40s/it]  "
     ]
    },
    {
     "name": "stdout",
     "output_type": "stream",
     "text": [
      "[2025-04-17 05:18:04] Saved t_2024-07-06_0600_0700.zarr\n"
     ]
    },
    {
     "name": "stderr",
     "output_type": "stream",
     "text": [
      "Saving Zarr pairs:  96%|█████████▌| 30717/32143 [1:23:22<1:06:17,  2.79s/it]"
     ]
    },
    {
     "name": "stdout",
     "output_type": "stream",
     "text": [
      "[2025-04-17 05:18:08] Saved t_2024-07-06_1200_1300.zarr\n"
     ]
    },
    {
     "name": "stderr",
     "output_type": "stream",
     "text": [
      "Saving Zarr pairs:  96%|█████████▌| 30720/32143 [1:23:26<44:27,  1.87s/it]  "
     ]
    },
    {
     "name": "stdout",
     "output_type": "stream",
     "text": [
      "[2025-04-17 05:18:11] Saved t_2024-07-06_1800_1900.zarr\n"
     ]
    },
    {
     "name": "stderr",
     "output_type": "stream",
     "text": [
      "Saving Zarr pairs:  96%|█████████▌| 30721/32143 [1:24:05<4:11:49, 10.63s/it]"
     ]
    },
    {
     "name": "stdout",
     "output_type": "stream",
     "text": [
      "[2025-04-17 05:18:51] Saved t_2024-07-07_0000_0100.zarr\n"
     ]
    },
    {
     "name": "stderr",
     "output_type": "stream",
     "text": [
      "Saving Zarr pairs:  96%|█████████▌| 30723/32143 [1:24:10<2:52:31,  7.29s/it]"
     ]
    },
    {
     "name": "stdout",
     "output_type": "stream",
     "text": [
      "[2025-04-17 05:18:55] Saved t_2024-07-07_0600_0700.zarr\n"
     ]
    },
    {
     "name": "stderr",
     "output_type": "stream",
     "text": [
      "Saving Zarr pairs:  96%|█████████▌| 30725/32143 [1:24:14<2:06:51,  5.37s/it]"
     ]
    },
    {
     "name": "stdout",
     "output_type": "stream",
     "text": [
      "[2025-04-17 05:18:59] Saved t_2024-07-07_1200_1300.zarr\n"
     ]
    },
    {
     "name": "stderr",
     "output_type": "stream",
     "text": [
      "Saving Zarr pairs:  96%|█████████▌| 30727/32143 [1:24:17<1:37:21,  4.13s/it]"
     ]
    },
    {
     "name": "stdout",
     "output_type": "stream",
     "text": [
      "[2025-04-17 05:19:03] Saved t_2024-07-07_1800_1900.zarr\n"
     ]
    },
    {
     "name": "stderr",
     "output_type": "stream",
     "text": [
      "Saving Zarr pairs:  96%|█████████▌| 30730/32143 [1:24:25<1:17:10,  3.28s/it]"
     ]
    },
    {
     "name": "stdout",
     "output_type": "stream",
     "text": [
      "[2025-04-17 05:19:10] Saved t_2024-07-08_0000_0100.zarr\n"
     ]
    },
    {
     "name": "stderr",
     "output_type": "stream",
     "text": [
      "Saving Zarr pairs:  96%|█████████▌| 30732/32143 [1:24:28<58:20,  2.48s/it]  "
     ]
    },
    {
     "name": "stdout",
     "output_type": "stream",
     "text": [
      "[2025-04-17 05:19:13] Saved t_2024-07-08_0600_0700.zarr\n"
     ]
    },
    {
     "name": "stderr",
     "output_type": "stream",
     "text": [
      "Saving Zarr pairs:  96%|█████████▌| 30733/32143 [1:24:32<1:09:24,  2.95s/it]"
     ]
    },
    {
     "name": "stdout",
     "output_type": "stream",
     "text": [
      "[2025-04-17 05:19:18] Saved t_2024-07-08_1200_1300.zarr\n"
     ]
    },
    {
     "name": "stderr",
     "output_type": "stream",
     "text": [
      "Saving Zarr pairs:  96%|█████████▌| 30735/32143 [1:24:35<56:09,  2.39s/it]  "
     ]
    },
    {
     "name": "stdout",
     "output_type": "stream",
     "text": [
      "[2025-04-17 05:19:21] Saved t_2024-07-08_1800_1900.zarr\n"
     ]
    },
    {
     "name": "stderr",
     "output_type": "stream",
     "text": [
      "Saving Zarr pairs:  96%|█████████▌| 30737/32143 [1:25:15<3:26:56,  8.83s/it]"
     ]
    },
    {
     "name": "stdout",
     "output_type": "stream",
     "text": [
      "[2025-04-17 05:20:00] Saved t_2024-07-09_0000_0100.zarr\n"
     ]
    },
    {
     "name": "stderr",
     "output_type": "stream",
     "text": [
      "Saving Zarr pairs:  96%|█████████▌| 30740/32143 [1:25:19<2:02:24,  5.23s/it]"
     ]
    },
    {
     "name": "stdout",
     "output_type": "stream",
     "text": [
      "[2025-04-17 05:20:04] Saved t_2024-07-09_0600_0700.zarr\n"
     ]
    },
    {
     "name": "stderr",
     "output_type": "stream",
     "text": [
      "Saving Zarr pairs:  96%|█████████▌| 30741/32143 [1:25:23<1:53:43,  4.87s/it]"
     ]
    },
    {
     "name": "stdout",
     "output_type": "stream",
     "text": [
      "[2025-04-17 05:20:08] Saved t_2024-07-09_1200_1300.zarr\n"
     ]
    },
    {
     "name": "stderr",
     "output_type": "stream",
     "text": [
      "Saving Zarr pairs:  96%|█████████▌| 30743/32143 [1:25:26<1:25:00,  3.64s/it]"
     ]
    },
    {
     "name": "stdout",
     "output_type": "stream",
     "text": [
      "[2025-04-17 05:20:12] Saved t_2024-07-09_1800_1900.zarr\n"
     ]
    },
    {
     "name": "stderr",
     "output_type": "stream",
     "text": [
      "Saving Zarr pairs:  96%|█████████▌| 30746/32143 [1:25:35<1:14:52,  3.22s/it]"
     ]
    },
    {
     "name": "stdout",
     "output_type": "stream",
     "text": [
      "[2025-04-17 05:20:21] Saved t_2024-07-10_0000_0100.zarr\n"
     ]
    },
    {
     "name": "stderr",
     "output_type": "stream",
     "text": [
      "Saving Zarr pairs:  96%|█████████▌| 30747/32143 [1:25:38<1:10:03,  3.01s/it]"
     ]
    },
    {
     "name": "stdout",
     "output_type": "stream",
     "text": [
      "[2025-04-17 05:20:23] Saved t_2024-07-10_0600_0700.zarr\n"
     ]
    },
    {
     "name": "stderr",
     "output_type": "stream",
     "text": [
      "Saving Zarr pairs:  96%|█████████▌| 30749/32143 [1:25:41<58:30,  2.52s/it]  "
     ]
    },
    {
     "name": "stdout",
     "output_type": "stream",
     "text": [
      "[2025-04-17 05:20:27] Saved t_2024-07-10_1200_1300.zarr\n"
     ]
    },
    {
     "name": "stderr",
     "output_type": "stream",
     "text": [
      "Saving Zarr pairs:  96%|█████████▌| 30751/32143 [1:25:46<57:05,  2.46s/it]"
     ]
    },
    {
     "name": "stdout",
     "output_type": "stream",
     "text": [
      "[2025-04-17 05:20:32] Saved t_2024-07-10_1800_1900.zarr\n"
     ]
    },
    {
     "name": "stderr",
     "output_type": "stream",
     "text": [
      "Saving Zarr pairs:  96%|█████████▌| 30753/32143 [1:26:26<3:14:59,  8.42s/it]"
     ]
    },
    {
     "name": "stdout",
     "output_type": "stream",
     "text": [
      "[2025-04-17 05:21:12] Saved t_2024-07-11_0000_0100.zarr\n"
     ]
    },
    {
     "name": "stderr",
     "output_type": "stream",
     "text": [
      "Saving Zarr pairs:  96%|█████████▌| 30755/32143 [1:26:29<2:22:52,  6.18s/it]"
     ]
    },
    {
     "name": "stdout",
     "output_type": "stream",
     "text": [
      "[2025-04-17 05:21:15] Saved t_2024-07-11_0600_0700.zarr\n"
     ]
    },
    {
     "name": "stderr",
     "output_type": "stream",
     "text": [
      "Saving Zarr pairs:  96%|█████████▌| 30757/32143 [1:26:34<1:55:09,  4.99s/it]"
     ]
    },
    {
     "name": "stdout",
     "output_type": "stream",
     "text": [
      "[2025-04-17 05:21:20] Saved t_2024-07-11_1200_1300.zarr\n"
     ]
    },
    {
     "name": "stderr",
     "output_type": "stream",
     "text": [
      "Saving Zarr pairs:  96%|█████████▌| 30759/32143 [1:26:37<1:30:32,  3.93s/it]"
     ]
    },
    {
     "name": "stdout",
     "output_type": "stream",
     "text": [
      "[2025-04-17 05:21:23] Saved t_2024-07-11_1800_1900.zarr\n",
      "[2025-04-17 05:21:31] Saved t_2024-07-12_0600_0700.zarr\n"
     ]
    },
    {
     "name": "stderr",
     "output_type": "stream",
     "text": [
      "Saving Zarr pairs:  96%|█████████▌| 30762/32143 [1:26:48<1:22:57,  3.60s/it]"
     ]
    },
    {
     "name": "stdout",
     "output_type": "stream",
     "text": [
      "[2025-04-17 05:21:33] Saved t_2024-07-12_0000_0100.zarr\n"
     ]
    },
    {
     "name": "stderr",
     "output_type": "stream",
     "text": [
      "Saving Zarr pairs:  96%|█████████▌| 30765/32143 [1:26:51<56:52,  2.48s/it]  "
     ]
    },
    {
     "name": "stdout",
     "output_type": "stream",
     "text": [
      "[2025-04-17 05:21:37] Saved t_2024-07-12_1200_1300.zarr\n"
     ]
    },
    {
     "name": "stderr",
     "output_type": "stream",
     "text": [
      "Saving Zarr pairs:  96%|█████████▌| 30767/32143 [1:26:56<55:21,  2.41s/it]"
     ]
    },
    {
     "name": "stdout",
     "output_type": "stream",
     "text": [
      "[2025-04-17 05:21:41] Saved t_2024-07-12_1800_1900.zarr\n",
      "[2025-04-17 05:22:22] Saved t_2024-07-13_0600_0700.zarr\n"
     ]
    },
    {
     "name": "stderr",
     "output_type": "stream",
     "text": [
      "Saving Zarr pairs:  96%|█████████▌| 30769/32143 [1:27:38<3:02:39,  7.98s/it]"
     ]
    },
    {
     "name": "stdout",
     "output_type": "stream",
     "text": [
      "[2025-04-17 05:22:24] Saved t_2024-07-13_0000_0100.zarr\n"
     ]
    },
    {
     "name": "stderr",
     "output_type": "stream",
     "text": [
      "Saving Zarr pairs:  96%|█████████▌| 30774/32143 [1:27:44<1:16:31,  3.35s/it]"
     ]
    },
    {
     "name": "stdout",
     "output_type": "stream",
     "text": [
      "[2025-04-17 05:22:29] Saved t_2024-07-13_1200_1300.zarr\n"
     ]
    },
    {
     "name": "stderr",
     "output_type": "stream",
     "text": [
      "Saving Zarr pairs:  96%|█████████▌| 30775/32143 [1:27:47<1:14:27,  3.27s/it]"
     ]
    },
    {
     "name": "stdout",
     "output_type": "stream",
     "text": [
      "[2025-04-17 05:22:33] Saved t_2024-07-13_1800_1900.zarr\n"
     ]
    },
    {
     "name": "stderr",
     "output_type": "stream",
     "text": [
      "Saving Zarr pairs:  96%|█████████▌| 30777/32143 [1:27:55<1:19:39,  3.50s/it]"
     ]
    },
    {
     "name": "stdout",
     "output_type": "stream",
     "text": [
      "[2025-04-17 05:22:40] Saved t_2024-07-14_0000_0100.zarr\n"
     ]
    },
    {
     "name": "stderr",
     "output_type": "stream",
     "text": [
      "Saving Zarr pairs:  96%|█████████▌| 30779/32143 [1:27:57<1:00:07,  2.64s/it]"
     ]
    },
    {
     "name": "stdout",
     "output_type": "stream",
     "text": [
      "[2025-04-17 05:22:43] Saved t_2024-07-14_0600_0700.zarr\n"
     ]
    },
    {
     "name": "stderr",
     "output_type": "stream",
     "text": [
      "Saving Zarr pairs:  96%|█████████▌| 30782/32143 [1:28:01<42:11,  1.86s/it]  "
     ]
    },
    {
     "name": "stdout",
     "output_type": "stream",
     "text": [
      "[2025-04-17 05:22:46] Saved t_2024-07-14_1200_1300.zarr\n"
     ]
    },
    {
     "name": "stderr",
     "output_type": "stream",
     "text": [
      "Saving Zarr pairs:  96%|█████████▌| 30784/32143 [1:28:05<41:38,  1.84s/it]"
     ]
    },
    {
     "name": "stdout",
     "output_type": "stream",
     "text": [
      "[2025-04-17 05:22:50] Saved t_2024-07-14_1800_1900.zarr\n"
     ]
    },
    {
     "name": "stderr",
     "output_type": "stream",
     "text": [
      "Saving Zarr pairs:  96%|█████████▌| 30786/32143 [1:28:46<3:18:05,  8.76s/it]"
     ]
    },
    {
     "name": "stdout",
     "output_type": "stream",
     "text": [
      "[2025-04-17 05:23:32] Saved t_2024-07-15_0000_0100.zarr\n"
     ]
    },
    {
     "name": "stderr",
     "output_type": "stream",
     "text": [
      "Saving Zarr pairs:  96%|█████████▌| 30787/32143 [1:28:47<2:28:39,  6.58s/it]"
     ]
    },
    {
     "name": "stdout",
     "output_type": "stream",
     "text": [
      "[2025-04-17 05:23:33] Saved t_2024-07-15_0600_0700.zarr\n"
     ]
    },
    {
     "name": "stderr",
     "output_type": "stream",
     "text": [
      "Saving Zarr pairs:  96%|█████████▌| 30789/32143 [1:28:54<1:55:15,  5.11s/it]"
     ]
    },
    {
     "name": "stdout",
     "output_type": "stream",
     "text": [
      "[2025-04-17 05:23:39] Saved t_2024-07-15_1200_1300.zarr\n"
     ]
    },
    {
     "name": "stderr",
     "output_type": "stream",
     "text": [
      "Saving Zarr pairs:  96%|█████████▌| 30791/32143 [1:28:57<1:24:09,  3.74s/it]"
     ]
    },
    {
     "name": "stdout",
     "output_type": "stream",
     "text": [
      "[2025-04-17 05:23:42] Saved t_2024-07-15_1800_1900.zarr\n"
     ]
    },
    {
     "name": "stderr",
     "output_type": "stream",
     "text": [
      "Saving Zarr pairs:  96%|█████████▌| 30793/32143 [1:29:04<1:22:55,  3.69s/it]"
     ]
    },
    {
     "name": "stdout",
     "output_type": "stream",
     "text": [
      "[2025-04-17 05:23:49] Saved t_2024-07-16_0000_0100.zarr\n"
     ]
    },
    {
     "name": "stderr",
     "output_type": "stream",
     "text": [
      "Saving Zarr pairs:  96%|█████████▌| 30795/32143 [1:29:07<1:07:37,  3.01s/it]"
     ]
    },
    {
     "name": "stdout",
     "output_type": "stream",
     "text": [
      "[2025-04-17 05:23:53] Saved t_2024-07-16_0600_0700.zarr\n"
     ]
    },
    {
     "name": "stderr",
     "output_type": "stream",
     "text": [
      "Saving Zarr pairs:  96%|█████████▌| 30797/32143 [1:29:12<1:01:39,  2.75s/it]"
     ]
    },
    {
     "name": "stdout",
     "output_type": "stream",
     "text": [
      "[2025-04-17 05:23:57] Saved t_2024-07-16_1200_1300.zarr\n"
     ]
    },
    {
     "name": "stderr",
     "output_type": "stream",
     "text": [
      "Saving Zarr pairs:  96%|█████████▌| 30799/32143 [1:29:16<56:55,  2.54s/it]  "
     ]
    },
    {
     "name": "stdout",
     "output_type": "stream",
     "text": [
      "[2025-04-17 05:24:01] Saved t_2024-07-16_1800_1900.zarr\n"
     ]
    },
    {
     "name": "stderr",
     "output_type": "stream",
     "text": [
      "Saving Zarr pairs:  96%|█████████▌| 30802/32143 [1:29:56<2:25:41,  6.52s/it]"
     ]
    },
    {
     "name": "stdout",
     "output_type": "stream",
     "text": [
      "[2025-04-17 05:24:41] Saved t_2024-07-17_0000_0100.zarr\n"
     ]
    },
    {
     "name": "stderr",
     "output_type": "stream",
     "text": [
      "Saving Zarr pairs:  96%|█████████▌| 30804/32143 [1:29:59<1:40:47,  4.52s/it]"
     ]
    },
    {
     "name": "stdout",
     "output_type": "stream",
     "text": [
      "[2025-04-17 05:24:44] Saved t_2024-07-17_0600_0700.zarr\n"
     ]
    },
    {
     "name": "stderr",
     "output_type": "stream",
     "text": [
      "Saving Zarr pairs:  96%|█████████▌| 30805/32143 [1:30:04<1:44:20,  4.68s/it]"
     ]
    },
    {
     "name": "stdout",
     "output_type": "stream",
     "text": [
      "[2025-04-17 05:24:50] Saved t_2024-07-17_1200_1300.zarr\n"
     ]
    },
    {
     "name": "stderr",
     "output_type": "stream",
     "text": [
      "Saving Zarr pairs:  96%|█████████▌| 30807/32143 [1:30:07<1:15:20,  3.38s/it]"
     ]
    },
    {
     "name": "stdout",
     "output_type": "stream",
     "text": [
      "[2025-04-17 05:24:53] Saved t_2024-07-17_1800_1900.zarr\n"
     ]
    },
    {
     "name": "stderr",
     "output_type": "stream",
     "text": [
      "Saving Zarr pairs:  96%|█████████▌| 30810/32143 [1:30:15<1:04:03,  2.88s/it]"
     ]
    },
    {
     "name": "stdout",
     "output_type": "stream",
     "text": [
      "[2025-04-17 05:25:01] Saved t_2024-07-18_0000_0100.zarr\n"
     ]
    },
    {
     "name": "stderr",
     "output_type": "stream",
     "text": [
      "Saving Zarr pairs:  96%|█████████▌| 30812/32143 [1:30:20<53:31,  2.41s/it]  "
     ]
    },
    {
     "name": "stdout",
     "output_type": "stream",
     "text": [
      "[2025-04-17 05:25:05] Saved t_2024-07-18_0600_0700.zarr\n"
     ]
    },
    {
     "name": "stderr",
     "output_type": "stream",
     "text": [
      "Saving Zarr pairs:  96%|█████████▌| 30814/32143 [1:30:22<39:41,  1.79s/it]"
     ]
    },
    {
     "name": "stdout",
     "output_type": "stream",
     "text": [
      "[2025-04-17 05:25:08] Saved t_2024-07-18_1200_1300.zarr\n"
     ]
    },
    {
     "name": "stderr",
     "output_type": "stream",
     "text": [
      "Saving Zarr pairs:  96%|█████████▌| 30816/32143 [1:30:24<30:47,  1.39s/it]"
     ]
    },
    {
     "name": "stdout",
     "output_type": "stream",
     "text": [
      "[2025-04-17 05:25:10] Saved t_2024-07-18_1800_1900.zarr\n"
     ]
    },
    {
     "name": "stderr",
     "output_type": "stream",
     "text": [
      "Saving Zarr pairs:  96%|█████████▌| 30817/32143 [1:31:05<4:44:00, 12.85s/it]"
     ]
    },
    {
     "name": "stdout",
     "output_type": "stream",
     "text": [
      "[2025-04-17 05:25:51] Saved t_2024-07-19_0000_0100.zarr\n"
     ]
    },
    {
     "name": "stderr",
     "output_type": "stream",
     "text": [
      "Saving Zarr pairs:  96%|█████████▌| 30819/32143 [1:31:09<2:51:11,  7.76s/it]"
     ]
    },
    {
     "name": "stdout",
     "output_type": "stream",
     "text": [
      "[2025-04-17 05:25:54] Saved t_2024-07-19_0600_0700.zarr\n"
     ]
    },
    {
     "name": "stderr",
     "output_type": "stream",
     "text": [
      "Saving Zarr pairs:  96%|█████████▌| 30821/32143 [1:31:14<2:06:05,  5.72s/it]"
     ]
    },
    {
     "name": "stdout",
     "output_type": "stream",
     "text": [
      "[2025-04-17 05:25:59] Saved t_2024-07-19_1200_1300.zarr\n"
     ]
    },
    {
     "name": "stderr",
     "output_type": "stream",
     "text": [
      "Saving Zarr pairs:  96%|█████████▌| 30823/32143 [1:31:17<1:32:47,  4.22s/it]"
     ]
    },
    {
     "name": "stdout",
     "output_type": "stream",
     "text": [
      "[2025-04-17 05:26:02] Saved t_2024-07-19_1800_1900.zarr\n"
     ]
    },
    {
     "name": "stderr",
     "output_type": "stream",
     "text": [
      "Saving Zarr pairs:  96%|█████████▌| 30825/32143 [1:31:25<1:32:52,  4.23s/it]"
     ]
    },
    {
     "name": "stdout",
     "output_type": "stream",
     "text": [
      "[2025-04-17 05:26:11] Saved t_2024-07-20_0000_0100.zarr\n"
     ]
    },
    {
     "name": "stderr",
     "output_type": "stream",
     "text": [
      "Saving Zarr pairs:  96%|█████████▌| 30828/32143 [1:31:29<1:02:28,  2.85s/it]"
     ]
    },
    {
     "name": "stdout",
     "output_type": "stream",
     "text": [
      "[2025-04-17 05:26:15] Saved t_2024-07-20_0600_0700.zarr\n"
     ]
    },
    {
     "name": "stderr",
     "output_type": "stream",
     "text": [
      "Saving Zarr pairs:  96%|█████████▌| 30830/32143 [1:31:32<47:52,  2.19s/it]  "
     ]
    },
    {
     "name": "stdout",
     "output_type": "stream",
     "text": [
      "[2025-04-17 05:26:17] Saved t_2024-07-20_1200_1300.zarr\n"
     ]
    },
    {
     "name": "stderr",
     "output_type": "stream",
     "text": [
      "Saving Zarr pairs:  96%|█████████▌| 30831/32143 [1:31:34<47:37,  2.18s/it]"
     ]
    },
    {
     "name": "stdout",
     "output_type": "stream",
     "text": [
      "[2025-04-17 05:26:20] Saved t_2024-07-20_1800_1900.zarr\n"
     ]
    },
    {
     "name": "stderr",
     "output_type": "stream",
     "text": [
      "Saving Zarr pairs:  96%|█████████▌| 30834/32143 [1:32:16<2:46:36,  7.64s/it]"
     ]
    },
    {
     "name": "stdout",
     "output_type": "stream",
     "text": [
      "[2025-04-17 05:27:01] Saved t_2024-07-21_0000_0100.zarr\n"
     ]
    },
    {
     "name": "stderr",
     "output_type": "stream",
     "text": [
      "Saving Zarr pairs:  96%|█████████▌| 30836/32143 [1:32:19<1:47:19,  4.93s/it]"
     ]
    },
    {
     "name": "stdout",
     "output_type": "stream",
     "text": [
      "[2025-04-17 05:27:05] Saved t_2024-07-21_0600_0700.zarr\n"
     ]
    },
    {
     "name": "stderr",
     "output_type": "stream",
     "text": [
      "Saving Zarr pairs:  96%|█████████▌| 30837/32143 [1:32:23<1:39:48,  4.59s/it]"
     ]
    },
    {
     "name": "stdout",
     "output_type": "stream",
     "text": [
      "[2025-04-17 05:27:08] Saved t_2024-07-21_1200_1300.zarr\n"
     ]
    },
    {
     "name": "stderr",
     "output_type": "stream",
     "text": [
      "Saving Zarr pairs:  96%|█████████▌| 30840/32143 [1:32:29<1:06:07,  3.04s/it]"
     ]
    },
    {
     "name": "stdout",
     "output_type": "stream",
     "text": [
      "[2025-04-17 05:27:15] Saved t_2024-07-21_1800_1900.zarr\n"
     ]
    },
    {
     "name": "stderr",
     "output_type": "stream",
     "text": [
      "Saving Zarr pairs:  96%|█████████▌| 30841/32143 [1:32:34<1:15:57,  3.50s/it]"
     ]
    },
    {
     "name": "stdout",
     "output_type": "stream",
     "text": [
      "[2025-04-17 05:27:20] Saved t_2024-07-22_0000_0100.zarr\n"
     ]
    },
    {
     "name": "stderr",
     "output_type": "stream",
     "text": [
      "Saving Zarr pairs:  96%|█████████▌| 30843/32143 [1:32:39<1:06:52,  3.09s/it]"
     ]
    },
    {
     "name": "stdout",
     "output_type": "stream",
     "text": [
      "[2025-04-17 05:27:25] Saved t_2024-07-22_1200_1300.zarr\n",
      "[2025-04-17 05:27:25] Saved t_2024-07-22_0600_0700.zarr\n"
     ]
    },
    {
     "name": "stderr",
     "output_type": "stream",
     "text": [
      "Saving Zarr pairs:  96%|█████████▌| 30847/32143 [1:32:44<43:37,  2.02s/it]  "
     ]
    },
    {
     "name": "stdout",
     "output_type": "stream",
     "text": [
      "[2025-04-17 05:27:30] Saved t_2024-07-22_1800_1900.zarr\n",
      "[2025-04-17 05:28:13] Saved t_2024-07-23_0600_0700.zarr\n"
     ]
    },
    {
     "name": "stderr",
     "output_type": "stream",
     "text": [
      "Saving Zarr pairs:  96%|█████████▌| 30850/32143 [1:33:31<2:35:36,  7.22s/it]"
     ]
    },
    {
     "name": "stdout",
     "output_type": "stream",
     "text": [
      "[2025-04-17 05:28:16] Saved t_2024-07-23_0000_0100.zarr\n"
     ]
    },
    {
     "name": "stderr",
     "output_type": "stream",
     "text": [
      "Saving Zarr pairs:  96%|█████████▌| 30853/32143 [1:33:36<1:41:08,  4.70s/it]"
     ]
    },
    {
     "name": "stdout",
     "output_type": "stream",
     "text": [
      "[2025-04-17 05:28:21] Saved t_2024-07-23_1200_1300.zarr\n"
     ]
    },
    {
     "name": "stderr",
     "output_type": "stream",
     "text": [
      "Saving Zarr pairs:  96%|█████████▌| 30855/32143 [1:33:39<1:20:27,  3.75s/it]"
     ]
    },
    {
     "name": "stdout",
     "output_type": "stream",
     "text": [
      "[2025-04-17 05:28:24] Saved t_2024-07-23_1800_1900.zarr\n"
     ]
    },
    {
     "name": "stderr",
     "output_type": "stream",
     "text": [
      "Saving Zarr pairs:  96%|█████████▌| 30857/32143 [1:33:44<1:12:42,  3.39s/it]"
     ]
    },
    {
     "name": "stdout",
     "output_type": "stream",
     "text": [
      "[2025-04-17 05:28:29] Saved t_2024-07-24_0000_0100.zarr\n"
     ]
    },
    {
     "name": "stderr",
     "output_type": "stream",
     "text": [
      "Saving Zarr pairs:  96%|█████████▌| 30859/32143 [1:33:48<1:03:25,  2.96s/it]"
     ]
    },
    {
     "name": "stdout",
     "output_type": "stream",
     "text": [
      "[2025-04-17 05:28:33] Saved t_2024-07-24_0600_0700.zarr\n"
     ]
    },
    {
     "name": "stderr",
     "output_type": "stream",
     "text": [
      "Saving Zarr pairs:  96%|█████████▌| 30861/32143 [1:33:51<53:54,  2.52s/it]  "
     ]
    },
    {
     "name": "stdout",
     "output_type": "stream",
     "text": [
      "[2025-04-17 05:28:36] Saved t_2024-07-24_1200_1300.zarr\n"
     ]
    },
    {
     "name": "stderr",
     "output_type": "stream",
     "text": [
      "Saving Zarr pairs:  96%|█████████▌| 30863/32143 [1:33:53<45:48,  2.15s/it]"
     ]
    },
    {
     "name": "stdout",
     "output_type": "stream",
     "text": [
      "[2025-04-17 05:28:39] Saved t_2024-07-24_1800_1900.zarr\n"
     ]
    },
    {
     "name": "stderr",
     "output_type": "stream",
     "text": [
      "Saving Zarr pairs:  96%|█████████▌| 30865/32143 [1:34:37<2:52:20,  8.09s/it]"
     ]
    },
    {
     "name": "stdout",
     "output_type": "stream",
     "text": [
      "[2025-04-17 05:29:23] Saved t_2024-07-25_0000_0100.zarr\n"
     ]
    },
    {
     "name": "stderr",
     "output_type": "stream",
     "text": [
      "Saving Zarr pairs:  96%|█████████▌| 30868/32143 [1:34:41<1:48:17,  5.10s/it]"
     ]
    },
    {
     "name": "stdout",
     "output_type": "stream",
     "text": [
      "[2025-04-17 05:29:26] Saved t_2024-07-25_0600_0700.zarr\n"
     ]
    },
    {
     "name": "stderr",
     "output_type": "stream",
     "text": [
      "Saving Zarr pairs:  96%|█████████▌| 30870/32143 [1:34:45<1:22:54,  3.91s/it]"
     ]
    },
    {
     "name": "stdout",
     "output_type": "stream",
     "text": [
      "[2025-04-17 05:29:31] Saved t_2024-07-25_1200_1300.zarr\n"
     ]
    },
    {
     "name": "stderr",
     "output_type": "stream",
     "text": [
      "Saving Zarr pairs:  96%|█████████▌| 30871/32143 [1:34:48<1:15:52,  3.58s/it]"
     ]
    },
    {
     "name": "stdout",
     "output_type": "stream",
     "text": [
      "[2025-04-17 05:29:33] Saved t_2024-07-25_1800_1900.zarr\n"
     ]
    },
    {
     "name": "stderr",
     "output_type": "stream",
     "text": [
      "Saving Zarr pairs:  96%|█████████▌| 30873/32143 [1:34:54<1:11:15,  3.37s/it]"
     ]
    },
    {
     "name": "stdout",
     "output_type": "stream",
     "text": [
      "[2025-04-17 05:29:39] Saved t_2024-07-26_0000_0100.zarr\n"
     ]
    },
    {
     "name": "stderr",
     "output_type": "stream",
     "text": [
      "Saving Zarr pairs:  96%|█████████▌| 30875/32143 [1:34:58<59:18,  2.81s/it]  "
     ]
    },
    {
     "name": "stdout",
     "output_type": "stream",
     "text": [
      "[2025-04-17 05:29:43] Saved t_2024-07-26_0600_0700.zarr\n"
     ]
    },
    {
     "name": "stderr",
     "output_type": "stream",
     "text": [
      "Saving Zarr pairs:  96%|█████████▌| 30877/32143 [1:35:00<49:13,  2.33s/it]"
     ]
    },
    {
     "name": "stdout",
     "output_type": "stream",
     "text": [
      "[2025-04-17 05:29:46] Saved t_2024-07-26_1200_1300.zarr\n"
     ]
    },
    {
     "name": "stderr",
     "output_type": "stream",
     "text": [
      "Saving Zarr pairs:  96%|█████████▌| 30879/32143 [1:35:03<42:32,  2.02s/it]"
     ]
    },
    {
     "name": "stdout",
     "output_type": "stream",
     "text": [
      "[2025-04-17 05:29:49] Saved t_2024-07-26_1800_1900.zarr\n"
     ]
    },
    {
     "name": "stderr",
     "output_type": "stream",
     "text": [
      "Saving Zarr pairs:  96%|█████████▌| 30882/32143 [1:35:48<2:25:33,  6.93s/it]"
     ]
    },
    {
     "name": "stdout",
     "output_type": "stream",
     "text": [
      "[2025-04-17 05:30:33] Saved t_2024-07-27_0000_0100.zarr\n"
     ]
    },
    {
     "name": "stderr",
     "output_type": "stream",
     "text": [
      "Saving Zarr pairs:  96%|█████████▌| 30883/32143 [1:35:51<2:09:11,  6.15s/it]"
     ]
    },
    {
     "name": "stdout",
     "output_type": "stream",
     "text": [
      "[2025-04-17 05:30:37] Saved t_2024-07-27_0600_0700.zarr\n"
     ]
    },
    {
     "name": "stderr",
     "output_type": "stream",
     "text": [
      "Saving Zarr pairs:  96%|█████████▌| 30885/32143 [1:35:56<1:40:43,  4.80s/it]"
     ]
    },
    {
     "name": "stdout",
     "output_type": "stream",
     "text": [
      "[2025-04-17 05:30:42] Saved t_2024-07-27_1200_1300.zarr\n"
     ]
    },
    {
     "name": "stderr",
     "output_type": "stream",
     "text": [
      "Saving Zarr pairs:  96%|█████████▌| 30888/32143 [1:35:59<1:00:39,  2.90s/it]"
     ]
    },
    {
     "name": "stdout",
     "output_type": "stream",
     "text": [
      "[2025-04-17 05:30:44] Saved t_2024-07-27_1800_1900.zarr\n"
     ]
    },
    {
     "name": "stderr",
     "output_type": "stream",
     "text": [
      "Saving Zarr pairs:  96%|█████████▌| 30890/32143 [1:36:05<56:14,  2.69s/it]  "
     ]
    },
    {
     "name": "stdout",
     "output_type": "stream",
     "text": [
      "[2025-04-17 05:30:50] Saved t_2024-07-28_0000_0100.zarr\n",
      "[2025-04-17 05:30:55] Saved t_2024-07-28_1200_1300.zarr\n"
     ]
    },
    {
     "name": "stderr",
     "output_type": "stream",
     "text": [
      "Saving Zarr pairs:  96%|█████████▌| 30891/32143 [1:36:11<1:17:26,  3.71s/it]"
     ]
    },
    {
     "name": "stdout",
     "output_type": "stream",
     "text": [
      "[2025-04-17 05:30:57] Saved t_2024-07-28_0600_0700.zarr\n"
     ]
    },
    {
     "name": "stderr",
     "output_type": "stream",
     "text": [
      "Saving Zarr pairs:  96%|█████████▌| 30895/32143 [1:36:15<42:09,  2.03s/it]  "
     ]
    },
    {
     "name": "stdout",
     "output_type": "stream",
     "text": [
      "[2025-04-17 05:31:00] Saved t_2024-07-28_1800_1900.zarr\n"
     ]
    },
    {
     "name": "stderr",
     "output_type": "stream",
     "text": [
      "Saving Zarr pairs:  96%|█████████▌| 30897/32143 [1:36:57<2:40:32,  7.73s/it]"
     ]
    },
    {
     "name": "stdout",
     "output_type": "stream",
     "text": [
      "[2025-04-17 05:31:43] Saved t_2024-07-29_0000_0100.zarr\n"
     ]
    },
    {
     "name": "stderr",
     "output_type": "stream",
     "text": [
      "Saving Zarr pairs:  96%|█████████▌| 30899/32143 [1:37:00<2:01:11,  5.84s/it]"
     ]
    },
    {
     "name": "stdout",
     "output_type": "stream",
     "text": [
      "[2025-04-17 05:31:46] Saved t_2024-07-29_0600_0700.zarr\n",
      "[2025-04-17 05:31:50] Saved t_2024-07-29_1800_1900.zarr\n"
     ]
    },
    {
     "name": "stderr",
     "output_type": "stream",
     "text": [
      "Saving Zarr pairs:  96%|█████████▌| 30901/32143 [1:37:08<1:48:46,  5.26s/it]"
     ]
    },
    {
     "name": "stdout",
     "output_type": "stream",
     "text": [
      "[2025-04-17 05:31:53] Saved t_2024-07-29_1200_1300.zarr\n"
     ]
    },
    {
     "name": "stderr",
     "output_type": "stream",
     "text": [
      "Saving Zarr pairs:  96%|█████████▌| 30906/32143 [1:37:14<1:02:26,  3.03s/it]"
     ]
    },
    {
     "name": "stdout",
     "output_type": "stream",
     "text": [
      "[2025-04-17 05:31:59] Saved t_2024-07-30_0000_0100.zarr\n"
     ]
    },
    {
     "name": "stderr",
     "output_type": "stream",
     "text": [
      "Saving Zarr pairs:  96%|█████████▌| 30907/32143 [1:37:18<1:06:15,  3.22s/it]"
     ]
    },
    {
     "name": "stdout",
     "output_type": "stream",
     "text": [
      "[2025-04-17 05:32:03] Saved t_2024-07-30_0600_0700.zarr\n"
     ]
    },
    {
     "name": "stderr",
     "output_type": "stream",
     "text": [
      "Saving Zarr pairs:  96%|█████████▌| 30909/32143 [1:37:20<52:57,  2.57s/it]  "
     ]
    },
    {
     "name": "stdout",
     "output_type": "stream",
     "text": [
      "[2025-04-17 05:32:06] Saved t_2024-07-30_1200_1300.zarr\n"
     ]
    },
    {
     "name": "stderr",
     "output_type": "stream",
     "text": [
      "Saving Zarr pairs:  96%|█████████▌| 30911/32143 [1:37:23<46:18,  2.25s/it]"
     ]
    },
    {
     "name": "stdout",
     "output_type": "stream",
     "text": [
      "[2025-04-17 05:32:09] Saved t_2024-07-30_1800_1900.zarr\n"
     ]
    },
    {
     "name": "stderr",
     "output_type": "stream",
     "text": [
      "Saving Zarr pairs:  96%|█████████▌| 30913/32143 [1:38:06<2:49:03,  8.25s/it]"
     ]
    },
    {
     "name": "stdout",
     "output_type": "stream",
     "text": [
      "[2025-04-17 05:32:52] Saved t_2024-07-31_0000_0100.zarr\n"
     ]
    },
    {
     "name": "stderr",
     "output_type": "stream",
     "text": [
      "Saving Zarr pairs:  96%|█████████▌| 30915/32143 [1:38:11<2:11:00,  6.40s/it]"
     ]
    },
    {
     "name": "stdout",
     "output_type": "stream",
     "text": [
      "[2025-04-17 05:32:56] Saved t_2024-07-31_0600_0700.zarr\n"
     ]
    },
    {
     "name": "stderr",
     "output_type": "stream",
     "text": [
      "Saving Zarr pairs:  96%|█████████▌| 30917/32143 [1:38:14<1:40:57,  4.94s/it]"
     ]
    },
    {
     "name": "stdout",
     "output_type": "stream",
     "text": [
      "[2025-04-17 05:33:00] Saved t_2024-07-31_1200_1300.zarr\n"
     ]
    },
    {
     "name": "stderr",
     "output_type": "stream",
     "text": [
      "Saving Zarr pairs:  96%|█████████▌| 30920/32143 [1:38:17<1:04:54,  3.18s/it]"
     ]
    },
    {
     "name": "stdout",
     "output_type": "stream",
     "text": [
      "[2025-04-17 05:33:02] Saved t_2024-07-31_1800_1900.zarr\n"
     ]
    },
    {
     "name": "stderr",
     "output_type": "stream",
     "text": [
      "Saving Zarr pairs:  96%|█████████▌| 30921/32143 [1:38:24<1:19:15,  3.89s/it]"
     ]
    },
    {
     "name": "stdout",
     "output_type": "stream",
     "text": [
      "[2025-04-17 05:33:09] Saved t_2024-08-01_0000_0100.zarr\n",
      "[2025-04-17 05:33:13] Saved t_2024-08-01_1200_1300.zarr\n"
     ]
    },
    {
     "name": "stderr",
     "output_type": "stream",
     "text": [
      "Saving Zarr pairs:  96%|█████████▌| 30924/32143 [1:38:29<57:01,  2.81s/it]  "
     ]
    },
    {
     "name": "stdout",
     "output_type": "stream",
     "text": [
      "[2025-04-17 05:33:15] Saved t_2024-08-01_0600_0700.zarr\n"
     ]
    },
    {
     "name": "stderr",
     "output_type": "stream",
     "text": [
      "Saving Zarr pairs:  96%|█████████▌| 30927/32143 [1:38:33<41:33,  2.05s/it]"
     ]
    },
    {
     "name": "stdout",
     "output_type": "stream",
     "text": [
      "[2025-04-17 05:33:19] Saved t_2024-08-01_1800_1900.zarr\n"
     ]
    },
    {
     "name": "stderr",
     "output_type": "stream",
     "text": [
      "Saving Zarr pairs:  96%|█████████▌| 30929/32143 [1:39:17<2:47:00,  8.25s/it]"
     ]
    },
    {
     "name": "stdout",
     "output_type": "stream",
     "text": [
      "[2025-04-17 05:34:03] Saved t_2024-08-02_0000_0100.zarr\n"
     ]
    },
    {
     "name": "stderr",
     "output_type": "stream",
     "text": [
      "Saving Zarr pairs:  96%|█████████▌| 30932/32143 [1:39:21<1:45:16,  5.22s/it]"
     ]
    },
    {
     "name": "stdout",
     "output_type": "stream",
     "text": [
      "[2025-04-17 05:34:07] Saved t_2024-08-02_0600_0700.zarr\n"
     ]
    },
    {
     "name": "stderr",
     "output_type": "stream",
     "text": [
      "Saving Zarr pairs:  96%|█████████▌| 30933/32143 [1:39:24<1:35:26,  4.73s/it]"
     ]
    },
    {
     "name": "stdout",
     "output_type": "stream",
     "text": [
      "[2025-04-17 05:34:10] Saved t_2024-08-02_1200_1300.zarr\n"
     ]
    },
    {
     "name": "stderr",
     "output_type": "stream",
     "text": [
      "Saving Zarr pairs:  96%|█████████▌| 30935/32143 [1:39:27<1:11:03,  3.53s/it]"
     ]
    },
    {
     "name": "stdout",
     "output_type": "stream",
     "text": [
      "[2025-04-17 05:34:13] Saved t_2024-08-02_1800_1900.zarr\n"
     ]
    },
    {
     "name": "stderr",
     "output_type": "stream",
     "text": [
      "Saving Zarr pairs:  96%|█████████▋| 30938/32143 [1:39:34<57:02,  2.84s/it]  "
     ]
    },
    {
     "name": "stdout",
     "output_type": "stream",
     "text": [
      "[2025-04-17 05:34:20] Saved t_2024-08-03_0000_0100.zarr\n",
      "[2025-04-17 05:34:23] Saved t_2024-08-03_1200_1300.zarr\n"
     ]
    },
    {
     "name": "stderr",
     "output_type": "stream",
     "text": [
      "Saving Zarr pairs:  96%|█████████▋| 30940/32143 [1:39:38<47:52,  2.39s/it]  "
     ]
    },
    {
     "name": "stdout",
     "output_type": "stream",
     "text": [
      "[2025-04-17 05:34:24] Saved t_2024-08-03_0600_0700.zarr\n"
     ]
    },
    {
     "name": "stderr",
     "output_type": "stream",
     "text": [
      "Saving Zarr pairs:  96%|█████████▋| 30943/32143 [1:39:44<43:24,  2.17s/it]"
     ]
    },
    {
     "name": "stdout",
     "output_type": "stream",
     "text": [
      "[2025-04-17 05:34:29] Saved t_2024-08-03_1800_1900.zarr\n",
      "[2025-04-17 05:35:13] Saved t_2024-08-04_0600_0700.zarr\n"
     ]
    },
    {
     "name": "stderr",
     "output_type": "stream",
     "text": [
      "Saving Zarr pairs:  96%|█████████▋| 30945/32143 [1:40:30<3:21:21, 10.08s/it]"
     ]
    },
    {
     "name": "stdout",
     "output_type": "stream",
     "text": [
      "[2025-04-17 05:35:16] Saved t_2024-08-04_0000_0100.zarr\n"
     ]
    },
    {
     "name": "stderr",
     "output_type": "stream",
     "text": [
      "Saving Zarr pairs:  96%|█████████▋| 30949/32143 [1:40:35<1:49:44,  5.51s/it]"
     ]
    },
    {
     "name": "stdout",
     "output_type": "stream",
     "text": [
      "[2025-04-17 05:35:21] Saved t_2024-08-04_1200_1300.zarr\n"
     ]
    },
    {
     "name": "stderr",
     "output_type": "stream",
     "text": [
      "Saving Zarr pairs:  96%|█████████▋| 30951/32143 [1:40:38<1:27:59,  4.43s/it]"
     ]
    },
    {
     "name": "stdout",
     "output_type": "stream",
     "text": [
      "[2025-04-17 05:35:24] Saved t_2024-08-04_1800_1900.zarr\n"
     ]
    },
    {
     "name": "stderr",
     "output_type": "stream",
     "text": [
      "Saving Zarr pairs:  96%|█████████▋| 30954/32143 [1:40:44<1:06:08,  3.34s/it]"
     ]
    },
    {
     "name": "stdout",
     "output_type": "stream",
     "text": [
      "[2025-04-17 05:35:29] Saved t_2024-08-05_0000_0100.zarr\n"
     ]
    },
    {
     "name": "stderr",
     "output_type": "stream",
     "text": [
      "Saving Zarr pairs:  96%|█████████▋| 30955/32143 [1:40:47<1:04:02,  3.23s/it]"
     ]
    },
    {
     "name": "stdout",
     "output_type": "stream",
     "text": [
      "[2025-04-17 05:35:32] Saved t_2024-08-05_0600_0700.zarr\n"
     ]
    },
    {
     "name": "stderr",
     "output_type": "stream",
     "text": [
      "Saving Zarr pairs:  96%|█████████▋| 30957/32143 [1:40:49<50:38,  2.56s/it]  "
     ]
    },
    {
     "name": "stdout",
     "output_type": "stream",
     "text": [
      "[2025-04-17 05:35:35] Saved t_2024-08-05_1200_1300.zarr\n"
     ]
    },
    {
     "name": "stderr",
     "output_type": "stream",
     "text": [
      "Saving Zarr pairs:  96%|█████████▋| 30959/32143 [1:40:52<43:13,  2.19s/it]"
     ]
    },
    {
     "name": "stdout",
     "output_type": "stream",
     "text": [
      "[2025-04-17 05:35:38] Saved t_2024-08-05_1800_1900.zarr\n"
     ]
    },
    {
     "name": "stderr",
     "output_type": "stream",
     "text": [
      "Saving Zarr pairs:  96%|█████████▋| 30961/32143 [1:41:36<2:48:01,  8.53s/it]"
     ]
    },
    {
     "name": "stdout",
     "output_type": "stream",
     "text": [
      "[2025-04-17 05:36:21] Saved t_2024-08-06_0000_0100.zarr\n"
     ]
    },
    {
     "name": "stderr",
     "output_type": "stream",
     "text": [
      "Saving Zarr pairs:  96%|█████████▋| 30963/32143 [1:41:38<2:02:15,  6.22s/it]"
     ]
    },
    {
     "name": "stdout",
     "output_type": "stream",
     "text": [
      "[2025-04-17 05:36:24] Saved t_2024-08-06_0600_0700.zarr\n"
     ]
    },
    {
     "name": "stderr",
     "output_type": "stream",
     "text": [
      "Saving Zarr pairs:  96%|█████████▋| 30965/32143 [1:41:44<1:42:37,  5.23s/it]"
     ]
    },
    {
     "name": "stdout",
     "output_type": "stream",
     "text": [
      "[2025-04-17 05:36:30] Saved t_2024-08-06_1200_1300.zarr\n"
     ]
    },
    {
     "name": "stderr",
     "output_type": "stream",
     "text": [
      "Saving Zarr pairs:  96%|█████████▋| 30968/32143 [1:41:48<1:03:14,  3.23s/it]"
     ]
    },
    {
     "name": "stdout",
     "output_type": "stream",
     "text": [
      "[2025-04-17 05:36:34] Saved t_2024-08-06_1800_1900.zarr\n"
     ]
    },
    {
     "name": "stderr",
     "output_type": "stream",
     "text": [
      "Saving Zarr pairs:  96%|█████████▋| 30970/32143 [1:41:53<52:49,  2.70s/it]  "
     ]
    },
    {
     "name": "stdout",
     "output_type": "stream",
     "text": [
      "[2025-04-17 05:36:39] Saved t_2024-08-07_0000_0100.zarr\n"
     ]
    },
    {
     "name": "stderr",
     "output_type": "stream",
     "text": [
      "Saving Zarr pairs:  96%|█████████▋| 30972/32143 [1:41:56<38:00,  1.95s/it]"
     ]
    },
    {
     "name": "stdout",
     "output_type": "stream",
     "text": [
      "[2025-04-17 05:36:41] Saved t_2024-08-07_0600_0700.zarr\n"
     ]
    },
    {
     "name": "stderr",
     "output_type": "stream",
     "text": [
      "Saving Zarr pairs:  96%|█████████▋| 30973/32143 [1:41:59<44:01,  2.26s/it]"
     ]
    },
    {
     "name": "stdout",
     "output_type": "stream",
     "text": [
      "[2025-04-17 05:36:44] Saved t_2024-08-07_1200_1300.zarr\n"
     ]
    },
    {
     "name": "stderr",
     "output_type": "stream",
     "text": [
      "Saving Zarr pairs:  96%|█████████▋| 30976/32143 [1:42:03<31:42,  1.63s/it]"
     ]
    },
    {
     "name": "stdout",
     "output_type": "stream",
     "text": [
      "[2025-04-17 05:36:48] Saved t_2024-08-07_1800_1900.zarr\n"
     ]
    },
    {
     "name": "stderr",
     "output_type": "stream",
     "text": [
      "Saving Zarr pairs:  96%|█████████▋| 30977/32143 [1:42:48<4:09:48, 12.85s/it]"
     ]
    },
    {
     "name": "stdout",
     "output_type": "stream",
     "text": [
      "[2025-04-17 05:37:34] Saved t_2024-08-08_0000_0100.zarr\n"
     ]
    },
    {
     "name": "stderr",
     "output_type": "stream",
     "text": [
      "Saving Zarr pairs:  96%|█████████▋| 30979/32143 [1:42:51<2:35:15,  8.00s/it]"
     ]
    },
    {
     "name": "stdout",
     "output_type": "stream",
     "text": [
      "[2025-04-17 05:37:36] Saved t_2024-08-08_0600_0700.zarr\n"
     ]
    },
    {
     "name": "stderr",
     "output_type": "stream",
     "text": [
      "Saving Zarr pairs:  96%|█████████▋| 30981/32143 [1:42:56<1:55:17,  5.95s/it]"
     ]
    },
    {
     "name": "stdout",
     "output_type": "stream",
     "text": [
      "[2025-04-17 05:37:42] Saved t_2024-08-08_1200_1300.zarr\n"
     ]
    },
    {
     "name": "stderr",
     "output_type": "stream",
     "text": [
      "Saving Zarr pairs:  96%|█████████▋| 30983/32143 [1:42:59<1:23:52,  4.34s/it]"
     ]
    },
    {
     "name": "stdout",
     "output_type": "stream",
     "text": [
      "[2025-04-17 05:37:44] Saved t_2024-08-08_1800_1900.zarr\n"
     ]
    },
    {
     "name": "stderr",
     "output_type": "stream",
     "text": [
      "Saving Zarr pairs:  96%|█████████▋| 30985/32143 [1:43:03<1:11:18,  3.69s/it]"
     ]
    },
    {
     "name": "stdout",
     "output_type": "stream",
     "text": [
      "[2025-04-17 05:37:49] Saved t_2024-08-09_0000_0100.zarr\n"
     ]
    },
    {
     "name": "stderr",
     "output_type": "stream",
     "text": [
      "Saving Zarr pairs:  96%|█████████▋| 30987/32143 [1:43:06<55:50,  2.90s/it]  "
     ]
    },
    {
     "name": "stdout",
     "output_type": "stream",
     "text": [
      "[2025-04-17 05:37:52] Saved t_2024-08-09_0600_0700.zarr\n"
     ]
    },
    {
     "name": "stderr",
     "output_type": "stream",
     "text": [
      "Saving Zarr pairs:  96%|█████████▋| 30990/32143 [1:43:10<40:19,  2.10s/it]"
     ]
    },
    {
     "name": "stdout",
     "output_type": "stream",
     "text": [
      "[2025-04-17 05:37:55] Saved t_2024-08-09_1200_1300.zarr\n"
     ]
    },
    {
     "name": "stderr",
     "output_type": "stream",
     "text": [
      "Saving Zarr pairs:  96%|█████████▋| 30991/32143 [1:43:12<43:01,  2.24s/it]"
     ]
    },
    {
     "name": "stdout",
     "output_type": "stream",
     "text": [
      "[2025-04-17 05:37:58] Saved t_2024-08-09_1800_1900.zarr\n"
     ]
    },
    {
     "name": "stderr",
     "output_type": "stream",
     "text": [
      "Saving Zarr pairs:  96%|█████████▋| 30993/32143 [1:43:58<3:08:43,  9.85s/it]"
     ]
    },
    {
     "name": "stdout",
     "output_type": "stream",
     "text": [
      "[2025-04-17 05:38:43] Saved t_2024-08-10_0000_0100.zarr\n"
     ]
    },
    {
     "name": "stderr",
     "output_type": "stream",
     "text": [
      "Saving Zarr pairs:  96%|█████████▋| 30996/32143 [1:44:01<1:46:36,  5.58s/it]"
     ]
    },
    {
     "name": "stdout",
     "output_type": "stream",
     "text": [
      "[2025-04-17 05:38:46] Saved t_2024-08-10_0600_0700.zarr\n"
     ]
    },
    {
     "name": "stderr",
     "output_type": "stream",
     "text": [
      "Saving Zarr pairs:  96%|█████████▋| 30997/32143 [1:44:06<1:43:40,  5.43s/it]"
     ]
    },
    {
     "name": "stdout",
     "output_type": "stream",
     "text": [
      "[2025-04-17 05:38:51] Saved t_2024-08-10_1200_1300.zarr\n"
     ]
    },
    {
     "name": "stderr",
     "output_type": "stream",
     "text": [
      "Saving Zarr pairs:  96%|█████████▋| 30999/32143 [1:44:08<1:14:03,  3.88s/it]"
     ]
    },
    {
     "name": "stdout",
     "output_type": "stream",
     "text": [
      "[2025-04-17 05:38:54] Saved t_2024-08-10_1800_1900.zarr\n"
     ]
    },
    {
     "name": "stderr",
     "output_type": "stream",
     "text": [
      "Saving Zarr pairs:  96%|█████████▋| 31001/32143 [1:44:12<1:01:00,  3.21s/it]"
     ]
    },
    {
     "name": "stdout",
     "output_type": "stream",
     "text": [
      "[2025-04-17 05:38:58] Saved t_2024-08-11_0000_0100.zarr\n"
     ]
    },
    {
     "name": "stderr",
     "output_type": "stream",
     "text": [
      "Saving Zarr pairs:  96%|█████████▋| 31004/32143 [1:44:16<40:46,  2.15s/it]  "
     ]
    },
    {
     "name": "stdout",
     "output_type": "stream",
     "text": [
      "[2025-04-17 05:39:01] Saved t_2024-08-11_0600_0700.zarr\n"
     ]
    },
    {
     "name": "stderr",
     "output_type": "stream",
     "text": [
      "Saving Zarr pairs:  96%|█████████▋| 31005/32143 [1:44:20<50:06,  2.64s/it]"
     ]
    },
    {
     "name": "stdout",
     "output_type": "stream",
     "text": [
      "[2025-04-17 05:39:06] Saved t_2024-08-11_1200_1300.zarr\n"
     ]
    },
    {
     "name": "stderr",
     "output_type": "stream",
     "text": [
      "Saving Zarr pairs:  96%|█████████▋| 31007/32143 [1:44:22<39:18,  2.08s/it]"
     ]
    },
    {
     "name": "stdout",
     "output_type": "stream",
     "text": [
      "[2025-04-17 05:39:08] Saved t_2024-08-11_1800_1900.zarr\n"
     ]
    },
    {
     "name": "stderr",
     "output_type": "stream",
     "text": [
      "Saving Zarr pairs:  96%|█████████▋| 31010/32143 [1:45:07<2:20:45,  7.45s/it]"
     ]
    },
    {
     "name": "stdout",
     "output_type": "stream",
     "text": [
      "[2025-04-17 05:39:53] Saved t_2024-08-12_0000_0100.zarr\n"
     ]
    },
    {
     "name": "stderr",
     "output_type": "stream",
     "text": [
      "Saving Zarr pairs:  96%|█████████▋| 31012/32143 [1:45:10<1:30:22,  4.79s/it]"
     ]
    },
    {
     "name": "stdout",
     "output_type": "stream",
     "text": [
      "[2025-04-17 05:39:55] Saved t_2024-08-12_0600_0700.zarr\n"
     ]
    },
    {
     "name": "stderr",
     "output_type": "stream",
     "text": [
      "Saving Zarr pairs:  96%|█████████▋| 31013/32143 [1:45:14<1:29:46,  4.77s/it]"
     ]
    },
    {
     "name": "stdout",
     "output_type": "stream",
     "text": [
      "[2025-04-17 05:40:00] Saved t_2024-08-12_1200_1300.zarr\n"
     ]
    },
    {
     "name": "stderr",
     "output_type": "stream",
     "text": [
      "Saving Zarr pairs:  96%|█████████▋| 31016/32143 [1:45:19<53:21,  2.84s/it]  "
     ]
    },
    {
     "name": "stdout",
     "output_type": "stream",
     "text": [
      "[2025-04-17 05:40:04] Saved t_2024-08-12_1800_1900.zarr\n"
     ]
    },
    {
     "name": "stderr",
     "output_type": "stream",
     "text": [
      "Saving Zarr pairs:  96%|█████████▋| 31017/32143 [1:45:22<54:30,  2.90s/it]"
     ]
    },
    {
     "name": "stdout",
     "output_type": "stream",
     "text": [
      "[2025-04-17 05:40:08] Saved t_2024-08-13_0000_0100.zarr\n"
     ]
    },
    {
     "name": "stderr",
     "output_type": "stream",
     "text": [
      "Saving Zarr pairs:  97%|█████████▋| 31019/32143 [1:45:25<43:24,  2.32s/it]"
     ]
    },
    {
     "name": "stdout",
     "output_type": "stream",
     "text": [
      "[2025-04-17 05:40:11] Saved t_2024-08-13_0600_0700.zarr\n"
     ]
    },
    {
     "name": "stderr",
     "output_type": "stream",
     "text": [
      "Saving Zarr pairs:  97%|█████████▋| 31021/32143 [1:45:32<53:33,  2.86s/it]"
     ]
    },
    {
     "name": "stdout",
     "output_type": "stream",
     "text": [
      "[2025-04-17 05:40:17] Saved t_2024-08-13_1200_1300.zarr\n"
     ]
    },
    {
     "name": "stderr",
     "output_type": "stream",
     "text": [
      "Saving Zarr pairs:  97%|█████████▋| 31023/32143 [1:45:32<33:26,  1.79s/it]"
     ]
    },
    {
     "name": "stdout",
     "output_type": "stream",
     "text": [
      "[2025-04-17 05:40:18] Saved t_2024-08-13_1800_1900.zarr\n"
     ]
    },
    {
     "name": "stderr",
     "output_type": "stream",
     "text": [
      "Saving Zarr pairs:  97%|█████████▋| 31026/32143 [1:46:16<2:44:03,  8.81s/it]"
     ]
    },
    {
     "name": "stdout",
     "output_type": "stream",
     "text": [
      "[2025-04-17 05:41:02] Saved t_2024-08-14_0000_0100.zarr\n"
     ]
    },
    {
     "name": "stderr",
     "output_type": "stream",
     "text": [
      "Saving Zarr pairs:  97%|█████████▋| 31027/32143 [1:46:18<2:10:07,  7.00s/it]"
     ]
    },
    {
     "name": "stdout",
     "output_type": "stream",
     "text": [
      "[2025-04-17 05:41:04] Saved t_2024-08-14_0600_0700.zarr\n"
     ]
    },
    {
     "name": "stderr",
     "output_type": "stream",
     "text": [
      "Saving Zarr pairs:  97%|█████████▋| 31030/32143 [1:46:23<1:10:20,  3.79s/it]"
     ]
    },
    {
     "name": "stdout",
     "output_type": "stream",
     "text": [
      "[2025-04-17 05:41:08] Saved t_2024-08-14_1200_1300.zarr\n"
     ]
    },
    {
     "name": "stderr",
     "output_type": "stream",
     "text": [
      "Saving Zarr pairs:  97%|█████████▋| 31032/32143 [1:46:29<1:00:34,  3.27s/it]"
     ]
    },
    {
     "name": "stdout",
     "output_type": "stream",
     "text": [
      "[2025-04-17 05:41:15] Saved t_2024-08-14_1800_1900.zarr\n"
     ]
    },
    {
     "name": "stderr",
     "output_type": "stream",
     "text": [
      "Saving Zarr pairs:  97%|█████████▋| 31033/32143 [1:46:32<58:48,  3.18s/it]  "
     ]
    },
    {
     "name": "stdout",
     "output_type": "stream",
     "text": [
      "[2025-04-17 05:41:18] Saved t_2024-08-15_0000_0100.zarr\n"
     ]
    },
    {
     "name": "stderr",
     "output_type": "stream",
     "text": [
      "Saving Zarr pairs:  97%|█████████▋| 31035/32143 [1:46:33<35:07,  1.90s/it]"
     ]
    },
    {
     "name": "stdout",
     "output_type": "stream",
     "text": [
      "[2025-04-17 05:41:18] Saved t_2024-08-15_0600_0700.zarr\n"
     ]
    },
    {
     "name": "stderr",
     "output_type": "stream",
     "text": [
      "Saving Zarr pairs:  97%|█████████▋| 31037/32143 [1:46:42<1:00:52,  3.30s/it]"
     ]
    },
    {
     "name": "stdout",
     "output_type": "stream",
     "text": [
      "[2025-04-17 05:41:27] Saved t_2024-08-15_1200_1300.zarr\n",
      "[2025-04-17 05:41:28] Saved t_2024-08-15_1800_1900.zarr\n"
     ]
    },
    {
     "name": "stderr",
     "output_type": "stream",
     "text": [
      "Saving Zarr pairs:  97%|█████████▋| 31042/32143 [1:47:26<2:42:59,  8.88s/it]"
     ]
    },
    {
     "name": "stdout",
     "output_type": "stream",
     "text": [
      "[2025-04-17 05:42:11] Saved t_2024-08-16_0000_0100.zarr\n"
     ]
    },
    {
     "name": "stderr",
     "output_type": "stream",
     "text": [
      "Saving Zarr pairs:  97%|█████████▋| 31043/32143 [1:47:26<2:01:22,  6.62s/it]"
     ]
    },
    {
     "name": "stdout",
     "output_type": "stream",
     "text": [
      "[2025-04-17 05:42:12] Saved t_2024-08-16_0600_0700.zarr\n"
     ]
    },
    {
     "name": "stderr",
     "output_type": "stream",
     "text": [
      "Saving Zarr pairs:  97%|█████████▋| 31046/32143 [1:47:34<1:13:32,  4.02s/it]"
     ]
    },
    {
     "name": "stdout",
     "output_type": "stream",
     "text": [
      "[2025-04-17 05:42:19] Saved t_2024-08-16_1200_1300.zarr\n",
      "[2025-04-17 05:42:26] Saved t_2024-08-17_0000_0100.zarr\n"
     ]
    },
    {
     "name": "stderr",
     "output_type": "stream",
     "text": [
      "Saving Zarr pairs:  97%|█████████▋| 31047/32143 [1:47:43<1:39:07,  5.43s/it]"
     ]
    },
    {
     "name": "stdout",
     "output_type": "stream",
     "text": [
      "[2025-04-17 05:42:29] Saved t_2024-08-16_1800_1900.zarr\n"
     ]
    },
    {
     "name": "stderr",
     "output_type": "stream",
     "text": [
      "Saving Zarr pairs:  97%|█████████▋| 31052/32143 [1:47:46<38:58,  2.14s/it]  "
     ]
    },
    {
     "name": "stdout",
     "output_type": "stream",
     "text": [
      "[2025-04-17 05:42:31] Saved t_2024-08-17_0600_0700.zarr\n"
     ]
    },
    {
     "name": "stderr",
     "output_type": "stream",
     "text": [
      "Saving Zarr pairs:  97%|█████████▋| 31053/32143 [1:47:51<49:06,  2.70s/it]"
     ]
    },
    {
     "name": "stdout",
     "output_type": "stream",
     "text": [
      "[2025-04-17 05:42:36] Saved t_2024-08-17_1200_1300.zarr\n"
     ]
    },
    {
     "name": "stderr",
     "output_type": "stream",
     "text": [
      "Saving Zarr pairs:  97%|█████████▋| 31055/32143 [1:47:53<40:06,  2.21s/it]"
     ]
    },
    {
     "name": "stdout",
     "output_type": "stream",
     "text": [
      "[2025-04-17 05:42:39] Saved t_2024-08-17_1800_1900.zarr\n",
      "[2025-04-17 05:43:19] Saved t_2024-08-18_0600_0700.zarr\n"
     ]
    },
    {
     "name": "stderr",
     "output_type": "stream",
     "text": [
      "Saving Zarr pairs:  97%|█████████▋| 31057/32143 [1:48:36<2:39:09,  8.79s/it]"
     ]
    },
    {
     "name": "stdout",
     "output_type": "stream",
     "text": [
      "[2025-04-17 05:43:22] Saved t_2024-08-18_0000_0100.zarr\n"
     ]
    },
    {
     "name": "stderr",
     "output_type": "stream",
     "text": [
      "Saving Zarr pairs:  97%|█████████▋| 31061/32143 [1:48:44<1:37:03,  5.38s/it]"
     ]
    },
    {
     "name": "stdout",
     "output_type": "stream",
     "text": [
      "[2025-04-17 05:43:29] Saved t_2024-08-18_1200_1300.zarr\n"
     ]
    },
    {
     "name": "stderr",
     "output_type": "stream",
     "text": [
      "Saving Zarr pairs:  97%|█████████▋| 31063/32143 [1:48:51<1:27:49,  4.88s/it]"
     ]
    },
    {
     "name": "stdout",
     "output_type": "stream",
     "text": [
      "[2025-04-17 05:43:36] Saved t_2024-08-18_1800_1900.zarr\n"
     ]
    },
    {
     "name": "stderr",
     "output_type": "stream",
     "text": [
      "Saving Zarr pairs:  97%|█████████▋| 31065/32143 [1:48:53<1:09:51,  3.89s/it]"
     ]
    },
    {
     "name": "stdout",
     "output_type": "stream",
     "text": [
      "[2025-04-17 05:43:39] Saved t_2024-08-19_0000_0100.zarr\n"
     ]
    },
    {
     "name": "stderr",
     "output_type": "stream",
     "text": [
      "Saving Zarr pairs:  97%|█████████▋| 31067/32143 [1:48:56<56:42,  3.16s/it]  "
     ]
    },
    {
     "name": "stdout",
     "output_type": "stream",
     "text": [
      "[2025-04-17 05:43:41] Saved t_2024-08-19_0600_0700.zarr\n"
     ]
    },
    {
     "name": "stderr",
     "output_type": "stream",
     "text": [
      "Saving Zarr pairs:  97%|█████████▋| 31070/32143 [1:49:01<45:42,  2.56s/it]"
     ]
    },
    {
     "name": "stdout",
     "output_type": "stream",
     "text": [
      "[2025-04-17 05:43:47] Saved t_2024-08-19_1200_1300.zarr\n"
     ]
    },
    {
     "name": "stderr",
     "output_type": "stream",
     "text": [
      "Saving Zarr pairs:  97%|█████████▋| 31071/32143 [1:49:02<37:53,  2.12s/it]"
     ]
    },
    {
     "name": "stdout",
     "output_type": "stream",
     "text": [
      "[2025-04-17 05:43:47] Saved t_2024-08-19_1800_1900.zarr\n"
     ]
    },
    {
     "name": "stderr",
     "output_type": "stream",
     "text": [
      "Saving Zarr pairs:  97%|█████████▋| 31073/32143 [1:49:44<2:38:51,  8.91s/it]"
     ]
    },
    {
     "name": "stdout",
     "output_type": "stream",
     "text": [
      "[2025-04-17 05:44:29] Saved t_2024-08-20_0000_0100.zarr\n"
     ]
    },
    {
     "name": "stderr",
     "output_type": "stream",
     "text": [
      "Saving Zarr pairs:  97%|█████████▋| 31076/32143 [1:49:47<1:31:51,  5.17s/it]"
     ]
    },
    {
     "name": "stdout",
     "output_type": "stream",
     "text": [
      "[2025-04-17 05:44:32] Saved t_2024-08-20_0600_0700.zarr\n"
     ]
    },
    {
     "name": "stderr",
     "output_type": "stream",
     "text": [
      "Saving Zarr pairs:  97%|█████████▋| 31077/32143 [1:49:56<1:45:12,  5.92s/it]"
     ]
    },
    {
     "name": "stdout",
     "output_type": "stream",
     "text": [
      "[2025-04-17 05:44:41] Saved t_2024-08-20_1200_1300.zarr\n"
     ]
    },
    {
     "name": "stderr",
     "output_type": "stream",
     "text": [
      "Saving Zarr pairs:  97%|█████████▋| 31079/32143 [1:50:00<1:19:08,  4.46s/it]"
     ]
    },
    {
     "name": "stdout",
     "output_type": "stream",
     "text": [
      "[2025-04-17 05:44:45] Saved t_2024-08-20_1800_1900.zarr\n"
     ]
    },
    {
     "name": "stderr",
     "output_type": "stream",
     "text": [
      "Saving Zarr pairs:  97%|█████████▋| 31082/32143 [1:50:03<49:49,  2.82s/it]  "
     ]
    },
    {
     "name": "stdout",
     "output_type": "stream",
     "text": [
      "[2025-04-17 05:44:49] Saved t_2024-08-21_0000_0100.zarr\n"
     ]
    },
    {
     "name": "stderr",
     "output_type": "stream",
     "text": [
      "Saving Zarr pairs:  97%|█████████▋| 31083/32143 [1:50:07<54:02,  3.06s/it]"
     ]
    },
    {
     "name": "stdout",
     "output_type": "stream",
     "text": [
      "[2025-04-17 05:44:53] Saved t_2024-08-21_0600_0700.zarr\n"
     ]
    },
    {
     "name": "stderr",
     "output_type": "stream",
     "text": [
      "Saving Zarr pairs:  97%|█████████▋| 31085/32143 [1:50:11<46:21,  2.63s/it]"
     ]
    },
    {
     "name": "stdout",
     "output_type": "stream",
     "text": [
      "[2025-04-17 05:44:57] Saved t_2024-08-21_1200_1300.zarr\n"
     ]
    },
    {
     "name": "stderr",
     "output_type": "stream",
     "text": [
      "Saving Zarr pairs:  97%|█████████▋| 31087/32143 [1:50:11<30:35,  1.74s/it]"
     ]
    },
    {
     "name": "stdout",
     "output_type": "stream",
     "text": [
      "[2025-04-17 05:44:57] Saved t_2024-08-21_1800_1900.zarr\n"
     ]
    },
    {
     "name": "stderr",
     "output_type": "stream",
     "text": [
      "Saving Zarr pairs:  97%|█████████▋| 31090/32143 [1:50:54<1:59:20,  6.80s/it]"
     ]
    },
    {
     "name": "stdout",
     "output_type": "stream",
     "text": [
      "[2025-04-17 05:45:40] Saved t_2024-08-22_0000_0100.zarr\n"
     ]
    },
    {
     "name": "stderr",
     "output_type": "stream",
     "text": [
      "Saving Zarr pairs:  97%|█████████▋| 31091/32143 [1:50:59<1:49:46,  6.26s/it]"
     ]
    },
    {
     "name": "stdout",
     "output_type": "stream",
     "text": [
      "[2025-04-17 05:45:44] Saved t_2024-08-22_0600_0700.zarr\n"
     ]
    },
    {
     "name": "stderr",
     "output_type": "stream",
     "text": [
      "Saving Zarr pairs:  97%|█████████▋| 31093/32143 [1:51:05<1:27:36,  5.01s/it]"
     ]
    },
    {
     "name": "stdout",
     "output_type": "stream",
     "text": [
      "[2025-04-17 05:45:50] Saved t_2024-08-22_1200_1300.zarr\n"
     ]
    },
    {
     "name": "stderr",
     "output_type": "stream",
     "text": [
      "Saving Zarr pairs:  97%|█████████▋| 31095/32143 [1:51:08<1:07:49,  3.88s/it]"
     ]
    },
    {
     "name": "stdout",
     "output_type": "stream",
     "text": [
      "[2025-04-17 05:45:54] Saved t_2024-08-22_1800_1900.zarr\n"
     ]
    },
    {
     "name": "stderr",
     "output_type": "stream",
     "text": [
      "Saving Zarr pairs:  97%|█████████▋| 31097/32143 [1:51:12<56:01,  3.21s/it]  "
     ]
    },
    {
     "name": "stdout",
     "output_type": "stream",
     "text": [
      "[2025-04-17 05:45:58] Saved t_2024-08-23_0000_0100.zarr\n"
     ]
    },
    {
     "name": "stderr",
     "output_type": "stream",
     "text": [
      "Saving Zarr pairs:  97%|█████████▋| 31099/32143 [1:51:17<50:28,  2.90s/it]"
     ]
    },
    {
     "name": "stdout",
     "output_type": "stream",
     "text": [
      "[2025-04-17 05:46:02] Saved t_2024-08-23_0600_0700.zarr\n",
      "[2025-04-17 05:46:05] Saved t_2024-08-23_1800_1900.zarr\n"
     ]
    },
    {
     "name": "stderr",
     "output_type": "stream",
     "text": [
      "Saving Zarr pairs:  97%|█████████▋| 31101/32143 [1:51:22<47:42,  2.75s/it]"
     ]
    },
    {
     "name": "stdout",
     "output_type": "stream",
     "text": [
      "[2025-04-17 05:46:07] Saved t_2024-08-23_1200_1300.zarr\n"
     ]
    },
    {
     "name": "stderr",
     "output_type": "stream",
     "text": [
      "Saving Zarr pairs:  97%|█████████▋| 31106/32143 [1:52:06<1:38:32,  5.70s/it]"
     ]
    },
    {
     "name": "stdout",
     "output_type": "stream",
     "text": [
      "[2025-04-17 05:46:51] Saved t_2024-08-24_0000_0100.zarr\n"
     ]
    },
    {
     "name": "stderr",
     "output_type": "stream",
     "text": [
      "Saving Zarr pairs:  97%|█████████▋| 31107/32143 [1:52:10<1:34:16,  5.46s/it]"
     ]
    },
    {
     "name": "stdout",
     "output_type": "stream",
     "text": [
      "[2025-04-17 05:46:55] Saved t_2024-08-24_0600_0700.zarr\n"
     ]
    },
    {
     "name": "stderr",
     "output_type": "stream",
     "text": [
      "Saving Zarr pairs:  97%|█████████▋| 31109/32143 [1:52:16<1:20:54,  4.69s/it]"
     ]
    },
    {
     "name": "stdout",
     "output_type": "stream",
     "text": [
      "[2025-04-17 05:47:02] Saved t_2024-08-24_1200_1300.zarr\n"
     ]
    },
    {
     "name": "stderr",
     "output_type": "stream",
     "text": [
      "Saving Zarr pairs:  97%|█████████▋| 31111/32143 [1:52:20<1:04:43,  3.76s/it]"
     ]
    },
    {
     "name": "stdout",
     "output_type": "stream",
     "text": [
      "[2025-04-17 05:47:05] Saved t_2024-08-24_1800_1900.zarr\n"
     ]
    },
    {
     "name": "stderr",
     "output_type": "stream",
     "text": [
      "Saving Zarr pairs:  97%|█████████▋| 31113/32143 [1:52:23<54:11,  3.16s/it]  "
     ]
    },
    {
     "name": "stdout",
     "output_type": "stream",
     "text": [
      "[2025-04-17 05:47:09] Saved t_2024-08-25_0000_0100.zarr\n"
     ]
    },
    {
     "name": "stderr",
     "output_type": "stream",
     "text": [
      "Saving Zarr pairs:  97%|█████████▋| 31115/32143 [1:52:29<52:18,  3.05s/it]"
     ]
    },
    {
     "name": "stdout",
     "output_type": "stream",
     "text": [
      "[2025-04-17 05:47:15] Saved t_2024-08-25_0600_0700.zarr\n",
      "[2025-04-17 05:47:17] Saved t_2024-08-25_1800_1900.zarr\n"
     ]
    },
    {
     "name": "stderr",
     "output_type": "stream",
     "text": [
      "Saving Zarr pairs:  97%|█████████▋| 31117/32143 [1:52:34<49:51,  2.92s/it]"
     ]
    },
    {
     "name": "stdout",
     "output_type": "stream",
     "text": [
      "[2025-04-17 05:47:20] Saved t_2024-08-25_1200_1300.zarr\n"
     ]
    },
    {
     "name": "stderr",
     "output_type": "stream",
     "text": [
      "Saving Zarr pairs:  97%|█████████▋| 31122/32143 [1:53:12<1:27:22,  5.14s/it]"
     ]
    },
    {
     "name": "stdout",
     "output_type": "stream",
     "text": [
      "[2025-04-17 05:47:58] Saved t_2024-08-26_0000_0100.zarr\n"
     ]
    },
    {
     "name": "stderr",
     "output_type": "stream",
     "text": [
      "Saving Zarr pairs:  97%|█████████▋| 31123/32143 [1:53:15<1:21:55,  4.82s/it]"
     ]
    },
    {
     "name": "stdout",
     "output_type": "stream",
     "text": [
      "[2025-04-17 05:48:01] Saved t_2024-08-26_0600_0700.zarr\n"
     ]
    },
    {
     "name": "stderr",
     "output_type": "stream",
     "text": [
      "Saving Zarr pairs:  97%|█████████▋| 31125/32143 [1:53:26<1:23:26,  4.92s/it]"
     ]
    },
    {
     "name": "stdout",
     "output_type": "stream",
     "text": [
      "[2025-04-17 05:48:11] Saved t_2024-08-26_1200_1300.zarr\n"
     ]
    },
    {
     "name": "stderr",
     "output_type": "stream",
     "text": [
      "Saving Zarr pairs:  97%|█████████▋| 31128/32143 [1:53:30<55:25,  3.28s/it]  "
     ]
    },
    {
     "name": "stdout",
     "output_type": "stream",
     "text": [
      "[2025-04-17 05:48:15] Saved t_2024-08-26_1800_1900.zarr\n"
     ]
    },
    {
     "name": "stderr",
     "output_type": "stream",
     "text": [
      "Saving Zarr pairs:  97%|█████████▋| 31130/32143 [1:53:34<45:34,  2.70s/it]"
     ]
    },
    {
     "name": "stdout",
     "output_type": "stream",
     "text": [
      "[2025-04-17 05:48:19] Saved t_2024-08-27_0000_0100.zarr\n"
     ]
    },
    {
     "name": "stderr",
     "output_type": "stream",
     "text": [
      "Saving Zarr pairs:  97%|█████████▋| 31132/32143 [1:53:40<43:35,  2.59s/it]"
     ]
    },
    {
     "name": "stdout",
     "output_type": "stream",
     "text": [
      "[2025-04-17 05:48:25] Saved t_2024-08-27_0600_0700.zarr\n"
     ]
    },
    {
     "name": "stderr",
     "output_type": "stream",
     "text": [
      "Saving Zarr pairs:  97%|█████████▋| 31133/32143 [1:53:43<44:05,  2.62s/it]"
     ]
    },
    {
     "name": "stdout",
     "output_type": "stream",
     "text": [
      "[2025-04-17 05:48:28] Saved t_2024-08-27_1200_1300.zarr\n"
     ]
    },
    {
     "name": "stderr",
     "output_type": "stream",
     "text": [
      "Saving Zarr pairs:  97%|█████████▋| 31135/32143 [1:53:43<26:20,  1.57s/it]"
     ]
    },
    {
     "name": "stdout",
     "output_type": "stream",
     "text": [
      "[2025-04-17 05:48:29] Saved t_2024-08-27_1800_1900.zarr\n"
     ]
    },
    {
     "name": "stderr",
     "output_type": "stream",
     "text": [
      "Saving Zarr pairs:  97%|█████████▋| 31137/32143 [1:54:22<2:21:14,  8.42s/it]"
     ]
    },
    {
     "name": "stdout",
     "output_type": "stream",
     "text": [
      "[2025-04-17 05:49:07] Saved t_2024-08-28_0000_0100.zarr\n"
     ]
    },
    {
     "name": "stderr",
     "output_type": "stream",
     "text": [
      "Saving Zarr pairs:  97%|█████████▋| 31139/32143 [1:54:26<1:42:43,  6.14s/it]"
     ]
    },
    {
     "name": "stdout",
     "output_type": "stream",
     "text": [
      "[2025-04-17 05:49:11] Saved t_2024-08-28_0600_0700.zarr\n"
     ]
    },
    {
     "name": "stderr",
     "output_type": "stream",
     "text": [
      "Saving Zarr pairs:  97%|█████████▋| 31141/32143 [1:54:34<1:30:06,  5.40s/it]"
     ]
    },
    {
     "name": "stdout",
     "output_type": "stream",
     "text": [
      "[2025-04-17 05:49:19] Saved t_2024-08-28_1200_1300.zarr\n"
     ]
    },
    {
     "name": "stderr",
     "output_type": "stream",
     "text": [
      "Saving Zarr pairs:  97%|█████████▋| 31144/32143 [1:54:38<58:00,  3.48s/it]  "
     ]
    },
    {
     "name": "stdout",
     "output_type": "stream",
     "text": [
      "[2025-04-17 05:49:23] Saved t_2024-08-28_1800_1900.zarr\n"
     ]
    },
    {
     "name": "stderr",
     "output_type": "stream",
     "text": [
      "Saving Zarr pairs:  97%|█████████▋| 31146/32143 [1:54:42<46:29,  2.80s/it]"
     ]
    },
    {
     "name": "stdout",
     "output_type": "stream",
     "text": [
      "[2025-04-17 05:49:27] Saved t_2024-08-29_0000_0100.zarr\n"
     ]
    },
    {
     "name": "stderr",
     "output_type": "stream",
     "text": [
      "Saving Zarr pairs:  97%|█████████▋| 31147/32143 [1:54:49<1:06:23,  4.00s/it]"
     ]
    },
    {
     "name": "stdout",
     "output_type": "stream",
     "text": [
      "[2025-04-17 05:49:35] Saved t_2024-08-29_0600_0700.zarr\n",
      "[2025-04-17 05:49:38] Saved t_2024-08-29_1800_1900.zarr\n"
     ]
    },
    {
     "name": "stderr",
     "output_type": "stream",
     "text": [
      "Saving Zarr pairs:  97%|█████████▋| 31149/32143 [1:54:53<50:21,  3.04s/it]  "
     ]
    },
    {
     "name": "stdout",
     "output_type": "stream",
     "text": [
      "[2025-04-17 05:49:38] Saved t_2024-08-29_1200_1300.zarr\n"
     ]
    },
    {
     "name": "stderr",
     "output_type": "stream",
     "text": [
      "Saving Zarr pairs:  97%|█████████▋| 31153/32143 [1:55:34<1:54:10,  6.92s/it]"
     ]
    },
    {
     "name": "stdout",
     "output_type": "stream",
     "text": [
      "[2025-04-17 05:50:19] Saved t_2024-08-30_0000_0100.zarr\n"
     ]
    },
    {
     "name": "stderr",
     "output_type": "stream",
     "text": [
      "Saving Zarr pairs:  97%|█████████▋| 31156/32143 [1:55:37<1:16:03,  4.62s/it]"
     ]
    },
    {
     "name": "stdout",
     "output_type": "stream",
     "text": [
      "[2025-04-17 05:50:23] Saved t_2024-08-30_0600_0700.zarr\n"
     ]
    },
    {
     "name": "stderr",
     "output_type": "stream",
     "text": [
      "Saving Zarr pairs:  97%|█████████▋| 31157/32143 [1:55:45<1:25:28,  5.20s/it]"
     ]
    },
    {
     "name": "stdout",
     "output_type": "stream",
     "text": [
      "[2025-04-17 05:50:31] Saved t_2024-08-30_1200_1300.zarr\n"
     ]
    },
    {
     "name": "stderr",
     "output_type": "stream",
     "text": [
      "Saving Zarr pairs:  97%|█████████▋| 31159/32143 [1:55:48<1:02:06,  3.79s/it]"
     ]
    },
    {
     "name": "stdout",
     "output_type": "stream",
     "text": [
      "[2025-04-17 05:50:33] Saved t_2024-08-30_1800_1900.zarr\n"
     ]
    },
    {
     "name": "stderr",
     "output_type": "stream",
     "text": [
      "Saving Zarr pairs:  97%|█████████▋| 31162/32143 [1:55:52<42:50,  2.62s/it]  "
     ]
    },
    {
     "name": "stdout",
     "output_type": "stream",
     "text": [
      "[2025-04-17 05:50:37] Saved t_2024-08-31_0000_0100.zarr\n",
      "[2025-04-17 05:50:46] Saved t_2024-08-31_1200_1300.zarr\n"
     ]
    },
    {
     "name": "stderr",
     "output_type": "stream",
     "text": [
      "Saving Zarr pairs:  97%|█████████▋| 31164/32143 [1:56:03<55:04,  3.38s/it]  "
     ]
    },
    {
     "name": "stdout",
     "output_type": "stream",
     "text": [
      "[2025-04-17 05:50:48] Saved t_2024-08-31_0600_0700.zarr\n"
     ]
    },
    {
     "name": "stderr",
     "output_type": "stream",
     "text": [
      "Saving Zarr pairs:  97%|█████████▋| 31167/32143 [1:56:05<34:29,  2.12s/it]"
     ]
    },
    {
     "name": "stdout",
     "output_type": "stream",
     "text": [
      "[2025-04-17 05:50:51] Saved t_2024-08-31_1800_1900.zarr\n"
     ]
    },
    {
     "name": "stderr",
     "output_type": "stream",
     "text": [
      "Saving Zarr pairs:  97%|█████████▋| 31169/32143 [1:56:43<2:02:00,  7.52s/it]"
     ]
    },
    {
     "name": "stdout",
     "output_type": "stream",
     "text": [
      "[2025-04-17 05:51:28] Saved t_2024-09-01_0000_0100.zarr\n"
     ]
    },
    {
     "name": "stderr",
     "output_type": "stream",
     "text": [
      "Saving Zarr pairs:  97%|█████████▋| 31171/32143 [1:56:47<1:32:56,  5.74s/it]"
     ]
    },
    {
     "name": "stdout",
     "output_type": "stream",
     "text": [
      "[2025-04-17 05:51:32] Saved t_2024-09-01_0600_0700.zarr\n"
     ]
    },
    {
     "name": "stderr",
     "output_type": "stream",
     "text": [
      "Saving Zarr pairs:  97%|█████████▋| 31173/32143 [1:56:54<1:22:59,  5.13s/it]"
     ]
    },
    {
     "name": "stdout",
     "output_type": "stream",
     "text": [
      "[2025-04-17 05:51:40] Saved t_2024-09-01_1200_1300.zarr\n"
     ]
    },
    {
     "name": "stderr",
     "output_type": "stream",
     "text": [
      "Saving Zarr pairs:  97%|█████████▋| 31175/32143 [1:56:58<1:05:54,  4.09s/it]"
     ]
    },
    {
     "name": "stdout",
     "output_type": "stream",
     "text": [
      "[2025-04-17 05:51:43] Saved t_2024-09-01_1800_1900.zarr\n"
     ]
    },
    {
     "name": "stderr",
     "output_type": "stream",
     "text": [
      "Saving Zarr pairs:  97%|█████████▋| 31177/32143 [1:57:01<52:33,  3.26s/it]  "
     ]
    },
    {
     "name": "stdout",
     "output_type": "stream",
     "text": [
      "[2025-04-17 05:51:46] Saved t_2024-09-02_0000_0100.zarr\n"
     ]
    },
    {
     "name": "stderr",
     "output_type": "stream",
     "text": [
      "Saving Zarr pairs:  97%|█████████▋| 31180/32143 [1:57:09<45:56,  2.86s/it]"
     ]
    },
    {
     "name": "stdout",
     "output_type": "stream",
     "text": [
      "[2025-04-17 05:51:55] Saved t_2024-09-02_0600_0700.zarr\n"
     ]
    },
    {
     "name": "stderr",
     "output_type": "stream",
     "text": [
      "Saving Zarr pairs:  97%|█████████▋| 31181/32143 [1:57:12<47:01,  2.93s/it]"
     ]
    },
    {
     "name": "stdout",
     "output_type": "stream",
     "text": [
      "[2025-04-17 05:51:58] Saved t_2024-09-02_1200_1300.zarr\n"
     ]
    },
    {
     "name": "stderr",
     "output_type": "stream",
     "text": [
      "Saving Zarr pairs:  97%|█████████▋| 31183/32143 [1:57:15<37:04,  2.32s/it]"
     ]
    },
    {
     "name": "stdout",
     "output_type": "stream",
     "text": [
      "[2025-04-17 05:52:01] Saved t_2024-09-02_1800_1900.zarr\n"
     ]
    },
    {
     "name": "stderr",
     "output_type": "stream",
     "text": [
      "Saving Zarr pairs:  97%|█████████▋| 31185/32143 [1:57:51<2:08:34,  8.05s/it]"
     ]
    },
    {
     "name": "stdout",
     "output_type": "stream",
     "text": [
      "[2025-04-17 05:52:37] Saved t_2024-09-03_0000_0100.zarr\n"
     ]
    },
    {
     "name": "stderr",
     "output_type": "stream",
     "text": [
      "Saving Zarr pairs:  97%|█████████▋| 31187/32143 [1:57:58<1:41:14,  6.35s/it]"
     ]
    },
    {
     "name": "stdout",
     "output_type": "stream",
     "text": [
      "[2025-04-17 05:52:43] Saved t_2024-09-03_0600_0700.zarr\n"
     ]
    },
    {
     "name": "stderr",
     "output_type": "stream",
     "text": [
      "Saving Zarr pairs:  97%|█████████▋| 31189/32143 [1:58:03<1:22:36,  5.20s/it]"
     ]
    },
    {
     "name": "stdout",
     "output_type": "stream",
     "text": [
      "[2025-04-17 05:52:49] Saved t_2024-09-03_1200_1300.zarr\n",
      "[2025-04-17 05:52:55] Saved t_2024-09-04_0000_0100.zarr\n"
     ]
    },
    {
     "name": "stderr",
     "output_type": "stream",
     "text": [
      "Saving Zarr pairs:  97%|█████████▋| 31191/32143 [1:58:11<1:15:05,  4.73s/it]"
     ]
    },
    {
     "name": "stdout",
     "output_type": "stream",
     "text": [
      "[2025-04-17 05:52:56] Saved t_2024-09-03_1800_1900.zarr\n"
     ]
    },
    {
     "name": "stderr",
     "output_type": "stream",
     "text": [
      "Saving Zarr pairs:  97%|█████████▋| 31196/32143 [1:58:18<45:18,  2.87s/it]  "
     ]
    },
    {
     "name": "stdout",
     "output_type": "stream",
     "text": [
      "[2025-04-17 05:53:03] Saved t_2024-09-04_0600_0700.zarr\n"
     ]
    },
    {
     "name": "stderr",
     "output_type": "stream",
     "text": [
      "Saving Zarr pairs:  97%|█████████▋| 31198/32143 [1:58:21<35:55,  2.28s/it]"
     ]
    },
    {
     "name": "stdout",
     "output_type": "stream",
     "text": [
      "[2025-04-17 05:53:06] Saved t_2024-09-04_1200_1300.zarr\n"
     ]
    },
    {
     "name": "stderr",
     "output_type": "stream",
     "text": [
      "Saving Zarr pairs:  97%|█████████▋| 31199/32143 [1:58:23<36:23,  2.31s/it]"
     ]
    },
    {
     "name": "stdout",
     "output_type": "stream",
     "text": [
      "[2025-04-17 05:53:09] Saved t_2024-09-04_1800_1900.zarr\n"
     ]
    },
    {
     "name": "stderr",
     "output_type": "stream",
     "text": [
      "Saving Zarr pairs:  97%|█████████▋| 31201/32143 [1:59:03<2:23:16,  9.13s/it]"
     ]
    },
    {
     "name": "stdout",
     "output_type": "stream",
     "text": [
      "[2025-04-17 05:53:49] Saved t_2024-09-05_0000_0100.zarr\n"
     ]
    },
    {
     "name": "stderr",
     "output_type": "stream",
     "text": [
      "Saving Zarr pairs:  97%|█████████▋| 31203/32143 [1:59:08<1:44:47,  6.69s/it]"
     ]
    },
    {
     "name": "stdout",
     "output_type": "stream",
     "text": [
      "[2025-04-17 05:53:53] Saved t_2024-09-05_0600_0700.zarr\n"
     ]
    },
    {
     "name": "stderr",
     "output_type": "stream",
     "text": [
      "Saving Zarr pairs:  97%|█████████▋| 31205/32143 [1:59:13<1:23:47,  5.36s/it]"
     ]
    },
    {
     "name": "stdout",
     "output_type": "stream",
     "text": [
      "[2025-04-17 05:53:59] Saved t_2024-09-05_1200_1300.zarr\n"
     ]
    },
    {
     "name": "stderr",
     "output_type": "stream",
     "text": [
      "Saving Zarr pairs:  97%|█████████▋| 31207/32143 [1:59:19<1:11:07,  4.56s/it]"
     ]
    },
    {
     "name": "stdout",
     "output_type": "stream",
     "text": [
      "[2025-04-17 05:54:04] Saved t_2024-09-05_1800_1900.zarr\n"
     ]
    },
    {
     "name": "stderr",
     "output_type": "stream",
     "text": [
      "Saving Zarr pairs:  97%|█████████▋| 31209/32143 [1:59:22<56:47,  3.65s/it]  "
     ]
    },
    {
     "name": "stdout",
     "output_type": "stream",
     "text": [
      "[2025-04-17 05:54:08] Saved t_2024-09-06_0000_0100.zarr\n"
     ]
    },
    {
     "name": "stderr",
     "output_type": "stream",
     "text": [
      "Saving Zarr pairs:  97%|█████████▋| 31211/32143 [1:59:28<53:22,  3.44s/it]"
     ]
    },
    {
     "name": "stdout",
     "output_type": "stream",
     "text": [
      "[2025-04-17 05:54:14] Saved t_2024-09-06_0600_0700.zarr\n"
     ]
    },
    {
     "name": "stderr",
     "output_type": "stream",
     "text": [
      "Saving Zarr pairs:  97%|█████████▋| 31214/32143 [1:59:32<38:30,  2.49s/it]"
     ]
    },
    {
     "name": "stdout",
     "output_type": "stream",
     "text": [
      "[2025-04-17 05:54:18] Saved t_2024-09-06_1200_1300.zarr\n"
     ]
    },
    {
     "name": "stderr",
     "output_type": "stream",
     "text": [
      "Saving Zarr pairs:  97%|█████████▋| 31215/32143 [1:59:35<38:11,  2.47s/it]"
     ]
    },
    {
     "name": "stdout",
     "output_type": "stream",
     "text": [
      "[2025-04-17 05:54:20] Saved t_2024-09-06_1800_1900.zarr\n"
     ]
    },
    {
     "name": "stderr",
     "output_type": "stream",
     "text": [
      "Saving Zarr pairs:  97%|█████████▋| 31217/32143 [2:00:12<2:11:32,  8.52s/it]"
     ]
    },
    {
     "name": "stdout",
     "output_type": "stream",
     "text": [
      "[2025-04-17 05:54:58] Saved t_2024-09-07_0000_0100.zarr\n"
     ]
    },
    {
     "name": "stderr",
     "output_type": "stream",
     "text": [
      "Saving Zarr pairs:  97%|█████████▋| 31219/32143 [2:00:18<1:41:41,  6.60s/it]"
     ]
    },
    {
     "name": "stdout",
     "output_type": "stream",
     "text": [
      "[2025-04-17 05:55:04] Saved t_2024-09-07_0600_0700.zarr\n"
     ]
    },
    {
     "name": "stderr",
     "output_type": "stream",
     "text": [
      "Saving Zarr pairs:  97%|█████████▋| 31221/32143 [2:00:25<1:25:54,  5.59s/it]"
     ]
    },
    {
     "name": "stdout",
     "output_type": "stream",
     "text": [
      "[2025-04-17 05:55:11] Saved t_2024-09-07_1200_1300.zarr\n"
     ]
    },
    {
     "name": "stderr",
     "output_type": "stream",
     "text": [
      "Saving Zarr pairs:  97%|█████████▋| 31223/32143 [2:00:31<1:11:33,  4.67s/it]"
     ]
    },
    {
     "name": "stdout",
     "output_type": "stream",
     "text": [
      "[2025-04-17 05:55:16] Saved t_2024-09-07_1800_1900.zarr\n"
     ]
    },
    {
     "name": "stderr",
     "output_type": "stream",
     "text": [
      "Saving Zarr pairs:  97%|█████████▋| 31225/32143 [2:00:32<52:15,  3.42s/it]  "
     ]
    },
    {
     "name": "stdout",
     "output_type": "stream",
     "text": [
      "[2025-04-17 05:55:18] Saved t_2024-09-08_0000_0100.zarr\n"
     ]
    },
    {
     "name": "stderr",
     "output_type": "stream",
     "text": [
      "Saving Zarr pairs:  97%|█████████▋| 31227/32143 [2:00:36<46:06,  3.02s/it]"
     ]
    },
    {
     "name": "stdout",
     "output_type": "stream",
     "text": [
      "[2025-04-17 05:55:22] Saved t_2024-09-08_0600_0700.zarr\n"
     ]
    },
    {
     "name": "stderr",
     "output_type": "stream",
     "text": [
      "Saving Zarr pairs:  97%|█████████▋| 31229/32143 [2:00:40<41:03,  2.69s/it]"
     ]
    },
    {
     "name": "stdout",
     "output_type": "stream",
     "text": [
      "[2025-04-17 05:55:26] Saved t_2024-09-08_1200_1300.zarr\n"
     ]
    },
    {
     "name": "stderr",
     "output_type": "stream",
     "text": [
      "Saving Zarr pairs:  97%|█████████▋| 31231/32143 [2:00:43<33:37,  2.21s/it]"
     ]
    },
    {
     "name": "stdout",
     "output_type": "stream",
     "text": [
      "[2025-04-17 05:55:29] Saved t_2024-09-08_1800_1900.zarr\n"
     ]
    },
    {
     "name": "stderr",
     "output_type": "stream",
     "text": [
      "Saving Zarr pairs:  97%|█████████▋| 31233/32143 [2:01:20<1:55:01,  7.58s/it]"
     ]
    },
    {
     "name": "stdout",
     "output_type": "stream",
     "text": [
      "[2025-04-17 05:56:06] Saved t_2024-09-09_0000_0100.zarr\n"
     ]
    },
    {
     "name": "stderr",
     "output_type": "stream",
     "text": [
      "Saving Zarr pairs:  97%|█████████▋| 31236/32143 [2:01:28<1:19:04,  5.23s/it]"
     ]
    },
    {
     "name": "stdout",
     "output_type": "stream",
     "text": [
      "[2025-04-17 05:56:13] Saved t_2024-09-09_0600_0700.zarr\n"
     ]
    },
    {
     "name": "stderr",
     "output_type": "stream",
     "text": [
      "Saving Zarr pairs:  97%|█████████▋| 31237/32143 [2:01:36<1:27:32,  5.80s/it]"
     ]
    },
    {
     "name": "stdout",
     "output_type": "stream",
     "text": [
      "[2025-04-17 05:56:21] Saved t_2024-09-09_1200_1300.zarr\n"
     ]
    },
    {
     "name": "stderr",
     "output_type": "stream",
     "text": [
      "Saving Zarr pairs:  97%|█████████▋| 31239/32143 [2:01:41<1:09:01,  4.58s/it]"
     ]
    },
    {
     "name": "stdout",
     "output_type": "stream",
     "text": [
      "[2025-04-17 05:56:26] Saved t_2024-09-10_0000_0100.zarr\n",
      "[2025-04-17 05:56:26] Saved t_2024-09-09_1800_1900.zarr\n"
     ]
    },
    {
     "name": "stderr",
     "output_type": "stream",
     "text": [
      "Saving Zarr pairs:  97%|█████████▋| 31243/32143 [2:01:47<45:23,  3.03s/it]  "
     ]
    },
    {
     "name": "stdout",
     "output_type": "stream",
     "text": [
      "[2025-04-17 05:56:33] Saved t_2024-09-10_0600_0700.zarr\n"
     ]
    },
    {
     "name": "stderr",
     "output_type": "stream",
     "text": [
      "Saving Zarr pairs:  97%|█████████▋| 31245/32143 [2:01:54<50:25,  3.37s/it]"
     ]
    },
    {
     "name": "stdout",
     "output_type": "stream",
     "text": [
      "[2025-04-17 05:56:40] Saved t_2024-09-10_1200_1300.zarr\n"
     ]
    },
    {
     "name": "stderr",
     "output_type": "stream",
     "text": [
      "Saving Zarr pairs:  97%|█████████▋| 31247/32143 [2:01:57<39:04,  2.62s/it]"
     ]
    },
    {
     "name": "stdout",
     "output_type": "stream",
     "text": [
      "[2025-04-17 05:56:42] Saved t_2024-09-10_1800_1900.zarr\n"
     ]
    },
    {
     "name": "stderr",
     "output_type": "stream",
     "text": [
      "Saving Zarr pairs:  97%|█████████▋| 31249/32143 [2:02:26<1:38:09,  6.59s/it]"
     ]
    },
    {
     "name": "stdout",
     "output_type": "stream",
     "text": [
      "[2025-04-17 05:57:12] Saved t_2024-09-11_0000_0100.zarr\n"
     ]
    },
    {
     "name": "stderr",
     "output_type": "stream",
     "text": [
      "Saving Zarr pairs:  97%|█████████▋| 31251/32143 [2:02:37<1:33:29,  6.29s/it]"
     ]
    },
    {
     "name": "stdout",
     "output_type": "stream",
     "text": [
      "[2025-04-17 05:57:23] Saved t_2024-09-11_0600_0700.zarr\n"
     ]
    },
    {
     "name": "stderr",
     "output_type": "stream",
     "text": [
      "Saving Zarr pairs:  97%|█████████▋| 31253/32143 [2:02:45<1:21:09,  5.47s/it]"
     ]
    },
    {
     "name": "stdout",
     "output_type": "stream",
     "text": [
      "[2025-04-17 05:57:30] Saved t_2024-09-11_1200_1300.zarr\n"
     ]
    },
    {
     "name": "stderr",
     "output_type": "stream",
     "text": [
      "Saving Zarr pairs:  97%|█████████▋| 31255/32143 [2:02:50<1:07:43,  4.58s/it]"
     ]
    },
    {
     "name": "stdout",
     "output_type": "stream",
     "text": [
      "[2025-04-17 05:57:35] Saved t_2024-09-11_1800_1900.zarr\n"
     ]
    },
    {
     "name": "stderr",
     "output_type": "stream",
     "text": [
      "Saving Zarr pairs:  97%|█████████▋| 31257/32143 [2:02:50<47:45,  3.23s/it]  "
     ]
    },
    {
     "name": "stdout",
     "output_type": "stream",
     "text": [
      "[2025-04-17 05:57:36] Saved t_2024-09-12_0000_0100.zarr\n"
     ]
    },
    {
     "name": "stderr",
     "output_type": "stream",
     "text": [
      "Saving Zarr pairs:  97%|█████████▋| 31259/32143 [2:02:57<47:19,  3.21s/it]"
     ]
    },
    {
     "name": "stdout",
     "output_type": "stream",
     "text": [
      "[2025-04-17 05:57:42] Saved t_2024-09-12_0600_0700.zarr\n"
     ]
    },
    {
     "name": "stderr",
     "output_type": "stream",
     "text": [
      "Saving Zarr pairs:  97%|█████████▋| 31261/32143 [2:03:04<48:55,  3.33s/it]"
     ]
    },
    {
     "name": "stdout",
     "output_type": "stream",
     "text": [
      "[2025-04-17 05:57:49] Saved t_2024-09-12_1200_1300.zarr\n"
     ]
    },
    {
     "name": "stderr",
     "output_type": "stream",
     "text": [
      "Saving Zarr pairs:  97%|█████████▋| 31263/32143 [2:03:06<39:02,  2.66s/it]"
     ]
    },
    {
     "name": "stdout",
     "output_type": "stream",
     "text": [
      "[2025-04-17 05:57:52] Saved t_2024-09-12_1800_1900.zarr\n"
     ]
    },
    {
     "name": "stderr",
     "output_type": "stream",
     "text": [
      "Saving Zarr pairs:  97%|█████████▋| 31265/32143 [2:03:36<1:33:49,  6.41s/it]"
     ]
    },
    {
     "name": "stdout",
     "output_type": "stream",
     "text": [
      "[2025-04-17 05:58:22] Saved t_2024-09-13_0000_0100.zarr\n"
     ]
    },
    {
     "name": "stderr",
     "output_type": "stream",
     "text": [
      "Saving Zarr pairs:  97%|█████████▋| 31267/32143 [2:03:47<1:28:59,  6.09s/it]"
     ]
    },
    {
     "name": "stdout",
     "output_type": "stream",
     "text": [
      "[2025-04-17 05:58:33] Saved t_2024-09-13_0600_0700.zarr\n"
     ]
    },
    {
     "name": "stderr",
     "output_type": "stream",
     "text": [
      "Saving Zarr pairs:  97%|█████████▋| 31269/32143 [2:03:54<1:18:34,  5.39s/it]"
     ]
    },
    {
     "name": "stdout",
     "output_type": "stream",
     "text": [
      "[2025-04-17 05:58:40] Saved t_2024-09-13_1200_1300.zarr\n",
      "[2025-04-17 05:58:45] Saved t_2024-09-14_0000_0100.zarr\n"
     ]
    },
    {
     "name": "stderr",
     "output_type": "stream",
     "text": [
      "Saving Zarr pairs:  97%|█████████▋| 31271/32143 [2:04:01<1:08:05,  4.68s/it]"
     ]
    },
    {
     "name": "stdout",
     "output_type": "stream",
     "text": [
      "[2025-04-17 05:58:46] Saved t_2024-09-13_1800_1900.zarr\n"
     ]
    },
    {
     "name": "stderr",
     "output_type": "stream",
     "text": [
      "Saving Zarr pairs:  97%|█████████▋| 31275/32143 [2:04:07<47:03,  3.25s/it]  "
     ]
    },
    {
     "name": "stdout",
     "output_type": "stream",
     "text": [
      "[2025-04-17 05:58:52] Saved t_2024-09-14_0600_0700.zarr\n"
     ]
    },
    {
     "name": "stderr",
     "output_type": "stream",
     "text": [
      "Saving Zarr pairs:  97%|█████████▋| 31277/32143 [2:04:13<46:54,  3.25s/it]"
     ]
    },
    {
     "name": "stdout",
     "output_type": "stream",
     "text": [
      "[2025-04-17 05:58:59] Saved t_2024-09-14_1200_1300.zarr\n",
      "[2025-04-17 05:58:59] Saved t_2024-09-14_1800_1900.zarr\n"
     ]
    },
    {
     "name": "stderr",
     "output_type": "stream",
     "text": [
      "Saving Zarr pairs:  97%|█████████▋| 31282/32143 [2:04:46<1:20:00,  5.58s/it]"
     ]
    },
    {
     "name": "stdout",
     "output_type": "stream",
     "text": [
      "[2025-04-17 05:59:31] Saved t_2024-09-15_0000_0100.zarr\n"
     ]
    },
    {
     "name": "stderr",
     "output_type": "stream",
     "text": [
      "Saving Zarr pairs:  97%|█████████▋| 31284/32143 [2:04:57<1:16:45,  5.36s/it]"
     ]
    },
    {
     "name": "stdout",
     "output_type": "stream",
     "text": [
      "[2025-04-17 05:59:42] Saved t_2024-09-15_0600_0700.zarr\n"
     ]
    },
    {
     "name": "stderr",
     "output_type": "stream",
     "text": [
      "Saving Zarr pairs:  97%|█████████▋| 31286/32143 [2:05:05<1:02:08,  4.35s/it]"
     ]
    },
    {
     "name": "stdout",
     "output_type": "stream",
     "text": [
      "[2025-04-17 05:59:50] Saved t_2024-09-15_1200_1300.zarr\n",
      "[2025-04-17 05:59:56] Saved t_2024-09-16_0000_0100.zarr\n"
     ]
    },
    {
     "name": "stderr",
     "output_type": "stream",
     "text": [
      "Saving Zarr pairs:  97%|█████████▋| 31288/32143 [2:05:13<54:23,  3.82s/it]  "
     ]
    },
    {
     "name": "stdout",
     "output_type": "stream",
     "text": [
      "[2025-04-17 05:59:58] Saved t_2024-09-15_1800_1900.zarr\n"
     ]
    },
    {
     "name": "stderr",
     "output_type": "stream",
     "text": [
      "Saving Zarr pairs:  97%|█████████▋| 31291/32143 [2:05:18<37:12,  2.62s/it]"
     ]
    },
    {
     "name": "stdout",
     "output_type": "stream",
     "text": [
      "[2025-04-17 06:00:03] Saved t_2024-09-16_0600_0700.zarr\n"
     ]
    },
    {
     "name": "stderr",
     "output_type": "stream",
     "text": [
      "Saving Zarr pairs:  97%|█████████▋| 31294/32143 [2:05:24<32:20,  2.29s/it]"
     ]
    },
    {
     "name": "stdout",
     "output_type": "stream",
     "text": [
      "[2025-04-17 06:00:10] Saved t_2024-09-16_1200_1300.zarr\n"
     ]
    },
    {
     "name": "stderr",
     "output_type": "stream",
     "text": [
      "Saving Zarr pairs:  97%|█████████▋| 31295/32143 [2:05:26<32:13,  2.28s/it]"
     ]
    },
    {
     "name": "stdout",
     "output_type": "stream",
     "text": [
      "[2025-04-17 06:00:12] Saved t_2024-09-16_1800_1900.zarr\n"
     ]
    },
    {
     "name": "stderr",
     "output_type": "stream",
     "text": [
      "Saving Zarr pairs:  97%|█████████▋| 31297/32143 [2:05:55<1:38:44,  7.00s/it]"
     ]
    },
    {
     "name": "stdout",
     "output_type": "stream",
     "text": [
      "[2025-04-17 06:00:41] Saved t_2024-09-17_0000_0100.zarr\n"
     ]
    },
    {
     "name": "stderr",
     "output_type": "stream",
     "text": [
      "Saving Zarr pairs:  97%|█████████▋| 31299/32143 [2:06:06<1:29:34,  6.37s/it]"
     ]
    },
    {
     "name": "stdout",
     "output_type": "stream",
     "text": [
      "[2025-04-17 06:00:51] Saved t_2024-09-17_0600_0700.zarr\n"
     ]
    },
    {
     "name": "stderr",
     "output_type": "stream",
     "text": [
      "Saving Zarr pairs:  97%|█████████▋| 31301/32143 [2:06:14<1:18:38,  5.60s/it]"
     ]
    },
    {
     "name": "stdout",
     "output_type": "stream",
     "text": [
      "[2025-04-17 06:01:00] Saved t_2024-09-17_1200_1300.zarr\n"
     ]
    },
    {
     "name": "stderr",
     "output_type": "stream",
     "text": [
      "Saving Zarr pairs:  97%|█████████▋| 31303/32143 [2:06:19<1:03:54,  4.57s/it]"
     ]
    },
    {
     "name": "stdout",
     "output_type": "stream",
     "text": [
      "[2025-04-17 06:01:04] Saved t_2024-09-17_1800_1900.zarr\n"
     ]
    },
    {
     "name": "stderr",
     "output_type": "stream",
     "text": [
      "Saving Zarr pairs:  97%|█████████▋| 31305/32143 [2:06:21<49:11,  3.52s/it]  "
     ]
    },
    {
     "name": "stdout",
     "output_type": "stream",
     "text": [
      "[2025-04-17 06:01:07] Saved t_2024-09-18_0000_0100.zarr\n"
     ]
    },
    {
     "name": "stderr",
     "output_type": "stream",
     "text": [
      "Saving Zarr pairs:  97%|█████████▋| 31308/32143 [2:06:28<38:48,  2.79s/it]"
     ]
    },
    {
     "name": "stdout",
     "output_type": "stream",
     "text": [
      "[2025-04-17 06:01:13] Saved t_2024-09-18_0600_0700.zarr\n",
      "[2025-04-17 06:01:19] Saved t_2024-09-18_1800_1900.zarr\n"
     ]
    },
    {
     "name": "stderr",
     "output_type": "stream",
     "text": [
      "Saving Zarr pairs:  97%|█████████▋| 31309/32143 [2:06:37<57:09,  4.11s/it]"
     ]
    },
    {
     "name": "stdout",
     "output_type": "stream",
     "text": [
      "[2025-04-17 06:01:22] Saved t_2024-09-18_1200_1300.zarr\n"
     ]
    },
    {
     "name": "stderr",
     "output_type": "stream",
     "text": [
      "Saving Zarr pairs:  97%|█████████▋| 31313/32143 [2:07:06<1:20:54,  5.85s/it]"
     ]
    },
    {
     "name": "stdout",
     "output_type": "stream",
     "text": [
      "[2025-04-17 06:01:52] Saved t_2024-09-19_0000_0100.zarr\n"
     ]
    },
    {
     "name": "stderr",
     "output_type": "stream",
     "text": [
      "Saving Zarr pairs:  97%|█████████▋| 31316/32143 [2:07:20<1:10:48,  5.14s/it]"
     ]
    },
    {
     "name": "stdout",
     "output_type": "stream",
     "text": [
      "[2025-04-17 06:02:05] Saved t_2024-09-19_0600_0700.zarr\n",
      "[2025-04-17 06:02:09] Saved t_2024-09-20_0000_0100.zarr\n"
     ]
    },
    {
     "name": "stderr",
     "output_type": "stream",
     "text": [
      "Saving Zarr pairs:  97%|█████████▋| 31317/32143 [2:07:26<1:13:20,  5.33s/it]"
     ]
    },
    {
     "name": "stdout",
     "output_type": "stream",
     "text": [
      "[2025-04-17 06:02:12] Saved t_2024-09-19_1200_1300.zarr\n"
     ]
    },
    {
     "name": "stderr",
     "output_type": "stream",
     "text": [
      "Saving Zarr pairs:  97%|█████████▋| 31319/32143 [2:07:30<56:12,  4.09s/it]  "
     ]
    },
    {
     "name": "stdout",
     "output_type": "stream",
     "text": [
      "[2025-04-17 06:02:15] Saved t_2024-09-19_1800_1900.zarr\n"
     ]
    },
    {
     "name": "stderr",
     "output_type": "stream",
     "text": [
      "Saving Zarr pairs:  97%|█████████▋| 31323/32143 [2:07:36<38:03,  2.78s/it]"
     ]
    },
    {
     "name": "stdout",
     "output_type": "stream",
     "text": [
      "[2025-04-17 06:02:21] Saved t_2024-09-20_0600_0700.zarr\n"
     ]
    },
    {
     "name": "stderr",
     "output_type": "stream",
     "text": [
      "Saving Zarr pairs:  97%|█████████▋| 31325/32143 [2:07:41<36:27,  2.67s/it]"
     ]
    },
    {
     "name": "stdout",
     "output_type": "stream",
     "text": [
      "[2025-04-17 06:02:26] Saved t_2024-09-20_1200_1300.zarr\n"
     ]
    },
    {
     "name": "stderr",
     "output_type": "stream",
     "text": [
      "Saving Zarr pairs:  97%|█████████▋| 31327/32143 [2:07:45<35:10,  2.59s/it]"
     ]
    },
    {
     "name": "stdout",
     "output_type": "stream",
     "text": [
      "[2025-04-17 06:02:31] Saved t_2024-09-20_1800_1900.zarr\n"
     ]
    },
    {
     "name": "stderr",
     "output_type": "stream",
     "text": [
      "Saving Zarr pairs:  97%|█████████▋| 31330/32143 [2:08:18<1:13:06,  5.40s/it]"
     ]
    },
    {
     "name": "stdout",
     "output_type": "stream",
     "text": [
      "[2025-04-17 06:03:03] Saved t_2024-09-21_0000_0100.zarr\n"
     ]
    },
    {
     "name": "stderr",
     "output_type": "stream",
     "text": [
      "Saving Zarr pairs:  97%|█████████▋| 31331/32143 [2:08:31<1:33:42,  6.92s/it]"
     ]
    },
    {
     "name": "stdout",
     "output_type": "stream",
     "text": [
      "[2025-04-17 06:03:17] Saved t_2024-09-21_0600_0700.zarr\n"
     ]
    },
    {
     "name": "stderr",
     "output_type": "stream",
     "text": [
      "Saving Zarr pairs:  97%|█████████▋| 31333/32143 [2:08:37<1:13:08,  5.42s/it]"
     ]
    },
    {
     "name": "stdout",
     "output_type": "stream",
     "text": [
      "[2025-04-17 06:03:22] Saved t_2024-09-21_1200_1300.zarr\n"
     ]
    },
    {
     "name": "stderr",
     "output_type": "stream",
     "text": [
      "Saving Zarr pairs:  97%|█████████▋| 31335/32143 [2:08:41<57:30,  4.27s/it]  "
     ]
    },
    {
     "name": "stdout",
     "output_type": "stream",
     "text": [
      "[2025-04-17 06:03:26] Saved t_2024-09-21_1800_1900.zarr\n"
     ]
    },
    {
     "name": "stderr",
     "output_type": "stream",
     "text": [
      "Saving Zarr pairs:  97%|█████████▋| 31337/32143 [2:08:43<43:55,  3.27s/it]"
     ]
    },
    {
     "name": "stdout",
     "output_type": "stream",
     "text": [
      "[2025-04-17 06:03:29] Saved t_2024-09-22_0000_0100.zarr\n"
     ]
    },
    {
     "name": "stderr",
     "output_type": "stream",
     "text": [
      "Saving Zarr pairs:  97%|█████████▋| 31339/32143 [2:08:47<38:11,  2.85s/it]"
     ]
    },
    {
     "name": "stdout",
     "output_type": "stream",
     "text": [
      "[2025-04-17 06:03:33] Saved t_2024-09-22_0600_0700.zarr\n",
      "[2025-04-17 06:03:36] Saved t_2024-09-22_1800_1900.zarr\n"
     ]
    },
    {
     "name": "stderr",
     "output_type": "stream",
     "text": [
      "Saving Zarr pairs:  98%|█████████▊| 31342/32143 [2:08:55<35:07,  2.63s/it]"
     ]
    },
    {
     "name": "stdout",
     "output_type": "stream",
     "text": [
      "[2025-04-17 06:03:40] Saved t_2024-09-22_1200_1300.zarr\n"
     ]
    },
    {
     "name": "stderr",
     "output_type": "stream",
     "text": [
      "Saving Zarr pairs:  98%|█████████▊| 31345/32143 [2:09:25<1:17:46,  5.85s/it]"
     ]
    },
    {
     "name": "stdout",
     "output_type": "stream",
     "text": [
      "[2025-04-17 06:04:10] Saved t_2024-09-23_0000_0100.zarr\n"
     ]
    },
    {
     "name": "stderr",
     "output_type": "stream",
     "text": [
      "Saving Zarr pairs:  98%|█████████▊| 31347/32143 [2:09:40<1:24:45,  6.39s/it]"
     ]
    },
    {
     "name": "stdout",
     "output_type": "stream",
     "text": [
      "[2025-04-17 06:04:26] Saved t_2024-09-23_0600_0700.zarr\n"
     ]
    },
    {
     "name": "stderr",
     "output_type": "stream",
     "text": [
      "Saving Zarr pairs:  98%|█████████▊| 31349/32143 [2:09:46<1:10:04,  5.29s/it]"
     ]
    },
    {
     "name": "stdout",
     "output_type": "stream",
     "text": [
      "[2025-04-17 06:04:31] Saved t_2024-09-23_1200_1300.zarr\n"
     ]
    },
    {
     "name": "stderr",
     "output_type": "stream",
     "text": [
      "Saving Zarr pairs:  98%|█████████▊| 31351/32143 [2:09:49<55:46,  4.23s/it]  "
     ]
    },
    {
     "name": "stdout",
     "output_type": "stream",
     "text": [
      "[2025-04-17 06:04:35] Saved t_2024-09-23_1800_1900.zarr\n"
     ]
    },
    {
     "name": "stderr",
     "output_type": "stream",
     "text": [
      "Saving Zarr pairs:  98%|█████████▊| 31354/32143 [2:09:52<36:30,  2.78s/it]"
     ]
    },
    {
     "name": "stdout",
     "output_type": "stream",
     "text": [
      "[2025-04-17 06:04:37] Saved t_2024-09-24_0000_0100.zarr\n"
     ]
    },
    {
     "name": "stderr",
     "output_type": "stream",
     "text": [
      "Saving Zarr pairs:  98%|█████████▊| 31355/32143 [2:09:56<40:25,  3.08s/it]"
     ]
    },
    {
     "name": "stdout",
     "output_type": "stream",
     "text": [
      "[2025-04-17 06:04:42] Saved t_2024-09-24_0600_0700.zarr\n",
      "[2025-04-17 06:04:47] Saved t_2024-09-24_1800_1900.zarr\n"
     ]
    },
    {
     "name": "stderr",
     "output_type": "stream",
     "text": [
      "Saving Zarr pairs:  98%|█████████▊| 31357/32143 [2:10:03<43:26,  3.32s/it]"
     ]
    },
    {
     "name": "stdout",
     "output_type": "stream",
     "text": [
      "[2025-04-17 06:04:49] Saved t_2024-09-24_1200_1300.zarr\n"
     ]
    },
    {
     "name": "stderr",
     "output_type": "stream",
     "text": [
      "Saving Zarr pairs:  98%|█████████▊| 31361/32143 [2:10:34<1:11:39,  5.50s/it]"
     ]
    },
    {
     "name": "stdout",
     "output_type": "stream",
     "text": [
      "[2025-04-17 06:05:19] Saved t_2024-09-25_0000_0100.zarr\n"
     ]
    },
    {
     "name": "stderr",
     "output_type": "stream",
     "text": [
      "Saving Zarr pairs:  98%|█████████▊| 31363/32143 [2:10:49<1:18:56,  6.07s/it]"
     ]
    },
    {
     "name": "stdout",
     "output_type": "stream",
     "text": [
      "[2025-04-17 06:05:35] Saved t_2024-09-25_0600_0700.zarr\n"
     ]
    },
    {
     "name": "stderr",
     "output_type": "stream",
     "text": [
      "Saving Zarr pairs:  98%|█████████▊| 31365/32143 [2:10:55<1:06:43,  5.15s/it]"
     ]
    },
    {
     "name": "stdout",
     "output_type": "stream",
     "text": [
      "[2025-04-17 06:05:40] Saved t_2024-09-25_1200_1300.zarr\n",
      "[2025-04-17 06:05:44] Saved t_2024-09-26_0000_0100.zarr\n"
     ]
    },
    {
     "name": "stderr",
     "output_type": "stream",
     "text": [
      "Saving Zarr pairs:  98%|█████████▊| 31367/32143 [2:11:02<1:00:42,  4.69s/it]"
     ]
    },
    {
     "name": "stdout",
     "output_type": "stream",
     "text": [
      "[2025-04-17 06:05:47] Saved t_2024-09-25_1800_1900.zarr\n"
     ]
    },
    {
     "name": "stderr",
     "output_type": "stream",
     "text": [
      "Saving Zarr pairs:  98%|█████████▊| 31371/32143 [2:11:05<38:41,  3.01s/it]  "
     ]
    },
    {
     "name": "stdout",
     "output_type": "stream",
     "text": [
      "[2025-04-17 06:05:51] Saved t_2024-09-26_0600_0700.zarr\n",
      "[2025-04-17 06:05:58] Saved t_2024-09-26_1800_1900.zarr\n"
     ]
    },
    {
     "name": "stderr",
     "output_type": "stream",
     "text": [
      "Saving Zarr pairs:  98%|█████████▊| 31373/32143 [2:11:13<41:54,  3.27s/it]"
     ]
    },
    {
     "name": "stdout",
     "output_type": "stream",
     "text": [
      "[2025-04-17 06:05:59] Saved t_2024-09-26_1200_1300.zarr\n"
     ]
    },
    {
     "name": "stderr",
     "output_type": "stream",
     "text": [
      "Saving Zarr pairs:  98%|█████████▊| 31377/32143 [2:11:45<1:06:21,  5.20s/it]"
     ]
    },
    {
     "name": "stdout",
     "output_type": "stream",
     "text": [
      "[2025-04-17 06:06:31] Saved t_2024-09-27_0000_0100.zarr\n"
     ]
    },
    {
     "name": "stderr",
     "output_type": "stream",
     "text": [
      "Saving Zarr pairs:  98%|█████████▊| 31379/32143 [2:11:59<1:10:24,  5.53s/it]"
     ]
    },
    {
     "name": "stdout",
     "output_type": "stream",
     "text": [
      "[2025-04-17 06:06:44] Saved t_2024-09-27_0600_0700.zarr\n"
     ]
    },
    {
     "name": "stderr",
     "output_type": "stream",
     "text": [
      "Saving Zarr pairs:  98%|█████████▊| 31381/32143 [2:12:04<1:00:40,  4.78s/it]"
     ]
    },
    {
     "name": "stdout",
     "output_type": "stream",
     "text": [
      "[2025-04-17 06:06:49] Saved t_2024-09-27_1200_1300.zarr\n",
      "[2025-04-17 06:06:55] Saved t_2024-09-28_0000_0100.zarr\n"
     ]
    },
    {
     "name": "stderr",
     "output_type": "stream",
     "text": [
      "Saving Zarr pairs:  98%|█████████▊| 31383/32143 [2:12:12<58:42,  4.63s/it]  "
     ]
    },
    {
     "name": "stdout",
     "output_type": "stream",
     "text": [
      "[2025-04-17 06:06:58] Saved t_2024-09-27_1800_1900.zarr\n"
     ]
    },
    {
     "name": "stderr",
     "output_type": "stream",
     "text": [
      "Saving Zarr pairs:  98%|█████████▊| 31387/32143 [2:12:17<39:44,  3.15s/it]"
     ]
    },
    {
     "name": "stdout",
     "output_type": "stream",
     "text": [
      "[2025-04-17 06:07:02] Saved t_2024-09-28_0600_0700.zarr\n"
     ]
    },
    {
     "name": "stderr",
     "output_type": "stream",
     "text": [
      "Saving Zarr pairs:  98%|█████████▊| 31389/32143 [2:12:20<35:45,  2.85s/it]"
     ]
    },
    {
     "name": "stdout",
     "output_type": "stream",
     "text": [
      "[2025-04-17 06:07:06] Saved t_2024-09-28_1200_1300.zarr\n"
     ]
    },
    {
     "name": "stderr",
     "output_type": "stream",
     "text": [
      "Saving Zarr pairs:  98%|█████████▊| 31392/32143 [2:12:26<30:02,  2.40s/it]"
     ]
    },
    {
     "name": "stdout",
     "output_type": "stream",
     "text": [
      "[2025-04-17 06:07:11] Saved t_2024-09-28_1800_1900.zarr\n"
     ]
    },
    {
     "name": "stderr",
     "output_type": "stream",
     "text": [
      "Saving Zarr pairs:  98%|█████████▊| 31393/32143 [2:12:56<1:30:49,  7.27s/it]"
     ]
    },
    {
     "name": "stdout",
     "output_type": "stream",
     "text": [
      "[2025-04-17 06:07:41] Saved t_2024-09-29_0000_0100.zarr\n"
     ]
    },
    {
     "name": "stderr",
     "output_type": "stream",
     "text": [
      "Saving Zarr pairs:  98%|█████████▊| 31395/32143 [2:13:10<1:30:52,  7.29s/it]"
     ]
    },
    {
     "name": "stdout",
     "output_type": "stream",
     "text": [
      "[2025-04-17 06:07:56] Saved t_2024-09-29_0600_0700.zarr\n"
     ]
    },
    {
     "name": "stderr",
     "output_type": "stream",
     "text": [
      "Saving Zarr pairs:  98%|█████████▊| 31397/32143 [2:13:14<1:08:52,  5.54s/it]"
     ]
    },
    {
     "name": "stdout",
     "output_type": "stream",
     "text": [
      "[2025-04-17 06:08:00] Saved t_2024-09-29_1200_1300.zarr\n"
     ]
    },
    {
     "name": "stderr",
     "output_type": "stream",
     "text": [
      "Saving Zarr pairs:  98%|█████████▊| 31399/32143 [2:13:18<54:05,  4.36s/it]  "
     ]
    },
    {
     "name": "stdout",
     "output_type": "stream",
     "text": [
      "[2025-04-17 06:08:03] Saved t_2024-09-29_1800_1900.zarr\n"
     ]
    },
    {
     "name": "stderr",
     "output_type": "stream",
     "text": [
      "Saving Zarr pairs:  98%|█████████▊| 31401/32143 [2:13:21<44:13,  3.58s/it]"
     ]
    },
    {
     "name": "stdout",
     "output_type": "stream",
     "text": [
      "[2025-04-17 06:08:07] Saved t_2024-09-30_0000_0100.zarr\n"
     ]
    },
    {
     "name": "stderr",
     "output_type": "stream",
     "text": [
      "Saving Zarr pairs:  98%|█████████▊| 31403/32143 [2:13:24<35:58,  2.92s/it]"
     ]
    },
    {
     "name": "stdout",
     "output_type": "stream",
     "text": [
      "[2025-04-17 06:08:10] Saved t_2024-09-30_0600_0700.zarr\n"
     ]
    },
    {
     "name": "stderr",
     "output_type": "stream",
     "text": [
      "Saving Zarr pairs:  98%|█████████▊| 31405/32143 [2:13:31<36:37,  2.98s/it]"
     ]
    },
    {
     "name": "stdout",
     "output_type": "stream",
     "text": [
      "[2025-04-17 06:08:16] Saved t_2024-09-30_1200_1300.zarr\n"
     ]
    },
    {
     "name": "stderr",
     "output_type": "stream",
     "text": [
      "Saving Zarr pairs:  98%|█████████▊| 31408/32143 [2:13:36<30:01,  2.45s/it]"
     ]
    },
    {
     "name": "stdout",
     "output_type": "stream",
     "text": [
      "[2025-04-17 06:08:22] Saved t_2024-09-30_1800_1900.zarr\n"
     ]
    },
    {
     "name": "stderr",
     "output_type": "stream",
     "text": [
      "Saving Zarr pairs:  98%|█████████▊| 31409/32143 [2:14:03<1:29:25,  7.31s/it]"
     ]
    },
    {
     "name": "stdout",
     "output_type": "stream",
     "text": [
      "[2025-04-17 06:08:48] Saved t_2024-10-01_0000_0100.zarr\n"
     ]
    },
    {
     "name": "stderr",
     "output_type": "stream",
     "text": [
      "Saving Zarr pairs:  98%|█████████▊| 31412/32143 [2:14:19<1:13:30,  6.03s/it]"
     ]
    },
    {
     "name": "stdout",
     "output_type": "stream",
     "text": [
      "[2025-04-17 06:09:05] Saved t_2024-10-01_0600_0700.zarr\n"
     ]
    },
    {
     "name": "stderr",
     "output_type": "stream",
     "text": [
      "Saving Zarr pairs:  98%|█████████▊| 31413/32143 [2:14:23<1:08:41,  5.65s/it]"
     ]
    },
    {
     "name": "stdout",
     "output_type": "stream",
     "text": [
      "[2025-04-17 06:09:09] Saved t_2024-10-01_1200_1300.zarr\n"
     ]
    },
    {
     "name": "stderr",
     "output_type": "stream",
     "text": [
      "Saving Zarr pairs:  98%|█████████▊| 31415/32143 [2:14:27<50:48,  4.19s/it]  "
     ]
    },
    {
     "name": "stdout",
     "output_type": "stream",
     "text": [
      "[2025-04-17 06:09:13] Saved t_2024-10-01_1800_1900.zarr\n"
     ]
    },
    {
     "name": "stderr",
     "output_type": "stream",
     "text": [
      "Saving Zarr pairs:  98%|█████████▊| 31417/32143 [2:14:31<40:04,  3.31s/it]"
     ]
    },
    {
     "name": "stdout",
     "output_type": "stream",
     "text": [
      "[2025-04-17 06:09:16] Saved t_2024-10-02_0000_0100.zarr\n"
     ]
    },
    {
     "name": "stderr",
     "output_type": "stream",
     "text": [
      "Saving Zarr pairs:  98%|█████████▊| 31419/32143 [2:14:33<31:42,  2.63s/it]"
     ]
    },
    {
     "name": "stdout",
     "output_type": "stream",
     "text": [
      "[2025-04-17 06:09:19] Saved t_2024-10-02_0600_0700.zarr\n"
     ]
    },
    {
     "name": "stderr",
     "output_type": "stream",
     "text": [
      "Saving Zarr pairs:  98%|█████████▊| 31421/32143 [2:14:40<34:38,  2.88s/it]"
     ]
    },
    {
     "name": "stdout",
     "output_type": "stream",
     "text": [
      "[2025-04-17 06:09:26] Saved t_2024-10-02_1200_1300.zarr\n"
     ]
    },
    {
     "name": "stderr",
     "output_type": "stream",
     "text": [
      "Saving Zarr pairs:  98%|█████████▊| 31424/32143 [2:14:48<31:00,  2.59s/it]"
     ]
    },
    {
     "name": "stdout",
     "output_type": "stream",
     "text": [
      "[2025-04-17 06:09:33] Saved t_2024-10-02_1800_1900.zarr\n"
     ]
    },
    {
     "name": "stderr",
     "output_type": "stream",
     "text": [
      "Saving Zarr pairs:  98%|█████████▊| 31426/32143 [2:15:14<1:09:32,  5.82s/it]"
     ]
    },
    {
     "name": "stdout",
     "output_type": "stream",
     "text": [
      "[2025-04-17 06:10:00] Saved t_2024-10-03_0000_0100.zarr\n"
     ]
    },
    {
     "name": "stderr",
     "output_type": "stream",
     "text": [
      "Saving Zarr pairs:  98%|█████████▊| 31427/32143 [2:15:30<1:39:53,  8.37s/it]"
     ]
    },
    {
     "name": "stdout",
     "output_type": "stream",
     "text": [
      "[2025-04-17 06:10:16] Saved t_2024-10-03_0600_0700.zarr\n"
     ]
    },
    {
     "name": "stderr",
     "output_type": "stream",
     "text": [
      "Saving Zarr pairs:  98%|█████████▊| 31429/32143 [2:15:34<1:07:42,  5.69s/it]"
     ]
    },
    {
     "name": "stdout",
     "output_type": "stream",
     "text": [
      "[2025-04-17 06:10:20] Saved t_2024-10-03_1200_1300.zarr\n"
     ]
    },
    {
     "name": "stderr",
     "output_type": "stream",
     "text": [
      "Saving Zarr pairs:  98%|█████████▊| 31431/32143 [2:15:37<49:04,  4.14s/it]  "
     ]
    },
    {
     "name": "stdout",
     "output_type": "stream",
     "text": [
      "[2025-04-17 06:10:23] Saved t_2024-10-03_1800_1900.zarr\n"
     ]
    },
    {
     "name": "stderr",
     "output_type": "stream",
     "text": [
      "Saving Zarr pairs:  98%|█████████▊| 31434/32143 [2:15:42<33:43,  2.85s/it]"
     ]
    },
    {
     "name": "stdout",
     "output_type": "stream",
     "text": [
      "[2025-04-17 06:10:27] Saved t_2024-10-04_0000_0100.zarr\n"
     ]
    },
    {
     "name": "stderr",
     "output_type": "stream",
     "text": [
      "Saving Zarr pairs:  98%|█████████▊| 31435/32143 [2:15:45<34:55,  2.96s/it]"
     ]
    },
    {
     "name": "stdout",
     "output_type": "stream",
     "text": [
      "[2025-04-17 06:10:31] Saved t_2024-10-04_0600_0700.zarr\n"
     ]
    },
    {
     "name": "stderr",
     "output_type": "stream",
     "text": [
      "Saving Zarr pairs:  98%|█████████▊| 31437/32143 [2:15:51<34:56,  2.97s/it]"
     ]
    },
    {
     "name": "stdout",
     "output_type": "stream",
     "text": [
      "[2025-04-17 06:10:37] Saved t_2024-10-04_1200_1300.zarr\n"
     ]
    },
    {
     "name": "stderr",
     "output_type": "stream",
     "text": [
      "Saving Zarr pairs:  98%|█████████▊| 31440/32143 [2:15:58<28:29,  2.43s/it]"
     ]
    },
    {
     "name": "stdout",
     "output_type": "stream",
     "text": [
      "[2025-04-17 06:10:43] Saved t_2024-10-04_1800_1900.zarr\n"
     ]
    },
    {
     "name": "stderr",
     "output_type": "stream",
     "text": [
      "Saving Zarr pairs:  98%|█████████▊| 31442/32143 [2:16:23<1:07:45,  5.80s/it]"
     ]
    },
    {
     "name": "stdout",
     "output_type": "stream",
     "text": [
      "[2025-04-17 06:11:09] Saved t_2024-10-05_0000_0100.zarr\n"
     ]
    },
    {
     "name": "stderr",
     "output_type": "stream",
     "text": [
      "Saving Zarr pairs:  98%|█████████▊| 31443/32143 [2:16:40<1:40:41,  8.63s/it]"
     ]
    },
    {
     "name": "stdout",
     "output_type": "stream",
     "text": [
      "[2025-04-17 06:11:26] Saved t_2024-10-05_0600_0700.zarr\n"
     ]
    },
    {
     "name": "stderr",
     "output_type": "stream",
     "text": [
      "Saving Zarr pairs:  98%|█████████▊| 31446/32143 [2:16:43<50:32,  4.35s/it]  "
     ]
    },
    {
     "name": "stdout",
     "output_type": "stream",
     "text": [
      "[2025-04-17 06:11:29] Saved t_2024-10-05_1200_1300.zarr\n"
     ]
    },
    {
     "name": "stderr",
     "output_type": "stream",
     "text": [
      "Saving Zarr pairs:  98%|█████████▊| 31447/32143 [2:16:46<45:59,  3.96s/it]"
     ]
    },
    {
     "name": "stdout",
     "output_type": "stream",
     "text": [
      "[2025-04-17 06:11:32] Saved t_2024-10-05_1800_1900.zarr\n"
     ]
    },
    {
     "name": "stderr",
     "output_type": "stream",
     "text": [
      "Saving Zarr pairs:  98%|█████████▊| 31450/32143 [2:16:51<30:36,  2.65s/it]"
     ]
    },
    {
     "name": "stdout",
     "output_type": "stream",
     "text": [
      "[2025-04-17 06:11:37] Saved t_2024-10-06_0000_0100.zarr\n"
     ]
    },
    {
     "name": "stderr",
     "output_type": "stream",
     "text": [
      "Saving Zarr pairs:  98%|█████████▊| 31451/32143 [2:16:54<31:29,  2.73s/it]"
     ]
    },
    {
     "name": "stdout",
     "output_type": "stream",
     "text": [
      "[2025-04-17 06:11:40] Saved t_2024-10-06_0600_0700.zarr\n"
     ]
    },
    {
     "name": "stderr",
     "output_type": "stream",
     "text": [
      "Saving Zarr pairs:  98%|█████████▊| 31454/32143 [2:17:00<25:34,  2.23s/it]"
     ]
    },
    {
     "name": "stdout",
     "output_type": "stream",
     "text": [
      "[2025-04-17 06:11:46] Saved t_2024-10-06_1200_1300.zarr\n"
     ]
    },
    {
     "name": "stderr",
     "output_type": "stream",
     "text": [
      "Saving Zarr pairs:  98%|█████████▊| 31455/32143 [2:17:07<36:50,  3.21s/it]"
     ]
    },
    {
     "name": "stdout",
     "output_type": "stream",
     "text": [
      "[2025-04-17 06:11:52] Saved t_2024-10-06_1800_1900.zarr\n"
     ]
    },
    {
     "name": "stderr",
     "output_type": "stream",
     "text": [
      "Saving Zarr pairs:  98%|█████████▊| 31457/32143 [2:17:32<1:21:19,  7.11s/it]"
     ]
    },
    {
     "name": "stdout",
     "output_type": "stream",
     "text": [
      "[2025-04-17 06:12:18] Saved t_2024-10-07_0000_0100.zarr\n"
     ]
    },
    {
     "name": "stderr",
     "output_type": "stream",
     "text": [
      "Saving Zarr pairs:  98%|█████████▊| 31459/32143 [2:17:49<1:26:54,  7.62s/it]"
     ]
    },
    {
     "name": "stdout",
     "output_type": "stream",
     "text": [
      "[2025-04-17 06:12:35] Saved t_2024-10-07_0600_0700.zarr\n"
     ]
    },
    {
     "name": "stderr",
     "output_type": "stream",
     "text": [
      "Saving Zarr pairs:  98%|█████████▊| 31461/32143 [2:17:53<1:03:25,  5.58s/it]"
     ]
    },
    {
     "name": "stdout",
     "output_type": "stream",
     "text": [
      "[2025-04-17 06:12:38] Saved t_2024-10-07_1200_1300.zarr\n"
     ]
    },
    {
     "name": "stderr",
     "output_type": "stream",
     "text": [
      "Saving Zarr pairs:  98%|█████████▊| 31463/32143 [2:17:55<47:44,  4.21s/it]  "
     ]
    },
    {
     "name": "stdout",
     "output_type": "stream",
     "text": [
      "[2025-04-17 06:12:41] Saved t_2024-10-07_1800_1900.zarr\n"
     ]
    },
    {
     "name": "stderr",
     "output_type": "stream",
     "text": [
      "Saving Zarr pairs:  98%|█████████▊| 31465/32143 [2:18:01<43:15,  3.83s/it]"
     ]
    },
    {
     "name": "stdout",
     "output_type": "stream",
     "text": [
      "[2025-04-17 06:12:47] Saved t_2024-10-08_0000_0100.zarr\n"
     ]
    },
    {
     "name": "stderr",
     "output_type": "stream",
     "text": [
      "Saving Zarr pairs:  98%|█████████▊| 31467/32143 [2:18:05<35:45,  3.17s/it]"
     ]
    },
    {
     "name": "stdout",
     "output_type": "stream",
     "text": [
      "[2025-04-17 06:12:51] Saved t_2024-10-08_0600_0700.zarr\n"
     ]
    },
    {
     "name": "stderr",
     "output_type": "stream",
     "text": [
      "Saving Zarr pairs:  98%|█████████▊| 31469/32143 [2:18:11<35:42,  3.18s/it]"
     ]
    },
    {
     "name": "stdout",
     "output_type": "stream",
     "text": [
      "[2025-04-17 06:12:57] Saved t_2024-10-08_1200_1300.zarr\n"
     ]
    },
    {
     "name": "stderr",
     "output_type": "stream",
     "text": [
      "Saving Zarr pairs:  98%|█████████▊| 31471/32143 [2:18:18<35:41,  3.19s/it]"
     ]
    },
    {
     "name": "stdout",
     "output_type": "stream",
     "text": [
      "[2025-04-17 06:13:03] Saved t_2024-10-08_1800_1900.zarr\n"
     ]
    },
    {
     "name": "stderr",
     "output_type": "stream",
     "text": [
      "Saving Zarr pairs:  98%|█████████▊| 31473/32143 [2:18:43<1:07:16,  6.02s/it]"
     ]
    },
    {
     "name": "stdout",
     "output_type": "stream",
     "text": [
      "[2025-04-17 06:13:28] Saved t_2024-10-09_0000_0100.zarr\n"
     ]
    },
    {
     "name": "stderr",
     "output_type": "stream",
     "text": [
      "Saving Zarr pairs:  98%|█████████▊| 31475/32143 [2:18:59<1:14:12,  6.67s/it]"
     ]
    },
    {
     "name": "stdout",
     "output_type": "stream",
     "text": [
      "[2025-04-17 06:13:45] Saved t_2024-10-09_0600_0700.zarr\n"
     ]
    },
    {
     "name": "stderr",
     "output_type": "stream",
     "text": [
      "Saving Zarr pairs:  98%|█████████▊| 31477/32143 [2:19:04<59:41,  5.38s/it]  "
     ]
    },
    {
     "name": "stdout",
     "output_type": "stream",
     "text": [
      "[2025-04-17 06:13:49] Saved t_2024-10-09_1200_1300.zarr\n"
     ]
    },
    {
     "name": "stderr",
     "output_type": "stream",
     "text": [
      "Saving Zarr pairs:  98%|█████████▊| 31479/32143 [2:19:07<46:50,  4.23s/it]"
     ]
    },
    {
     "name": "stdout",
     "output_type": "stream",
     "text": [
      "[2025-04-17 06:13:53] Saved t_2024-10-09_1800_1900.zarr\n"
     ]
    },
    {
     "name": "stderr",
     "output_type": "stream",
     "text": [
      "Saving Zarr pairs:  98%|█████████▊| 31482/32143 [2:19:12<33:17,  3.02s/it]"
     ]
    },
    {
     "name": "stdout",
     "output_type": "stream",
     "text": [
      "[2025-04-17 06:13:57] Saved t_2024-10-10_0000_0100.zarr\n"
     ]
    },
    {
     "name": "stderr",
     "output_type": "stream",
     "text": [
      "Saving Zarr pairs:  98%|█████████▊| 31483/32143 [2:19:18<40:40,  3.70s/it]"
     ]
    },
    {
     "name": "stdout",
     "output_type": "stream",
     "text": [
      "[2025-04-17 06:14:04] Saved t_2024-10-10_0600_0700.zarr\n"
     ]
    },
    {
     "name": "stderr",
     "output_type": "stream",
     "text": [
      "Saving Zarr pairs:  98%|█████████▊| 31486/32143 [2:19:21<24:53,  2.27s/it]"
     ]
    },
    {
     "name": "stdout",
     "output_type": "stream",
     "text": [
      "[2025-04-17 06:14:06] Saved t_2024-10-10_1200_1300.zarr\n"
     ]
    },
    {
     "name": "stderr",
     "output_type": "stream",
     "text": [
      "Saving Zarr pairs:  98%|█████████▊| 31487/32143 [2:19:27<35:24,  3.24s/it]"
     ]
    },
    {
     "name": "stdout",
     "output_type": "stream",
     "text": [
      "[2025-04-17 06:14:13] Saved t_2024-10-10_1800_1900.zarr\n"
     ]
    },
    {
     "name": "stderr",
     "output_type": "stream",
     "text": [
      "Saving Zarr pairs:  98%|█████████▊| 31490/32143 [2:19:50<55:10,  5.07s/it]  "
     ]
    },
    {
     "name": "stdout",
     "output_type": "stream",
     "text": [
      "[2025-04-17 06:14:36] Saved t_2024-10-11_0000_0100.zarr\n"
     ]
    },
    {
     "name": "stderr",
     "output_type": "stream",
     "text": [
      "Saving Zarr pairs:  98%|█████████▊| 31491/32143 [2:20:09<1:29:33,  8.24s/it]"
     ]
    },
    {
     "name": "stdout",
     "output_type": "stream",
     "text": [
      "[2025-04-17 06:14:54] Saved t_2024-10-11_0600_0700.zarr\n"
     ]
    },
    {
     "name": "stderr",
     "output_type": "stream",
     "text": [
      "Saving Zarr pairs:  98%|█████████▊| 31493/32143 [2:20:13<1:02:26,  5.76s/it]"
     ]
    },
    {
     "name": "stdout",
     "output_type": "stream",
     "text": [
      "[2025-04-17 06:14:58] Saved t_2024-10-11_1200_1300.zarr\n"
     ]
    },
    {
     "name": "stderr",
     "output_type": "stream",
     "text": [
      "Saving Zarr pairs:  98%|█████████▊| 31496/32143 [2:20:17<37:38,  3.49s/it]  "
     ]
    },
    {
     "name": "stdout",
     "output_type": "stream",
     "text": [
      "[2025-04-17 06:15:02] Saved t_2024-10-11_1800_1900.zarr\n"
     ]
    },
    {
     "name": "stderr",
     "output_type": "stream",
     "text": [
      "Saving Zarr pairs:  98%|█████████▊| 31497/32143 [2:20:21<38:10,  3.55s/it]"
     ]
    },
    {
     "name": "stdout",
     "output_type": "stream",
     "text": [
      "[2025-04-17 06:15:06] Saved t_2024-10-12_0000_0100.zarr\n"
     ]
    },
    {
     "name": "stderr",
     "output_type": "stream",
     "text": [
      "Saving Zarr pairs:  98%|█████████▊| 31500/32143 [2:20:28<29:46,  2.78s/it]"
     ]
    },
    {
     "name": "stdout",
     "output_type": "stream",
     "text": [
      "[2025-04-17 06:15:13] Saved t_2024-10-12_0600_0700.zarr\n"
     ]
    },
    {
     "name": "stderr",
     "output_type": "stream",
     "text": [
      "Saving Zarr pairs:  98%|█████████▊| 31502/32143 [2:20:31<22:12,  2.08s/it]"
     ]
    },
    {
     "name": "stdout",
     "output_type": "stream",
     "text": [
      "[2025-04-17 06:15:16] Saved t_2024-10-12_1200_1300.zarr\n"
     ]
    },
    {
     "name": "stderr",
     "output_type": "stream",
     "text": [
      "Saving Zarr pairs:  98%|█████████▊| 31503/32143 [2:20:37<33:48,  3.17s/it]"
     ]
    },
    {
     "name": "stdout",
     "output_type": "stream",
     "text": [
      "[2025-04-17 06:15:22] Saved t_2024-10-12_1800_1900.zarr\n"
     ]
    },
    {
     "name": "stderr",
     "output_type": "stream",
     "text": [
      "Saving Zarr pairs:  98%|█████████▊| 31505/32143 [2:21:02<1:18:11,  7.35s/it]"
     ]
    },
    {
     "name": "stdout",
     "output_type": "stream",
     "text": [
      "[2025-04-17 06:15:48] Saved t_2024-10-13_0000_0100.zarr\n"
     ]
    },
    {
     "name": "stderr",
     "output_type": "stream",
     "text": [
      "Saving Zarr pairs:  98%|█████████▊| 31507/32143 [2:21:21<1:25:07,  8.03s/it]"
     ]
    },
    {
     "name": "stdout",
     "output_type": "stream",
     "text": [
      "[2025-04-17 06:16:06] Saved t_2024-10-13_0600_0700.zarr\n"
     ]
    },
    {
     "name": "stderr",
     "output_type": "stream",
     "text": [
      "Saving Zarr pairs:  98%|█████████▊| 31509/32143 [2:21:24<1:01:51,  5.85s/it]"
     ]
    },
    {
     "name": "stdout",
     "output_type": "stream",
     "text": [
      "[2025-04-17 06:16:10] Saved t_2024-10-13_1200_1300.zarr\n"
     ]
    },
    {
     "name": "stderr",
     "output_type": "stream",
     "text": [
      "Saving Zarr pairs:  98%|█████████▊| 31511/32143 [2:21:29<48:36,  4.62s/it]  "
     ]
    },
    {
     "name": "stdout",
     "output_type": "stream",
     "text": [
      "[2025-04-17 06:16:14] Saved t_2024-10-13_1800_1900.zarr\n"
     ]
    },
    {
     "name": "stderr",
     "output_type": "stream",
     "text": [
      "Saving Zarr pairs:  98%|█████████▊| 31513/32143 [2:21:32<38:29,  3.67s/it]"
     ]
    },
    {
     "name": "stdout",
     "output_type": "stream",
     "text": [
      "[2025-04-17 06:16:18] Saved t_2024-10-14_0000_0100.zarr\n"
     ]
    },
    {
     "name": "stderr",
     "output_type": "stream",
     "text": [
      "Saving Zarr pairs:  98%|█████████▊| 31515/32143 [2:21:36<32:47,  3.13s/it]"
     ]
    },
    {
     "name": "stdout",
     "output_type": "stream",
     "text": [
      "[2025-04-17 06:16:22] Saved t_2024-10-14_0600_0700.zarr\n"
     ]
    },
    {
     "name": "stderr",
     "output_type": "stream",
     "text": [
      "Saving Zarr pairs:  98%|█████████▊| 31517/32143 [2:21:41<30:56,  2.97s/it]"
     ]
    },
    {
     "name": "stdout",
     "output_type": "stream",
     "text": [
      "[2025-04-17 06:16:27] Saved t_2024-10-14_1200_1300.zarr\n"
     ]
    },
    {
     "name": "stderr",
     "output_type": "stream",
     "text": [
      "Saving Zarr pairs:  98%|█████████▊| 31519/32143 [2:21:47<30:00,  2.88s/it]"
     ]
    },
    {
     "name": "stdout",
     "output_type": "stream",
     "text": [
      "[2025-04-17 06:16:32] Saved t_2024-10-14_1800_1900.zarr\n"
     ]
    },
    {
     "name": "stderr",
     "output_type": "stream",
     "text": [
      "Saving Zarr pairs:  98%|█████████▊| 31521/32143 [2:22:11<58:55,  5.68s/it]"
     ]
    },
    {
     "name": "stdout",
     "output_type": "stream",
     "text": [
      "[2025-04-17 06:16:56] Saved t_2024-10-15_0000_0100.zarr\n"
     ]
    },
    {
     "name": "stderr",
     "output_type": "stream",
     "text": [
      "Saving Zarr pairs:  98%|█████████▊| 31523/32143 [2:22:30<1:10:30,  6.82s/it]"
     ]
    },
    {
     "name": "stdout",
     "output_type": "stream",
     "text": [
      "[2025-04-17 06:17:15] Saved t_2024-10-15_0600_0700.zarr\n"
     ]
    },
    {
     "name": "stderr",
     "output_type": "stream",
     "text": [
      "Saving Zarr pairs:  98%|█████████▊| 31525/32143 [2:22:34<55:11,  5.36s/it]  "
     ]
    },
    {
     "name": "stdout",
     "output_type": "stream",
     "text": [
      "[2025-04-17 06:17:19] Saved t_2024-10-15_1200_1300.zarr\n"
     ]
    },
    {
     "name": "stderr",
     "output_type": "stream",
     "text": [
      "Saving Zarr pairs:  98%|█████████▊| 31527/32143 [2:22:38<45:34,  4.44s/it]"
     ]
    },
    {
     "name": "stdout",
     "output_type": "stream",
     "text": [
      "[2025-04-17 06:17:24] Saved t_2024-10-15_1800_1900.zarr\n"
     ]
    },
    {
     "name": "stderr",
     "output_type": "stream",
     "text": [
      "Saving Zarr pairs:  98%|█████████▊| 31529/32143 [2:22:42<37:10,  3.63s/it]"
     ]
    },
    {
     "name": "stdout",
     "output_type": "stream",
     "text": [
      "[2025-04-17 06:17:27] Saved t_2024-10-16_0000_0100.zarr\n"
     ]
    },
    {
     "name": "stderr",
     "output_type": "stream",
     "text": [
      "Saving Zarr pairs:  98%|█████████▊| 31531/32143 [2:22:45<31:37,  3.10s/it]"
     ]
    },
    {
     "name": "stdout",
     "output_type": "stream",
     "text": [
      "[2025-04-17 06:17:31] Saved t_2024-10-16_0600_0700.zarr\n"
     ]
    },
    {
     "name": "stderr",
     "output_type": "stream",
     "text": [
      "Saving Zarr pairs:  98%|█████████▊| 31534/32143 [2:22:51<24:06,  2.38s/it]"
     ]
    },
    {
     "name": "stdout",
     "output_type": "stream",
     "text": [
      "[2025-04-17 06:17:36] Saved t_2024-10-16_1200_1300.zarr\n"
     ]
    },
    {
     "name": "stderr",
     "output_type": "stream",
     "text": [
      "Saving Zarr pairs:  98%|█████████▊| 31535/32143 [2:22:57<33:21,  3.29s/it]"
     ]
    },
    {
     "name": "stdout",
     "output_type": "stream",
     "text": [
      "[2025-04-17 06:17:42] Saved t_2024-10-16_1800_1900.zarr\n"
     ]
    },
    {
     "name": "stderr",
     "output_type": "stream",
     "text": [
      "Saving Zarr pairs:  98%|█████████▊| 31538/32143 [2:23:21<54:36,  5.42s/it]  "
     ]
    },
    {
     "name": "stdout",
     "output_type": "stream",
     "text": [
      "[2025-04-17 06:18:07] Saved t_2024-10-17_0000_0100.zarr\n"
     ]
    },
    {
     "name": "stderr",
     "output_type": "stream",
     "text": [
      "Saving Zarr pairs:  98%|█████████▊| 31540/32143 [2:23:40<1:05:14,  6.49s/it]"
     ]
    },
    {
     "name": "stdout",
     "output_type": "stream",
     "text": [
      "[2025-04-17 06:18:26] Saved t_2024-10-17_0600_0700.zarr\n"
     ]
    },
    {
     "name": "stderr",
     "output_type": "stream",
     "text": [
      "Saving Zarr pairs:  98%|█████████▊| 31541/32143 [2:23:43<53:29,  5.33s/it]  "
     ]
    },
    {
     "name": "stdout",
     "output_type": "stream",
     "text": [
      "[2025-04-17 06:18:28] Saved t_2024-10-17_1200_1300.zarr\n"
     ]
    },
    {
     "name": "stderr",
     "output_type": "stream",
     "text": [
      "Saving Zarr pairs:  98%|█████████▊| 31543/32143 [2:23:47<40:47,  4.08s/it]"
     ]
    },
    {
     "name": "stdout",
     "output_type": "stream",
     "text": [
      "[2025-04-17 06:18:33] Saved t_2024-10-17_1800_1900.zarr\n"
     ]
    },
    {
     "name": "stderr",
     "output_type": "stream",
     "text": [
      "Saving Zarr pairs:  98%|█████████▊| 31546/32143 [2:23:51<25:02,  2.52s/it]"
     ]
    },
    {
     "name": "stdout",
     "output_type": "stream",
     "text": [
      "[2025-04-17 06:18:36] Saved t_2024-10-18_0000_0100.zarr\n"
     ]
    },
    {
     "name": "stderr",
     "output_type": "stream",
     "text": [
      "Saving Zarr pairs:  98%|█████████▊| 31547/32143 [2:23:55<28:19,  2.85s/it]"
     ]
    },
    {
     "name": "stdout",
     "output_type": "stream",
     "text": [
      "[2025-04-17 06:18:41] Saved t_2024-10-18_0600_0700.zarr\n"
     ]
    },
    {
     "name": "stderr",
     "output_type": "stream",
     "text": [
      "Saving Zarr pairs:  98%|█████████▊| 31549/32143 [2:24:01<28:23,  2.87s/it]"
     ]
    },
    {
     "name": "stdout",
     "output_type": "stream",
     "text": [
      "[2025-04-17 06:18:46] Saved t_2024-10-18_1200_1300.zarr\n"
     ]
    },
    {
     "name": "stderr",
     "output_type": "stream",
     "text": [
      "Saving Zarr pairs:  98%|█████████▊| 31551/32143 [2:24:08<30:57,  3.14s/it]"
     ]
    },
    {
     "name": "stdout",
     "output_type": "stream",
     "text": [
      "[2025-04-17 06:18:54] Saved t_2024-10-18_1800_1900.zarr\n"
     ]
    },
    {
     "name": "stderr",
     "output_type": "stream",
     "text": [
      "Saving Zarr pairs:  98%|█████████▊| 31553/32143 [2:24:33<1:01:43,  6.28s/it]"
     ]
    },
    {
     "name": "stdout",
     "output_type": "stream",
     "text": [
      "[2025-04-17 06:19:18] Saved t_2024-10-19_0000_0100.zarr\n"
     ]
    },
    {
     "name": "stderr",
     "output_type": "stream",
     "text": [
      "Saving Zarr pairs:  98%|█████████▊| 31555/32143 [2:24:50<1:10:12,  7.16s/it]"
     ]
    },
    {
     "name": "stdout",
     "output_type": "stream",
     "text": [
      "[2025-04-17 06:19:36] Saved t_2024-10-19_0600_0700.zarr\n"
     ]
    },
    {
     "name": "stderr",
     "output_type": "stream",
     "text": [
      "Saving Zarr pairs:  98%|█████████▊| 31557/32143 [2:24:53<51:39,  5.29s/it]  "
     ]
    },
    {
     "name": "stdout",
     "output_type": "stream",
     "text": [
      "[2025-04-17 06:19:39] Saved t_2024-10-19_1200_1300.zarr\n"
     ]
    },
    {
     "name": "stderr",
     "output_type": "stream",
     "text": [
      "Saving Zarr pairs:  98%|█████████▊| 31559/32143 [2:24:58<42:43,  4.39s/it]"
     ]
    },
    {
     "name": "stdout",
     "output_type": "stream",
     "text": [
      "[2025-04-17 06:19:43] Saved t_2024-10-19_1800_1900.zarr\n"
     ]
    },
    {
     "name": "stderr",
     "output_type": "stream",
     "text": [
      "Saving Zarr pairs:  98%|█████████▊| 31562/32143 [2:25:02<28:33,  2.95s/it]"
     ]
    },
    {
     "name": "stdout",
     "output_type": "stream",
     "text": [
      "[2025-04-17 06:19:47] Saved t_2024-10-20_0000_0100.zarr\n"
     ]
    },
    {
     "name": "stderr",
     "output_type": "stream",
     "text": [
      "Saving Zarr pairs:  98%|█████████▊| 31563/32143 [2:25:05<29:50,  3.09s/it]"
     ]
    },
    {
     "name": "stdout",
     "output_type": "stream",
     "text": [
      "[2025-04-17 06:19:51] Saved t_2024-10-20_0600_0700.zarr\n"
     ]
    },
    {
     "name": "stderr",
     "output_type": "stream",
     "text": [
      "Saving Zarr pairs:  98%|█████████▊| 31565/32143 [2:25:11<29:53,  3.10s/it]"
     ]
    },
    {
     "name": "stdout",
     "output_type": "stream",
     "text": [
      "[2025-04-17 06:19:57] Saved t_2024-10-20_1200_1300.zarr\n"
     ]
    },
    {
     "name": "stderr",
     "output_type": "stream",
     "text": [
      "Saving Zarr pairs:  98%|█████████▊| 31568/32143 [2:25:18<25:01,  2.61s/it]"
     ]
    },
    {
     "name": "stdout",
     "output_type": "stream",
     "text": [
      "[2025-04-17 06:20:04] Saved t_2024-10-20_1800_1900.zarr\n"
     ]
    },
    {
     "name": "stderr",
     "output_type": "stream",
     "text": [
      "Saving Zarr pairs:  98%|█████████▊| 31569/32143 [2:25:40<1:05:19,  6.83s/it]"
     ]
    },
    {
     "name": "stdout",
     "output_type": "stream",
     "text": [
      "[2025-04-17 06:20:26] Saved t_2024-10-21_0000_0100.zarr\n"
     ]
    },
    {
     "name": "stderr",
     "output_type": "stream",
     "text": [
      "Saving Zarr pairs:  98%|█████████▊| 31571/32143 [2:26:00<1:15:55,  7.96s/it]"
     ]
    },
    {
     "name": "stdout",
     "output_type": "stream",
     "text": [
      "[2025-04-17 06:20:45] Saved t_2024-10-21_0600_0700.zarr\n"
     ]
    },
    {
     "name": "stderr",
     "output_type": "stream",
     "text": [
      "Saving Zarr pairs:  98%|█████████▊| 31573/32143 [2:26:02<53:01,  5.58s/it]  "
     ]
    },
    {
     "name": "stdout",
     "output_type": "stream",
     "text": [
      "[2025-04-17 06:20:48] Saved t_2024-10-21_1200_1300.zarr\n"
     ]
    },
    {
     "name": "stderr",
     "output_type": "stream",
     "text": [
      "Saving Zarr pairs:  98%|█████████▊| 31575/32143 [2:26:07<43:10,  4.56s/it]"
     ]
    },
    {
     "name": "stdout",
     "output_type": "stream",
     "text": [
      "[2025-04-17 06:20:53] Saved t_2024-10-21_1800_1900.zarr\n"
     ]
    },
    {
     "name": "stderr",
     "output_type": "stream",
     "text": [
      "Saving Zarr pairs:  98%|█████████▊| 31577/32143 [2:26:11<34:23,  3.65s/it]"
     ]
    },
    {
     "name": "stdout",
     "output_type": "stream",
     "text": [
      "[2025-04-17 06:20:56] Saved t_2024-10-22_0000_0100.zarr\n"
     ]
    },
    {
     "name": "stderr",
     "output_type": "stream",
     "text": [
      "Saving Zarr pairs:  98%|█████████▊| 31580/32143 [2:26:14<23:31,  2.51s/it]"
     ]
    },
    {
     "name": "stdout",
     "output_type": "stream",
     "text": [
      "[2025-04-17 06:21:00] Saved t_2024-10-22_0600_0700.zarr\n"
     ]
    },
    {
     "name": "stderr",
     "output_type": "stream",
     "text": [
      "Saving Zarr pairs:  98%|█████████▊| 31581/32143 [2:26:23<35:46,  3.82s/it]"
     ]
    },
    {
     "name": "stdout",
     "output_type": "stream",
     "text": [
      "[2025-04-17 06:21:09] Saved t_2024-10-22_1200_1300.zarr\n"
     ]
    },
    {
     "name": "stderr",
     "output_type": "stream",
     "text": [
      "Saving Zarr pairs:  98%|█████████▊| 31583/32143 [2:26:28<32:34,  3.49s/it]"
     ]
    },
    {
     "name": "stdout",
     "output_type": "stream",
     "text": [
      "[2025-04-17 06:21:14] Saved t_2024-10-22_1800_1900.zarr\n"
     ]
    },
    {
     "name": "stderr",
     "output_type": "stream",
     "text": [
      "Saving Zarr pairs:  98%|█████████▊| 31585/32143 [2:26:52<1:03:42,  6.85s/it]"
     ]
    },
    {
     "name": "stdout",
     "output_type": "stream",
     "text": [
      "[2025-04-17 06:21:37] Saved t_2024-10-23_0000_0100.zarr\n"
     ]
    },
    {
     "name": "stderr",
     "output_type": "stream",
     "text": [
      "Saving Zarr pairs:  98%|█████████▊| 31588/32143 [2:27:08<54:01,  5.84s/it]  "
     ]
    },
    {
     "name": "stdout",
     "output_type": "stream",
     "text": [
      "[2025-04-17 06:21:54] Saved t_2024-10-23_0600_0700.zarr\n"
     ]
    },
    {
     "name": "stderr",
     "output_type": "stream",
     "text": [
      "Saving Zarr pairs:  98%|█████████▊| 31590/32143 [2:27:11<35:14,  3.82s/it]"
     ]
    },
    {
     "name": "stdout",
     "output_type": "stream",
     "text": [
      "[2025-04-17 06:21:56] Saved t_2024-10-23_1200_1300.zarr\n"
     ]
    },
    {
     "name": "stderr",
     "output_type": "stream",
     "text": [
      "Saving Zarr pairs:  98%|█████████▊| 31591/32143 [2:27:16<39:32,  4.30s/it]"
     ]
    },
    {
     "name": "stdout",
     "output_type": "stream",
     "text": [
      "[2025-04-17 06:22:02] Saved t_2024-10-23_1800_1900.zarr\n",
      "[2025-04-17 06:22:08] Saved t_2024-10-24_0600_0700.zarr\n"
     ]
    },
    {
     "name": "stderr",
     "output_type": "stream",
     "text": [
      "Saving Zarr pairs:  98%|█████████▊| 31593/32143 [2:27:24<38:18,  4.18s/it]"
     ]
    },
    {
     "name": "stdout",
     "output_type": "stream",
     "text": [
      "[2025-04-17 06:22:10] Saved t_2024-10-24_0000_0100.zarr\n"
     ]
    },
    {
     "name": "stderr",
     "output_type": "stream",
     "text": [
      "Saving Zarr pairs:  98%|█████████▊| 31597/32143 [2:27:35<30:26,  3.35s/it]"
     ]
    },
    {
     "name": "stdout",
     "output_type": "stream",
     "text": [
      "[2025-04-17 06:22:21] Saved t_2024-10-24_1200_1300.zarr\n"
     ]
    },
    {
     "name": "stderr",
     "output_type": "stream",
     "text": [
      "Saving Zarr pairs:  98%|█████████▊| 31599/32143 [2:27:38<24:58,  2.76s/it]"
     ]
    },
    {
     "name": "stdout",
     "output_type": "stream",
     "text": [
      "[2025-04-17 06:22:23] Saved t_2024-10-24_1800_1900.zarr\n"
     ]
    },
    {
     "name": "stderr",
     "output_type": "stream",
     "text": [
      "Saving Zarr pairs:  98%|█████████▊| 31602/32143 [2:28:04<43:19,  4.80s/it]"
     ]
    },
    {
     "name": "stdout",
     "output_type": "stream",
     "text": [
      "[2025-04-17 06:22:50] Saved t_2024-10-25_0000_0100.zarr\n"
     ]
    },
    {
     "name": "stderr",
     "output_type": "stream",
     "text": [
      "Saving Zarr pairs:  98%|█████████▊| 31603/32143 [2:28:18<59:08,  6.57s/it]"
     ]
    },
    {
     "name": "stdout",
     "output_type": "stream",
     "text": [
      "[2025-04-17 06:23:04] Saved t_2024-10-25_0600_0700.zarr\n"
     ]
    },
    {
     "name": "stderr",
     "output_type": "stream",
     "text": [
      "Saving Zarr pairs:  98%|█████████▊| 31606/32143 [2:28:20<33:21,  3.73s/it]"
     ]
    },
    {
     "name": "stdout",
     "output_type": "stream",
     "text": [
      "[2025-04-17 06:23:06] Saved t_2024-10-25_1200_1300.zarr\n"
     ]
    },
    {
     "name": "stderr",
     "output_type": "stream",
     "text": [
      "Saving Zarr pairs:  98%|█████████▊| 31607/32143 [2:28:25<35:30,  3.97s/it]"
     ]
    },
    {
     "name": "stdout",
     "output_type": "stream",
     "text": [
      "[2025-04-17 06:23:11] Saved t_2024-10-25_1800_1900.zarr\n"
     ]
    },
    {
     "name": "stderr",
     "output_type": "stream",
     "text": [
      "Saving Zarr pairs:  98%|█████████▊| 31609/32143 [2:28:33<34:47,  3.91s/it]"
     ]
    },
    {
     "name": "stdout",
     "output_type": "stream",
     "text": [
      "[2025-04-17 06:23:19] Saved t_2024-10-26_0000_0100.zarr\n"
     ]
    },
    {
     "name": "stderr",
     "output_type": "stream",
     "text": [
      "Saving Zarr pairs:  98%|█████████▊| 31611/32143 [2:28:38<29:31,  3.33s/it]"
     ]
    },
    {
     "name": "stdout",
     "output_type": "stream",
     "text": [
      "[2025-04-17 06:23:23] Saved t_2024-10-26_0600_0700.zarr\n"
     ]
    },
    {
     "name": "stderr",
     "output_type": "stream",
     "text": [
      "Saving Zarr pairs:  98%|█████████▊| 31613/32143 [2:28:45<33:13,  3.76s/it]"
     ]
    },
    {
     "name": "stdout",
     "output_type": "stream",
     "text": [
      "[2025-04-17 06:23:31] Saved t_2024-10-26_1200_1300.zarr\n"
     ]
    },
    {
     "name": "stderr",
     "output_type": "stream",
     "text": [
      "Saving Zarr pairs:  98%|█████████▊| 31615/32143 [2:28:48<24:12,  2.75s/it]"
     ]
    },
    {
     "name": "stdout",
     "output_type": "stream",
     "text": [
      "[2025-04-17 06:23:33] Saved t_2024-10-26_1800_1900.zarr\n"
     ]
    },
    {
     "name": "stderr",
     "output_type": "stream",
     "text": [
      "Saving Zarr pairs:  98%|█████████▊| 31618/32143 [2:29:12<43:22,  4.96s/it]"
     ]
    },
    {
     "name": "stdout",
     "output_type": "stream",
     "text": [
      "[2025-04-17 06:23:58] Saved t_2024-10-27_0000_0100.zarr\n"
     ]
    },
    {
     "name": "stderr",
     "output_type": "stream",
     "text": [
      "Saving Zarr pairs:  98%|█████████▊| 31620/32143 [2:29:27<47:12,  5.42s/it]  "
     ]
    },
    {
     "name": "stdout",
     "output_type": "stream",
     "text": [
      "[2025-04-17 06:24:12] Saved t_2024-10-27_0600_0700.zarr\n"
     ]
    },
    {
     "name": "stderr",
     "output_type": "stream",
     "text": [
      "Saving Zarr pairs:  98%|█████████▊| 31622/32143 [2:29:30<30:47,  3.55s/it]"
     ]
    },
    {
     "name": "stdout",
     "output_type": "stream",
     "text": [
      "[2025-04-17 06:24:16] Saved t_2024-10-27_1200_1300.zarr\n"
     ]
    },
    {
     "name": "stderr",
     "output_type": "stream",
     "text": [
      "Saving Zarr pairs:  98%|█████████▊| 31623/32143 [2:29:35<33:09,  3.83s/it]"
     ]
    },
    {
     "name": "stdout",
     "output_type": "stream",
     "text": [
      "[2025-04-17 06:24:20] Saved t_2024-10-27_1800_1900.zarr\n"
     ]
    },
    {
     "name": "stderr",
     "output_type": "stream",
     "text": [
      "Saving Zarr pairs:  98%|█████████▊| 31625/32143 [2:29:42<33:08,  3.84s/it]"
     ]
    },
    {
     "name": "stdout",
     "output_type": "stream",
     "text": [
      "[2025-04-17 06:24:28] Saved t_2024-10-28_0000_0100.zarr\n"
     ]
    },
    {
     "name": "stderr",
     "output_type": "stream",
     "text": [
      "Saving Zarr pairs:  98%|█████████▊| 31628/32143 [2:29:50<25:31,  2.97s/it]"
     ]
    },
    {
     "name": "stdout",
     "output_type": "stream",
     "text": [
      "[2025-04-17 06:24:35] Saved t_2024-10-28_0600_0700.zarr\n"
     ]
    },
    {
     "name": "stderr",
     "output_type": "stream",
     "text": [
      "Saving Zarr pairs:  98%|█████████▊| 31629/32143 [2:29:55<30:19,  3.54s/it]"
     ]
    },
    {
     "name": "stdout",
     "output_type": "stream",
     "text": [
      "[2025-04-17 06:24:41] Saved t_2024-10-28_1200_1300.zarr\n"
     ]
    },
    {
     "name": "stderr",
     "output_type": "stream",
     "text": [
      "Saving Zarr pairs:  98%|█████████▊| 31631/32143 [2:29:58<22:56,  2.69s/it]"
     ]
    },
    {
     "name": "stdout",
     "output_type": "stream",
     "text": [
      "[2025-04-17 06:24:44] Saved t_2024-10-28_1800_1900.zarr\n"
     ]
    },
    {
     "name": "stderr",
     "output_type": "stream",
     "text": [
      "Saving Zarr pairs:  98%|█████████▊| 31634/32143 [2:30:22<41:05,  4.84s/it]"
     ]
    },
    {
     "name": "stdout",
     "output_type": "stream",
     "text": [
      "[2025-04-17 06:25:08] Saved t_2024-10-29_0000_0100.zarr\n"
     ]
    },
    {
     "name": "stderr",
     "output_type": "stream",
     "text": [
      "Saving Zarr pairs:  98%|█████████▊| 31635/32143 [2:30:37<59:40,  7.05s/it]"
     ]
    },
    {
     "name": "stdout",
     "output_type": "stream",
     "text": [
      "[2025-04-17 06:25:22] Saved t_2024-10-29_0600_0700.zarr\n"
     ]
    },
    {
     "name": "stderr",
     "output_type": "stream",
     "text": [
      "Saving Zarr pairs:  98%|█████████▊| 31637/32143 [2:30:40<40:48,  4.84s/it]"
     ]
    },
    {
     "name": "stdout",
     "output_type": "stream",
     "text": [
      "[2025-04-17 06:25:25] Saved t_2024-10-29_1200_1300.zarr\n"
     ]
    },
    {
     "name": "stderr",
     "output_type": "stream",
     "text": [
      "Saving Zarr pairs:  98%|█████████▊| 31640/32143 [2:30:44<26:26,  3.15s/it]"
     ]
    },
    {
     "name": "stdout",
     "output_type": "stream",
     "text": [
      "[2025-04-17 06:25:30] Saved t_2024-10-29_1800_1900.zarr\n"
     ]
    },
    {
     "name": "stderr",
     "output_type": "stream",
     "text": [
      "Saving Zarr pairs:  98%|█████████▊| 31642/32143 [2:30:52<26:13,  3.14s/it]"
     ]
    },
    {
     "name": "stdout",
     "output_type": "stream",
     "text": [
      "[2025-04-17 06:25:37] Saved t_2024-10-30_0000_0100.zarr\n"
     ]
    },
    {
     "name": "stderr",
     "output_type": "stream",
     "text": [
      "Saving Zarr pairs:  98%|█████████▊| 31643/32143 [2:31:00<37:34,  4.51s/it]"
     ]
    },
    {
     "name": "stdout",
     "output_type": "stream",
     "text": [
      "[2025-04-17 06:25:46] Saved t_2024-10-30_0600_0700.zarr\n"
     ]
    },
    {
     "name": "stderr",
     "output_type": "stream",
     "text": [
      "Saving Zarr pairs:  98%|█████████▊| 31645/32143 [2:31:06<31:19,  3.77s/it]"
     ]
    },
    {
     "name": "stdout",
     "output_type": "stream",
     "text": [
      "[2025-04-17 06:25:51] Saved t_2024-10-30_1200_1300.zarr\n"
     ]
    },
    {
     "name": "stderr",
     "output_type": "stream",
     "text": [
      "Saving Zarr pairs:  98%|█████████▊| 31647/32143 [2:31:08<23:31,  2.85s/it]"
     ]
    },
    {
     "name": "stdout",
     "output_type": "stream",
     "text": [
      "[2025-04-17 06:25:54] Saved t_2024-10-30_1800_1900.zarr\n"
     ]
    },
    {
     "name": "stderr",
     "output_type": "stream",
     "text": [
      "Saving Zarr pairs:  98%|█████████▊| 31649/32143 [2:31:32<49:45,  6.04s/it]"
     ]
    },
    {
     "name": "stdout",
     "output_type": "stream",
     "text": [
      "[2025-04-17 06:26:18] Saved t_2024-10-31_0000_0100.zarr\n"
     ]
    },
    {
     "name": "stderr",
     "output_type": "stream",
     "text": [
      "Saving Zarr pairs:  98%|█████████▊| 31651/32143 [2:31:48<53:44,  6.55s/it]"
     ]
    },
    {
     "name": "stdout",
     "output_type": "stream",
     "text": [
      "[2025-04-17 06:26:33] Saved t_2024-10-31_0600_0700.zarr\n"
     ]
    },
    {
     "name": "stderr",
     "output_type": "stream",
     "text": [
      "Saving Zarr pairs:  98%|█████████▊| 31654/32143 [2:31:50<32:36,  4.00s/it]"
     ]
    },
    {
     "name": "stdout",
     "output_type": "stream",
     "text": [
      "[2025-04-17 06:26:36] Saved t_2024-10-31_1200_1300.zarr\n"
     ]
    },
    {
     "name": "stderr",
     "output_type": "stream",
     "text": [
      "Saving Zarr pairs:  98%|█████████▊| 31656/32143 [2:31:55<25:15,  3.11s/it]"
     ]
    },
    {
     "name": "stdout",
     "output_type": "stream",
     "text": [
      "[2025-04-17 06:26:40] Saved t_2024-10-31_1800_1900.zarr\n"
     ]
    },
    {
     "name": "stderr",
     "output_type": "stream",
     "text": [
      "Saving Zarr pairs:  98%|█████████▊| 31658/32143 [2:32:02<24:54,  3.08s/it]"
     ]
    },
    {
     "name": "stdout",
     "output_type": "stream",
     "text": [
      "[2025-04-17 06:26:47] Saved t_2024-11-01_0000_0100.zarr\n"
     ]
    },
    {
     "name": "stderr",
     "output_type": "stream",
     "text": [
      "Saving Zarr pairs:  98%|█████████▊| 31660/32143 [2:32:09<24:54,  3.09s/it]"
     ]
    },
    {
     "name": "stdout",
     "output_type": "stream",
     "text": [
      "[2025-04-17 06:26:55] Saved t_2024-11-01_0600_0700.zarr\n",
      "[2025-04-17 06:27:02] Saved t_2024-11-01_1800_1900.zarr\n"
     ]
    },
    {
     "name": "stderr",
     "output_type": "stream",
     "text": [
      "Saving Zarr pairs:  99%|█████████▊| 31662/32143 [2:32:18<27:06,  3.38s/it]"
     ]
    },
    {
     "name": "stdout",
     "output_type": "stream",
     "text": [
      "[2025-04-17 06:27:04] Saved t_2024-11-01_1200_1300.zarr\n"
     ]
    },
    {
     "name": "stderr",
     "output_type": "stream",
     "text": [
      "Saving Zarr pairs:  99%|█████████▊| 31665/32143 [2:32:42<47:07,  5.91s/it]"
     ]
    },
    {
     "name": "stdout",
     "output_type": "stream",
     "text": [
      "[2025-04-17 06:27:28] Saved t_2024-11-02_0000_0100.zarr\n"
     ]
    },
    {
     "name": "stderr",
     "output_type": "stream",
     "text": [
      "Saving Zarr pairs:  99%|█████████▊| 31667/32143 [2:32:57<50:49,  6.41s/it]"
     ]
    },
    {
     "name": "stdout",
     "output_type": "stream",
     "text": [
      "[2025-04-17 06:27:42] Saved t_2024-11-02_0600_0700.zarr\n"
     ]
    },
    {
     "name": "stderr",
     "output_type": "stream",
     "text": [
      "Saving Zarr pairs:  99%|█████████▊| 31669/32143 [2:32:59<37:12,  4.71s/it]"
     ]
    },
    {
     "name": "stdout",
     "output_type": "stream",
     "text": [
      "[2025-04-17 06:27:45] Saved t_2024-11-02_1200_1300.zarr\n"
     ]
    },
    {
     "name": "stderr",
     "output_type": "stream",
     "text": [
      "Saving Zarr pairs:  99%|█████████▊| 31671/32143 [2:33:03<29:57,  3.81s/it]"
     ]
    },
    {
     "name": "stdout",
     "output_type": "stream",
     "text": [
      "[2025-04-17 06:27:49] Saved t_2024-11-02_1800_1900.zarr\n"
     ]
    },
    {
     "name": "stderr",
     "output_type": "stream",
     "text": [
      "Saving Zarr pairs:  99%|█████████▊| 31673/32143 [2:33:11<30:39,  3.91s/it]"
     ]
    },
    {
     "name": "stdout",
     "output_type": "stream",
     "text": [
      "[2025-04-17 06:27:57] Saved t_2024-11-03_0000_0100.zarr\n"
     ]
    },
    {
     "name": "stderr",
     "output_type": "stream",
     "text": [
      "Saving Zarr pairs:  99%|█████████▊| 31675/32143 [2:33:20<31:23,  4.03s/it]"
     ]
    },
    {
     "name": "stdout",
     "output_type": "stream",
     "text": [
      "[2025-04-17 06:28:06] Saved t_2024-11-03_0600_0700.zarr\n"
     ]
    },
    {
     "name": "stderr",
     "output_type": "stream",
     "text": [
      "Saving Zarr pairs:  99%|█████████▊| 31677/32143 [2:33:26<28:29,  3.67s/it]"
     ]
    },
    {
     "name": "stdout",
     "output_type": "stream",
     "text": [
      "[2025-04-17 06:28:11] Saved t_2024-11-03_1200_1300.zarr\n"
     ]
    },
    {
     "name": "stderr",
     "output_type": "stream",
     "text": [
      "Saving Zarr pairs:  99%|█████████▊| 31679/32143 [2:33:28<22:27,  2.90s/it]"
     ]
    },
    {
     "name": "stdout",
     "output_type": "stream",
     "text": [
      "[2025-04-17 06:28:14] Saved t_2024-11-03_1800_1900.zarr\n"
     ]
    },
    {
     "name": "stderr",
     "output_type": "stream",
     "text": [
      "Saving Zarr pairs:  99%|█████████▊| 31681/32143 [2:33:52<43:31,  5.65s/it]"
     ]
    },
    {
     "name": "stdout",
     "output_type": "stream",
     "text": [
      "[2025-04-17 06:28:38] Saved t_2024-11-04_0000_0100.zarr\n"
     ]
    },
    {
     "name": "stderr",
     "output_type": "stream",
     "text": [
      "Saving Zarr pairs:  99%|█████████▊| 31683/32143 [2:34:07<47:44,  6.23s/it]"
     ]
    },
    {
     "name": "stdout",
     "output_type": "stream",
     "text": [
      "[2025-04-17 06:28:53] Saved t_2024-11-04_0600_0700.zarr\n"
     ]
    },
    {
     "name": "stderr",
     "output_type": "stream",
     "text": [
      "Saving Zarr pairs:  99%|█████████▊| 31685/32143 [2:34:11<37:27,  4.91s/it]"
     ]
    },
    {
     "name": "stdout",
     "output_type": "stream",
     "text": [
      "[2025-04-17 06:28:56] Saved t_2024-11-04_1200_1300.zarr\n"
     ]
    },
    {
     "name": "stderr",
     "output_type": "stream",
     "text": [
      "Saving Zarr pairs:  99%|█████████▊| 31688/32143 [2:34:15<25:23,  3.35s/it]"
     ]
    },
    {
     "name": "stdout",
     "output_type": "stream",
     "text": [
      "[2025-04-17 06:29:00] Saved t_2024-11-04_1800_1900.zarr\n"
     ]
    },
    {
     "name": "stderr",
     "output_type": "stream",
     "text": [
      "Saving Zarr pairs:  99%|█████████▊| 31690/32143 [2:34:22<23:57,  3.17s/it]"
     ]
    },
    {
     "name": "stdout",
     "output_type": "stream",
     "text": [
      "[2025-04-17 06:29:07] Saved t_2024-11-05_0000_0100.zarr\n"
     ]
    },
    {
     "name": "stderr",
     "output_type": "stream",
     "text": [
      "Saving Zarr pairs:  99%|█████████▊| 31691/32143 [2:34:29<31:33,  4.19s/it]"
     ]
    },
    {
     "name": "stdout",
     "output_type": "stream",
     "text": [
      "[2025-04-17 06:29:15] Saved t_2024-11-05_0600_0700.zarr\n",
      "[2025-04-17 06:29:21] Saved t_2024-11-05_1800_1900.zarr\n"
     ]
    },
    {
     "name": "stderr",
     "output_type": "stream",
     "text": [
      "Saving Zarr pairs:  99%|█████████▊| 31693/32143 [2:34:39<33:29,  4.47s/it]"
     ]
    },
    {
     "name": "stdout",
     "output_type": "stream",
     "text": [
      "[2025-04-17 06:29:25] Saved t_2024-11-05_1200_1300.zarr\n"
     ]
    },
    {
     "name": "stderr",
     "output_type": "stream",
     "text": [
      "Saving Zarr pairs:  99%|█████████▊| 31697/32143 [2:35:01<37:35,  5.06s/it]"
     ]
    },
    {
     "name": "stdout",
     "output_type": "stream",
     "text": [
      "[2025-04-17 06:29:47] Saved t_2024-11-06_0000_0100.zarr\n"
     ]
    },
    {
     "name": "stderr",
     "output_type": "stream",
     "text": [
      "Saving Zarr pairs:  99%|█████████▊| 31699/32143 [2:35:18<43:57,  5.94s/it]"
     ]
    },
    {
     "name": "stdout",
     "output_type": "stream",
     "text": [
      "[2025-04-17 06:30:03] Saved t_2024-11-06_0600_0700.zarr\n"
     ]
    },
    {
     "name": "stderr",
     "output_type": "stream",
     "text": [
      "Saving Zarr pairs:  99%|█████████▊| 31701/32143 [2:35:20<34:09,  4.64s/it]"
     ]
    },
    {
     "name": "stdout",
     "output_type": "stream",
     "text": [
      "[2025-04-17 06:30:06] Saved t_2024-11-06_1200_1300.zarr\n"
     ]
    },
    {
     "name": "stderr",
     "output_type": "stream",
     "text": [
      "Saving Zarr pairs:  99%|█████████▊| 31704/32143 [2:35:25<24:26,  3.34s/it]"
     ]
    },
    {
     "name": "stdout",
     "output_type": "stream",
     "text": [
      "[2025-04-17 06:30:11] Saved t_2024-11-06_1800_1900.zarr\n"
     ]
    },
    {
     "name": "stderr",
     "output_type": "stream",
     "text": [
      "Saving Zarr pairs:  99%|█████████▊| 31706/32143 [2:35:32<23:01,  3.16s/it]"
     ]
    },
    {
     "name": "stdout",
     "output_type": "stream",
     "text": [
      "[2025-04-17 06:30:18] Saved t_2024-11-07_0000_0100.zarr\n"
     ]
    },
    {
     "name": "stderr",
     "output_type": "stream",
     "text": [
      "Saving Zarr pairs:  99%|█████████▊| 31708/32143 [2:35:40<22:40,  3.13s/it]"
     ]
    },
    {
     "name": "stdout",
     "output_type": "stream",
     "text": [
      "[2025-04-17 06:30:25] Saved t_2024-11-07_0600_0700.zarr\n"
     ]
    },
    {
     "name": "stderr",
     "output_type": "stream",
     "text": [
      "Saving Zarr pairs:  99%|█████████▊| 31709/32143 [2:35:45<27:12,  3.76s/it]"
     ]
    },
    {
     "name": "stdout",
     "output_type": "stream",
     "text": [
      "[2025-04-17 06:30:31] Saved t_2024-11-07_1200_1300.zarr\n"
     ]
    },
    {
     "name": "stderr",
     "output_type": "stream",
     "text": [
      "Saving Zarr pairs:  99%|█████████▊| 31711/32143 [2:35:48<19:24,  2.70s/it]"
     ]
    },
    {
     "name": "stdout",
     "output_type": "stream",
     "text": [
      "[2025-04-17 06:30:33] Saved t_2024-11-07_1800_1900.zarr\n"
     ]
    },
    {
     "name": "stderr",
     "output_type": "stream",
     "text": [
      "Saving Zarr pairs:  99%|█████████▊| 31714/32143 [2:36:11<34:43,  4.86s/it]"
     ]
    },
    {
     "name": "stdout",
     "output_type": "stream",
     "text": [
      "[2025-04-17 06:30:57] Saved t_2024-11-08_0000_0100.zarr\n",
      "[2025-04-17 06:31:13] Saved t_2024-11-08_1200_1300.zarr\n"
     ]
    },
    {
     "name": "stderr",
     "output_type": "stream",
     "text": [
      "Saving Zarr pairs:  99%|█████████▊| 31715/32143 [2:36:31<58:29,  8.20s/it]"
     ]
    },
    {
     "name": "stdout",
     "output_type": "stream",
     "text": [
      "[2025-04-17 06:31:16] Saved t_2024-11-08_0600_0700.zarr\n"
     ]
    },
    {
     "name": "stderr",
     "output_type": "stream",
     "text": [
      "Saving Zarr pairs:  99%|█████████▊| 31719/32143 [2:36:35<29:06,  4.12s/it]"
     ]
    },
    {
     "name": "stdout",
     "output_type": "stream",
     "text": [
      "[2025-04-17 06:31:20] Saved t_2024-11-08_1800_1900.zarr\n"
     ]
    },
    {
     "name": "stderr",
     "output_type": "stream",
     "text": [
      "Saving Zarr pairs:  99%|█████████▊| 31721/32143 [2:36:42<27:30,  3.91s/it]"
     ]
    },
    {
     "name": "stdout",
     "output_type": "stream",
     "text": [
      "[2025-04-17 06:31:27] Saved t_2024-11-09_0000_0100.zarr\n"
     ]
    },
    {
     "name": "stderr",
     "output_type": "stream",
     "text": [
      "Saving Zarr pairs:  99%|█████████▊| 31724/32143 [2:36:49<21:55,  3.14s/it]"
     ]
    },
    {
     "name": "stdout",
     "output_type": "stream",
     "text": [
      "[2025-04-17 06:31:34] Saved t_2024-11-09_0600_0700.zarr\n"
     ]
    },
    {
     "name": "stderr",
     "output_type": "stream",
     "text": [
      "Saving Zarr pairs:  99%|█████████▊| 31725/32143 [2:36:56<27:16,  3.91s/it]"
     ]
    },
    {
     "name": "stdout",
     "output_type": "stream",
     "text": [
      "[2025-04-17 06:31:41] Saved t_2024-11-09_1200_1300.zarr\n"
     ]
    },
    {
     "name": "stderr",
     "output_type": "stream",
     "text": [
      "Saving Zarr pairs:  99%|█████████▊| 31727/32143 [2:36:58<20:22,  2.94s/it]"
     ]
    },
    {
     "name": "stdout",
     "output_type": "stream",
     "text": [
      "[2025-04-17 06:31:44] Saved t_2024-11-09_1800_1900.zarr\n"
     ]
    },
    {
     "name": "stderr",
     "output_type": "stream",
     "text": [
      "Saving Zarr pairs:  99%|█████████▊| 31729/32143 [2:37:19<38:07,  5.53s/it]"
     ]
    },
    {
     "name": "stdout",
     "output_type": "stream",
     "text": [
      "[2025-04-17 06:32:05] Saved t_2024-11-10_0000_0100.zarr\n"
     ]
    },
    {
     "name": "stderr",
     "output_type": "stream",
     "text": [
      "Saving Zarr pairs:  99%|█████████▊| 31731/32143 [2:37:39<47:50,  6.97s/it]"
     ]
    },
    {
     "name": "stdout",
     "output_type": "stream",
     "text": [
      "[2025-04-17 06:32:25] Saved t_2024-11-10_0600_0700.zarr\n"
     ]
    },
    {
     "name": "stderr",
     "output_type": "stream",
     "text": [
      "Saving Zarr pairs:  99%|█████████▊| 31733/32143 [2:37:43<36:36,  5.36s/it]"
     ]
    },
    {
     "name": "stdout",
     "output_type": "stream",
     "text": [
      "[2025-04-17 06:32:28] Saved t_2024-11-10_1200_1300.zarr\n"
     ]
    },
    {
     "name": "stderr",
     "output_type": "stream",
     "text": [
      "Saving Zarr pairs:  99%|█████████▊| 31735/32143 [2:37:46<28:38,  4.21s/it]"
     ]
    },
    {
     "name": "stdout",
     "output_type": "stream",
     "text": [
      "[2025-04-17 06:32:32] Saved t_2024-11-10_1800_1900.zarr\n"
     ]
    },
    {
     "name": "stderr",
     "output_type": "stream",
     "text": [
      "Saving Zarr pairs:  99%|█████████▊| 31737/32143 [2:37:51<24:57,  3.69s/it]"
     ]
    },
    {
     "name": "stdout",
     "output_type": "stream",
     "text": [
      "[2025-04-17 06:32:37] Saved t_2024-11-11_0000_0100.zarr\n"
     ]
    },
    {
     "name": "stderr",
     "output_type": "stream",
     "text": [
      "Saving Zarr pairs:  99%|█████████▊| 31739/32143 [2:37:58<23:37,  3.51s/it]"
     ]
    },
    {
     "name": "stdout",
     "output_type": "stream",
     "text": [
      "[2025-04-17 06:32:43] Saved t_2024-11-11_0600_0700.zarr\n"
     ]
    },
    {
     "name": "stderr",
     "output_type": "stream",
     "text": [
      "Saving Zarr pairs:  99%|█████████▊| 31741/32143 [2:38:07<26:17,  3.92s/it]"
     ]
    },
    {
     "name": "stdout",
     "output_type": "stream",
     "text": [
      "[2025-04-17 06:32:53] Saved t_2024-11-11_1200_1300.zarr\n"
     ]
    },
    {
     "name": "stderr",
     "output_type": "stream",
     "text": [
      "Saving Zarr pairs:  99%|█████████▉| 31743/32143 [2:38:09<19:35,  2.94s/it]"
     ]
    },
    {
     "name": "stdout",
     "output_type": "stream",
     "text": [
      "[2025-04-17 06:32:54] Saved t_2024-11-11_1800_1900.zarr\n"
     ]
    },
    {
     "name": "stderr",
     "output_type": "stream",
     "text": [
      "Saving Zarr pairs:  99%|█████████▉| 31745/32143 [2:38:29<34:27,  5.20s/it]"
     ]
    },
    {
     "name": "stdout",
     "output_type": "stream",
     "text": [
      "[2025-04-17 06:33:15] Saved t_2024-11-12_0000_0100.zarr\n"
     ]
    },
    {
     "name": "stderr",
     "output_type": "stream",
     "text": [
      "Saving Zarr pairs:  99%|█████████▉| 31747/32143 [2:38:49<43:15,  6.55s/it]"
     ]
    },
    {
     "name": "stdout",
     "output_type": "stream",
     "text": [
      "[2025-04-17 06:33:34] Saved t_2024-11-12_0600_0700.zarr\n"
     ]
    },
    {
     "name": "stderr",
     "output_type": "stream",
     "text": [
      "Saving Zarr pairs:  99%|█████████▉| 31749/32143 [2:38:52<33:28,  5.10s/it]"
     ]
    },
    {
     "name": "stdout",
     "output_type": "stream",
     "text": [
      "[2025-04-17 06:33:38] Saved t_2024-11-12_1200_1300.zarr\n"
     ]
    },
    {
     "name": "stderr",
     "output_type": "stream",
     "text": [
      "Saving Zarr pairs:  99%|█████████▉| 31752/32143 [2:38:56<22:03,  3.38s/it]"
     ]
    },
    {
     "name": "stdout",
     "output_type": "stream",
     "text": [
      "[2025-04-17 06:33:41] Saved t_2024-11-12_1800_1900.zarr\n"
     ]
    },
    {
     "name": "stderr",
     "output_type": "stream",
     "text": [
      "Saving Zarr pairs:  99%|█████████▉| 31753/32143 [2:39:01<24:37,  3.79s/it]"
     ]
    },
    {
     "name": "stdout",
     "output_type": "stream",
     "text": [
      "[2025-04-17 06:33:47] Saved t_2024-11-13_0000_0100.zarr\n"
     ]
    },
    {
     "name": "stderr",
     "output_type": "stream",
     "text": [
      "Saving Zarr pairs:  99%|█████████▉| 31755/32143 [2:39:08<23:23,  3.62s/it]"
     ]
    },
    {
     "name": "stdout",
     "output_type": "stream",
     "text": [
      "[2025-04-17 06:33:53] Saved t_2024-11-13_0600_0700.zarr\n",
      "[2025-04-17 06:34:02] Saved t_2024-11-13_1800_1900.zarr\n"
     ]
    },
    {
     "name": "stderr",
     "output_type": "stream",
     "text": [
      "Saving Zarr pairs:  99%|█████████▉| 31757/32143 [2:39:19<27:38,  4.30s/it]"
     ]
    },
    {
     "name": "stdout",
     "output_type": "stream",
     "text": [
      "[2025-04-17 06:34:05] Saved t_2024-11-13_1200_1300.zarr\n"
     ]
    },
    {
     "name": "stderr",
     "output_type": "stream",
     "text": [
      "Saving Zarr pairs:  99%|█████████▉| 31762/32143 [2:39:39<25:03,  3.95s/it]"
     ]
    },
    {
     "name": "stdout",
     "output_type": "stream",
     "text": [
      "[2025-04-17 06:34:24] Saved t_2024-11-14_0000_0100.zarr\n"
     ]
    },
    {
     "name": "stderr",
     "output_type": "stream",
     "text": [
      "Saving Zarr pairs:  99%|█████████▉| 31763/32143 [2:39:58<41:39,  6.58s/it]"
     ]
    },
    {
     "name": "stdout",
     "output_type": "stream",
     "text": [
      "[2025-04-17 06:34:43] Saved t_2024-11-14_0600_0700.zarr\n"
     ]
    },
    {
     "name": "stderr",
     "output_type": "stream",
     "text": [
      "Saving Zarr pairs:  99%|█████████▉| 31765/32143 [2:40:01<30:44,  4.88s/it]"
     ]
    },
    {
     "name": "stdout",
     "output_type": "stream",
     "text": [
      "[2025-04-17 06:34:46] Saved t_2024-11-14_1200_1300.zarr\n"
     ]
    },
    {
     "name": "stderr",
     "output_type": "stream",
     "text": [
      "Saving Zarr pairs:  99%|█████████▉| 31767/32143 [2:40:04<23:58,  3.82s/it]"
     ]
    },
    {
     "name": "stdout",
     "output_type": "stream",
     "text": [
      "[2025-04-17 06:34:50] Saved t_2024-11-14_1800_1900.zarr\n"
     ]
    },
    {
     "name": "stderr",
     "output_type": "stream",
     "text": [
      "Saving Zarr pairs:  99%|█████████▉| 31769/32143 [2:40:13<25:26,  4.08s/it]"
     ]
    },
    {
     "name": "stdout",
     "output_type": "stream",
     "text": [
      "[2025-04-17 06:34:59] Saved t_2024-11-15_0000_0100.zarr\n"
     ]
    },
    {
     "name": "stderr",
     "output_type": "stream",
     "text": [
      "Saving Zarr pairs:  99%|█████████▉| 31771/32143 [2:40:19<22:26,  3.62s/it]"
     ]
    },
    {
     "name": "stdout",
     "output_type": "stream",
     "text": [
      "[2025-04-17 06:35:04] Saved t_2024-11-15_0600_0700.zarr\n"
     ]
    },
    {
     "name": "stderr",
     "output_type": "stream",
     "text": [
      "Saving Zarr pairs:  99%|█████████▉| 31773/32143 [2:40:25<22:41,  3.68s/it]"
     ]
    },
    {
     "name": "stdout",
     "output_type": "stream",
     "text": [
      "[2025-04-17 06:35:11] Saved t_2024-11-15_1200_1300.zarr\n"
     ]
    },
    {
     "name": "stderr",
     "output_type": "stream",
     "text": [
      "Saving Zarr pairs:  99%|█████████▉| 31775/32143 [2:40:28<17:37,  2.87s/it]"
     ]
    },
    {
     "name": "stdout",
     "output_type": "stream",
     "text": [
      "[2025-04-17 06:35:14] Saved t_2024-11-15_1800_1900.zarr\n"
     ]
    },
    {
     "name": "stderr",
     "output_type": "stream",
     "text": [
      "Saving Zarr pairs:  99%|█████████▉| 31777/32143 [2:40:47<31:12,  5.12s/it]"
     ]
    },
    {
     "name": "stdout",
     "output_type": "stream",
     "text": [
      "[2025-04-17 06:35:32] Saved t_2024-11-16_0000_0100.zarr\n"
     ]
    },
    {
     "name": "stderr",
     "output_type": "stream",
     "text": [
      "Saving Zarr pairs:  99%|█████████▉| 31779/32143 [2:41:08<42:06,  6.94s/it]"
     ]
    },
    {
     "name": "stdout",
     "output_type": "stream",
     "text": [
      "[2025-04-17 06:35:54] Saved t_2024-11-16_0600_0700.zarr\n"
     ]
    },
    {
     "name": "stderr",
     "output_type": "stream",
     "text": [
      "Saving Zarr pairs:  99%|█████████▉| 31781/32143 [2:41:11<31:26,  5.21s/it]"
     ]
    },
    {
     "name": "stdout",
     "output_type": "stream",
     "text": [
      "[2025-04-17 06:35:57] Saved t_2024-11-16_1200_1300.zarr\n"
     ]
    },
    {
     "name": "stderr",
     "output_type": "stream",
     "text": [
      "Saving Zarr pairs:  99%|█████████▉| 31784/32143 [2:41:15<20:25,  3.41s/it]"
     ]
    },
    {
     "name": "stdout",
     "output_type": "stream",
     "text": [
      "[2025-04-17 06:36:00] Saved t_2024-11-16_1800_1900.zarr\n"
     ]
    },
    {
     "name": "stderr",
     "output_type": "stream",
     "text": [
      "Saving Zarr pairs:  99%|█████████▉| 31785/32143 [2:41:24<27:45,  4.65s/it]"
     ]
    },
    {
     "name": "stdout",
     "output_type": "stream",
     "text": [
      "[2025-04-17 06:36:10] Saved t_2024-11-17_0000_0100.zarr\n"
     ]
    },
    {
     "name": "stderr",
     "output_type": "stream",
     "text": [
      "Saving Zarr pairs:  99%|█████████▉| 31787/32143 [2:41:30<23:02,  3.88s/it]"
     ]
    },
    {
     "name": "stdout",
     "output_type": "stream",
     "text": [
      "[2025-04-17 06:36:15] Saved t_2024-11-17_0600_0700.zarr\n"
     ]
    },
    {
     "name": "stderr",
     "output_type": "stream",
     "text": [
      "Saving Zarr pairs:  99%|█████████▉| 31790/32143 [2:41:36<17:10,  2.92s/it]"
     ]
    },
    {
     "name": "stdout",
     "output_type": "stream",
     "text": [
      "[2025-04-17 06:36:21] Saved t_2024-11-17_1200_1300.zarr\n"
     ]
    },
    {
     "name": "stderr",
     "output_type": "stream",
     "text": [
      "Saving Zarr pairs:  99%|█████████▉| 31791/32143 [2:41:39<17:00,  2.90s/it]"
     ]
    },
    {
     "name": "stdout",
     "output_type": "stream",
     "text": [
      "[2025-04-17 06:36:24] Saved t_2024-11-17_1800_1900.zarr\n"
     ]
    },
    {
     "name": "stderr",
     "output_type": "stream",
     "text": [
      "Saving Zarr pairs:  99%|█████████▉| 31794/32143 [2:41:56<23:52,  4.10s/it]"
     ]
    },
    {
     "name": "stdout",
     "output_type": "stream",
     "text": [
      "[2025-04-17 06:36:42] Saved t_2024-11-18_0000_0100.zarr\n"
     ]
    },
    {
     "name": "stderr",
     "output_type": "stream",
     "text": [
      "Saving Zarr pairs:  99%|█████████▉| 31795/32143 [2:42:18<47:20,  8.16s/it]"
     ]
    },
    {
     "name": "stdout",
     "output_type": "stream",
     "text": [
      "[2025-04-17 06:37:03] Saved t_2024-11-18_0600_0700.zarr\n"
     ]
    },
    {
     "name": "stderr",
     "output_type": "stream",
     "text": [
      "Saving Zarr pairs:  99%|█████████▉| 31797/32143 [2:42:21<31:25,  5.45s/it]"
     ]
    },
    {
     "name": "stdout",
     "output_type": "stream",
     "text": [
      "[2025-04-17 06:37:06] Saved t_2024-11-18_1200_1300.zarr\n"
     ]
    },
    {
     "name": "stderr",
     "output_type": "stream",
     "text": [
      "Saving Zarr pairs:  99%|█████████▉| 31799/32143 [2:42:24<23:52,  4.16s/it]"
     ]
    },
    {
     "name": "stdout",
     "output_type": "stream",
     "text": [
      "[2025-04-17 06:37:10] Saved t_2024-11-18_1800_1900.zarr\n"
     ]
    },
    {
     "name": "stderr",
     "output_type": "stream",
     "text": [
      "Saving Zarr pairs:  99%|█████████▉| 31801/32143 [2:42:34<24:57,  4.38s/it]"
     ]
    },
    {
     "name": "stdout",
     "output_type": "stream",
     "text": [
      "[2025-04-17 06:37:20] Saved t_2024-11-19_0000_0100.zarr\n"
     ]
    },
    {
     "name": "stderr",
     "output_type": "stream",
     "text": [
      "Saving Zarr pairs:  99%|█████████▉| 31803/32143 [2:42:39<21:00,  3.71s/it]"
     ]
    },
    {
     "name": "stdout",
     "output_type": "stream",
     "text": [
      "[2025-04-17 06:37:24] Saved t_2024-11-19_0600_0700.zarr\n"
     ]
    },
    {
     "name": "stderr",
     "output_type": "stream",
     "text": [
      "Saving Zarr pairs:  99%|█████████▉| 31805/32143 [2:42:45<19:44,  3.51s/it]"
     ]
    },
    {
     "name": "stdout",
     "output_type": "stream",
     "text": [
      "[2025-04-17 06:37:30] Saved t_2024-11-19_1200_1300.zarr\n"
     ]
    },
    {
     "name": "stderr",
     "output_type": "stream",
     "text": [
      "Saving Zarr pairs:  99%|█████████▉| 31807/32143 [2:42:49<17:03,  3.05s/it]"
     ]
    },
    {
     "name": "stdout",
     "output_type": "stream",
     "text": [
      "[2025-04-17 06:37:35] Saved t_2024-11-19_1800_1900.zarr\n"
     ]
    },
    {
     "name": "stderr",
     "output_type": "stream",
     "text": [
      "Saving Zarr pairs:  99%|█████████▉| 31810/32143 [2:43:06<21:53,  3.94s/it]"
     ]
    },
    {
     "name": "stdout",
     "output_type": "stream",
     "text": [
      "[2025-04-17 06:37:52] Saved t_2024-11-20_0000_0100.zarr\n"
     ]
    },
    {
     "name": "stderr",
     "output_type": "stream",
     "text": [
      "Saving Zarr pairs:  99%|█████████▉| 31811/32143 [2:43:28<41:39,  7.53s/it]"
     ]
    },
    {
     "name": "stdout",
     "output_type": "stream",
     "text": [
      "[2025-04-17 06:38:13] Saved t_2024-11-20_0600_0700.zarr\n"
     ]
    },
    {
     "name": "stderr",
     "output_type": "stream",
     "text": [
      "Saving Zarr pairs:  99%|█████████▉| 31813/32143 [2:43:31<29:14,  5.32s/it]"
     ]
    },
    {
     "name": "stdout",
     "output_type": "stream",
     "text": [
      "[2025-04-17 06:38:17] Saved t_2024-11-20_1200_1300.zarr\n"
     ]
    },
    {
     "name": "stderr",
     "output_type": "stream",
     "text": [
      "Saving Zarr pairs:  99%|█████████▉| 31815/32143 [2:43:35<23:05,  4.22s/it]"
     ]
    },
    {
     "name": "stdout",
     "output_type": "stream",
     "text": [
      "[2025-04-17 06:38:21] Saved t_2024-11-20_1800_1900.zarr\n"
     ]
    },
    {
     "name": "stderr",
     "output_type": "stream",
     "text": [
      "Saving Zarr pairs:  99%|█████████▉| 31817/32143 [2:43:45<23:55,  4.40s/it]"
     ]
    },
    {
     "name": "stdout",
     "output_type": "stream",
     "text": [
      "[2025-04-17 06:38:30] Saved t_2024-11-21_0000_0100.zarr\n"
     ]
    },
    {
     "name": "stderr",
     "output_type": "stream",
     "text": [
      "Saving Zarr pairs:  99%|█████████▉| 31819/32143 [2:43:48<19:17,  3.57s/it]"
     ]
    },
    {
     "name": "stdout",
     "output_type": "stream",
     "text": [
      "[2025-04-17 06:38:34] Saved t_2024-11-21_0600_0700.zarr\n"
     ]
    },
    {
     "name": "stderr",
     "output_type": "stream",
     "text": [
      "Saving Zarr pairs:  99%|█████████▉| 31821/32143 [2:43:55<18:32,  3.46s/it]"
     ]
    },
    {
     "name": "stdout",
     "output_type": "stream",
     "text": [
      "[2025-04-17 06:38:40] Saved t_2024-11-21_1200_1300.zarr\n"
     ]
    },
    {
     "name": "stderr",
     "output_type": "stream",
     "text": [
      "Saving Zarr pairs:  99%|█████████▉| 31824/32143 [2:44:00<13:40,  2.57s/it]"
     ]
    },
    {
     "name": "stdout",
     "output_type": "stream",
     "text": [
      "[2025-04-17 06:38:45] Saved t_2024-11-21_1800_1900.zarr\n"
     ]
    },
    {
     "name": "stderr",
     "output_type": "stream",
     "text": [
      "Saving Zarr pairs:  99%|█████████▉| 31825/32143 [2:44:17<29:47,  5.62s/it]"
     ]
    },
    {
     "name": "stdout",
     "output_type": "stream",
     "text": [
      "[2025-04-17 06:39:03] Saved t_2024-11-22_0000_0100.zarr\n"
     ]
    },
    {
     "name": "stderr",
     "output_type": "stream",
     "text": [
      "Saving Zarr pairs:  99%|█████████▉| 31827/32143 [2:44:38<38:59,  7.40s/it]"
     ]
    },
    {
     "name": "stdout",
     "output_type": "stream",
     "text": [
      "[2025-04-17 06:39:23] Saved t_2024-11-22_0600_0700.zarr\n"
     ]
    },
    {
     "name": "stderr",
     "output_type": "stream",
     "text": [
      "Saving Zarr pairs:  99%|█████████▉| 31829/32143 [2:44:42<29:20,  5.61s/it]"
     ]
    },
    {
     "name": "stdout",
     "output_type": "stream",
     "text": [
      "[2025-04-17 06:39:28] Saved t_2024-11-22_1200_1300.zarr\n"
     ]
    },
    {
     "name": "stderr",
     "output_type": "stream",
     "text": [
      "Saving Zarr pairs:  99%|█████████▉| 31831/32143 [2:44:46<22:44,  4.37s/it]"
     ]
    },
    {
     "name": "stdout",
     "output_type": "stream",
     "text": [
      "[2025-04-17 06:39:32] Saved t_2024-11-22_1800_1900.zarr\n"
     ]
    },
    {
     "name": "stderr",
     "output_type": "stream",
     "text": [
      "Saving Zarr pairs:  99%|█████████▉| 31833/32143 [2:44:55<22:31,  4.36s/it]"
     ]
    },
    {
     "name": "stdout",
     "output_type": "stream",
     "text": [
      "[2025-04-17 06:39:40] Saved t_2024-11-23_0000_0100.zarr\n"
     ]
    },
    {
     "name": "stderr",
     "output_type": "stream",
     "text": [
      "Saving Zarr pairs:  99%|█████████▉| 31835/32143 [2:44:59<18:32,  3.61s/it]"
     ]
    },
    {
     "name": "stdout",
     "output_type": "stream",
     "text": [
      "[2025-04-17 06:39:44] Saved t_2024-11-23_0600_0700.zarr\n"
     ]
    },
    {
     "name": "stderr",
     "output_type": "stream",
     "text": [
      "Saving Zarr pairs:  99%|█████████▉| 31837/32143 [2:45:06<18:47,  3.68s/it]"
     ]
    },
    {
     "name": "stdout",
     "output_type": "stream",
     "text": [
      "[2025-04-17 06:39:52] Saved t_2024-11-23_1200_1300.zarr\n"
     ]
    },
    {
     "name": "stderr",
     "output_type": "stream",
     "text": [
      "Saving Zarr pairs:  99%|█████████▉| 31839/32143 [2:45:12<17:07,  3.38s/it]"
     ]
    },
    {
     "name": "stdout",
     "output_type": "stream",
     "text": [
      "[2025-04-17 06:39:57] Saved t_2024-11-23_1800_1900.zarr\n"
     ]
    },
    {
     "name": "stderr",
     "output_type": "stream",
     "text": [
      "Saving Zarr pairs:  99%|█████████▉| 31841/32143 [2:45:29<25:17,  5.02s/it]"
     ]
    },
    {
     "name": "stdout",
     "output_type": "stream",
     "text": [
      "[2025-04-17 06:40:15] Saved t_2024-11-24_0000_0100.zarr\n"
     ]
    },
    {
     "name": "stderr",
     "output_type": "stream",
     "text": [
      "Saving Zarr pairs:  99%|█████████▉| 31843/32143 [2:45:48<31:38,  6.33s/it]"
     ]
    },
    {
     "name": "stdout",
     "output_type": "stream",
     "text": [
      "[2025-04-17 06:40:34] Saved t_2024-11-24_0600_0700.zarr\n"
     ]
    },
    {
     "name": "stderr",
     "output_type": "stream",
     "text": [
      "Saving Zarr pairs:  99%|█████████▉| 31845/32143 [2:45:51<24:26,  4.92s/it]"
     ]
    },
    {
     "name": "stdout",
     "output_type": "stream",
     "text": [
      "[2025-04-17 06:40:37] Saved t_2024-11-24_1200_1300.zarr\n"
     ]
    },
    {
     "name": "stderr",
     "output_type": "stream",
     "text": [
      "Saving Zarr pairs:  99%|█████████▉| 31848/32143 [2:45:57<17:15,  3.51s/it]"
     ]
    },
    {
     "name": "stdout",
     "output_type": "stream",
     "text": [
      "[2025-04-17 06:40:42] Saved t_2024-11-24_1800_1900.zarr\n"
     ]
    },
    {
     "name": "stderr",
     "output_type": "stream",
     "text": [
      "Saving Zarr pairs:  99%|█████████▉| 31849/32143 [2:46:02<18:35,  3.80s/it]"
     ]
    },
    {
     "name": "stdout",
     "output_type": "stream",
     "text": [
      "[2025-04-17 06:40:47] Saved t_2024-11-25_0000_0100.zarr\n"
     ]
    },
    {
     "name": "stderr",
     "output_type": "stream",
     "text": [
      "Saving Zarr pairs:  99%|█████████▉| 31852/32143 [2:46:10<14:51,  3.06s/it]"
     ]
    },
    {
     "name": "stdout",
     "output_type": "stream",
     "text": [
      "[2025-04-17 06:40:55] Saved t_2024-11-25_0600_0700.zarr\n"
     ]
    },
    {
     "name": "stderr",
     "output_type": "stream",
     "text": [
      "Saving Zarr pairs:  99%|█████████▉| 31853/32143 [2:46:16<18:49,  3.89s/it]"
     ]
    },
    {
     "name": "stdout",
     "output_type": "stream",
     "text": [
      "[2025-04-17 06:41:02] Saved t_2024-11-25_1200_1300.zarr\n"
     ]
    },
    {
     "name": "stderr",
     "output_type": "stream",
     "text": [
      "Saving Zarr pairs:  99%|█████████▉| 31855/32143 [2:46:20<15:03,  3.14s/it]"
     ]
    },
    {
     "name": "stdout",
     "output_type": "stream",
     "text": [
      "[2025-04-17 06:41:06] Saved t_2024-11-25_1800_1900.zarr\n"
     ]
    },
    {
     "name": "stderr",
     "output_type": "stream",
     "text": [
      "Saving Zarr pairs:  99%|█████████▉| 31857/32143 [2:46:39<26:06,  5.48s/it]"
     ]
    },
    {
     "name": "stdout",
     "output_type": "stream",
     "text": [
      "[2025-04-17 06:41:25] Saved t_2024-11-26_0000_0100.zarr\n"
     ]
    },
    {
     "name": "stderr",
     "output_type": "stream",
     "text": [
      "Saving Zarr pairs:  99%|█████████▉| 31859/32143 [2:46:57<31:34,  6.67s/it]"
     ]
    },
    {
     "name": "stdout",
     "output_type": "stream",
     "text": [
      "[2025-04-17 06:41:43] Saved t_2024-11-26_0600_0700.zarr\n"
     ]
    },
    {
     "name": "stderr",
     "output_type": "stream",
     "text": [
      "Saving Zarr pairs:  99%|█████████▉| 31862/32143 [2:47:01<19:33,  4.18s/it]"
     ]
    },
    {
     "name": "stdout",
     "output_type": "stream",
     "text": [
      "[2025-04-17 06:41:47] Saved t_2024-11-26_1200_1300.zarr\n"
     ]
    },
    {
     "name": "stderr",
     "output_type": "stream",
     "text": [
      "Saving Zarr pairs:  99%|█████████▉| 31863/32143 [2:47:07<20:24,  4.37s/it]"
     ]
    },
    {
     "name": "stdout",
     "output_type": "stream",
     "text": [
      "[2025-04-17 06:41:52] Saved t_2024-11-26_1800_1900.zarr\n"
     ]
    },
    {
     "name": "stderr",
     "output_type": "stream",
     "text": [
      "Saving Zarr pairs:  99%|█████████▉| 31866/32143 [2:47:12<14:15,  3.09s/it]"
     ]
    },
    {
     "name": "stdout",
     "output_type": "stream",
     "text": [
      "[2025-04-17 06:41:57] Saved t_2024-11-27_0000_0100.zarr\n"
     ]
    },
    {
     "name": "stderr",
     "output_type": "stream",
     "text": [
      "Saving Zarr pairs:  99%|█████████▉| 31868/32143 [2:47:20<14:06,  3.08s/it]"
     ]
    },
    {
     "name": "stdout",
     "output_type": "stream",
     "text": [
      "[2025-04-17 06:42:05] Saved t_2024-11-27_0600_0700.zarr\n"
     ]
    },
    {
     "name": "stderr",
     "output_type": "stream",
     "text": [
      "Saving Zarr pairs:  99%|█████████▉| 31869/32143 [2:47:26<18:17,  4.01s/it]"
     ]
    },
    {
     "name": "stdout",
     "output_type": "stream",
     "text": [
      "[2025-04-17 06:42:12] Saved t_2024-11-27_1200_1300.zarr\n"
     ]
    },
    {
     "name": "stderr",
     "output_type": "stream",
     "text": [
      "Saving Zarr pairs:  99%|█████████▉| 31871/32143 [2:47:31<14:27,  3.19s/it]"
     ]
    },
    {
     "name": "stdout",
     "output_type": "stream",
     "text": [
      "[2025-04-17 06:42:16] Saved t_2024-11-27_1800_1900.zarr\n"
     ]
    },
    {
     "name": "stderr",
     "output_type": "stream",
     "text": [
      "Saving Zarr pairs:  99%|█████████▉| 31873/32143 [2:47:50<25:03,  5.57s/it]"
     ]
    },
    {
     "name": "stdout",
     "output_type": "stream",
     "text": [
      "[2025-04-17 06:42:35] Saved t_2024-11-28_0000_0100.zarr\n"
     ]
    },
    {
     "name": "stderr",
     "output_type": "stream",
     "text": [
      "Saving Zarr pairs:  99%|█████████▉| 31876/32143 [2:48:08<24:24,  5.49s/it]"
     ]
    },
    {
     "name": "stdout",
     "output_type": "stream",
     "text": [
      "[2025-04-17 06:42:53] Saved t_2024-11-28_0600_0700.zarr\n"
     ]
    },
    {
     "name": "stderr",
     "output_type": "stream",
     "text": [
      "Saving Zarr pairs:  99%|█████████▉| 31877/32143 [2:48:12<22:48,  5.15s/it]"
     ]
    },
    {
     "name": "stdout",
     "output_type": "stream",
     "text": [
      "[2025-04-17 06:42:58] Saved t_2024-11-28_1200_1300.zarr\n"
     ]
    },
    {
     "name": "stderr",
     "output_type": "stream",
     "text": [
      "Saving Zarr pairs:  99%|█████████▉| 31879/32143 [2:48:18<19:01,  4.33s/it]"
     ]
    },
    {
     "name": "stdout",
     "output_type": "stream",
     "text": [
      "[2025-04-17 06:43:04] Saved t_2024-11-28_1800_1900.zarr\n"
     ]
    },
    {
     "name": "stderr",
     "output_type": "stream",
     "text": [
      "Saving Zarr pairs:  99%|█████████▉| 31881/32143 [2:48:23<16:13,  3.72s/it]"
     ]
    },
    {
     "name": "stdout",
     "output_type": "stream",
     "text": [
      "[2025-04-17 06:43:09] Saved t_2024-11-29_0000_0100.zarr\n"
     ]
    },
    {
     "name": "stderr",
     "output_type": "stream",
     "text": [
      "Saving Zarr pairs:  99%|█████████▉| 31884/32143 [2:48:33<14:02,  3.25s/it]"
     ]
    },
    {
     "name": "stdout",
     "output_type": "stream",
     "text": [
      "[2025-04-17 06:43:18] Saved t_2024-11-29_0600_0700.zarr\n"
     ]
    },
    {
     "name": "stderr",
     "output_type": "stream",
     "text": [
      "Saving Zarr pairs:  99%|█████████▉| 31886/32143 [2:48:35<10:22,  2.42s/it]"
     ]
    },
    {
     "name": "stdout",
     "output_type": "stream",
     "text": [
      "[2025-04-17 06:43:21] Saved t_2024-11-29_1200_1300.zarr\n"
     ]
    },
    {
     "name": "stderr",
     "output_type": "stream",
     "text": [
      "Saving Zarr pairs:  99%|█████████▉| 31888/32143 [2:48:39<08:28,  2.00s/it]"
     ]
    },
    {
     "name": "stdout",
     "output_type": "stream",
     "text": [
      "[2025-04-17 06:43:24] Saved t_2024-11-29_1800_1900.zarr\n"
     ]
    },
    {
     "name": "stderr",
     "output_type": "stream",
     "text": [
      "Saving Zarr pairs:  99%|█████████▉| 31889/32143 [2:49:00<31:05,  7.34s/it]"
     ]
    },
    {
     "name": "stdout",
     "output_type": "stream",
     "text": [
      "[2025-04-17 06:43:46] Saved t_2024-11-30_0000_0100.zarr\n"
     ]
    },
    {
     "name": "stderr",
     "output_type": "stream",
     "text": [
      "Saving Zarr pairs:  99%|█████████▉| 31891/32143 [2:49:16<32:09,  7.66s/it]"
     ]
    },
    {
     "name": "stdout",
     "output_type": "stream",
     "text": [
      "[2025-04-17 06:44:02] Saved t_2024-11-30_0600_0700.zarr\n"
     ]
    },
    {
     "name": "stderr",
     "output_type": "stream",
     "text": [
      "Saving Zarr pairs:  99%|█████████▉| 31893/32143 [2:49:19<21:40,  5.20s/it]"
     ]
    },
    {
     "name": "stdout",
     "output_type": "stream",
     "text": [
      "[2025-04-17 06:44:05] Saved t_2024-11-30_1200_1300.zarr\n"
     ]
    },
    {
     "name": "stderr",
     "output_type": "stream",
     "text": [
      "Saving Zarr pairs:  99%|█████████▉| 31895/32143 [2:49:27<20:03,  4.85s/it]"
     ]
    },
    {
     "name": "stdout",
     "output_type": "stream",
     "text": [
      "[2025-04-17 06:44:13] Saved t_2024-11-30_1800_1900.zarr\n"
     ]
    },
    {
     "name": "stderr",
     "output_type": "stream",
     "text": [
      "Saving Zarr pairs:  99%|█████████▉| 31898/32143 [2:49:32<13:23,  3.28s/it]"
     ]
    },
    {
     "name": "stdout",
     "output_type": "stream",
     "text": [
      "[2025-04-17 06:44:18] Saved t_2024-12-01_0000_0100.zarr\n"
     ]
    },
    {
     "name": "stderr",
     "output_type": "stream",
     "text": [
      "Saving Zarr pairs:  99%|█████████▉| 31899/32143 [2:49:41<18:13,  4.48s/it]"
     ]
    },
    {
     "name": "stdout",
     "output_type": "stream",
     "text": [
      "[2025-04-17 06:44:27] Saved t_2024-12-01_0600_0700.zarr\n"
     ]
    },
    {
     "name": "stderr",
     "output_type": "stream",
     "text": [
      "Saving Zarr pairs:  99%|█████████▉| 31901/32143 [2:49:46<14:52,  3.69s/it]"
     ]
    },
    {
     "name": "stdout",
     "output_type": "stream",
     "text": [
      "[2025-04-17 06:44:32] Saved t_2024-12-01_1200_1300.zarr\n"
     ]
    },
    {
     "name": "stderr",
     "output_type": "stream",
     "text": [
      "Saving Zarr pairs:  99%|█████████▉| 31904/32143 [2:49:54<12:12,  3.06s/it]"
     ]
    },
    {
     "name": "stdout",
     "output_type": "stream",
     "text": [
      "[2025-04-17 06:44:40] Saved t_2024-12-01_1800_1900.zarr\n"
     ]
    },
    {
     "name": "stderr",
     "output_type": "stream",
     "text": [
      "Saving Zarr pairs:  99%|█████████▉| 31905/32143 [2:50:09<22:56,  5.79s/it]"
     ]
    },
    {
     "name": "stdout",
     "output_type": "stream",
     "text": [
      "[2025-04-17 06:44:55] Saved t_2024-12-02_0000_0100.zarr\n"
     ]
    },
    {
     "name": "stderr",
     "output_type": "stream",
     "text": [
      "Saving Zarr pairs:  99%|█████████▉| 31908/32143 [2:50:23<18:43,  4.78s/it]"
     ]
    },
    {
     "name": "stdout",
     "output_type": "stream",
     "text": [
      "[2025-04-17 06:45:08] Saved t_2024-12-02_0600_0700.zarr\n"
     ]
    },
    {
     "name": "stderr",
     "output_type": "stream",
     "text": [
      "Saving Zarr pairs:  99%|█████████▉| 31910/32143 [2:50:29<14:56,  3.85s/it]"
     ]
    },
    {
     "name": "stdout",
     "output_type": "stream",
     "text": [
      "[2025-04-17 06:45:14] Saved t_2024-12-02_1200_1300.zarr\n"
     ]
    },
    {
     "name": "stderr",
     "output_type": "stream",
     "text": [
      "Saving Zarr pairs:  99%|█████████▉| 31911/32143 [2:50:37<19:26,  5.03s/it]"
     ]
    },
    {
     "name": "stdout",
     "output_type": "stream",
     "text": [
      "[2025-04-17 06:45:23] Saved t_2024-12-02_1800_1900.zarr\n"
     ]
    },
    {
     "name": "stderr",
     "output_type": "stream",
     "text": [
      "Saving Zarr pairs:  99%|█████████▉| 31913/32143 [2:50:42<14:54,  3.89s/it]"
     ]
    },
    {
     "name": "stdout",
     "output_type": "stream",
     "text": [
      "[2025-04-17 06:45:28] Saved t_2024-12-03_0000_0100.zarr\n"
     ]
    },
    {
     "name": "stderr",
     "output_type": "stream",
     "text": [
      "Saving Zarr pairs:  99%|█████████▉| 31916/32143 [2:50:50<11:40,  3.08s/it]"
     ]
    },
    {
     "name": "stdout",
     "output_type": "stream",
     "text": [
      "[2025-04-17 06:45:35] Saved t_2024-12-03_0600_0700.zarr\n"
     ]
    },
    {
     "name": "stderr",
     "output_type": "stream",
     "text": [
      "Saving Zarr pairs:  99%|█████████▉| 31918/32143 [2:51:00<13:03,  3.48s/it]"
     ]
    },
    {
     "name": "stdout",
     "output_type": "stream",
     "text": [
      "[2025-04-17 06:45:45] Saved t_2024-12-03_1200_1300.zarr\n"
     ]
    },
    {
     "name": "stderr",
     "output_type": "stream",
     "text": [
      "Saving Zarr pairs:  99%|█████████▉| 31919/32143 [2:51:06<15:46,  4.22s/it]"
     ]
    },
    {
     "name": "stdout",
     "output_type": "stream",
     "text": [
      "[2025-04-17 06:45:51] Saved t_2024-12-03_1800_1900.zarr\n"
     ]
    },
    {
     "name": "stderr",
     "output_type": "stream",
     "text": [
      "Saving Zarr pairs:  99%|█████████▉| 31921/32143 [2:51:19<19:23,  5.24s/it]"
     ]
    },
    {
     "name": "stdout",
     "output_type": "stream",
     "text": [
      "[2025-04-17 06:46:05] Saved t_2024-12-04_0000_0100.zarr\n"
     ]
    },
    {
     "name": "stderr",
     "output_type": "stream",
     "text": [
      "Saving Zarr pairs:  99%|█████████▉| 31923/32143 [2:51:35<23:11,  6.32s/it]"
     ]
    },
    {
     "name": "stdout",
     "output_type": "stream",
     "text": [
      "[2025-04-17 06:46:21] Saved t_2024-12-04_0600_0700.zarr\n"
     ]
    },
    {
     "name": "stderr",
     "output_type": "stream",
     "text": [
      "Saving Zarr pairs:  99%|█████████▉| 31925/32143 [2:51:39<17:31,  4.82s/it]"
     ]
    },
    {
     "name": "stdout",
     "output_type": "stream",
     "text": [
      "[2025-04-17 06:46:25] Saved t_2024-12-04_1200_1300.zarr\n"
     ]
    },
    {
     "name": "stderr",
     "output_type": "stream",
     "text": [
      "Saving Zarr pairs:  99%|█████████▉| 31927/32143 [2:51:49<17:03,  4.74s/it]"
     ]
    },
    {
     "name": "stdout",
     "output_type": "stream",
     "text": [
      "[2025-04-17 06:46:34] Saved t_2024-12-04_1800_1900.zarr\n"
     ]
    },
    {
     "name": "stderr",
     "output_type": "stream",
     "text": [
      "Saving Zarr pairs:  99%|█████████▉| 31929/32143 [2:51:51<12:53,  3.61s/it]"
     ]
    },
    {
     "name": "stdout",
     "output_type": "stream",
     "text": [
      "[2025-04-17 06:46:37] Saved t_2024-12-05_0000_0100.zarr\n"
     ]
    },
    {
     "name": "stderr",
     "output_type": "stream",
     "text": [
      "Saving Zarr pairs:  99%|█████████▉| 31931/32143 [2:52:01<14:18,  4.05s/it]"
     ]
    },
    {
     "name": "stdout",
     "output_type": "stream",
     "text": [
      "[2025-04-17 06:46:47] Saved t_2024-12-05_0600_0700.zarr\n"
     ]
    },
    {
     "name": "stderr",
     "output_type": "stream",
     "text": [
      "Saving Zarr pairs:  99%|█████████▉| 31934/32143 [2:52:08<10:56,  3.14s/it]"
     ]
    },
    {
     "name": "stdout",
     "output_type": "stream",
     "text": [
      "[2025-04-17 06:46:53] Saved t_2024-12-05_1200_1300.zarr\n"
     ]
    },
    {
     "name": "stderr",
     "output_type": "stream",
     "text": [
      "Saving Zarr pairs:  99%|█████████▉| 31935/32143 [2:52:16<14:20,  4.14s/it]"
     ]
    },
    {
     "name": "stdout",
     "output_type": "stream",
     "text": [
      "[2025-04-17 06:47:01] Saved t_2024-12-05_1800_1900.zarr\n"
     ]
    },
    {
     "name": "stderr",
     "output_type": "stream",
     "text": [
      "Saving Zarr pairs:  99%|█████████▉| 31938/32143 [2:52:28<13:09,  3.85s/it]"
     ]
    },
    {
     "name": "stdout",
     "output_type": "stream",
     "text": [
      "[2025-04-17 06:47:13] Saved t_2024-12-06_0000_0100.zarr\n"
     ]
    },
    {
     "name": "stderr",
     "output_type": "stream",
     "text": [
      "Saving Zarr pairs:  99%|█████████▉| 31940/32143 [2:52:43<16:44,  4.95s/it]"
     ]
    },
    {
     "name": "stdout",
     "output_type": "stream",
     "text": [
      "[2025-04-17 06:47:29] Saved t_2024-12-06_0600_0700.zarr\n"
     ]
    },
    {
     "name": "stderr",
     "output_type": "stream",
     "text": [
      "Saving Zarr pairs:  99%|█████████▉| 31941/32143 [2:52:48<16:24,  4.87s/it]"
     ]
    },
    {
     "name": "stdout",
     "output_type": "stream",
     "text": [
      "[2025-04-17 06:47:34] Saved t_2024-12-06_1200_1300.zarr\n"
     ]
    },
    {
     "name": "stderr",
     "output_type": "stream",
     "text": [
      "Saving Zarr pairs:  99%|█████████▉| 31943/32143 [2:52:58<16:32,  4.96s/it]"
     ]
    },
    {
     "name": "stdout",
     "output_type": "stream",
     "text": [
      "[2025-04-17 06:47:44] Saved t_2024-12-06_1800_1900.zarr\n"
     ]
    },
    {
     "name": "stderr",
     "output_type": "stream",
     "text": [
      "Saving Zarr pairs:  99%|█████████▉| 31945/32143 [2:53:01<12:11,  3.69s/it]"
     ]
    },
    {
     "name": "stdout",
     "output_type": "stream",
     "text": [
      "[2025-04-17 06:47:47] Saved t_2024-12-07_0000_0100.zarr\n"
     ]
    },
    {
     "name": "stderr",
     "output_type": "stream",
     "text": [
      "Saving Zarr pairs:  99%|█████████▉| 31947/32143 [2:53:11<13:11,  4.04s/it]"
     ]
    },
    {
     "name": "stdout",
     "output_type": "stream",
     "text": [
      "[2025-04-17 06:47:56] Saved t_2024-12-07_0600_0700.zarr\n"
     ]
    },
    {
     "name": "stderr",
     "output_type": "stream",
     "text": [
      "Saving Zarr pairs:  99%|█████████▉| 31949/32143 [2:53:18<12:23,  3.83s/it]"
     ]
    },
    {
     "name": "stdout",
     "output_type": "stream",
     "text": [
      "[2025-04-17 06:48:03] Saved t_2024-12-07_1200_1300.zarr\n"
     ]
    },
    {
     "name": "stderr",
     "output_type": "stream",
     "text": [
      "Saving Zarr pairs:  99%|█████████▉| 31952/32143 [2:53:26<10:07,  3.18s/it]"
     ]
    },
    {
     "name": "stdout",
     "output_type": "stream",
     "text": [
      "[2025-04-17 06:48:11] Saved t_2024-12-07_1800_1900.zarr\n"
     ]
    },
    {
     "name": "stderr",
     "output_type": "stream",
     "text": [
      "Saving Zarr pairs:  99%|█████████▉| 31953/32143 [2:53:36<14:57,  4.72s/it]"
     ]
    },
    {
     "name": "stdout",
     "output_type": "stream",
     "text": [
      "[2025-04-17 06:48:22] Saved t_2024-12-08_0000_0100.zarr\n"
     ]
    },
    {
     "name": "stderr",
     "output_type": "stream",
     "text": [
      "Saving Zarr pairs:  99%|█████████▉| 31955/32143 [2:53:53<19:01,  6.07s/it]"
     ]
    },
    {
     "name": "stdout",
     "output_type": "stream",
     "text": [
      "[2025-04-17 06:48:38] Saved t_2024-12-08_0600_0700.zarr\n"
     ]
    },
    {
     "name": "stderr",
     "output_type": "stream",
     "text": [
      "Saving Zarr pairs:  99%|█████████▉| 31958/32143 [2:53:59<12:26,  4.03s/it]"
     ]
    },
    {
     "name": "stdout",
     "output_type": "stream",
     "text": [
      "[2025-04-17 06:48:44] Saved t_2024-12-08_1200_1300.zarr\n"
     ]
    },
    {
     "name": "stderr",
     "output_type": "stream",
     "text": [
      "Saving Zarr pairs:  99%|█████████▉| 31959/32143 [2:54:10<16:45,  5.46s/it]"
     ]
    },
    {
     "name": "stdout",
     "output_type": "stream",
     "text": [
      "[2025-04-17 06:48:55] Saved t_2024-12-08_1800_1900.zarr\n"
     ]
    },
    {
     "name": "stderr",
     "output_type": "stream",
     "text": [
      "Saving Zarr pairs:  99%|█████████▉| 31961/32143 [2:54:13<12:06,  3.99s/it]"
     ]
    },
    {
     "name": "stdout",
     "output_type": "stream",
     "text": [
      "[2025-04-17 06:48:58] Saved t_2024-12-09_0000_0100.zarr\n"
     ]
    },
    {
     "name": "stderr",
     "output_type": "stream",
     "text": [
      "Saving Zarr pairs:  99%|█████████▉| 31963/32143 [2:54:22<12:28,  4.16s/it]"
     ]
    },
    {
     "name": "stdout",
     "output_type": "stream",
     "text": [
      "[2025-04-17 06:49:07] Saved t_2024-12-09_0600_0700.zarr\n"
     ]
    },
    {
     "name": "stderr",
     "output_type": "stream",
     "text": [
      "Saving Zarr pairs:  99%|█████████▉| 31965/32143 [2:54:30<12:29,  4.21s/it]"
     ]
    },
    {
     "name": "stdout",
     "output_type": "stream",
     "text": [
      "[2025-04-17 06:49:16] Saved t_2024-12-09_1200_1300.zarr\n"
     ]
    },
    {
     "name": "stderr",
     "output_type": "stream",
     "text": [
      "Saving Zarr pairs:  99%|█████████▉| 31967/32143 [2:54:37<11:26,  3.90s/it]"
     ]
    },
    {
     "name": "stdout",
     "output_type": "stream",
     "text": [
      "[2025-04-17 06:49:23] Saved t_2024-12-09_1800_1900.zarr\n"
     ]
    },
    {
     "name": "stderr",
     "output_type": "stream",
     "text": [
      "Saving Zarr pairs:  99%|█████████▉| 31969/32143 [2:54:48<12:46,  4.41s/it]"
     ]
    },
    {
     "name": "stdout",
     "output_type": "stream",
     "text": [
      "[2025-04-17 06:49:34] Saved t_2024-12-10_0000_0100.zarr\n"
     ]
    },
    {
     "name": "stderr",
     "output_type": "stream",
     "text": [
      "Saving Zarr pairs:  99%|█████████▉| 31971/32143 [2:55:06<16:47,  5.86s/it]"
     ]
    },
    {
     "name": "stdout",
     "output_type": "stream",
     "text": [
      "[2025-04-17 06:49:52] Saved t_2024-12-10_0600_0700.zarr\n"
     ]
    },
    {
     "name": "stderr",
     "output_type": "stream",
     "text": [
      "Saving Zarr pairs:  99%|█████████▉| 31973/32143 [2:55:09<12:55,  4.56s/it]"
     ]
    },
    {
     "name": "stdout",
     "output_type": "stream",
     "text": [
      "[2025-04-17 06:49:55] Saved t_2024-12-10_1200_1300.zarr\n"
     ]
    },
    {
     "name": "stderr",
     "output_type": "stream",
     "text": [
      "Saving Zarr pairs:  99%|█████████▉| 31975/32143 [2:55:18<12:43,  4.55s/it]"
     ]
    },
    {
     "name": "stdout",
     "output_type": "stream",
     "text": [
      "[2025-04-17 06:50:04] Saved t_2024-12-10_1800_1900.zarr\n"
     ]
    },
    {
     "name": "stderr",
     "output_type": "stream",
     "text": [
      "Saving Zarr pairs:  99%|█████████▉| 31978/32143 [2:55:24<09:11,  3.34s/it]"
     ]
    },
    {
     "name": "stdout",
     "output_type": "stream",
     "text": [
      "[2025-04-17 06:50:10] Saved t_2024-12-11_0000_0100.zarr\n"
     ]
    },
    {
     "name": "stderr",
     "output_type": "stream",
     "text": [
      "Saving Zarr pairs:  99%|█████████▉| 31980/32143 [2:55:33<09:16,  3.42s/it]"
     ]
    },
    {
     "name": "stdout",
     "output_type": "stream",
     "text": [
      "[2025-04-17 06:50:18] Saved t_2024-12-11_0600_0700.zarr\n"
     ]
    },
    {
     "name": "stderr",
     "output_type": "stream",
     "text": [
      "Saving Zarr pairs:  99%|█████████▉| 31982/32143 [2:55:38<07:32,  2.81s/it]"
     ]
    },
    {
     "name": "stdout",
     "output_type": "stream",
     "text": [
      "[2025-04-17 06:50:23] Saved t_2024-12-11_1200_1300.zarr\n"
     ]
    },
    {
     "name": "stderr",
     "output_type": "stream",
     "text": [
      "Saving Zarr pairs: 100%|█████████▉| 31983/32143 [2:55:48<12:42,  4.77s/it]"
     ]
    },
    {
     "name": "stdout",
     "output_type": "stream",
     "text": [
      "[2025-04-17 06:50:33] Saved t_2024-12-11_1800_1900.zarr\n"
     ]
    },
    {
     "name": "stderr",
     "output_type": "stream",
     "text": [
      "Saving Zarr pairs: 100%|█████████▉| 31986/32143 [2:55:57<09:23,  3.59s/it]"
     ]
    },
    {
     "name": "stdout",
     "output_type": "stream",
     "text": [
      "[2025-04-17 06:50:42] Saved t_2024-12-12_0000_0100.zarr\n"
     ]
    },
    {
     "name": "stderr",
     "output_type": "stream",
     "text": [
      "Saving Zarr pairs: 100%|█████████▉| 31987/32143 [2:56:16<19:35,  7.54s/it]"
     ]
    },
    {
     "name": "stdout",
     "output_type": "stream",
     "text": [
      "[2025-04-17 06:51:02] Saved t_2024-12-12_0600_0700.zarr\n"
     ]
    },
    {
     "name": "stderr",
     "output_type": "stream",
     "text": [
      "Saving Zarr pairs: 100%|█████████▉| 31990/32143 [2:56:19<09:56,  3.90s/it]"
     ]
    },
    {
     "name": "stdout",
     "output_type": "stream",
     "text": [
      "[2025-04-17 06:51:05] Saved t_2024-12-12_1200_1300.zarr\n"
     ]
    },
    {
     "name": "stderr",
     "output_type": "stream",
     "text": [
      "Saving Zarr pairs: 100%|█████████▉| 31991/32143 [2:56:29<13:38,  5.38s/it]"
     ]
    },
    {
     "name": "stdout",
     "output_type": "stream",
     "text": [
      "[2025-04-17 06:51:15] Saved t_2024-12-12_1800_1900.zarr\n"
     ]
    },
    {
     "name": "stderr",
     "output_type": "stream",
     "text": [
      "Saving Zarr pairs: 100%|█████████▉| 31993/32143 [2:56:36<11:24,  4.56s/it]"
     ]
    },
    {
     "name": "stdout",
     "output_type": "stream",
     "text": [
      "[2025-04-17 06:51:22] Saved t_2024-12-13_0000_0100.zarr\n"
     ]
    },
    {
     "name": "stderr",
     "output_type": "stream",
     "text": [
      "Saving Zarr pairs: 100%|█████████▉| 31995/32143 [2:56:43<10:04,  4.08s/it]"
     ]
    },
    {
     "name": "stdout",
     "output_type": "stream",
     "text": [
      "[2025-04-17 06:51:28] Saved t_2024-12-13_0600_0700.zarr\n"
     ]
    },
    {
     "name": "stderr",
     "output_type": "stream",
     "text": [
      "Saving Zarr pairs: 100%|█████████▉| 31997/32143 [2:56:46<08:01,  3.30s/it]"
     ]
    },
    {
     "name": "stdout",
     "output_type": "stream",
     "text": [
      "[2025-04-17 06:51:32] Saved t_2024-12-13_1200_1300.zarr\n"
     ]
    },
    {
     "name": "stderr",
     "output_type": "stream",
     "text": [
      "Saving Zarr pairs: 100%|█████████▉| 32000/32143 [2:56:59<08:17,  3.48s/it]"
     ]
    },
    {
     "name": "stdout",
     "output_type": "stream",
     "text": [
      "[2025-04-17 06:51:44] Saved t_2024-12-13_1800_1900.zarr\n"
     ]
    },
    {
     "name": "stderr",
     "output_type": "stream",
     "text": [
      "Saving Zarr pairs: 100%|█████████▉| 32001/32143 [2:57:09<11:26,  4.83s/it]"
     ]
    },
    {
     "name": "stdout",
     "output_type": "stream",
     "text": [
      "[2025-04-17 06:51:54] Saved t_2024-12-14_0000_0100.zarr\n"
     ]
    },
    {
     "name": "stderr",
     "output_type": "stream",
     "text": [
      "Saving Zarr pairs: 100%|█████████▉| 32003/32143 [2:57:25<14:09,  6.07s/it]"
     ]
    },
    {
     "name": "stdout",
     "output_type": "stream",
     "text": [
      "[2025-04-17 06:52:10] Saved t_2024-12-14_0600_0700.zarr\n"
     ]
    },
    {
     "name": "stderr",
     "output_type": "stream",
     "text": [
      "Saving Zarr pairs: 100%|█████████▉| 32005/32143 [2:57:28<10:26,  4.54s/it]"
     ]
    },
    {
     "name": "stdout",
     "output_type": "stream",
     "text": [
      "[2025-04-17 06:52:14] Saved t_2024-12-14_1200_1300.zarr\n"
     ]
    },
    {
     "name": "stderr",
     "output_type": "stream",
     "text": [
      "Saving Zarr pairs: 100%|█████████▉| 32007/32143 [2:57:39<10:57,  4.83s/it]"
     ]
    },
    {
     "name": "stdout",
     "output_type": "stream",
     "text": [
      "[2025-04-17 06:52:25] Saved t_2024-12-14_1800_1900.zarr\n"
     ]
    },
    {
     "name": "stderr",
     "output_type": "stream",
     "text": [
      "Saving Zarr pairs: 100%|█████████▉| 32010/32143 [2:57:46<07:48,  3.52s/it]"
     ]
    },
    {
     "name": "stdout",
     "output_type": "stream",
     "text": [
      "[2025-04-17 06:52:31] Saved t_2024-12-15_0000_0100.zarr\n"
     ]
    },
    {
     "name": "stderr",
     "output_type": "stream",
     "text": [
      "Saving Zarr pairs: 100%|█████████▉| 32012/32143 [2:57:54<07:50,  3.59s/it]"
     ]
    },
    {
     "name": "stdout",
     "output_type": "stream",
     "text": [
      "[2025-04-17 06:52:40] Saved t_2024-12-15_0600_0700.zarr\n"
     ]
    },
    {
     "name": "stderr",
     "output_type": "stream",
     "text": [
      "Saving Zarr pairs: 100%|█████████▉| 32013/32143 [2:58:01<09:23,  4.33s/it]"
     ]
    },
    {
     "name": "stdout",
     "output_type": "stream",
     "text": [
      "[2025-04-17 06:52:47] Saved t_2024-12-15_1200_1300.zarr\n"
     ]
    },
    {
     "name": "stderr",
     "output_type": "stream",
     "text": [
      "Saving Zarr pairs: 100%|█████████▉| 32015/32143 [2:58:06<07:44,  3.63s/it]"
     ]
    },
    {
     "name": "stdout",
     "output_type": "stream",
     "text": [
      "[2025-04-17 06:52:52] Saved t_2024-12-15_1800_1900.zarr\n"
     ]
    },
    {
     "name": "stderr",
     "output_type": "stream",
     "text": [
      "Saving Zarr pairs: 100%|█████████▉| 32018/32143 [2:58:18<07:15,  3.48s/it]"
     ]
    },
    {
     "name": "stdout",
     "output_type": "stream",
     "text": [
      "[2025-04-17 06:53:03] Saved t_2024-12-16_0000_0100.zarr\n"
     ]
    },
    {
     "name": "stderr",
     "output_type": "stream",
     "text": [
      "Saving Zarr pairs: 100%|█████████▉| 32020/32143 [2:58:33<09:25,  4.60s/it]"
     ]
    },
    {
     "name": "stdout",
     "output_type": "stream",
     "text": [
      "[2025-04-17 06:53:18] Saved t_2024-12-16_0600_0700.zarr\n"
     ]
    },
    {
     "name": "stderr",
     "output_type": "stream",
     "text": [
      "Saving Zarr pairs: 100%|█████████▉| 32022/32143 [2:58:44<09:13,  4.58s/it]"
     ]
    },
    {
     "name": "stdout",
     "output_type": "stream",
     "text": [
      "[2025-04-17 06:53:29] Saved t_2024-12-16_1200_1300.zarr\n"
     ]
    },
    {
     "name": "stderr",
     "output_type": "stream",
     "text": [
      "Saving Zarr pairs: 100%|█████████▉| 32023/32143 [2:58:49<09:32,  4.77s/it]"
     ]
    },
    {
     "name": "stdout",
     "output_type": "stream",
     "text": [
      "[2025-04-17 06:53:34] Saved t_2024-12-16_1800_1900.zarr\n"
     ]
    },
    {
     "name": "stderr",
     "output_type": "stream",
     "text": [
      "Saving Zarr pairs: 100%|█████████▉| 32025/32143 [2:58:52<06:36,  3.36s/it]"
     ]
    },
    {
     "name": "stdout",
     "output_type": "stream",
     "text": [
      "[2025-04-17 06:53:38] Saved t_2024-12-17_0000_0100.zarr\n"
     ]
    },
    {
     "name": "stderr",
     "output_type": "stream",
     "text": [
      "Saving Zarr pairs: 100%|█████████▉| 32027/32143 [2:59:04<08:25,  4.36s/it]"
     ]
    },
    {
     "name": "stdout",
     "output_type": "stream",
     "text": [
      "[2025-04-17 06:53:49] Saved t_2024-12-17_0600_0700.zarr\n"
     ]
    },
    {
     "name": "stderr",
     "output_type": "stream",
     "text": [
      "Saving Zarr pairs: 100%|█████████▉| 32030/32143 [2:59:11<06:04,  3.22s/it]"
     ]
    },
    {
     "name": "stdout",
     "output_type": "stream",
     "text": [
      "[2025-04-17 06:53:56] Saved t_2024-12-17_1200_1300.zarr\n"
     ]
    },
    {
     "name": "stderr",
     "output_type": "stream",
     "text": [
      "Saving Zarr pairs: 100%|█████████▉| 32031/32143 [2:59:16<06:50,  3.66s/it]"
     ]
    },
    {
     "name": "stdout",
     "output_type": "stream",
     "text": [
      "[2025-04-17 06:54:02] Saved t_2024-12-17_1800_1900.zarr\n"
     ]
    },
    {
     "name": "stderr",
     "output_type": "stream",
     "text": [
      "Saving Zarr pairs: 100%|█████████▉| 32034/32143 [2:59:29<06:44,  3.71s/it]"
     ]
    },
    {
     "name": "stdout",
     "output_type": "stream",
     "text": [
      "[2025-04-17 06:54:14] Saved t_2024-12-18_0000_0100.zarr\n"
     ]
    },
    {
     "name": "stderr",
     "output_type": "stream",
     "text": [
      "Saving Zarr pairs: 100%|█████████▉| 32035/32143 [2:59:42<10:45,  5.98s/it]"
     ]
    },
    {
     "name": "stdout",
     "output_type": "stream",
     "text": [
      "[2025-04-17 06:54:28] Saved t_2024-12-18_0600_0700.zarr\n"
     ]
    },
    {
     "name": "stderr",
     "output_type": "stream",
     "text": [
      "Saving Zarr pairs: 100%|█████████▉| 32037/32143 [2:59:54<10:32,  5.97s/it]"
     ]
    },
    {
     "name": "stdout",
     "output_type": "stream",
     "text": [
      "[2025-04-17 06:54:40] Saved t_2024-12-18_1200_1300.zarr\n",
      "[2025-04-17 06:54:44] Saved t_2024-12-19_0000_0100.zarr\n"
     ]
    },
    {
     "name": "stderr",
     "output_type": "stream",
     "text": [
      "Saving Zarr pairs: 100%|█████████▉| 32040/32143 [3:00:01<06:54,  4.03s/it]"
     ]
    },
    {
     "name": "stdout",
     "output_type": "stream",
     "text": [
      "[2025-04-17 06:54:46] Saved t_2024-12-18_1800_1900.zarr\n"
     ]
    },
    {
     "name": "stderr",
     "output_type": "stream",
     "text": [
      "Saving Zarr pairs: 100%|█████████▉| 32043/32143 [3:00:15<07:15,  4.36s/it]"
     ]
    },
    {
     "name": "stdout",
     "output_type": "stream",
     "text": [
      "[2025-04-17 06:55:01] Saved t_2024-12-19_0600_0700.zarr\n"
     ]
    },
    {
     "name": "stderr",
     "output_type": "stream",
     "text": [
      "Saving Zarr pairs: 100%|█████████▉| 32045/32143 [3:00:20<06:13,  3.81s/it]"
     ]
    },
    {
     "name": "stdout",
     "output_type": "stream",
     "text": [
      "[2025-04-17 06:55:06] Saved t_2024-12-19_1200_1300.zarr\n"
     ]
    },
    {
     "name": "stderr",
     "output_type": "stream",
     "text": [
      "Saving Zarr pairs: 100%|█████████▉| 32047/32143 [3:00:26<05:31,  3.45s/it]"
     ]
    },
    {
     "name": "stdout",
     "output_type": "stream",
     "text": [
      "[2025-04-17 06:55:11] Saved t_2024-12-19_1800_1900.zarr\n"
     ]
    },
    {
     "name": "stderr",
     "output_type": "stream",
     "text": [
      "Saving Zarr pairs: 100%|█████████▉| 32049/32143 [3:00:40<07:08,  4.55s/it]"
     ]
    },
    {
     "name": "stdout",
     "output_type": "stream",
     "text": [
      "[2025-04-17 06:55:25] Saved t_2024-12-20_0000_0100.zarr\n"
     ]
    },
    {
     "name": "stderr",
     "output_type": "stream",
     "text": [
      "Saving Zarr pairs: 100%|█████████▉| 32052/32143 [3:00:53<06:23,  4.21s/it]"
     ]
    },
    {
     "name": "stdout",
     "output_type": "stream",
     "text": [
      "[2025-04-17 06:55:38] Saved t_2024-12-20_0600_0700.zarr\n"
     ]
    },
    {
     "name": "stderr",
     "output_type": "stream",
     "text": [
      "Saving Zarr pairs: 100%|█████████▉| 32053/32143 [3:01:05<08:49,  5.89s/it]"
     ]
    },
    {
     "name": "stdout",
     "output_type": "stream",
     "text": [
      "[2025-04-17 06:55:51] Saved t_2024-12-20_1200_1300.zarr\n"
     ]
    },
    {
     "name": "stderr",
     "output_type": "stream",
     "text": [
      "Saving Zarr pairs: 100%|█████████▉| 32056/32143 [3:01:10<05:23,  3.72s/it]"
     ]
    },
    {
     "name": "stdout",
     "output_type": "stream",
     "text": [
      "[2025-04-17 06:55:56] Saved t_2024-12-20_1800_1900.zarr\n"
     ]
    },
    {
     "name": "stderr",
     "output_type": "stream",
     "text": [
      "Saving Zarr pairs: 100%|█████████▉| 32057/32143 [3:01:15<05:44,  4.01s/it]"
     ]
    },
    {
     "name": "stdout",
     "output_type": "stream",
     "text": [
      "[2025-04-17 06:56:01] Saved t_2024-12-21_0000_0100.zarr\n"
     ]
    },
    {
     "name": "stderr",
     "output_type": "stream",
     "text": [
      "Saving Zarr pairs: 100%|█████████▉| 32059/32143 [3:01:24<05:52,  4.19s/it]"
     ]
    },
    {
     "name": "stdout",
     "output_type": "stream",
     "text": [
      "[2025-04-17 06:56:10] Saved t_2024-12-21_0600_0700.zarr\n"
     ]
    },
    {
     "name": "stderr",
     "output_type": "stream",
     "text": [
      "Saving Zarr pairs: 100%|█████████▉| 32061/32143 [3:01:30<05:03,  3.70s/it]"
     ]
    },
    {
     "name": "stdout",
     "output_type": "stream",
     "text": [
      "[2025-04-17 06:56:15] Saved t_2024-12-21_1200_1300.zarr\n"
     ]
    },
    {
     "name": "stderr",
     "output_type": "stream",
     "text": [
      "Saving Zarr pairs: 100%|█████████▉| 32064/32143 [3:01:35<03:31,  2.67s/it]"
     ]
    },
    {
     "name": "stdout",
     "output_type": "stream",
     "text": [
      "[2025-04-17 06:56:20] Saved t_2024-12-21_1800_1900.zarr\n"
     ]
    },
    {
     "name": "stderr",
     "output_type": "stream",
     "text": [
      "Saving Zarr pairs: 100%|█████████▉| 32065/32143 [3:01:48<06:30,  5.01s/it]"
     ]
    },
    {
     "name": "stdout",
     "output_type": "stream",
     "text": [
      "[2025-04-17 06:56:34] Saved t_2024-12-22_0000_0100.zarr\n"
     ]
    },
    {
     "name": "stderr",
     "output_type": "stream",
     "text": [
      "Saving Zarr pairs: 100%|█████████▉| 32067/32143 [3:02:01<07:02,  5.56s/it]"
     ]
    },
    {
     "name": "stdout",
     "output_type": "stream",
     "text": [
      "[2025-04-17 06:56:47] Saved t_2024-12-22_0600_0700.zarr\n"
     ]
    },
    {
     "name": "stderr",
     "output_type": "stream",
     "text": [
      "Saving Zarr pairs: 100%|█████████▉| 32069/32143 [3:02:14<07:08,  5.79s/it]"
     ]
    },
    {
     "name": "stdout",
     "output_type": "stream",
     "text": [
      "[2025-04-17 06:56:59] Saved t_2024-12-22_1200_1300.zarr\n"
     ]
    },
    {
     "name": "stderr",
     "output_type": "stream",
     "text": [
      "Saving Zarr pairs: 100%|█████████▉| 32071/32143 [3:02:20<05:57,  4.96s/it]"
     ]
    },
    {
     "name": "stdout",
     "output_type": "stream",
     "text": [
      "[2025-04-17 06:57:06] Saved t_2024-12-22_1800_1900.zarr\n"
     ]
    },
    {
     "name": "stderr",
     "output_type": "stream",
     "text": [
      "Saving Zarr pairs: 100%|█████████▉| 32073/32143 [3:02:26<05:02,  4.32s/it]"
     ]
    },
    {
     "name": "stdout",
     "output_type": "stream",
     "text": [
      "[2025-04-17 06:57:12] Saved t_2024-12-23_0000_0100.zarr\n"
     ]
    },
    {
     "name": "stderr",
     "output_type": "stream",
     "text": [
      "Saving Zarr pairs: 100%|█████████▉| 32076/32143 [3:02:34<03:45,  3.37s/it]"
     ]
    },
    {
     "name": "stdout",
     "output_type": "stream",
     "text": [
      "[2025-04-17 06:57:19] Saved t_2024-12-23_0600_0700.zarr\n"
     ]
    },
    {
     "name": "stderr",
     "output_type": "stream",
     "text": [
      "Saving Zarr pairs: 100%|█████████▉| 32077/32143 [3:02:39<04:08,  3.77s/it]"
     ]
    },
    {
     "name": "stdout",
     "output_type": "stream",
     "text": [
      "[2025-04-17 06:57:24] Saved t_2024-12-23_1200_1300.zarr\n"
     ]
    },
    {
     "name": "stderr",
     "output_type": "stream",
     "text": [
      "Saving Zarr pairs: 100%|█████████▉| 32079/32143 [3:02:44<03:29,  3.27s/it]"
     ]
    },
    {
     "name": "stdout",
     "output_type": "stream",
     "text": [
      "[2025-04-17 06:57:29] Saved t_2024-12-23_1800_1900.zarr\n"
     ]
    },
    {
     "name": "stderr",
     "output_type": "stream",
     "text": [
      "Saving Zarr pairs: 100%|█████████▉| 32081/32143 [3:02:58<04:45,  4.61s/it]"
     ]
    },
    {
     "name": "stdout",
     "output_type": "stream",
     "text": [
      "[2025-04-17 06:57:44] Saved t_2024-12-24_0000_0100.zarr\n"
     ]
    },
    {
     "name": "stderr",
     "output_type": "stream",
     "text": [
      "Saving Zarr pairs: 100%|█████████▉| 32084/32143 [3:03:12<04:14,  4.32s/it]"
     ]
    },
    {
     "name": "stdout",
     "output_type": "stream",
     "text": [
      "[2025-04-17 06:57:57] Saved t_2024-12-24_0600_0700.zarr\n"
     ]
    },
    {
     "name": "stderr",
     "output_type": "stream",
     "text": [
      "Saving Zarr pairs: 100%|█████████▉| 32085/32143 [3:03:25<06:00,  6.22s/it]"
     ]
    },
    {
     "name": "stdout",
     "output_type": "stream",
     "text": [
      "[2025-04-17 06:58:10] Saved t_2024-12-24_1200_1300.zarr\n"
     ]
    },
    {
     "name": "stderr",
     "output_type": "stream",
     "text": [
      "Saving Zarr pairs: 100%|█████████▉| 32087/32143 [3:03:30<04:35,  4.92s/it]"
     ]
    },
    {
     "name": "stdout",
     "output_type": "stream",
     "text": [
      "[2025-04-17 06:58:16] Saved t_2024-12-24_1800_1900.zarr\n"
     ]
    },
    {
     "name": "stderr",
     "output_type": "stream",
     "text": [
      "Saving Zarr pairs: 100%|█████████▉| 32089/32143 [3:03:36<03:45,  4.17s/it]"
     ]
    },
    {
     "name": "stdout",
     "output_type": "stream",
     "text": [
      "[2025-04-17 06:58:21] Saved t_2024-12-25_0000_0100.zarr\n"
     ]
    },
    {
     "name": "stderr",
     "output_type": "stream",
     "text": [
      "Saving Zarr pairs: 100%|█████████▉| 32091/32143 [3:03:43<03:25,  3.95s/it]"
     ]
    },
    {
     "name": "stdout",
     "output_type": "stream",
     "text": [
      "[2025-04-17 06:58:28] Saved t_2024-12-25_0600_0700.zarr\n"
     ]
    },
    {
     "name": "stderr",
     "output_type": "stream",
     "text": [
      "Saving Zarr pairs: 100%|█████████▉| 32094/32143 [3:03:51<02:38,  3.24s/it]"
     ]
    },
    {
     "name": "stdout",
     "output_type": "stream",
     "text": [
      "[2025-04-17 06:58:36] Saved t_2024-12-25_1200_1300.zarr\n"
     ]
    },
    {
     "name": "stderr",
     "output_type": "stream",
     "text": [
      "Saving Zarr pairs: 100%|█████████▉| 32096/32143 [3:03:57<02:16,  2.90s/it]"
     ]
    },
    {
     "name": "stdout",
     "output_type": "stream",
     "text": [
      "[2025-04-17 06:58:42] Saved t_2024-12-25_1800_1900.zarr\n"
     ]
    },
    {
     "name": "stderr",
     "output_type": "stream",
     "text": [
      "Saving Zarr pairs: 100%|█████████▉| 32097/32143 [3:04:08<03:50,  5.00s/it]"
     ]
    },
    {
     "name": "stdout",
     "output_type": "stream",
     "text": [
      "[2025-04-17 06:58:54] Saved t_2024-12-26_0000_0100.zarr\n"
     ]
    },
    {
     "name": "stderr",
     "output_type": "stream",
     "text": [
      "Saving Zarr pairs: 100%|█████████▉| 32099/32143 [3:04:24<04:39,  6.34s/it]"
     ]
    },
    {
     "name": "stdout",
     "output_type": "stream",
     "text": [
      "[2025-04-17 06:59:10] Saved t_2024-12-26_0600_0700.zarr\n"
     ]
    },
    {
     "name": "stderr",
     "output_type": "stream",
     "text": [
      "Saving Zarr pairs: 100%|█████████▉| 32102/32143 [3:04:35<03:11,  4.66s/it]"
     ]
    },
    {
     "name": "stdout",
     "output_type": "stream",
     "text": [
      "[2025-04-17 06:59:20] Saved t_2024-12-26_1200_1300.zarr\n"
     ]
    },
    {
     "name": "stderr",
     "output_type": "stream",
     "text": [
      "Saving Zarr pairs: 100%|█████████▉| 32103/32143 [3:04:39<03:02,  4.57s/it]"
     ]
    },
    {
     "name": "stdout",
     "output_type": "stream",
     "text": [
      "[2025-04-17 06:59:25] Saved t_2024-12-26_1800_1900.zarr\n"
     ]
    },
    {
     "name": "stderr",
     "output_type": "stream",
     "text": [
      "Saving Zarr pairs: 100%|█████████▉| 32105/32143 [3:04:45<02:26,  3.87s/it]"
     ]
    },
    {
     "name": "stdout",
     "output_type": "stream",
     "text": [
      "[2025-04-17 06:59:30] Saved t_2024-12-27_0000_0100.zarr\n"
     ]
    },
    {
     "name": "stderr",
     "output_type": "stream",
     "text": [
      "Saving Zarr pairs: 100%|█████████▉| 32107/32143 [3:04:52<02:16,  3.79s/it]"
     ]
    },
    {
     "name": "stdout",
     "output_type": "stream",
     "text": [
      "[2025-04-17 06:59:37] Saved t_2024-12-27_0600_0700.zarr\n"
     ]
    },
    {
     "name": "stderr",
     "output_type": "stream",
     "text": [
      "Saving Zarr pairs: 100%|█████████▉| 32109/32143 [3:05:00<02:12,  3.90s/it]"
     ]
    },
    {
     "name": "stdout",
     "output_type": "stream",
     "text": [
      "[2025-04-17 06:59:46] Saved t_2024-12-27_1200_1300.zarr\n"
     ]
    },
    {
     "name": "stderr",
     "output_type": "stream",
     "text": [
      "Saving Zarr pairs: 100%|█████████▉| 32111/32143 [3:05:03<01:39,  3.12s/it]"
     ]
    },
    {
     "name": "stdout",
     "output_type": "stream",
     "text": [
      "[2025-04-17 06:59:49] Saved t_2024-12-27_1800_1900.zarr\n"
     ]
    },
    {
     "name": "stderr",
     "output_type": "stream",
     "text": [
      "Saving Zarr pairs: 100%|█████████▉| 32114/32143 [3:05:12<01:23,  2.89s/it]"
     ]
    },
    {
     "name": "stdout",
     "output_type": "stream",
     "text": [
      "[2025-04-17 06:59:58] Saved t_2024-12-28_0000_0100.zarr\n"
     ]
    },
    {
     "name": "stderr",
     "output_type": "stream",
     "text": [
      "Saving Zarr pairs: 100%|█████████▉| 32115/32143 [3:05:24<02:13,  4.76s/it]"
     ]
    },
    {
     "name": "stdout",
     "output_type": "stream",
     "text": [
      "[2025-04-17 07:00:09] Saved t_2024-12-28_0600_0700.zarr\n"
     ]
    },
    {
     "name": "stderr",
     "output_type": "stream",
     "text": [
      "Saving Zarr pairs: 100%|█████████▉| 32117/32143 [3:05:32<01:57,  4.53s/it]"
     ]
    },
    {
     "name": "stdout",
     "output_type": "stream",
     "text": [
      "[2025-04-17 07:00:18] Saved t_2024-12-28_1200_1300.zarr\n"
     ]
    },
    {
     "name": "stderr",
     "output_type": "stream",
     "text": [
      "Saving Zarr pairs: 100%|█████████▉| 32119/32143 [3:05:36<01:26,  3.59s/it]"
     ]
    },
    {
     "name": "stdout",
     "output_type": "stream",
     "text": [
      "[2025-04-17 07:00:21] Saved t_2024-12-28_1800_1900.zarr\n"
     ]
    },
    {
     "name": "stderr",
     "output_type": "stream",
     "text": [
      "Saving Zarr pairs: 100%|█████████▉| 32121/32143 [3:05:41<01:11,  3.26s/it]"
     ]
    },
    {
     "name": "stdout",
     "output_type": "stream",
     "text": [
      "[2025-04-17 07:00:27] Saved t_2024-12-29_0000_0100.zarr\n"
     ]
    },
    {
     "name": "stderr",
     "output_type": "stream",
     "text": [
      "Saving Zarr pairs: 100%|█████████▉| 32123/32143 [3:05:47<01:01,  3.09s/it]"
     ]
    },
    {
     "name": "stdout",
     "output_type": "stream",
     "text": [
      "[2025-04-17 07:00:32] Saved t_2024-12-29_0600_0700.zarr\n"
     ]
    },
    {
     "name": "stderr",
     "output_type": "stream",
     "text": [
      "Saving Zarr pairs: 100%|█████████▉| 32126/32143 [3:05:53<00:44,  2.59s/it]"
     ]
    },
    {
     "name": "stdout",
     "output_type": "stream",
     "text": [
      "[2025-04-17 07:00:39] Saved t_2024-12-29_1200_1300.zarr\n"
     ]
    },
    {
     "name": "stderr",
     "output_type": "stream",
     "text": [
      "Saving Zarr pairs: 100%|█████████▉| 32127/32143 [3:05:56<00:41,  2.59s/it]"
     ]
    },
    {
     "name": "stdout",
     "output_type": "stream",
     "text": [
      "[2025-04-17 07:00:41] Saved t_2024-12-29_1800_1900.zarr\n"
     ]
    },
    {
     "name": "stderr",
     "output_type": "stream",
     "text": [
      "Saving Zarr pairs: 100%|█████████▉| 32129/32143 [3:06:04<00:45,  3.22s/it]"
     ]
    },
    {
     "name": "stdout",
     "output_type": "stream",
     "text": [
      "[2025-04-17 07:00:50] Saved t_2024-12-30_0000_0100.zarr\n"
     ]
    },
    {
     "name": "stderr",
     "output_type": "stream",
     "text": [
      "Saving Zarr pairs: 100%|█████████▉| 32131/32143 [3:06:13<00:43,  3.62s/it]"
     ]
    },
    {
     "name": "stdout",
     "output_type": "stream",
     "text": [
      "[2025-04-17 07:00:59] Saved t_2024-12-30_0600_0700.zarr\n"
     ]
    },
    {
     "name": "stderr",
     "output_type": "stream",
     "text": [
      "Saving Zarr pairs: 100%|█████████▉| 32133/32143 [3:06:20<00:35,  3.52s/it]"
     ]
    },
    {
     "name": "stdout",
     "output_type": "stream",
     "text": [
      "[2025-04-17 07:01:05] Saved t_2024-12-30_1200_1300.zarr\n"
     ]
    },
    {
     "name": "stderr",
     "output_type": "stream",
     "text": [
      "Saving Zarr pairs: 100%|█████████▉| 32135/32143 [3:06:21<00:20,  2.53s/it]"
     ]
    },
    {
     "name": "stdout",
     "output_type": "stream",
     "text": [
      "[2025-04-17 07:01:06] Saved t_2024-12-30_1800_1900.zarr\n"
     ]
    },
    {
     "name": "stderr",
     "output_type": "stream",
     "text": [
      "Saving Zarr pairs: 100%|█████████▉| 32137/32143 [3:06:21<00:10,  1.81s/it]"
     ]
    },
    {
     "name": "stdout",
     "output_type": "stream",
     "text": [
      "[2025-04-17 07:01:07] Saved t_2024-12-31_0000_0100.zarr\n"
     ]
    },
    {
     "name": "stderr",
     "output_type": "stream",
     "text": [
      "Saving Zarr pairs: 100%|█████████▉| 32139/32143 [3:06:22<00:05,  1.41s/it]"
     ]
    },
    {
     "name": "stdout",
     "output_type": "stream",
     "text": [
      "[2025-04-17 07:01:08] Saved t_2024-12-31_0600_0700.zarr\n"
     ]
    },
    {
     "name": "stderr",
     "output_type": "stream",
     "text": [
      "Saving Zarr pairs: 100%|██████████| 32143/32143 [3:06:23<00:00,  2.87it/s]"
     ]
    },
    {
     "name": "stdout",
     "output_type": "stream",
     "text": [
      "[2025-04-17 07:01:08] Saved t_2024-12-31_1200_1300.zarr\n",
      "[2025-04-17 07:01:08] Saved t_2024-12-31_1800_1900.zarr\n",
      "[2025-04-17 07:01:08] Zarr saving completed for all valid daily pairs.\n"
     ]
    },
    {
     "name": "stderr",
     "output_type": "stream",
     "text": [
      "\n"
     ]
    }
   ],
   "source": [
    "import zarr\n",
    "import os\n",
    "import numpy as np\n",
    "from datetime import timedelta\n",
    "import pandas as pd\n",
    "from tqdm import tqdm\n",
    "from concurrent.futures import ThreadPoolExecutor\n",
    "\n",
    "output_dir = '/run/media/adamh/NV2/temp_w/training_pairs/'\n",
    "os.makedirs(output_dir, exist_ok=True)\n",
    "\n",
    "# Convert valid_time to pandas datetime for easier slicing\n",
    "valid_times = pd.to_datetime(temp_regridded['valid_time'].values)\n",
    "\n",
    "log(\"Starting Zarr saving over all daily pairs...\")\n",
    "\n",
    "# Function to process and save Zarr pairs\n",
    "def save_zarr_pair(i, valid_times, temp_regridded):\n",
    "    input_time = valid_times[i]\n",
    "    target_time = valid_times[i + 1]\n",
    "    \n",
    "    # Only process if times match your desired hourly pattern\n",
    "    if input_time.hour in [0, 6, 12, 18] and target_time - input_time == timedelta(hours=1):\n",
    "        date_str = input_time.strftime('%Y-%m-%d')\n",
    "        input_str = input_time.strftime('%H%M')\n",
    "        target_str = target_time.strftime('%H%M')\n",
    "        file_name = f\"t_{date_str}_{input_str}_{target_str}.zarr\"\n",
    "        file_path = os.path.join(output_dir, file_name)\n",
    "        \n",
    "        # Skip if file already exists (check this before loading data)\n",
    "        if os.path.exists(file_path):\n",
    "            #log(f\"Skipping {file_name}, file already exists.\")\n",
    "            return\n",
    "        \n",
    "        # If file does not exist, process and save\n",
    "        input_data = temp_regridded.sel(valid_time=input_time).values\n",
    "        target_data = temp_regridded.sel(valid_time=target_time).values\n",
    "        \n",
    "        # Add batch dimension\n",
    "        input_data = np.expand_dims(input_data, axis=0)\n",
    "        target_data = np.expand_dims(target_data, axis=0)\n",
    "        \n",
    "        # Save the data\n",
    "        zarr_group = zarr.open(file_path, mode='w')\n",
    "        zarr_group.create_dataset('input', data=input_data, chunks=(1, *input_data.shape[1:]), dtype='float32', compressor=zarr.Blosc(clevel=5))\n",
    "        zarr_group.create_dataset('target', data=target_data, chunks=(1, *target_data.shape[1:]), dtype='float32', compressor=zarr.Blosc(clevel=5))\n",
    "        \n",
    "        log(f\"Saved {file_name}\")\n",
    "\n",
    "# Function to run the parallelization\n",
    "def parallel_save_zarr(valid_times, temp_regridded):\n",
    "    with tqdm(total=len(valid_times) - 1, desc=\"Saving Zarr pairs\") as pbar:\n",
    "        with ThreadPoolExecutor(max_workers=8) as executor:  # Adjust max_workers based on your CPU capabilities\n",
    "            futures = []\n",
    "            for i in range(0, len(valid_times) - 1):\n",
    "                futures.append(executor.submit(save_zarr_pair, i, valid_times, temp_regridded))\n",
    "            \n",
    "            # Update progress bar as the tasks complete\n",
    "            for future in futures:\n",
    "                future.result()  # Wait for each task to finish\n",
    "                pbar.update(1)\n",
    "\n",
    "# Call the parallel_save_zarr function to actually run the parallelized saving process\n",
    "parallel_save_zarr(valid_times, temp_regridded)\n",
    "\n",
    "log(\"Zarr saving completed for all valid daily pairs.\")\n"
   ]
  },
  {
   "cell_type": "code",
   "execution_count": 5,
   "metadata": {},
   "outputs": [
    {
     "name": "stdout",
     "output_type": "stream",
     "text": [
      "Computing global mean and std with manual chunking...\n",
      "Processed 500 / 32144 timesteps\n",
      "Processed 1000 / 32144 timesteps\n",
      "Processed 1500 / 32144 timesteps\n",
      "Processed 2000 / 32144 timesteps\n",
      "Processed 2500 / 32144 timesteps\n",
      "Processed 3000 / 32144 timesteps\n",
      "Processed 3500 / 32144 timesteps\n",
      "Processed 4000 / 32144 timesteps\n",
      "Processed 4500 / 32144 timesteps\n",
      "Processed 5000 / 32144 timesteps\n",
      "Processed 5500 / 32144 timesteps\n",
      "Processed 6000 / 32144 timesteps\n",
      "Processed 6500 / 32144 timesteps\n",
      "Processed 7000 / 32144 timesteps\n",
      "Processed 7500 / 32144 timesteps\n",
      "Processed 8000 / 32144 timesteps\n",
      "Processed 8500 / 32144 timesteps\n",
      "Processed 9000 / 32144 timesteps\n",
      "Processed 9500 / 32144 timesteps\n",
      "Processed 10000 / 32144 timesteps\n",
      "Processed 10500 / 32144 timesteps\n",
      "Processed 11000 / 32144 timesteps\n",
      "Processed 11500 / 32144 timesteps\n",
      "Processed 12000 / 32144 timesteps\n",
      "Processed 12500 / 32144 timesteps\n",
      "Processed 13000 / 32144 timesteps\n",
      "Processed 13500 / 32144 timesteps\n",
      "Processed 14000 / 32144 timesteps\n",
      "Processed 14500 / 32144 timesteps\n",
      "Processed 15000 / 32144 timesteps\n",
      "Processed 15500 / 32144 timesteps\n",
      "Processed 16000 / 32144 timesteps\n",
      "Processed 16500 / 32144 timesteps\n",
      "Processed 17000 / 32144 timesteps\n",
      "Processed 17500 / 32144 timesteps\n",
      "Processed 18000 / 32144 timesteps\n",
      "Processed 18500 / 32144 timesteps\n",
      "Processed 19000 / 32144 timesteps\n",
      "Processed 19500 / 32144 timesteps\n",
      "Processed 20000 / 32144 timesteps\n",
      "Processed 20500 / 32144 timesteps\n",
      "Processed 21000 / 32144 timesteps\n",
      "Processed 21500 / 32144 timesteps\n",
      "Processed 22000 / 32144 timesteps\n",
      "Processed 22500 / 32144 timesteps\n",
      "Processed 23000 / 32144 timesteps\n",
      "Processed 23500 / 32144 timesteps\n",
      "Processed 24000 / 32144 timesteps\n",
      "Processed 24500 / 32144 timesteps\n",
      "Processed 25000 / 32144 timesteps\n",
      "Processed 25500 / 32144 timesteps\n",
      "Processed 26000 / 32144 timesteps\n",
      "Processed 26500 / 32144 timesteps\n",
      "Processed 27000 / 32144 timesteps\n",
      "Processed 27500 / 32144 timesteps\n",
      "Processed 28000 / 32144 timesteps\n",
      "Processed 28500 / 32144 timesteps\n",
      "Processed 29000 / 32144 timesteps\n",
      "Processed 29500 / 32144 timesteps\n",
      "Processed 30000 / 32144 timesteps\n",
      "Processed 30500 / 32144 timesteps\n",
      "Processed 31000 / 32144 timesteps\n",
      "Processed 31500 / 32144 timesteps\n",
      "Processed 32000 / 32144 timesteps\n",
      "Processed 32144 / 32144 timesteps\n",
      "\n",
      "✅ Done in 6283.20s\n",
      "Global mean: 249.10009\n",
      "Global std: 29.99640\n"
     ]
    }
   ],
   "source": [
    "import numpy as np\n",
    "import xarray as xr\n",
    "import dask\n",
    "from dask.array import from_array\n",
    "import time\n",
    "\n",
    "# Assuming you already have your temp_regridded DataArray\n",
    "# e.g., temp_regridded = xr.open_dataset(..., chunks=...)\n",
    "\n",
    "data = temp_regridded  # your original big array\n",
    "n = data.sizes['valid_time']\n",
    "chunk_size = 500\n",
    "\n",
    "# Initialise accumulators\n",
    "sum_ = 0\n",
    "sum_sq = 0\n",
    "count = 0\n",
    "\n",
    "start_time = time.time()\n",
    "print(\"Computing global mean and std with manual chunking...\")\n",
    "\n",
    "for i in range(0, n, chunk_size):\n",
    "    chunk = data.isel(valid_time=slice(i, min(i + chunk_size, n))).load()\n",
    "    np_chunk = chunk.values.astype(np.float64)\n",
    "    sum_ += np_chunk.sum()\n",
    "    sum_sq += (np_chunk ** 2).sum()\n",
    "    count += np_chunk.size\n",
    "\n",
    "    print(f\"Processed {min(i + chunk_size, n)} / {n} timesteps\")\n",
    "\n",
    "# Final stats\n",
    "global_mean = sum_ / count\n",
    "global_std = np.sqrt((sum_sq / count) - (global_mean ** 2))\n",
    "\n",
    "elapsed = time.time() - start_time\n",
    "print(f\"\\n✅ Done in {elapsed:.2f}s\")\n",
    "print(f\"Global mean: {global_mean:.5f}\")\n",
    "print(f\"Global std: {global_std:.5f}\")\n"
   ]
  },
  {
   "cell_type": "code",
   "execution_count": 2,
   "metadata": {},
   "outputs": [
    {
     "name": "stderr",
     "output_type": "stream",
     "text": [
      "Processing t_train_tensor:   9%|▉         | 1/11 [01:47<17:56, 107.62s/it]"
     ]
    },
    {
     "name": "stdout",
     "output_type": "stream",
     "text": [
      "Saved: /run/media/adamh/NV2/temp_w/t_train_tensor_2014.pt | Shape: torch.Size([1460, 1, 77, 64, 128])\n"
     ]
    },
    {
     "name": "stderr",
     "output_type": "stream",
     "text": [
      "Processing t_train_tensor:  18%|█▊        | 2/11 [03:34<16:05, 107.26s/it]"
     ]
    },
    {
     "name": "stdout",
     "output_type": "stream",
     "text": [
      "Saved: /run/media/adamh/NV2/temp_w/t_train_tensor_2015.pt | Shape: torch.Size([1460, 1, 77, 64, 128])\n"
     ]
    },
    {
     "name": "stderr",
     "output_type": "stream",
     "text": [
      "Processing t_train_tensor:  27%|██▋       | 3/11 [05:19<14:10, 106.31s/it]"
     ]
    },
    {
     "name": "stdout",
     "output_type": "stream",
     "text": [
      "Saved: /run/media/adamh/NV2/temp_w/t_train_tensor_2016.pt | Shape: torch.Size([1464, 1, 77, 64, 128])\n"
     ]
    },
    {
     "name": "stderr",
     "output_type": "stream",
     "text": [
      "Processing t_train_tensor:  36%|███▋      | 4/11 [07:06<12:23, 106.28s/it]"
     ]
    },
    {
     "name": "stdout",
     "output_type": "stream",
     "text": [
      "Saved: /run/media/adamh/NV2/temp_w/t_train_tensor_2017.pt | Shape: torch.Size([1460, 1, 77, 64, 128])\n"
     ]
    },
    {
     "name": "stderr",
     "output_type": "stream",
     "text": [
      "Processing t_train_tensor:  45%|████▌     | 5/11 [08:51<10:35, 105.87s/it]"
     ]
    },
    {
     "name": "stdout",
     "output_type": "stream",
     "text": [
      "Saved: /run/media/adamh/NV2/temp_w/t_train_tensor_2018.pt | Shape: torch.Size([1460, 1, 77, 64, 128])\n"
     ]
    },
    {
     "name": "stderr",
     "output_type": "stream",
     "text": [
      "Processing t_train_tensor:  55%|█████▍    | 6/11 [10:38<08:51, 106.39s/it]"
     ]
    },
    {
     "name": "stdout",
     "output_type": "stream",
     "text": [
      "Saved: /run/media/adamh/NV2/temp_w/t_train_tensor_2019.pt | Shape: torch.Size([1460, 1, 77, 64, 128])\n"
     ]
    },
    {
     "name": "stderr",
     "output_type": "stream",
     "text": [
      "Processing t_train_tensor:  64%|██████▎   | 7/11 [12:25<07:06, 106.64s/it]"
     ]
    },
    {
     "name": "stdout",
     "output_type": "stream",
     "text": [
      "Saved: /run/media/adamh/NV2/temp_w/t_train_tensor_2020.pt | Shape: torch.Size([1464, 1, 77, 64, 128])\n"
     ]
    },
    {
     "name": "stderr",
     "output_type": "stream",
     "text": [
      "Processing t_train_tensor:  73%|███████▎  | 8/11 [14:10<05:18, 106.01s/it]"
     ]
    },
    {
     "name": "stdout",
     "output_type": "stream",
     "text": [
      "Saved: /run/media/adamh/NV2/temp_w/t_train_tensor_2021.pt | Shape: torch.Size([1460, 1, 77, 64, 128])\n"
     ]
    },
    {
     "name": "stderr",
     "output_type": "stream",
     "text": [
      "Processing t_train_tensor:  82%|████████▏ | 9/11 [15:57<03:32, 106.21s/it]"
     ]
    },
    {
     "name": "stdout",
     "output_type": "stream",
     "text": [
      "Saved: /run/media/adamh/NV2/temp_w/t_train_tensor_2022.pt | Shape: torch.Size([1460, 1, 77, 64, 128])\n"
     ]
    },
    {
     "name": "stderr",
     "output_type": "stream",
     "text": [
      "Processing t_train_tensor:  91%|█████████ | 10/11 [17:42<01:45, 105.87s/it]"
     ]
    },
    {
     "name": "stdout",
     "output_type": "stream",
     "text": [
      "Saved: /run/media/adamh/NV2/temp_w/t_train_tensor_2023.pt | Shape: torch.Size([1460, 1, 77, 64, 128])\n"
     ]
    },
    {
     "name": "stderr",
     "output_type": "stream",
     "text": [
      "Processing t_train_tensor: 100%|██████████| 11/11 [19:27<00:00, 106.16s/it]"
     ]
    },
    {
     "name": "stdout",
     "output_type": "stream",
     "text": [
      "Saved: /run/media/adamh/NV2/temp_w/t_train_tensor_2024.pt | Shape: torch.Size([1464, 1, 77, 64, 128])\n"
     ]
    },
    {
     "name": "stderr",
     "output_type": "stream",
     "text": [
      "\n",
      "Processing t_test_tensor:   9%|▉         | 1/11 [01:46<17:46, 106.67s/it]"
     ]
    },
    {
     "name": "stdout",
     "output_type": "stream",
     "text": [
      "Saved: /run/media/adamh/NV2/temp_w/t_test_tensor_2014.pt | Shape: torch.Size([1460, 1, 77, 64, 128])\n"
     ]
    },
    {
     "name": "stderr",
     "output_type": "stream",
     "text": [
      "Processing t_test_tensor:  18%|█▊        | 2/11 [03:33<16:01, 106.79s/it]"
     ]
    },
    {
     "name": "stdout",
     "output_type": "stream",
     "text": [
      "Saved: /run/media/adamh/NV2/temp_w/t_test_tensor_2015.pt | Shape: torch.Size([1460, 1, 77, 64, 128])\n"
     ]
    },
    {
     "name": "stderr",
     "output_type": "stream",
     "text": [
      "Processing t_test_tensor:  27%|██▋       | 3/11 [05:18<14:07, 105.93s/it]"
     ]
    },
    {
     "name": "stdout",
     "output_type": "stream",
     "text": [
      "Saved: /run/media/adamh/NV2/temp_w/t_test_tensor_2016.pt | Shape: torch.Size([1464, 1, 77, 64, 128])\n"
     ]
    },
    {
     "name": "stderr",
     "output_type": "stream",
     "text": [
      "Processing t_test_tensor:  36%|███▋      | 4/11 [07:06<12:26, 106.71s/it]"
     ]
    },
    {
     "name": "stdout",
     "output_type": "stream",
     "text": [
      "Saved: /run/media/adamh/NV2/temp_w/t_test_tensor_2017.pt | Shape: torch.Size([1460, 1, 77, 64, 128])\n"
     ]
    },
    {
     "name": "stderr",
     "output_type": "stream",
     "text": [
      "Processing t_test_tensor:  45%|████▌     | 5/11 [08:51<10:36, 106.08s/it]"
     ]
    },
    {
     "name": "stdout",
     "output_type": "stream",
     "text": [
      "Saved: /run/media/adamh/NV2/temp_w/t_test_tensor_2018.pt | Shape: torch.Size([1460, 1, 77, 64, 128])\n"
     ]
    },
    {
     "name": "stderr",
     "output_type": "stream",
     "text": [
      "Processing t_test_tensor:  55%|█████▍    | 6/11 [10:38<08:51, 106.32s/it]"
     ]
    },
    {
     "name": "stdout",
     "output_type": "stream",
     "text": [
      "Saved: /run/media/adamh/NV2/temp_w/t_test_tensor_2019.pt | Shape: torch.Size([1460, 1, 77, 64, 128])\n"
     ]
    },
    {
     "name": "stderr",
     "output_type": "stream",
     "text": [
      "Processing t_test_tensor:  64%|██████▎   | 7/11 [12:25<07:06, 106.74s/it]"
     ]
    },
    {
     "name": "stdout",
     "output_type": "stream",
     "text": [
      "Saved: /run/media/adamh/NV2/temp_w/t_test_tensor_2020.pt | Shape: torch.Size([1464, 1, 77, 64, 128])\n"
     ]
    },
    {
     "name": "stderr",
     "output_type": "stream",
     "text": [
      "Processing t_test_tensor:  73%|███████▎  | 8/11 [14:10<05:18, 106.16s/it]"
     ]
    },
    {
     "name": "stdout",
     "output_type": "stream",
     "text": [
      "Saved: /run/media/adamh/NV2/temp_w/t_test_tensor_2021.pt | Shape: torch.Size([1460, 1, 77, 64, 128])\n"
     ]
    },
    {
     "name": "stderr",
     "output_type": "stream",
     "text": [
      "Processing t_test_tensor:  82%|████████▏ | 9/11 [15:57<03:32, 106.31s/it]"
     ]
    },
    {
     "name": "stdout",
     "output_type": "stream",
     "text": [
      "Saved: /run/media/adamh/NV2/temp_w/t_test_tensor_2022.pt | Shape: torch.Size([1460, 1, 77, 64, 128])\n"
     ]
    },
    {
     "name": "stderr",
     "output_type": "stream",
     "text": [
      "Processing t_test_tensor:  91%|█████████ | 10/11 [17:42<01:45, 105.96s/it]"
     ]
    },
    {
     "name": "stdout",
     "output_type": "stream",
     "text": [
      "Saved: /run/media/adamh/NV2/temp_w/t_test_tensor_2023.pt | Shape: torch.Size([1460, 1, 77, 64, 128])\n"
     ]
    },
    {
     "name": "stderr",
     "output_type": "stream",
     "text": [
      "Processing t_test_tensor: 100%|██████████| 11/11 [19:28<00:00, 106.22s/it]"
     ]
    },
    {
     "name": "stdout",
     "output_type": "stream",
     "text": [
      "Saved: /run/media/adamh/NV2/temp_w/t_test_tensor_2024.pt | Shape: torch.Size([1464, 1, 77, 64, 128])\n"
     ]
    },
    {
     "name": "stderr",
     "output_type": "stream",
     "text": [
      "\n"
     ]
    }
   ],
   "source": [
    "import torch\n",
    "import xarray as xr\n",
    "from tqdm import tqdm\n",
    "\n",
    "def convert_and_save_yearly_tensors(nc_path, varname, prefix, save_dir):\n",
    "    \"\"\"\n",
    "    Load NetCDF, split data by year, convert to PyTorch tensors, and save each year separately.\n",
    "    \"\"\"\n",
    "    ds = xr.open_dataset(nc_path, engine=\"h5netcdf\")\n",
    "    dataarray = ds[varname]\n",
    "    years = sorted(set(dataarray[\"valid_time.year\"].values))\n",
    "\n",
    "    for year in tqdm(years, desc=f\"Processing {prefix}\"):\n",
    "        yearly_data = dataarray.sel(valid_time=str(year))\n",
    "        tensor = torch.tensor(yearly_data.values).unsqueeze(1)  # shape: (time, 1, level, lat, lon)\n",
    "        save_path = f\"{save_dir}/{prefix}_{year}.pt\"\n",
    "        torch.save(tensor, save_path)\n",
    "        print(f\"Saved: {save_path} | Shape: {tensor.shape}\")\n",
    "\n",
    "    ds.close()  # explicitly close the dataset\n",
    "\n",
    "# ----------------- Main -----------------\n",
    "\n",
    "base_dir = \"/run/media/adamh/Elements/toy_nn\"\n",
    "save_dir = \"/run/media/adamh/NV2/temp_w\"\n",
    "\n",
    "# Paths to files and variable name\n",
    "train_path = f\"{base_dir}/t_train_regrid_h5.nc\"\n",
    "test_path = f\"{base_dir}/t_test_regrid_h5.nc\"\n",
    "varname = \"variable_name\"  # Replace this with the actual variable name if needed\n",
    "\n",
    "# Process both datasets\n",
    "convert_and_save_yearly_tensors(train_path, varname, \"t_train_tensor\", save_dir)\n",
    "convert_and_save_yearly_tensors(test_path, varname, \"t_test_tensor\", save_dir)\n"
   ]
  },
  {
   "cell_type": "code",
   "execution_count": 1,
   "metadata": {},
   "outputs": [],
   "source": [
    "import torch\n",
    "from torch.utils.data import Dataset, DataLoader\n",
    "import zarr\n",
    "import os\n",
    "import numpy as np\n",
    "\n",
    "class ZarrForecastDataset(Dataset):\n",
    "    def __init__(self, root_dir, mean, std):\n",
    "        self.root_dir = root_dir\n",
    "        self.file_names = sorted([f for f in os.listdir(root_dir) if f.endswith('.zarr')])\n",
    "        self.mean = mean\n",
    "        self.std = std\n",
    "\n",
    "    def __len__(self):\n",
    "        return len(self.file_names)\n",
    "\n",
    "    def __getitem__(self, idx):\n",
    "        zarr_path = os.path.join(self.root_dir, self.file_names[idx])\n",
    "        input_array = zarr.open(os.path.join(zarr_path, \"input\"), mode='r')[0]\n",
    "        target_array = zarr.open(os.path.join(zarr_path, \"target\"), mode='r')[0]\n",
    "\n",
    "        input_tensor = torch.from_numpy(input_array).float().unsqueeze(0)\n",
    "        target_tensor = torch.from_numpy(target_array).float().unsqueeze(0)\n",
    "\n",
    "        # Normalize\n",
    "        input_tensor = (input_tensor - self.mean) / self.std\n",
    "        target_tensor = (target_tensor - self.mean) / self.std\n",
    "\n",
    "        return input_tensor, target_tensor\n",
    "\n",
    "# Assuming global_mean and global_std are already defined as floats or np.ndarrays\n",
    "global_mean, global_std = 249.10009, 29.99640\n",
    "dataset = ZarrForecastDataset(\"/run/media/adamh/NV2/temp_w/training_pairs/\", global_mean, global_std)\n",
    "\n",
    "dataloader = DataLoader(dataset, batch_size=4, shuffle=True, num_workers=4, pin_memory=True)\n",
    "\n",
    "# Sanity check\n",
    "# for i, (x, y) in enumerate(dataloader):\n",
    "#     print(f\"Batch {i}: input shape = {x.shape}, target shape = {y.shape}\")\n",
    "#     if i == 0:\n",
    "#         break\n"
   ]
  },
  {
   "cell_type": "code",
   "execution_count": 2,
   "metadata": {},
   "outputs": [],
   "source": [
    "import torch\n",
    "import torch.nn as nn\n",
    "import torch.nn.functional as F\n",
    "\n",
    "class Weather_UNet3D(nn.Module):\n",
    "    def __init__(self, dropout_rate=0.2, base_param=16, geo_rat=2, device=None):\n",
    "        super(Weather_UNet3D, self).__init__()\n",
    "        self.device = device if device is not None else torch.device('cuda' if torch.cuda.is_available() else 'cpu')\n",
    "        self.dropout_rate = dropout_rate\n",
    "        self.base_param = base_param\n",
    "        self.geo_rat = geo_rat\n",
    "\n",
    "        # Encoder Block 1\n",
    "        lvl1_param = int(base_param)\n",
    "        self.conv1_1 = nn.Conv3d(1, lvl1_param, kernel_size=3, padding=1, padding_mode='circular')\n",
    "        self.bn1_1 = nn.BatchNorm3d(lvl1_param)\n",
    "        self.relu1_1 = nn.ReLU()\n",
    "        self.dropout1_1 = nn.Dropout3d(p=dropout_rate)\n",
    "        \n",
    "        self.conv1_2 = nn.Conv3d(lvl1_param, lvl1_param, kernel_size=3, padding=1, padding_mode='circular')\n",
    "        self.bn1_2 = nn.BatchNorm3d(lvl1_param)\n",
    "        self.relu1_2 = nn.ReLU()\n",
    "        self.dropout1_2 = nn.Dropout3d(p=dropout_rate)\n",
    "        \n",
    "        self.pool1 = nn.MaxPool3d(kernel_size=(2, 2, 2), stride=(2, 2, 2))  # Pooling only on spatial dims\n",
    "\n",
    "        # Encoder Block 2\n",
    "        lvl2_param = int(geo_rat * lvl1_param)\n",
    "        self.conv2_1 = nn.Conv3d(lvl1_param, lvl2_param, kernel_size=3, padding=1, padding_mode='circular')\n",
    "        self.bn2_1 = nn.BatchNorm3d(lvl2_param)\n",
    "        self.relu2_1 = nn.ReLU()\n",
    "        self.dropout2_1 = nn.Dropout3d(p=dropout_rate)\n",
    "        \n",
    "        self.conv2_2 = nn.Conv3d(lvl2_param, lvl2_param, kernel_size=3, padding=1, padding_mode='circular')\n",
    "        self.bn2_2 = nn.BatchNorm3d(lvl2_param)\n",
    "        self.relu2_2 = nn.ReLU()\n",
    "        self.dropout2_2 = nn.Dropout3d(p=dropout_rate)\n",
    "        \n",
    "        self.pool2 = nn.MaxPool3d(kernel_size=(2, 2, 2), stride=(2, 2, 2))  # Pooling only on spatial dims\n",
    "\n",
    "        # Encoder Block 3\n",
    "        lvl3_param = int(geo_rat * lvl2_param)\n",
    "        self.conv3_1 = nn.Conv3d(lvl2_param, lvl3_param, kernel_size=3, padding=1, padding_mode='circular')\n",
    "        self.bn3_1 = nn.BatchNorm3d(lvl3_param)\n",
    "        self.relu3_1 = nn.ReLU()\n",
    "        self.dropout3_1 = nn.Dropout3d(p=dropout_rate)\n",
    "        \n",
    "        self.conv3_2 = nn.Conv3d(lvl3_param, lvl3_param, kernel_size=3, padding=1, padding_mode='circular')\n",
    "        self.bn3_2 = nn.BatchNorm3d(lvl3_param)\n",
    "        self.relu3_2 = nn.ReLU()\n",
    "        self.dropout3_2 = nn.Dropout3d(p=dropout_rate)\n",
    "        \n",
    "        self.pool3 = nn.MaxPool3d(kernel_size=(2, 2, 2), stride=(2, 2, 2))  # Pooling only on spatial dims\n",
    "\n",
    "        # Bottleneck\n",
    "        lvl4_param = int(geo_rat * lvl3_param)\n",
    "        self.conv4_1 = nn.Conv3d(lvl3_param, lvl4_param, kernel_size=3, padding=1, padding_mode='circular')\n",
    "        self.bn4_1 = nn.BatchNorm3d(lvl4_param)\n",
    "        self.relu4_1 = nn.ReLU()\n",
    "        self.dropout4_1 = nn.Dropout3d(p=dropout_rate)\n",
    "        \n",
    "        self.conv4_2 = nn.Conv3d(lvl4_param, lvl4_param, kernel_size=3, padding=1, padding_mode='circular')\n",
    "        self.bn4_2 = nn.BatchNorm3d(lvl4_param)\n",
    "        self.relu4_2 = nn.ReLU()\n",
    "        self.dropout4_2 = nn.Dropout3d(p=dropout_rate)\n",
    "\n",
    "        # Decoder Block 1 (Upsampling)\n",
    "        self.upconv1 = nn.Upsample(scale_factor=2, mode='trilinear', align_corners=False)\n",
    "        self.conv5_1 = nn.Conv3d(lvl4_param + lvl3_param, lvl3_param, kernel_size=3, padding=1, padding_mode='circular')\n",
    "        self.bn5_1 = nn.BatchNorm3d(lvl3_param)\n",
    "        self.relu5_1 = nn.ReLU()\n",
    "        self.dropout5_1 = nn.Dropout3d(p=0.3)\n",
    "\n",
    "        self.conv5_2 = nn.Conv3d(lvl3_param, lvl3_param, kernel_size=3, padding=1, padding_mode='circular')\n",
    "        self.bn5_2 = nn.BatchNorm3d(lvl3_param)\n",
    "        self.relu5_2 = nn.ReLU()\n",
    "        self.dropout5_2 = nn.Dropout3d(p=dropout_rate)\n",
    "\n",
    "        # Decoder Block 2 (Upsampling)\n",
    "        self.upconv2 = nn.Upsample(scale_factor=2, mode='trilinear', align_corners=False)\n",
    "        self.conv6_1 = nn.Conv3d(lvl3_param + lvl2_param, lvl2_param, kernel_size=3, padding=1, padding_mode='circular')\n",
    "        self.bn6_1 = nn.BatchNorm3d(lvl2_param)\n",
    "        self.relu6_1 = nn.ReLU()\n",
    "        self.dropout6_1 = nn.Dropout3d(p=dropout_rate)\n",
    "\n",
    "        self.conv6_2 = nn.Conv3d(lvl2_param, lvl2_param, kernel_size=3, padding=1, padding_mode='circular')\n",
    "        self.bn6_2 = nn.BatchNorm3d(lvl2_param)\n",
    "        self.relu6_2 = nn.ReLU()\n",
    "        self.dropout6_2 = nn.Dropout3d(p=dropout_rate)\n",
    "\n",
    "        # Decoder Block 3 (Upsampling)\n",
    "        self.upconv3 = nn.Upsample(scale_factor=2, mode='trilinear', align_corners=False)\n",
    "        self.conv7_1 = nn.Conv3d(lvl2_param + lvl1_param, lvl1_param, kernel_size=3, padding=1, padding_mode='circular')\n",
    "        self.bn7_1 = nn.BatchNorm3d(lvl1_param)\n",
    "        self.relu7_1 = nn.ReLU()\n",
    "        self.dropout7_1 = nn.Dropout3d(p=dropout_rate)\n",
    "\n",
    "        self.conv7_2 = nn.Conv3d(lvl1_param, lvl1_param, kernel_size=3, padding=1, padding_mode='circular')\n",
    "        self.bn7_2 = nn.BatchNorm3d(lvl1_param)\n",
    "        self.relu7_2 = nn.ReLU()\n",
    "        self.dropout7_2 = nn.Dropout3d(p=dropout_rate)\n",
    "\n",
    "        # Final output layer\n",
    "        self.conv8 = nn.Conv3d(lvl1_param, 1, kernel_size=3, padding=1, padding_mode='circular')\n",
    "\n",
    "    def forward(self, x):\n",
    "        x0 = x.to(self.device)\n",
    "        \n",
    "        # Encoder\n",
    "        x1 = self.conv1_1(x0)\n",
    "        x1 = self.bn1_1(x1)\n",
    "        x1 = self.relu1_1(x1)\n",
    "        x1 = self.dropout1_1(x1)\n",
    "        \n",
    "        x1 = self.conv1_2(x1)\n",
    "        x1 = self.bn1_2(x1)\n",
    "        x1 = self.relu1_2(x1)\n",
    "        x1 = self.dropout1_2(x1)\n",
    "        \n",
    "        p1 = self.pool1(x1)\n",
    "        \n",
    "        x2 = self.conv2_1(p1)\n",
    "        x2 = self.bn2_1(x2)\n",
    "        x2 = self.relu2_1(x2)\n",
    "        x2 = self.dropout2_1(x2)\n",
    "        \n",
    "        x2 = self.conv2_2(x2)\n",
    "        x2 = self.bn2_2(x2)\n",
    "        x2 = self.relu2_2(x2)\n",
    "        x2 = self.dropout2_2(x2)\n",
    "        \n",
    "        p2 = self.pool2(x2)\n",
    "        \n",
    "        x3 = self.conv3_1(p2)\n",
    "        x3 = self.bn3_1(x3)\n",
    "        x3 = self.relu3_1(x3)\n",
    "        x3 = self.dropout3_1(x3)\n",
    "        \n",
    "        x3 = self.conv3_2(x3)\n",
    "        x3 = self.bn3_2(x3)\n",
    "        x3 = self.relu3_2(x3)\n",
    "        x3 = self.dropout3_2(x3)\n",
    "        \n",
    "        p3 = self.pool3(x3)\n",
    "        \n",
    "        b = self.conv4_1(p3)\n",
    "        b = self.bn4_1(b)\n",
    "        b = self.relu4_1(b)\n",
    "        b = self.dropout4_1(b)\n",
    "        \n",
    "        b = self.conv4_2(b)\n",
    "        b = self.bn4_2(b)\n",
    "        b = self.relu4_2(b)\n",
    "        b = self.dropout4_2(b)\n",
    "\n",
    "        # Decoder\n",
    "        u1 = self.upconv1(b)\n",
    "        u1 = torch.cat([u1, x3], dim=1)  # Skip connection from Encoder Block 3\n",
    "        u1 = self.conv5_1(u1)\n",
    "        u1 = self.bn5_1(u1)\n",
    "        u1 = self.relu5_1(u1)\n",
    "        u1 = self.dropout5_1(u1)\n",
    "        \n",
    "        u1 = self.conv5_2(u1)\n",
    "        u1 = self.bn5_2(u1)\n",
    "        u1 = self.relu5_2(u1)\n",
    "        u1 = self.dropout5_2(u1)\n",
    "        \n",
    "        u2 = self.upconv2(u1)\n",
    "        u2 = torch.cat([u2, x2], dim=1)  # Skip connection from Encoder Block 2\n",
    "        u2 = self.conv6_1(u2)\n",
    "        u2 = self.bn6_1(u2)\n",
    "        u2 = self.relu6_1(u2)\n",
    "        u2 = self.dropout6_1(u2)\n",
    "        \n",
    "        u2 = self.conv6_2(u2)\n",
    "        u2 = self.bn6_2(u2)\n",
    "        u2 = self.relu6_2(u2)\n",
    "        u2 = self.dropout6_2(u2)\n",
    "        \n",
    "        u3 = self.upconv3(u2)\n",
    "        u3 = torch.cat([u3, x1], dim=1)  # Skip connection from Encoder Block 1\n",
    "        u3 = self.conv7_1(u3)\n",
    "        u3 = self.bn7_1(u3)\n",
    "        u3 = self.relu7_1(u3)\n",
    "        u3 = self.dropout7_1(u3)\n",
    "        \n",
    "        u3 = self.conv7_2(u3)\n",
    "        u3 = self.bn7_2(u3)\n",
    "        u3 = self.relu7_2(u3)\n",
    "        u3 = self.dropout7_2(u3)\n",
    "\n",
    "        out = self.conv8(u3)\n",
    "        \n",
    "        return out"
   ]
  },
  {
   "cell_type": "code",
   "execution_count": 3,
   "metadata": {},
   "outputs": [
    {
     "name": "stdout",
     "output_type": "stream",
     "text": [
      "Input shape:  torch.Size([4, 1, 80, 64, 128])\n",
      "Target shape: torch.Size([4, 1, 80, 64, 128])\n",
      "Output shape: torch.Size([4, 1, 80, 64, 128])\n"
     ]
    }
   ],
   "source": [
    "import torch\n",
    "\n",
    "device = torch.device(\"cuda\" if torch.cuda.is_available() else \"cpu\")\n",
    "\n",
    "# Initialize model\n",
    "model = Weather_UNet3D(dropout_rate=0.2, base_param=32, geo_rat=2, device=device).to(device)\n",
    "model.eval()\n",
    "\n",
    "# Get one real batch from your DataLoader\n",
    "for x, y in dataloader:\n",
    "    x = x.to(device)\n",
    "    y = y.to(device)\n",
    "    with torch.no_grad():\n",
    "        out = model(x)\n",
    "    print(\"Input shape: \", x.shape)\n",
    "    print(\"Target shape:\", y.shape)\n",
    "    print(\"Output shape:\", out.shape)\n",
    "    break  # just test with the first batch\n"
   ]
  },
  {
   "cell_type": "code",
   "execution_count": 3,
   "metadata": {},
   "outputs": [
    {
     "name": "stderr",
     "output_type": "stream",
     "text": [
      "[I 2025-04-19 09:27:44,152] A new study created in memory with name: no-name-44d309b0-c294-4f30-b62c-271351ad0320\n",
      "/tmp/ipykernel_7492/1296081919.py:81: FutureWarning: `torch.cuda.amp.GradScaler(args...)` is deprecated. Please use `torch.amp.GradScaler('cuda', args...)` instead.\n",
      "  scaler = GradScaler(enabled=torch.cuda.is_available())\n",
      "/tmp/ipykernel_7492/1296081919.py:98: FutureWarning: `torch.cuda.amp.autocast(args...)` is deprecated. Please use `torch.amp.autocast('cuda', args...)` instead.\n",
      "  with autocast():\n",
      "/home/adamh/miniconda3/envs/x_env/lib/python3.10/site-packages/torch/amp/autocast_mode.py:266: UserWarning: User provided device_type of 'cuda', but CUDA is not available. Disabling\n",
      "  warnings.warn(\n"
     ]
    },
    {
     "name": "stdout",
     "output_type": "stream",
     "text": [
      "Epoch [1/3] Training Loss: 1.027122\n"
     ]
    },
    {
     "name": "stderr",
     "output_type": "stream",
     "text": [
      "/tmp/ipykernel_7492/1296081919.py:26: FutureWarning: `torch.cuda.amp.autocast(args...)` is deprecated. Please use `torch.amp.autocast('cuda', args...)` instead.\n",
      "  with autocast():\n"
     ]
    },
    {
     "name": "stdout",
     "output_type": "stream",
     "text": [
      "Epoch [2/3] Training Loss: 1.074489\n",
      "Epoch [3/3] Training Loss: 1.046483\n"
     ]
    },
    {
     "name": "stderr",
     "output_type": "stream",
     "text": [
      "[I 2025-04-19 09:30:20,230] Trial 0 finished with value: 0.9342626333236694 and parameters: {'dropout_rate': 0.35744594383141237, 'base_param': 60, 'geo_rat': 1.0, 'learning_rate': 6.897350314371482e-06, 'batch_size': 64}. Best is trial 0 with value: 0.9342626333236694.\n"
     ]
    },
    {
     "name": "stdout",
     "output_type": "stream",
     "text": [
      "Best trial: FrozenTrial(number=0, state=TrialState.COMPLETE, values=[0.9342626333236694], datetime_start=datetime.datetime(2025, 4, 19, 9, 27, 44, 152804), datetime_complete=datetime.datetime(2025, 4, 19, 9, 30, 20, 230496), params={'dropout_rate': 0.35744594383141237, 'base_param': 60, 'geo_rat': 1.0, 'learning_rate': 6.897350314371482e-06, 'batch_size': 64}, user_attrs={}, system_attrs={}, intermediate_values={}, distributions={'dropout_rate': FloatDistribution(high=0.5, log=False, low=0.1, step=None), 'base_param': IntDistribution(high=64, log=False, low=16, step=4), 'geo_rat': FloatDistribution(high=3.0, log=False, low=1.0, step=0.25), 'learning_rate': FloatDistribution(high=0.01, log=True, low=1e-06, step=None), 'batch_size': IntDistribution(high=64, log=False, low=4, step=4)}, trial_id=0, value=None)\n",
      "Best hyperparameters: {'dropout_rate': 0.35744594383141237, 'base_param': 60, 'geo_rat': 1.0, 'learning_rate': 6.897350314371482e-06, 'batch_size': 64}\n",
      "Study saved at /run/media/adamh/NV2/temp_w/training_results/weather_unet3d_hyperopt_test.joblib\n"
     ]
    }
   ],
   "source": [
    "import torch\n",
    "import torch.nn as nn\n",
    "import torch.optim as optim\n",
    "from torch.utils.data import DataLoader, random_split\n",
    "import optuna\n",
    "import os\n",
    "import numpy as np\n",
    "from torch.utils.tensorboard import SummaryWriter\n",
    "from torch.cuda.amp import GradScaler, autocast\n",
    "import joblib  # Import joblib for saving and loading the study\n",
    "\n",
    "device = torch.device(\"cuda\" if torch.cuda.is_available() else \"cpu\")\n",
    "\n",
    "# === DEBUG MODE ===\n",
    "debug_mode = True\n",
    "save_dir = \"/run/media/adamh/NV2/temp_w/training_results\"\n",
    "os.makedirs(save_dir, exist_ok=True)\n",
    "\n",
    "# Dummy validate function (replace with your actual logic)\n",
    "def validate(model, val_loader, criterion):\n",
    "    model.eval()\n",
    "    val_loss, val_rmse, val_mae = 0.0, 0.0, 0.0\n",
    "    with torch.no_grad():\n",
    "        for inputs, targets in val_loader:\n",
    "            inputs, targets = inputs.to(device), targets.to(device)\n",
    "            with autocast():\n",
    "                outputs = model(inputs)\n",
    "                loss = criterion(outputs, targets)\n",
    "            val_loss += loss.item()\n",
    "            val_rmse += torch.sqrt(nn.functional.mse_loss(outputs, targets)).item()\n",
    "            val_mae += nn.functional.l1_loss(outputs, targets).item()\n",
    "\n",
    "    n = len(val_loader)\n",
    "    return val_loss / n, val_rmse / n, val_mae / n\n",
    "\n",
    "class EarlyStopping:\n",
    "    def __init__(self, patience=10, min_delta=0.0001):\n",
    "        self.patience = patience\n",
    "        self.min_delta = min_delta\n",
    "        self.counter = 0\n",
    "        self.best_loss = np.inf\n",
    "        self.early_stop = False\n",
    "\n",
    "    def __call__(self, val_loss):\n",
    "        if self.best_loss - val_loss > self.min_delta:\n",
    "            self.best_loss = val_loss\n",
    "            self.counter = 0\n",
    "        else:\n",
    "            self.counter += 1\n",
    "            if self.counter >= self.patience:\n",
    "                self.early_stop = True\n",
    "        return self.early_stop\n",
    "\n",
    "# Define the objective function for Optuna\n",
    "def objective(trial):\n",
    "    # === Hyperparameters ===\n",
    "    dropout_rate = trial.suggest_float('dropout_rate', 0.1, 0.5)\n",
    "    base_param = trial.suggest_int('base_param', 16, 64, step=4)\n",
    "    geo_rat = trial.suggest_float('geo_rat', 1.0, 3.0, step=0.25)\n",
    "    learning_rate = trial.suggest_float('learning_rate', 1e-6, 1e-2, log=True)\n",
    "    batch_size = trial.suggest_int('batch_size', 4, 64, step=4)\n",
    "    num_epochs = 3 if debug_mode else 10000\n",
    "\n",
    "    model = Weather_UNet3D(dropout_rate=dropout_rate, base_param=base_param, geo_rat=geo_rat, device=device).to(device)\n",
    "    criterion = nn.MSELoss()\n",
    "    optimizer = optim.Adam(model.parameters(), lr=learning_rate)\n",
    "    scheduler = optim.lr_scheduler.ReduceLROnPlateau(optimizer, 'min', patience=5, factor=0.5)\n",
    "\n",
    "    dataset = ZarrForecastDataset(\"/run/media/adamh/NV2/temp_w/training_pairs/\", global_mean, global_std)\n",
    "    if debug_mode:\n",
    "        dataset = torch.utils.data.Subset(dataset, range(10))\n",
    "\n",
    "    train_size = int(0.8 * len(dataset))\n",
    "    val_size = len(dataset) - train_size\n",
    "    train_dataset, val_dataset = random_split(dataset, [train_size, val_size])\n",
    "\n",
    "    train_loader = DataLoader(train_dataset, batch_size=batch_size, shuffle=True, num_workers=0, pin_memory=True)\n",
    "    val_loader = DataLoader(val_dataset, batch_size=batch_size, shuffle=False, num_workers=0, pin_memory=True)\n",
    "\n",
    "    early_stopping = EarlyStopping(patience=3 if debug_mode else 10, min_delta=0.0001)\n",
    "    scaler = GradScaler(enabled=torch.cuda.is_available())\n",
    "\n",
    "    tb_dir = os.path.join(save_dir, \"tensorboard\")\n",
    "    os.makedirs(tb_dir, exist_ok=True)\n",
    "    writer = SummaryWriter(log_dir=tb_dir)\n",
    "\n",
    "    best_val_loss = float('inf')\n",
    "    train_losses, val_losses = [], []\n",
    "\n",
    "    for epoch in range(num_epochs):\n",
    "        model.train()\n",
    "        running_loss = 0.0\n",
    "\n",
    "        for i, (inputs, targets) in enumerate(train_loader):\n",
    "            inputs, targets = inputs.to(device), targets.to(device)\n",
    "            optimizer.zero_grad()\n",
    "\n",
    "            with autocast():\n",
    "                outputs = model(inputs)\n",
    "                loss = criterion(outputs, targets)\n",
    "\n",
    "            scaler.scale(loss).backward()\n",
    "            scaler.step(optimizer)\n",
    "            scaler.update()\n",
    "            torch.cuda.empty_cache()\n",
    "\n",
    "            running_loss += loss.item()\n",
    "\n",
    "        avg_train_loss = running_loss / len(train_loader)\n",
    "        train_losses.append(avg_train_loss)\n",
    "        writer.add_scalar(\"Loss/train\", avg_train_loss, epoch)\n",
    "        print(f\"Epoch [{epoch+1}/{num_epochs}] Training Loss: {avg_train_loss:.6f}\")\n",
    "\n",
    "        avg_val_loss, avg_val_rmse, avg_val_mae = validate(model, val_loader, criterion)\n",
    "        val_losses.append(avg_val_loss)\n",
    "        writer.add_scalar(\"Loss/val\", avg_val_loss, epoch)\n",
    "        writer.add_scalar(\"Val/RMSE\", avg_val_rmse, epoch)\n",
    "        writer.add_scalar(\"Val/MAE\", avg_val_mae, epoch)\n",
    "\n",
    "        scheduler.step(avg_val_loss)\n",
    "\n",
    "        if avg_val_loss < best_val_loss:\n",
    "            best_val_loss = avg_val_loss\n",
    "            model_save_path = os.path.join(save_dir, 'debug_model.pth' if debug_mode else 'best_model.pth')\n",
    "            torch.save(model.state_dict(), model_save_path)\n",
    "\n",
    "        if early_stopping(avg_val_loss):\n",
    "            print(\"Early stopping triggered!\")\n",
    "            break\n",
    "\n",
    "    writer.close()\n",
    "    np.save(os.path.join(save_dir, \"train_losses.npy\"), np.array(train_losses))\n",
    "    np.save(os.path.join(save_dir, \"val_losses.npy\"), np.array(val_losses))\n",
    "\n",
    "    return best_val_loss\n",
    "\n",
    "# Global stats\n",
    "global_mean, global_std = 249.10009, 29.99640\n",
    "\n",
    "# Optuna\n",
    "study = optuna.create_study(direction=\"minimize\", sampler=optuna.samplers.TPESampler())\n",
    "study.optimize(objective, n_trials=1 if debug_mode else 100)\n",
    "\n",
    "print(f\"Best trial: {study.best_trial}\")\n",
    "print(f\"Best hyperparameters: {study.best_trial.params}\")\n",
    "\n",
    "# Save study using joblib\n",
    "study_path = os.path.join(save_dir, 'weather_unet3d_hyperopt_test.joblib' if debug_mode else 'weather_unet3d_hyperopt.joblib')\n",
    "joblib.dump(study, study_path)\n",
    "\n",
    "print(f\"Study saved at {study_path}\")"
   ]
  },
  {
   "cell_type": "code",
   "execution_count": null,
   "metadata": {},
   "outputs": [],
   "source": []
  }
 ],
 "metadata": {
  "kernelspec": {
   "display_name": "x_env",
   "language": "python",
   "name": "python3"
  },
  "language_info": {
   "codemirror_mode": {
    "name": "ipython",
    "version": 3
   },
   "file_extension": ".py",
   "mimetype": "text/x-python",
   "name": "python",
   "nbconvert_exporter": "python",
   "pygments_lexer": "ipython3",
   "version": "3.10.13"
  }
 },
 "nbformat": 4,
 "nbformat_minor": 2
}
